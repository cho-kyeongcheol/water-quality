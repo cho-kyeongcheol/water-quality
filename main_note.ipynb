{
 "cells": [
  {
   "cell_type": "code",
   "execution_count": 1,
   "id": "bored-conservation",
   "metadata": {},
   "outputs": [],
   "source": [
    "import shutil\n",
    "\n",
    "from core.gain import *\n",
    "from core.rnn_predic import *\n",
    "from core.models import *\n",
    "from core.util import *\n",
    "#from core.window import WindowGenerator, MissData, make_dataset_water, WaterDataGenerator\n",
    "from core.window import WindowGenerator, make_dataset_gain, make_dataset_water\n",
    "from core.file_open import make_dataframe\n",
    "from core.miss_data import MissData\n",
    "import json\n",
    "%matplotlib widget\n",
    "import os"
   ]
  },
  {
   "cell_type": "code",
   "execution_count": 2,
   "id": "instant-rough",
   "metadata": {},
   "outputs": [],
   "source": [
    "def hour_to_day_mean(array):\n",
    "    time = 24\n",
    "    array = array.reshape((array.shape[0], array.shape[1] // time, time, array.shape[2]))\n",
    "    array = array.mean(2)\n",
    "    return array"
   ]
  },
  {
   "cell_type": "code",
   "execution_count": 28,
   "id": "outstanding-adolescent",
   "metadata": {},
   "outputs": [],
   "source": [
    "\n",
    "def compa(model=None,df = None, plot_col=0, input_width=7*24, label_width=5*24, target_std=None, target_mean=None, predict_day=4):\n",
    "    width = input_width + label_width\n",
    "    length = df.shape[0] - width\n",
    "    inputs = []\n",
    "    labels = []\n",
    "    \n",
    "    for i in range(0, length, 24):\n",
    "        dataset = df.iloc[i:i+width].to_numpy()\n",
    "        input = dataset[:input_width]\n",
    "        label = dataset[input_width:, plot_col:plot_col+1]\n",
    "        \n",
    "        input = input.reshape((-1,)+input.shape)\n",
    "        label = label.reshape((-1,)+label.shape)\n",
    "        \n",
    "        inputs.append(input)\n",
    "        labels.append(label)\n",
    "        \n",
    "        \n",
    "    inputs = np.concatenate(inputs, axis=0)\n",
    "    labels = np.concatenate(labels, axis=0)\n",
    "    \n",
    "\n",
    "    predictions = model(inputs).numpy()\n",
    "    \n",
    "    predictions = predictions * target_std[plot_col] + target_mean[plot_col]\n",
    "    labels = labels * target_std[plot_col] + target_mean[plot_col]\n",
    "\n",
    "    pred_day = hour_to_day_mean(predictions)\n",
    "    \n",
    "    label_day = hour_to_day_mean(labels)\n",
    "    \n",
    "    inputs_target = inputs[:,:,plot_col:plot_col+1]\n",
    "    inputs_target = inputs_target * target_std[plot_col] + target_mean[plot_col]\n",
    "    inputs_day = hour_to_day_mean(inputs_target)\n",
    "    \n",
    "    plt.figure()\n",
    "    input_index = np.array(range(0, length, 24))\n",
    "    label_index = input_index + 24* (7 + predict_day)\n",
    "    plt.plot(input_index, inputs_day[:, 0, :], label='input')\n",
    "    plt.plot(label_index, label_day[:, predict_day, :], label='label')\n",
    "    plt.plot(label_index, pred_day[:, predict_day, :], label='pred')\n",
    "    plt.legend()\n",
    "    #plt.savefig('test_plt.png')\n",
    "    \n",
    "    #o1 = np.mean(labels)\n",
    "    o1 = np.mean(label_day[:,predict_day,:])\n",
    "    nse1 = ((label_day - pred_day)**2).sum(axis=0)\n",
    "    nse2 = ((label_day - o1)**2).sum(axis=0)\n",
    "    nse3 = 1 - (nse1[predict_day]/nse2[predict_day])\n",
    "    print('o1 : ', o1)\n",
    "    print('predict_day : ', predict_day + 1)\n",
    "    pbias1 = (label_day - pred_day).sum(axis=0)\n",
    "    pbias2 = (label_day).sum(axis=0)\n",
    "    pbias3 = (pbias1[predict_day]/pbias2[predict_day])*100\n",
    "    \n",
    "    \n",
    "    mae = (np.abs(label_day - pred_day)).mean()\n",
    "    mse = ((label_day - pred_day)**2).mean()\n",
    "    rmse = np.sqrt(((label_day - pred_day)**2).mean())\n",
    "    \n",
    "    print('------------------------')\n",
    "    #print(mae, mse ,rmse)\n",
    "    labels_test = labels.mean(axis=1)\n",
    "    predis_test = inputs_target.mean(axis=1)\n",
    "    \n",
    "    nse2_1 = ((labels_test - predis_test)**2).sum()\n",
    "    nse2_2 = ((labels_test - o1)**2).sum()\n",
    "    nse2_3 = 1 - (nse2_1/nse2_2)\n",
    "    \n",
    "    pbias2_1 = (labels_test - predis_test).sum()\n",
    "    pbias2_2 = labels_test.sum()\n",
    "    pbias2_3 = pbias2_1/pbias2_2 * 100\n",
    "    #print(labels_test.shape)\n",
    "    #print(predis_test.shape)\n",
    "    #print()\n",
    "    #print(\"nse2_3 : \",nse2_3)\n",
    "    #print(\"pbias2_3 : \",pbias2_3)\n",
    "    ##print('------------------------')\n",
    "    print(\"nse3 : \", nse3)\n",
    "    #print(\"pbias3 : \",pbias3)\n",
    "    ##print('------------------------')\n",
    "    \n",
    "    return nse3, np.abs(pbias3), pred_day, labels"
   ]
  },
  {
   "cell_type": "code",
   "execution_count": 4,
   "id": "offensive-spider",
   "metadata": {},
   "outputs": [
    {
     "name": "stdout",
     "output_type": "stream",
     "text": [
      "1 Physical GPUs, 1 Logical GPUs\n"
     ]
    }
   ],
   "source": [
    "os.environ[\"CUDA_DEVICE_ORDER\"]=\"PCI_BUS_ID\"   # see issue #152\n",
    "os.environ[\"CUDA_VISIBLE_DEVICES\"]=\"0,1\"\n",
    "\n",
    "gpus = tf.config.experimental.list_physical_devices('GPU')\n",
    "if gpus:\n",
    "    try:\n",
    "        # Currently, memory growth needs to be the same across GPUs\n",
    "        for gpu in gpus:\n",
    "            tf.config.experimental.set_memory_growth(gpu, True)\n",
    "        logical_gpus = tf.config.experimental.list_logical_devices('GPU')\n",
    "        print(len(gpus), \"Physical GPUs,\", len(logical_gpus), \"Logical GPUs\")\n",
    "    except RuntimeError as e:\n",
    "        # Memory growth must be set before GPUs have been initialized\n",
    "        print(e) \n"
   ]
  },
  {
   "cell_type": "code",
   "execution_count": 5,
   "id": "norman-queen",
   "metadata": {},
   "outputs": [],
   "source": [
    "data_path = 'data/'\n",
    "parameters_dir = 'input'\n",
    "\n",
    "parameters_file = 'input.json'\n",
    "parameters_path = '{dir}/{file}'.format(dir=parameters_dir, file=parameters_file)\n",
    "\n",
    "with open(parameters_path, encoding='utf8') as json_file:\n",
    "    parameters = json.load(json_file)\n",
    "\n",
    "gain_parameters = parameters['gain']\n",
    "rnn_parameters = parameters['rnn']\n",
    "file_parameters = parameters['file']"
   ]
  },
  {
   "cell_type": "code",
   "execution_count": 6,
   "id": "defensive-traffic",
   "metadata": {},
   "outputs": [
    {
     "data": {
      "text/plain": [
       "'nak_auto_13'"
      ]
     },
     "execution_count": 6,
     "metadata": {},
     "output_type": "execute_result"
    }
   ],
   "source": [
    "file_parameters['watershed']"
   ]
  },
  {
   "cell_type": "code",
   "execution_count": 7,
   "id": "unlimited-postage",
   "metadata": {},
   "outputs": [],
   "source": [
    "parameters_path = parameters_dir+'/'+ file_parameters['watershed'] + '.json'\n",
    "with open(parameters_path, encoding='utf8') as json_file:\n",
    "    parameters = json.load(json_file)"
   ]
  },
  {
   "cell_type": "code",
   "execution_count": 8,
   "id": "changed-timer",
   "metadata": {},
   "outputs": [],
   "source": [
    "pd.set_option('display.max_columns', 1000)"
   ]
  },
  {
   "cell_type": "code",
   "execution_count": 9,
   "id": "alternate-reverse",
   "metadata": {},
   "outputs": [],
   "source": [
    "data_parameters = parameters['data']\n",
    "\n",
    "interpolation_option = data_parameters['interpolation']\n",
    "colum_idx = data_parameters['columns']\n",
    "watershed = data_parameters['watershed']\n",
    "file_names = data_parameters['files']\n",
    "folder = data_parameters['directorys']\n",
    "for i in range(len(folder)):\n",
    "    folder[i] = watershed+folder[i]"
   ]
  },
  {
   "cell_type": "code",
   "execution_count": 10,
   "id": "committed-boulder",
   "metadata": {},
   "outputs": [],
   "source": [
    "__GAIN_TRAINING__ = gain_parameters['train']\n",
    "gain_epochs = gain_parameters['max_epochs']\n",
    "gain_in_setps = gain_parameters['input_width']\n",
    "gain_out_setps = gain_parameters['label_width']\n",
    "gain_batch_size = gain_parameters['batch_size']\n",
    "gain_fill_no = gain_parameters['fill_width']\n",
    "gain_shift = gain_parameters['shift_width']\n",
    "gain_miss_rate = gain_parameters['miss_rate']\n",
    "\n",
    "__RNN_TRAINING__ = rnn_parameters['train']\n",
    "rnn_epochs = rnn_parameters['max_epochs']\n",
    "rnn_in_setps = rnn_parameters['input_width']\n",
    "rnn_out_steps = rnn_parameters['label_width']\n",
    "rnn_batch_size = rnn_parameters['batch_size']\n",
    "rnn_predict_day = rnn_parameters['predict_day']\n",
    "rnn_target_column = rnn_parameters['target_column']\n",
    "\n",
    "if rnn_predict_day < 3 or rnn_predict_day >5:\n",
    "    print('predict_day err')\n",
    "    exit(88)\n",
    "rnn_predict_day -= 1"
   ]
  },
  {
   "cell_type": "code",
   "execution_count": 11,
   "id": "powered-sixth",
   "metadata": {},
   "outputs": [
    {
     "data": {
      "text/plain": [
       "(False, 2000, True, 20)"
      ]
     },
     "execution_count": 11,
     "metadata": {},
     "output_type": "execute_result"
    }
   ],
   "source": [
    "__GAIN_TRAINING__, gain_epochs ,__RNN_TRAINING__, rnn_epochs"
   ]
  },
  {
   "cell_type": "code",
   "execution_count": 12,
   "id": "suspected-quebec",
   "metadata": {},
   "outputs": [],
   "source": [
    "run_num = range(len(folder))\n",
    "real_df_all = pd.DataFrame([])\n",
    "target_all = target_mean = target_std = 0\n",
    "\n",
    "gain_val_performance = {}\n",
    "gain_performance = {}\n",
    "\n",
    "length = len(run_num)\n",
    "\n",
    "#ddday = 31\n",
    "#mmmonth = 12\n",
    "\n",
    "#length = 1"
   ]
  },
  {
   "cell_type": "code",
   "execution_count": 13,
   "id": "undefined-sperm",
   "metadata": {
    "scrolled": true
   },
   "outputs": [
    {
     "name": "stdout",
     "output_type": "stream",
     "text": [
      "interpol flag :  [False, False]\n",
      "folder :  data/nak/자동/\n",
      "colum_idx :  :,[26,27,28,29,30,31,32,33]\n",
      "file_names[idx] :  [['도개_2013.xlsx', '도개_2014.xlsx', '도개_2015.xlsx', '도개_2016.xlsx', '도개_2017.xlsx', '도개_2018.xlsx', '도개_2019.xlsx', '도개_2020.xlsx'], ['신암_2013.xlsx', '신암_2014.xlsx', '신암_2015.xlsx', '신암_2016.xlsx', '신암_2017.xlsx', '신암_2018.xlsx', '신암_2019.xlsx', '신암_2020.xlsx'], ['풍양_2013.xlsx', '풍양_2014.xlsx', '풍양_2015.xlsx', '풍양_2016.xlsx', '풍양_2017.xlsx', '풍양_2018.xlsx', '풍양_2019.xlsx', '풍양_2020.xlsx']]\n",
      "data/nak/자동/도개_2013.xlsx\n",
      "data/nak/자동/도개_2014.xlsx\n",
      "data/nak/자동/도개_2015.xlsx\n",
      "data/nak/자동/도개_2016.xlsx\n",
      "data/nak/자동/도개_2017.xlsx\n",
      "data/nak/자동/도개_2018.xlsx\n",
      "data/nak/자동/도개_2019.xlsx\n",
      "data/nak/자동/도개_2020.xlsx\n",
      "You must check this make_timeseries : time length\n",
      "time range in files :  2013-01-01 00:00  ~  2020-12-31 23:00\n",
      "data/nak/자동/신암_2013.xlsx\n",
      "data/nak/자동/신암_2014.xlsx\n",
      "data/nak/자동/신암_2015.xlsx\n",
      "data/nak/자동/신암_2016.xlsx\n",
      "data/nak/자동/신암_2017.xlsx\n",
      "data/nak/자동/신암_2018.xlsx\n",
      "data/nak/자동/신암_2019.xlsx\n",
      "data/nak/자동/신암_2020.xlsx\n",
      "You must check this make_timeseries : time length\n",
      "time range in files :  2013-01-01 00:00  ~  2020-12-31 23:00\n",
      "data/nak/자동/풍양_2013.xlsx\n",
      "data/nak/자동/풍양_2014.xlsx\n",
      "data/nak/자동/풍양_2015.xlsx\n",
      "data/nak/자동/풍양_2016.xlsx\n",
      "data/nak/자동/풍양_2017.xlsx\n",
      "data/nak/자동/풍양_2018.xlsx\n",
      "data/nak/자동/풍양_2019.xlsx\n",
      "data/nak/자동/풍양_2020.xlsx\n",
      "You must check this make_timeseries : time length\n",
      "time range in files :  2013-01-01 00:00  ~  2020-12-31 23:00\n",
      "MissData :  save/  miss :  (11063, 12)\n",
      "1/1 [==============================] - 0s 8ms/step - loss: 0.2497\n",
      "MissData :  save/  miss :  (11063, 12)\n"
     ]
    }
   ],
   "source": [
    "for i in range(length):\n",
    "\n",
    "    idx = run_num[i]\n",
    "\n",
    "    print('interpol flag : ', interpolation_option[idx])\n",
    "    print('folder : ', data_path + folder[idx])\n",
    "    print('colum_idx : ', colum_idx[idx])\n",
    "    print('file_names[idx] : ', file_names[idx])\n",
    "\n",
    "    #start = time.time()\n",
    "\n",
    "    #if watershed == '한강_12days_test':\n",
    "    #    df, times = make_dataframe_temp_12days(folder[idx], file_names[idx], colum_idx[idx], interpolate=interpolation_option[idx])\n",
    "    #else:\n",
    "    df, times = make_dataframe(data_path+folder[idx], file_names[idx], colum_idx[idx], interpolation=interpolation_option[idx])\n",
    "    #df, times, mmmonth, ddday = make_dataframe(data_path+folder[idx], file_names[idx], \n",
    "#                               colum_idx[idx], interpolation=interpolation_option[idx],\n",
    "#                              first_file_no=i, month=mmmonth, day=ddday)\n",
    "\n",
    "    df_all, train_mean, train_std, df = normalize(df)\n",
    "\n",
    "\n",
    "    if i == 0:\n",
    "        dfff = df\n",
    "        target_all = df_all\n",
    "        target_std = train_std\n",
    "        target_mean = train_mean\n",
    "        start_year = str(times.iloc[0].year)\n",
    "        end_year = str(times.iloc[-1].year)\n",
    "\n",
    "    if interpolation_option[idx][0] == False:\n",
    "\n",
    "        loadfiles = ['idx.npy', 'miss.npy', 'discriminator.h5', 'generator.h5']\n",
    "\n",
    "        gain_calc_falg = True\n",
    "\n",
    "        if __GAIN_TRAINING__ == True:\n",
    "            gain_calc_falg = MissData.save(pd.concat(df, axis=0).to_numpy(), max_tseq=24, save_dir='save/')\n",
    "            #print(folder[idx], ': training ', 'Miss date save : ', gain_calc_falg)\n",
    "        else:\n",
    "            for file in loadfiles:\n",
    "                if os.path.isfile('save/' + folder[idx]+file):\n",
    "                    shutil.copyfile('save/' + folder[idx]+file, 'save/'+file)\n",
    "                    #print('load file name : save/' + folder[idx]+file)\n",
    "                else:\n",
    "                    if file == 'miss.npy':\n",
    "                        gain_calc_falg = MissData.save(pd.concat(df, axis=0).to_numpy(), max_tseq=24, save_dir='save/')\n",
    "                        #print(folder[idx], ': is not miss.npy ', 'Miss date save : ', gain_calc_falg)\n",
    "\n",
    "        if gain_calc_falg == True:\n",
    "            #print('GainWindowGenerator in main')\n",
    "            WindowGenerator.make_dataset = make_dataset_gain\n",
    "            wide_window = WindowGenerator(input_width=gain_in_setps, label_width=gain_out_setps, shift=gain_shift,\n",
    "                                          fill_no=gain_fill_no, miss_rate=gain_miss_rate, batch_size=gain_batch_size,\n",
    "                                          train_df = df_all, val_df = df_all, test_df = df_all, df = df)\n",
    "\n",
    "            #gain = model_GAIN(shape=wide_window.dg.shape[1:], gen_sigmoid=False, epochs=gain_epochs, training_flag=__GAIN_TRAINING__, window=wide_window, model_save_path='save/')\n",
    "            gain = model_GAIN(shape=(gain_in_setps, df_all.shape[1]), gen_sigmoid=False, epochs=gain_epochs,\n",
    "                              training_flag=__GAIN_TRAINING__, window=wide_window, model_save_path='save/')\n",
    "\n",
    "            gain_val_performance[str(i)] = gain.evaluate(wide_window.val)\n",
    "            gain_performance[str(i)] = gain.evaluate(wide_window.test, verbose=0)\n",
    "\n",
    "            #print('file proc in main')\n",
    "            if __GAIN_TRAINING__ == True:\n",
    "                #dir = 'save/'+folder[i]\n",
    "                if not os.path.exists('save/' + folder[idx]):\n",
    "                    os.makedirs('save/'+folder[idx])\n",
    "                for file in loadfiles:\n",
    "                    shutil.copyfile('save/' + file, 'save/' + folder[idx] + file)\n",
    "\n",
    "            #print('create_dataset_with_gain in main')\n",
    "            #ori, gan = create_dataset_with_gain(gain=gain, window=wide_window, df=df)\n",
    "            ori, gan = create_dataset_with_gain(gain=gain, shape=(gain_in_setps, df_all.shape[1]), df=df)\n",
    "\n",
    "        else:\n",
    "            gan = create_dataset_interpol(window=gain_in_setps, df=df)\n",
    "    else:\n",
    "        gan = create_dataset_interpol(window=gain_in_setps, df=df)\n",
    "\n",
    "    if i == 0 :\n",
    "#        if i < length -1:\n",
    "#            gan = gan[:,:-4]  #맨마지막전까지 사인코사인삭제\n",
    "#            print(gan.shape)\n",
    "        real_df_all = pd.DataFrame(gan)\n",
    "    else:\n",
    "#        if i < length -1:\n",
    "#            gan = gan[:,:-4]  #맨마지막전까지 사인코사인삭제\n",
    "#            print(gan.shape)\n",
    "        real_df_all = pd.concat([real_df_all, pd.DataFrame(gan)], axis=1)"
   ]
  },
  {
   "cell_type": "code",
   "execution_count": null,
   "id": "offshore-evening",
   "metadata": {},
   "outputs": [],
   "source": []
  },
  {
   "cell_type": "code",
   "execution_count": 14,
   "id": "civilian-creator",
   "metadata": {},
   "outputs": [],
   "source": [
    "#-----------------------------------------------------------------------------------------------------------------\n",
    "#            RRRRRRRRRRRRRRRRRR          NNNNNN       NNNNNN      NNNNNN       NNNNNN\n",
    "#           RRRRRRRRRRRRRRRRRRRR        NNNNNNN      NNNNNN      NNNNNNN      NNNNNN\n",
    "#          RRRRRRR      RRRRRRRR       NNNNNNNN     NNNNNN      NNNNNNNN     NNNNNN\n",
    "#         RRRRRRR      RRRRRRRR       NNNNNNNNN    NNNNNN      NNNNNNNNN    NNNNNN\n",
    "#        RRRRRRRRRRRRRRRRRRRR        NNNNNNNNNN   NNNNNN      NNNNNNNNNN   NNNNNN\n",
    "#       RRRRRRRRRRRRRRRRR           NNNNNNNNNNN  NNNNNN      NNNNNNNNNNN  NNNNNN \n",
    "#      RRRRRRR     RRRRRRR         NNNNNNN NNNN NNNNNN      NNNNNNN NNNN NNNNNN\n",
    "#     RRRRRRR       RRRRRRR       NNNNNNN  NNNNNNNNNN      NNNNNNN  NNNNNNNNNN\n",
    "#    RRRRRRR        RRRRRRR      NNNNNNN   NNNNNNNNN      NNNNNNN   NNNNNNNNN\n",
    "#   RRRRRRR         RRRRRRR     NNNNNNN    NNNNNNNN      NNNNNNN    NNNNNNNN \n",
    "#  RRRRRRR         RRRRRRR     NNNNNNN     NNNNNNN      NNNNNNN     NNNNNNN\n",
    "#-----------------------------------------------------------------------------------------------------------------"
   ]
  },
  {
   "cell_type": "code",
   "execution_count": null,
   "id": "comprehensive-mission",
   "metadata": {},
   "outputs": [],
   "source": []
  },
  {
   "cell_type": "code",
   "execution_count": 14,
   "id": "technological-homework",
   "metadata": {
    "scrolled": true
   },
   "outputs": [
    {
     "name": "stdout",
     "output_type": "stream",
     "text": [
      "label_columns_indices:\n",
      "{'tmpr_value': 0, 'ph_value': 1, 'do_value': 2, 'ec_value': 3, 'toc_value': 4, '총질소_값': 5, '총인_값': 6, '클로로필-a_값': 7, 'Day sin': 8, 'Day cos': 9, 'Year sin': 10, 'Year cos': 11}\n",
      "target_col_idx :  6\n",
      "out_num_features :  1\n"
     ]
    }
   ],
   "source": [
    "label_columns_indices = {name: i for i, name in enumerate(dfff[0])}\n",
    "print(\"label_columns_indices:\")\n",
    "print(label_columns_indices)\n",
    "target_dic = {\"do\":\"do_value\", \"toc\":\"toc_value\", \"tn\":\"총질소_값\", \"tp\":\"총인_값\", \"chl-a\":\"클로로필-a_값\"}\n",
    "target_col_idx = label_columns_indices[target_dic[rnn_target_column]]\n",
    "out_features = [target_col_idx]\n",
    "out_num_features = len(out_features)\n",
    "\n",
    "print(\"target_col_idx : \", target_col_idx)\n",
    "print('out_num_features : ', out_num_features)"
   ]
  },
  {
   "cell_type": "code",
   "execution_count": 56,
   "id": "prime-fellow",
   "metadata": {},
   "outputs": [
    {
     "name": "stdout",
     "output_type": "stream",
     "text": [
      "(70128, 36)\n",
      "chl-a\n"
     ]
    }
   ],
   "source": [
    "print(real_df_all.shape)\n",
    "rnn_target_column = 'chl-a'\n",
    "print(rnn_target_column)\n",
    "\n",
    "#df_length = real_df_all.shape[0] - 3000\n",
    "df_length = real_df_all.shape[0]\n",
    "\n",
    "fake_df = real_df_all.iloc[:df_length,:]"
   ]
  },
  {
   "cell_type": "code",
   "execution_count": 57,
   "id": "nasty-canberra",
   "metadata": {},
   "outputs": [
    {
     "name": "stdout",
     "output_type": "stream",
     "text": [
      "train_df.shape :  (56102, 36) val_df.shape :  (7013, 36) test_df.shape: (7013, 36)\n"
     ]
    }
   ],
   "source": [
    "#train_df, val_df, test_df, test_df2 = dataset_slice(fake_df, 0.8, 0.1, 0.1)\n",
    "#teg_check = 'train=8, val=1, test=1'\n",
    "\n",
    "train_df, test_df, val_df, test_df2 = dataset_slice(real_df_all, 0.8, 0.1, 0.1)\n",
    "teg_check = 'train=8, test=1, val=1'\n",
    "\n",
    "#val_df, test_df,train_df, test_df2 = dataset_slice(real_df_all, 0.1, 0.1, 0.8)\n",
    "#teg_check = 'val=1, test=1, train=8'\n",
    "\n",
    "#test_df, val_df, train_df, test_df2 = dataset_slice(real_df_all, 0.1, 0.1, 0.8)\n",
    "#teg_check = 'test=1, val=1, train=8'\n",
    "\n",
    "#val_df, train_df, test_df, test_df2 = dataset_slice(real_df_all, 0.1, 0.8, 0.1)\n",
    "#teg_check = 'val=1, train=8, test=1'\n",
    "\n",
    "#test_df, train_df, val_df, test_df2 = dataset_slice(real_df_all, 0.1, 0.8, 0.1)\n",
    "#teg_check = 'test=1, train=8, val=1'\n",
    "\n",
    "#train_df, test_df, val_df, test_df2 = dataset_slice(real_df_all, 0.7, 0.1, 0.2)\n",
    "#teg_check = 'train=7, test=1, val=2'\n",
    "\n",
    "print('train_df.shape : ', train_df.shape, 'val_df.shape : ', val_df.shape, 'test_df.shape:' ,test_df.shape)"
   ]
  },
  {
   "cell_type": "code",
   "execution_count": 58,
   "id": "academic-planner",
   "metadata": {},
   "outputs": [],
   "source": [
    "#fake_df.shape[0]/8760"
   ]
  },
  {
   "cell_type": "code",
   "execution_count": 59,
   "id": "settled-devices",
   "metadata": {},
   "outputs": [
    {
     "data": {
      "application/vnd.jupyter.widget-view+json": {
       "model_id": "dc50de3fb18e4321bfa38e52c84d37f6",
       "version_major": 2,
       "version_minor": 0
      },
      "text/plain": [
       "Canvas(toolbar=Toolbar(toolitems=[('Home', 'Reset original view', 'home', 'home'), ('Back', 'Back to previous …"
      ]
     },
     "metadata": {},
     "output_type": "display_data"
    }
   ],
   "source": [
    "plt.figure()\n",
    "plt.plot(real_df_all.iloc[:, out_features[0]])\n",
    "plt.show()"
   ]
  },
  {
   "cell_type": "code",
   "execution_count": 60,
   "id": "compressed-resolution",
   "metadata": {},
   "outputs": [
    {
     "data": {
      "application/vnd.jupyter.widget-view+json": {
       "model_id": "6fd5c9a0b6b94dcc895fcfbcf4a9bc06",
       "version_major": 2,
       "version_minor": 0
      },
      "text/plain": [
       "Canvas(toolbar=Toolbar(toolitems=[('Home', 'Reset original view', 'home', 'home'), ('Back', 'Back to previous …"
      ]
     },
     "metadata": {},
     "output_type": "display_data"
    },
    {
     "data": {
      "text/plain": [
       "[<matplotlib.lines.Line2D at 0x7f1638237d10>]"
      ]
     },
     "execution_count": 60,
     "metadata": {},
     "output_type": "execute_result"
    }
   ],
   "source": [
    "plt.figure()\n",
    "plt.plot(val_df.iloc[:, out_features[0]])"
   ]
  },
  {
   "cell_type": "code",
   "execution_count": 61,
   "id": "sought-radar",
   "metadata": {},
   "outputs": [
    {
     "name": "stdout",
     "output_type": "stream",
     "text": [
      "label_columns_indices:\n",
      "{'tmpr_value': 0, 'ph_value': 1, 'do_value': 2, 'ec_value': 3, 'toc_value': 4, '총질소_값': 5, '총인_값': 6, '클로로필-a_값': 7, 'Day sin': 8, 'Day cos': 9, 'Year sin': 10, 'Year cos': 11}\n"
     ]
    }
   ],
   "source": [
    "label_columns_indices = {name: i for i, name in enumerate(dfff[0])}\n",
    "print(\"label_columns_indices:\")\n",
    "print(label_columns_indices)\n",
    "target_dic = {\"do\":\"do_value\", \"toc\":\"toc_value\", \"tn\":\"총질소_값\", \"tp\":\"총인_값\", \"chl-a\":\"클로로필-a_값\"}"
   ]
  },
  {
   "cell_type": "code",
   "execution_count": null,
   "id": "capable-discipline",
   "metadata": {},
   "outputs": [],
   "source": []
  },
  {
   "cell_type": "code",
   "execution_count": 62,
   "id": "imposed-stake",
   "metadata": {},
   "outputs": [
    {
     "name": "stdout",
     "output_type": "stream",
     "text": [
      "target_col_idx :  7\n",
      "out_num_features :  1\n"
     ]
    }
   ],
   "source": [
    "target_col_idx = label_columns_indices[target_dic[rnn_target_column]]\n",
    "out_features = [target_col_idx]\n",
    "out_num_features = len(out_features)\n",
    "\n",
    "print(\"target_col_idx : \", target_col_idx)\n",
    "print('out_num_features : ', out_num_features)"
   ]
  },
  {
   "cell_type": "code",
   "execution_count": 63,
   "id": "cloudy-postcard",
   "metadata": {},
   "outputs": [],
   "source": [
    "idx = [2, 4, 5, 6, 7]\n",
    "pa = [\"do/\", \"toc/\", \"nitrogen/\", \"phosphorus/\", \"chlorophyll-a/\"]\n",
    "indices = {name: i for i, name in enumerate(idx)}"
   ]
  },
  {
   "cell_type": "code",
   "execution_count": 64,
   "id": "transsexual-grace",
   "metadata": {},
   "outputs": [
    {
     "name": "stdout",
     "output_type": "stream",
     "text": [
      "save model path :  save/nak/models/nak_auto_13/chlorophyll-a/\n"
     ]
    }
   ],
   "source": [
    "WindowGenerator.make_dataset = make_dataset_water\n",
    "multi_window = WindowGenerator(\n",
    "    input_width=rnn_in_setps,label_width=rnn_out_steps, shift=rnn_out_steps,out_features=out_features,\n",
    "    out_num_features=out_num_features,label_columns=dfff[0].columns, batch_size=rnn_batch_size,\n",
    "    train_df=train_df, val_df=val_df, test_df=test_df, test_df2=test_df2)\n",
    "\n",
    "model_path = \"save/\" + watershed + \"models/\" + file_parameters['watershed'] + '/'+  pa[indices[target_col_idx]]\n",
    "print(\"save model path : \", model_path)\n",
    "\n",
    "if __RNN_TRAINING__:\n",
    "    #if not os.path.exists('save/' + watershed):\n",
    "    #    os.makedirs('save/' + watershed)\n",
    "    if not os.path.exists(model_path):\n",
    "        os.makedirs(model_path)"
   ]
  },
  {
   "cell_type": "code",
   "execution_count": 65,
   "id": "competitive-battery",
   "metadata": {},
   "outputs": [],
   "source": [
    "#\"save/\" + watershed + \"models/\" + file_parameters['watershed'] + '/' + pa[indices[target_col_idx]]\n",
    "#model_path"
   ]
  },
  {
   "cell_type": "code",
   "execution_count": 66,
   "id": "super-medicaid",
   "metadata": {},
   "outputs": [
    {
     "data": {
      "text/plain": [
       "20"
      ]
     },
     "execution_count": 66,
     "metadata": {},
     "output_type": "execute_result"
    }
   ],
   "source": [
    "rnn_epochs"
   ]
  },
  {
   "cell_type": "markdown",
   "id": "ranking-commander",
   "metadata": {},
   "source": [
    "## 모델 학습"
   ]
  },
  {
   "cell_type": "code",
   "execution_count": 67,
   "id": "closing-beads",
   "metadata": {
    "scrolled": false
   },
   "outputs": [
    {
     "name": "stdout",
     "output_type": "stream",
     "text": [
      "WARNING:tensorflow:Layer gru_4 will not use cuDNN kernel since it doesn't meet the cuDNN kernel criteria. It will use generic GPU kernel as fallback when running on GPU\n",
      "WARNING:tensorflow:Layer gru_5 will not use cuDNN kernel since it doesn't meet the cuDNN kernel criteria. It will use generic GPU kernel as fallback when running on GPU\n",
      "WARNING:tensorflow:`period` argument is deprecated. Please use `save_freq` to specify the frequency in number of batches seen.\n",
      "Epoch 1/50\n",
      "10/10 [==============================] - ETA: 0s - loss: 0.8253 - mean_absolute_error: 0.6620 - nse: 0.1570\n",
      "Epoch 00001: val_nse improved from -inf to 0.24799, saving model to save/best_model.h5\n",
      "10/10 [==============================] - 6s 606ms/step - loss: 0.8253 - mean_absolute_error: 0.6620 - nse: 0.1570 - val_loss: 0.5113 - val_mean_absolute_error: 0.5482 - val_nse: 0.2480\n",
      "Epoch 2/50\n",
      "10/10 [==============================] - ETA: 0s - loss: 0.6624 - mean_absolute_error: 0.5397 - nse: 0.4044\n",
      "Epoch 00002: val_nse improved from 0.24799 to 0.32216, saving model to save/best_model.h5\n",
      "10/10 [==============================] - 6s 583ms/step - loss: 0.6624 - mean_absolute_error: 0.5397 - nse: 0.4044 - val_loss: 0.4615 - val_mean_absolute_error: 0.5099 - val_nse: 0.3222\n",
      "Epoch 3/50\n",
      "10/10 [==============================] - ETA: 0s - loss: 0.5460 - mean_absolute_error: 0.4916 - nse: 0.5423\n",
      "Epoch 00003: val_nse improved from 0.32216 to 0.39838, saving model to save/best_model.h5\n",
      "10/10 [==============================] - 6s 577ms/step - loss: 0.5460 - mean_absolute_error: 0.4916 - nse: 0.5423 - val_loss: 0.4098 - val_mean_absolute_error: 0.4814 - val_nse: 0.3984\n",
      "Epoch 4/50\n",
      "10/10 [==============================] - ETA: 0s - loss: 0.4908 - mean_absolute_error: 0.4623 - nse: 0.5729\n",
      "Epoch 00004: val_nse did not improve from 0.39838\n",
      "10/10 [==============================] - 6s 571ms/step - loss: 0.4908 - mean_absolute_error: 0.4623 - nse: 0.5729 - val_loss: 0.4178 - val_mean_absolute_error: 0.4877 - val_nse: 0.3862\n",
      "Epoch 5/50\n",
      "10/10 [==============================] - ETA: 0s - loss: 0.5096 - mean_absolute_error: 0.4686 - nse: 0.5390\n",
      "Epoch 00005: val_nse did not improve from 0.39838\n",
      "10/10 [==============================] - 6s 578ms/step - loss: 0.5096 - mean_absolute_error: 0.4686 - nse: 0.5390 - val_loss: 0.4350 - val_mean_absolute_error: 0.4980 - val_nse: 0.3582\n",
      "Epoch 6/50\n",
      "10/10 [==============================] - ETA: 0s - loss: 0.4733 - mean_absolute_error: 0.4635 - nse: 0.5901\n",
      "Epoch 00006: val_nse improved from 0.39838 to 0.40439, saving model to save/best_model.h5\n",
      "10/10 [==============================] - 6s 584ms/step - loss: 0.4733 - mean_absolute_error: 0.4635 - nse: 0.5901 - val_loss: 0.4065 - val_mean_absolute_error: 0.4773 - val_nse: 0.4044\n",
      "Epoch 7/50\n",
      "10/10 [==============================] - ETA: 0s - loss: 0.3906 - mean_absolute_error: 0.4376 - nse: 0.6432\n",
      "Epoch 00007: val_nse improved from 0.40439 to 0.41445, saving model to save/best_model.h5\n",
      "10/10 [==============================] - 6s 578ms/step - loss: 0.3906 - mean_absolute_error: 0.4376 - nse: 0.6432 - val_loss: 0.3996 - val_mean_absolute_error: 0.4721 - val_nse: 0.4144\n",
      "Epoch 8/50\n",
      "10/10 [==============================] - ETA: 0s - loss: 0.4707 - mean_absolute_error: 0.4572 - nse: 0.5602\n",
      "Epoch 00008: val_nse did not improve from 0.41445\n",
      "10/10 [==============================] - 6s 576ms/step - loss: 0.4707 - mean_absolute_error: 0.4572 - nse: 0.5602 - val_loss: 0.4113 - val_mean_absolute_error: 0.4850 - val_nse: 0.3952\n",
      "Epoch 9/50\n",
      "10/10 [==============================] - ETA: 0s - loss: 0.4494 - mean_absolute_error: 0.4388 - nse: 0.6135\n",
      "Epoch 00009: val_nse did not improve from 0.41445\n",
      "10/10 [==============================] - 6s 585ms/step - loss: 0.4494 - mean_absolute_error: 0.4388 - nse: 0.6135 - val_loss: 0.4155 - val_mean_absolute_error: 0.4832 - val_nse: 0.3924\n",
      "Epoch 10/50\n",
      "10/10 [==============================] - ETA: 0s - loss: 0.4346 - mean_absolute_error: 0.4480 - nse: 0.6224\n",
      "Epoch 00010: val_nse did not improve from 0.41445\n",
      "10/10 [==============================] - 6s 583ms/step - loss: 0.4346 - mean_absolute_error: 0.4480 - nse: 0.6224 - val_loss: 0.4200 - val_mean_absolute_error: 0.4776 - val_nse: 0.3844\n",
      "Epoch 11/50\n",
      "10/10 [==============================] - ETA: 0s - loss: 0.4176 - mean_absolute_error: 0.4228 - nse: 0.5983\n",
      "Epoch 00011: val_nse did not improve from 0.41445\n",
      "10/10 [==============================] - 6s 585ms/step - loss: 0.4176 - mean_absolute_error: 0.4228 - nse: 0.5983 - val_loss: 0.4297 - val_mean_absolute_error: 0.4940 - val_nse: 0.3695\n",
      "Epoch 12/50\n",
      "10/10 [==============================] - ETA: 0s - loss: 0.4116 - mean_absolute_error: 0.4262 - nse: 0.5946\n",
      "Epoch 00012: val_nse did not improve from 0.41445\n",
      "10/10 [==============================] - 6s 584ms/step - loss: 0.4116 - mean_absolute_error: 0.4262 - nse: 0.5946 - val_loss: 0.4349 - val_mean_absolute_error: 0.5041 - val_nse: 0.3627\n",
      "Epoch 13/50\n",
      "10/10 [==============================] - ETA: 0s - loss: 0.4178 - mean_absolute_error: 0.4426 - nse: 0.6212\n",
      "Epoch 00013: val_nse did not improve from 0.41445\n",
      "10/10 [==============================] - 6s 579ms/step - loss: 0.4178 - mean_absolute_error: 0.4426 - nse: 0.6212 - val_loss: 0.4257 - val_mean_absolute_error: 0.4899 - val_nse: 0.3774\n",
      "Epoch 14/50\n",
      "10/10 [==============================] - ETA: 0s - loss: 0.4652 - mean_absolute_error: 0.4502 - nse: 0.6027\n",
      "Epoch 00014: val_nse did not improve from 0.41445\n",
      "10/10 [==============================] - 6s 579ms/step - loss: 0.4652 - mean_absolute_error: 0.4502 - nse: 0.6027 - val_loss: 0.4166 - val_mean_absolute_error: 0.4868 - val_nse: 0.3888\n",
      "Epoch 15/50\n",
      "10/10 [==============================] - ETA: 0s - loss: 0.4204 - mean_absolute_error: 0.4358 - nse: 0.6131\n",
      "Epoch 00015: val_nse did not improve from 0.41445\n",
      "10/10 [==============================] - 6s 583ms/step - loss: 0.4204 - mean_absolute_error: 0.4358 - nse: 0.6131 - val_loss: 0.4138 - val_mean_absolute_error: 0.4718 - val_nse: 0.3936\n",
      "Epoch 16/50\n",
      "10/10 [==============================] - ETA: 0s - loss: 0.4549 - mean_absolute_error: 0.4295 - nse: 0.5940\n",
      "Epoch 00016: val_nse did not improve from 0.41445\n",
      "10/10 [==============================] - 6s 578ms/step - loss: 0.4549 - mean_absolute_error: 0.4295 - nse: 0.5940 - val_loss: 0.4807 - val_mean_absolute_error: 0.5218 - val_nse: 0.2924\n",
      "Epoch 17/50\n",
      "10/10 [==============================] - ETA: 0s - loss: 0.4154 - mean_absolute_error: 0.4291 - nse: 0.6228\n",
      "Epoch 00017: val_nse did not improve from 0.41445\n",
      "10/10 [==============================] - 6s 569ms/step - loss: 0.4154 - mean_absolute_error: 0.4291 - nse: 0.6228 - val_loss: 0.4273 - val_mean_absolute_error: 0.4747 - val_nse: 0.3733\n",
      "Epoch 18/50\n",
      "10/10 [==============================] - ETA: 0s - loss: 0.4171 - mean_absolute_error: 0.4288 - nse: 0.6167\n",
      "Epoch 00018: val_nse did not improve from 0.41445\n",
      "10/10 [==============================] - 6s 578ms/step - loss: 0.4171 - mean_absolute_error: 0.4288 - nse: 0.6167 - val_loss: 0.4915 - val_mean_absolute_error: 0.5286 - val_nse: 0.2811\n",
      "Epoch 19/50\n",
      "10/10 [==============================] - ETA: 0s - loss: 0.3589 - mean_absolute_error: 0.4111 - nse: 0.6546\n",
      "Epoch 00019: val_nse did not improve from 0.41445\n",
      "10/10 [==============================] - 6s 577ms/step - loss: 0.3589 - mean_absolute_error: 0.4111 - nse: 0.6546 - val_loss: 0.4316 - val_mean_absolute_error: 0.4696 - val_nse: 0.3696\n",
      "Epoch 20/50\n",
      "10/10 [==============================] - ETA: 0s - loss: 0.3542 - mean_absolute_error: 0.4061 - nse: 0.6324\n",
      "Epoch 00020: val_nse did not improve from 0.41445\n",
      "10/10 [==============================] - 6s 583ms/step - loss: 0.3542 - mean_absolute_error: 0.4061 - nse: 0.6324 - val_loss: 0.4593 - val_mean_absolute_error: 0.5077 - val_nse: 0.3233\n",
      "Epoch 21/50\n",
      "10/10 [==============================] - ETA: 0s - loss: 0.3568 - mean_absolute_error: 0.4115 - nse: 0.6643\n",
      "Epoch 00021: val_nse did not improve from 0.41445\n",
      "10/10 [==============================] - 6s 585ms/step - loss: 0.3568 - mean_absolute_error: 0.4115 - nse: 0.6643 - val_loss: 0.4880 - val_mean_absolute_error: 0.5177 - val_nse: 0.2834\n",
      "Epoch 22/50\n"
     ]
    },
    {
     "name": "stdout",
     "output_type": "stream",
     "text": [
      "10/10 [==============================] - ETA: 0s - loss: 0.3435 - mean_absolute_error: 0.3963 - nse: 0.6714\n",
      "Epoch 00022: val_nse did not improve from 0.41445\n",
      "10/10 [==============================] - 6s 580ms/step - loss: 0.3435 - mean_absolute_error: 0.3963 - nse: 0.6714 - val_loss: 0.5832 - val_mean_absolute_error: 0.5797 - val_nse: 0.1428\n",
      "Epoch 23/50\n",
      "10/10 [==============================] - ETA: 0s - loss: 0.3527 - mean_absolute_error: 0.4083 - nse: 0.6940\n",
      "Epoch 00023: val_nse did not improve from 0.41445\n",
      "10/10 [==============================] - 6s 577ms/step - loss: 0.3527 - mean_absolute_error: 0.4083 - nse: 0.6940 - val_loss: 0.4701 - val_mean_absolute_error: 0.4978 - val_nse: 0.3124\n",
      "Epoch 24/50\n",
      "10/10 [==============================] - ETA: 0s - loss: 0.3577 - mean_absolute_error: 0.4169 - nse: 0.6432\n",
      "Epoch 00024: val_nse did not improve from 0.41445\n",
      "10/10 [==============================] - 6s 572ms/step - loss: 0.3577 - mean_absolute_error: 0.4169 - nse: 0.6432 - val_loss: 0.5567 - val_mean_absolute_error: 0.5622 - val_nse: 0.1824\n",
      "Epoch 25/50\n",
      "10/10 [==============================] - ETA: 0s - loss: 0.3597 - mean_absolute_error: 0.3991 - nse: 0.6974\n",
      "Epoch 00025: val_nse did not improve from 0.41445\n",
      "10/10 [==============================] - 6s 578ms/step - loss: 0.3597 - mean_absolute_error: 0.3991 - nse: 0.6974 - val_loss: 0.5122 - val_mean_absolute_error: 0.5179 - val_nse: 0.2487\n",
      "Epoch 26/50\n",
      "10/10 [==============================] - ETA: 0s - loss: 0.3168 - mean_absolute_error: 0.3826 - nse: 0.6880\n",
      "Epoch 00026: val_nse did not improve from 0.41445\n",
      "10/10 [==============================] - 6s 578ms/step - loss: 0.3168 - mean_absolute_error: 0.3826 - nse: 0.6880 - val_loss: 0.4900 - val_mean_absolute_error: 0.5071 - val_nse: 0.2817\n",
      "Epoch 27/50\n",
      "10/10 [==============================] - ETA: 0s - loss: 0.3721 - mean_absolute_error: 0.3997 - nse: 0.6804\n",
      "Epoch 00027: val_nse did not improve from 0.41445\n",
      "10/10 [==============================] - 6s 581ms/step - loss: 0.3721 - mean_absolute_error: 0.3997 - nse: 0.6804 - val_loss: 0.5564 - val_mean_absolute_error: 0.5608 - val_nse: 0.1829\n",
      "Epoch 28/50\n",
      "10/10 [==============================] - ETA: 0s - loss: 0.3944 - mean_absolute_error: 0.4112 - nse: 0.6664\n",
      "Epoch 00028: val_nse did not improve from 0.41445\n",
      "10/10 [==============================] - 6s 576ms/step - loss: 0.3944 - mean_absolute_error: 0.4112 - nse: 0.6664 - val_loss: 0.4796 - val_mean_absolute_error: 0.4941 - val_nse: 0.3011\n",
      "Epoch 29/50\n",
      "10/10 [==============================] - ETA: 0s - loss: 0.4820 - mean_absolute_error: 0.4479 - nse: 0.6444\n",
      "Epoch 00029: val_nse did not improve from 0.41445\n",
      "10/10 [==============================] - 6s 579ms/step - loss: 0.4820 - mean_absolute_error: 0.4479 - nse: 0.6444 - val_loss: 0.4890 - val_mean_absolute_error: 0.5190 - val_nse: 0.2820\n",
      "Epoch 30/50\n",
      "10/10 [==============================] - ETA: 0s - loss: 0.3694 - mean_absolute_error: 0.4182 - nse: 0.6543\n",
      "Epoch 00030: val_nse did not improve from 0.41445\n",
      "10/10 [==============================] - 6s 582ms/step - loss: 0.3694 - mean_absolute_error: 0.4182 - nse: 0.6543 - val_loss: 0.4376 - val_mean_absolute_error: 0.4789 - val_nse: 0.3579\n",
      "Epoch 31/50\n",
      "10/10 [==============================] - ETA: 0s - loss: 0.3342 - mean_absolute_error: 0.3990 - nse: 0.6987\n",
      "Epoch 00031: val_nse did not improve from 0.41445\n",
      "10/10 [==============================] - 6s 587ms/step - loss: 0.3342 - mean_absolute_error: 0.3990 - nse: 0.6987 - val_loss: 0.5654 - val_mean_absolute_error: 0.5621 - val_nse: 0.1698\n",
      "Epoch 32/50\n",
      "10/10 [==============================] - ETA: 0s - loss: 0.3243 - mean_absolute_error: 0.3834 - nse: 0.6789\n",
      "Epoch 00032: val_nse did not improve from 0.41445\n",
      "10/10 [==============================] - 6s 574ms/step - loss: 0.3243 - mean_absolute_error: 0.3834 - nse: 0.6789 - val_loss: 0.5151 - val_mean_absolute_error: 0.5375 - val_nse: 0.2442\n",
      "Epoch 33/50\n",
      "10/10 [==============================] - ETA: 0s - loss: 0.3259 - mean_absolute_error: 0.3978 - nse: 0.7305\n",
      "Epoch 00033: val_nse did not improve from 0.41445\n",
      "10/10 [==============================] - 6s 581ms/step - loss: 0.3259 - mean_absolute_error: 0.3978 - nse: 0.7305 - val_loss: 0.6666 - val_mean_absolute_error: 0.6074 - val_nse: 0.0246\n",
      "Epoch 34/50\n",
      "10/10 [==============================] - ETA: 0s - loss: 0.3074 - mean_absolute_error: 0.3876 - nse: 0.7159\n",
      "Epoch 00034: val_nse did not improve from 0.41445\n",
      "10/10 [==============================] - 6s 585ms/step - loss: 0.3074 - mean_absolute_error: 0.3876 - nse: 0.7159 - val_loss: 0.5118 - val_mean_absolute_error: 0.5322 - val_nse: 0.2510\n",
      "Epoch 35/50\n",
      "10/10 [==============================] - ETA: 0s - loss: 0.2887 - mean_absolute_error: 0.3762 - nse: 0.7126\n",
      "Epoch 00035: val_nse did not improve from 0.41445\n",
      "10/10 [==============================] - 6s 582ms/step - loss: 0.2887 - mean_absolute_error: 0.3762 - nse: 0.7126 - val_loss: 0.5541 - val_mean_absolute_error: 0.5453 - val_nse: 0.1912\n",
      "Epoch 36/50\n",
      "10/10 [==============================] - ETA: 0s - loss: 0.2960 - mean_absolute_error: 0.3702 - nse: 0.7507\n",
      "Epoch 00036: val_nse did not improve from 0.41445\n",
      "10/10 [==============================] - 6s 579ms/step - loss: 0.2960 - mean_absolute_error: 0.3702 - nse: 0.7507 - val_loss: 0.5916 - val_mean_absolute_error: 0.5630 - val_nse: 0.1309\n",
      "Epoch 37/50\n",
      "10/10 [==============================] - ETA: 0s - loss: 0.2705 - mean_absolute_error: 0.3581 - nse: 0.7305\n",
      "Epoch 00037: val_nse did not improve from 0.41445\n",
      "10/10 [==============================] - 6s 576ms/step - loss: 0.2705 - mean_absolute_error: 0.3581 - nse: 0.7305 - val_loss: 0.6029 - val_mean_absolute_error: 0.5675 - val_nse: 0.1179\n",
      "Epoch 38/50\n",
      "10/10 [==============================] - ETA: 0s - loss: 0.2676 - mean_absolute_error: 0.3648 - nse: 0.7298\n",
      "Epoch 00038: val_nse did not improve from 0.41445\n",
      "10/10 [==============================] - 6s 573ms/step - loss: 0.2676 - mean_absolute_error: 0.3648 - nse: 0.7298 - val_loss: 0.6516 - val_mean_absolute_error: 0.5776 - val_nse: 0.0411\n",
      "Epoch 39/50\n",
      "10/10 [==============================] - ETA: 0s - loss: 0.3002 - mean_absolute_error: 0.3693 - nse: 0.7526\n",
      "Epoch 00039: val_nse did not improve from 0.41445\n",
      "10/10 [==============================] - 6s 584ms/step - loss: 0.3002 - mean_absolute_error: 0.3693 - nse: 0.7526 - val_loss: 0.5855 - val_mean_absolute_error: 0.5476 - val_nse: 0.1461\n",
      "Epoch 40/50\n",
      "10/10 [==============================] - ETA: 0s - loss: 0.3011 - mean_absolute_error: 0.3618 - nse: 0.7617\n",
      "Epoch 00040: val_nse did not improve from 0.41445\n",
      "10/10 [==============================] - 6s 575ms/step - loss: 0.3011 - mean_absolute_error: 0.3618 - nse: 0.7617 - val_loss: 0.6548 - val_mean_absolute_error: 0.5826 - val_nse: 0.0402\n",
      "Epoch 41/50\n",
      "10/10 [==============================] - ETA: 0s - loss: 0.2666 - mean_absolute_error: 0.3586 - nse: 0.7585\n",
      "Epoch 00041: val_nse did not improve from 0.41445\n",
      "10/10 [==============================] - 6s 582ms/step - loss: 0.2666 - mean_absolute_error: 0.3586 - nse: 0.7585 - val_loss: 0.6813 - val_mean_absolute_error: 0.5861 - val_nse: 0.0042\n",
      "Epoch 42/50\n",
      "10/10 [==============================] - ETA: 0s - loss: 0.2879 - mean_absolute_error: 0.3667 - nse: 0.7602\n",
      "Epoch 00042: val_nse did not improve from 0.41445\n",
      "10/10 [==============================] - 6s 572ms/step - loss: 0.2879 - mean_absolute_error: 0.3667 - nse: 0.7602 - val_loss: 0.6484 - val_mean_absolute_error: 0.5791 - val_nse: 0.0516\n",
      "Epoch 43/50\n",
      "10/10 [==============================] - ETA: 0s - loss: 0.2788 - mean_absolute_error: 0.3626 - nse: 0.7460\n",
      "Epoch 00043: val_nse did not improve from 0.41445\n",
      "10/10 [==============================] - 6s 582ms/step - loss: 0.2788 - mean_absolute_error: 0.3626 - nse: 0.7460 - val_loss: 0.6379 - val_mean_absolute_error: 0.5699 - val_nse: 0.0668\n",
      "Epoch 44/50\n",
      "10/10 [==============================] - ETA: 0s - loss: 0.2590 - mean_absolute_error: 0.3525 - nse: 0.7281\n",
      "Epoch 00044: val_nse did not improve from 0.41445\n",
      "10/10 [==============================] - 6s 577ms/step - loss: 0.2590 - mean_absolute_error: 0.3525 - nse: 0.7281 - val_loss: 0.8605 - val_mean_absolute_error: 0.6777 - val_nse: -0.2617\n",
      "Epoch 45/50\n"
     ]
    },
    {
     "name": "stdout",
     "output_type": "stream",
     "text": [
      "10/10 [==============================] - ETA: 0s - loss: 0.2921 - mean_absolute_error: 0.3707 - nse: 0.7155\n",
      "Epoch 00045: val_nse did not improve from 0.41445\n",
      "10/10 [==============================] - 6s 580ms/step - loss: 0.2921 - mean_absolute_error: 0.3707 - nse: 0.7155 - val_loss: 0.5915 - val_mean_absolute_error: 0.5621 - val_nse: 0.1314\n",
      "Epoch 46/50\n",
      "10/10 [==============================] - ETA: 0s - loss: 0.2734 - mean_absolute_error: 0.3593 - nse: 0.7747\n",
      "Epoch 00046: val_nse did not improve from 0.41445\n",
      "10/10 [==============================] - 6s 583ms/step - loss: 0.2734 - mean_absolute_error: 0.3593 - nse: 0.7747 - val_loss: 0.6727 - val_mean_absolute_error: 0.5860 - val_nse: 0.0167\n",
      "Epoch 47/50\n",
      "10/10 [==============================] - ETA: 0s - loss: 0.2738 - mean_absolute_error: 0.3590 - nse: 0.7527\n",
      "Epoch 00047: val_nse did not improve from 0.41445\n",
      "10/10 [==============================] - 6s 577ms/step - loss: 0.2738 - mean_absolute_error: 0.3590 - nse: 0.7527 - val_loss: 0.7058 - val_mean_absolute_error: 0.6030 - val_nse: -0.0356\n",
      "Epoch 48/50\n",
      "10/10 [==============================] - ETA: 0s - loss: 0.2716 - mean_absolute_error: 0.3581 - nse: 0.7391\n",
      "Epoch 00048: val_nse did not improve from 0.41445\n",
      "10/10 [==============================] - 6s 586ms/step - loss: 0.2716 - mean_absolute_error: 0.3581 - nse: 0.7391 - val_loss: 0.7521 - val_mean_absolute_error: 0.6282 - val_nse: -0.1003\n",
      "Epoch 49/50\n",
      "10/10 [==============================] - ETA: 0s - loss: 0.2866 - mean_absolute_error: 0.3673 - nse: 0.7644\n",
      "Epoch 00049: val_nse did not improve from 0.41445\n",
      "10/10 [==============================] - 6s 573ms/step - loss: 0.2866 - mean_absolute_error: 0.3673 - nse: 0.7644 - val_loss: 0.9548 - val_mean_absolute_error: 0.6937 - val_nse: -0.3978\n",
      "Epoch 50/50\n",
      "10/10 [==============================] - ETA: 0s - loss: 0.2392 - mean_absolute_error: 0.3467 - nse: 0.7756\n",
      "Epoch 00050: val_nse did not improve from 0.41445\n",
      "10/10 [==============================] - 6s 585ms/step - loss: 0.2392 - mean_absolute_error: 0.3467 - nse: 0.7756 - val_loss: 0.7488 - val_mean_absolute_error: 0.6253 - val_nse: -0.0966\n"
     ]
    }
   ],
   "source": [
    "gru_model = model_gru(\n",
    "    #window=multi_window, OUT_STEPS=rnn_out_steps, out_num_features=out_num_features, epochs=rnn_epochs,\n",
    "    window=multi_window, OUT_STEPS=rnn_out_steps, out_num_features=out_num_features, epochs=50,\n",
    "    training_flag=__RNN_TRAINING__, checkpoint_path=model_path+\"gru.ckpt\")"
   ]
  },
  {
   "cell_type": "markdown",
   "id": "tender-attack",
   "metadata": {},
   "source": [
    "## core / window.py / "
   ]
  },
  {
   "cell_type": "code",
   "execution_count": 72,
   "id": "smooth-wilson",
   "metadata": {
    "scrolled": false
   },
   "outputs": [
    {
     "data": {
      "application/vnd.jupyter.widget-view+json": {
       "model_id": "2704f802bf49404b931f2a683a46bb98",
       "version_major": 2,
       "version_minor": 0
      },
      "text/plain": [
       "Canvas(toolbar=Toolbar(toolitems=[('Home', 'Reset original view', 'home', 'home'), ('Back', 'Back to previous …"
      ]
     },
     "metadata": {},
     "output_type": "display_data"
    },
    {
     "name": "stdout",
     "output_type": "stream",
     "text": [
      "o1 :  15.766031\n",
      "predict_day :  5\n",
      "------------------------\n",
      "nse3 :  [0.2892843]\n",
      "save/nak/models/nak_auto_13/chlorophyll-a/\n",
      "year : 2013 ~ 2020\n",
      "run :  range(0, 1)\n",
      "target :  chl-a   7\n",
      "length :  70128\n",
      "train=8, test=1, val=1\n",
      "nse_val :  [0.2892843]\n"
     ]
    }
   ],
   "source": [
    "val_nse = {}\n",
    "val_pbias = {}\n",
    "val_nse['GRU'], val_pbias['GRU'], pred, label = compa(\n",
    "    model=gru_model,df=val_df, plot_col=out_features[0], target_std=target_std, target_mean=target_mean,\n",
    "    #predict_day = rnn_predict_day)\n",
    "    predict_day = 4)\n",
    "print(model_path)\n",
    "print(\"year : \" + start_year + \" ~ \"+ end_year)\n",
    "print('run : ', run_num)\n",
    "print('target : ', rnn_target_column , \" \", out_features[0])\n",
    "print(\"length : \",df_length)\n",
    "print(teg_check)\n",
    "print('nse_val : ', val_nse['GRU'])\n",
    "#print(\"---------------\")\n",
    "#print(val_nse['GRU'])\n",
    "#print(val_pbias['GRU'])"
   ]
  },
  {
   "cell_type": "code",
   "execution_count": 69,
   "id": "specified-nerve",
   "metadata": {},
   "outputs": [
    {
     "data": {
      "application/vnd.jupyter.widget-view+json": {
       "model_id": "31a4f2adf197478a98e598514e923915",
       "version_major": 2,
       "version_minor": 0
      },
      "text/plain": [
       "Canvas(toolbar=Toolbar(toolitems=[('Home', 'Reset original view', 'home', 'home'), ('Back', 'Back to previous …"
      ]
     },
     "metadata": {},
     "output_type": "display_data"
    },
    {
     "name": "stdout",
     "output_type": "stream",
     "text": [
      "o1 :  17.970104\n",
      "predict_day :  5\n",
      "------------------------\n",
      "nse3 :  [0.48804313]\n",
      "nse_all :  [0.48804313]\n"
     ]
    }
   ],
   "source": [
    "val_nse = {}\n",
    "val_pbias = {}\n",
    "val_nse['GRU'], val_pbias['GRU'], pred, label = compa(\n",
    "    model=gru_model,df=real_df_all, plot_col=out_features[0], target_std=target_std, target_mean=target_mean,\n",
    "    #predict_day = rnn_predict_day)\n",
    "    predict_day = 4)\n",
    "print('nse_all : ', val_nse['GRU'])"
   ]
  },
  {
   "cell_type": "code",
   "execution_count": null,
   "id": "comic-mumbai",
   "metadata": {},
   "outputs": [],
   "source": []
  },
  {
   "cell_type": "code",
   "execution_count": 70,
   "id": "covered-danish",
   "metadata": {},
   "outputs": [
    {
     "data": {
      "application/vnd.jupyter.widget-view+json": {
       "model_id": "10f5ebd80ded416cb82ade4c25777564",
       "version_major": 2,
       "version_minor": 0
      },
      "text/plain": [
       "Canvas(toolbar=Toolbar(toolitems=[('Home', 'Reset original view', 'home', 'home'), ('Back', 'Back to previous …"
      ]
     },
     "metadata": {},
     "output_type": "display_data"
    },
    {
     "name": "stdout",
     "output_type": "stream",
     "text": [
      "o1 :  17.274405\n",
      "predict_day :  5\n",
      "------------------------\n",
      "nse3 :  [0.50124294]\n",
      "nse_train :  [0.50124294]\n"
     ]
    }
   ],
   "source": [
    "val_nse = {}\n",
    "val_pbias = {}\n",
    "val_nse['GRU'], val_pbias['GRU'], pred, label = compa(\n",
    "    model=gru_model,df=train_df, plot_col=out_features[0], target_std=target_std, target_mean=target_mean,\n",
    "    #predict_day = rnn_predict_day)\n",
    "    predict_day = 4)\n",
    "\n",
    "print('nse_train : ', val_nse['GRU'])"
   ]
  },
  {
   "cell_type": "code",
   "execution_count": 71,
   "id": "announced-story",
   "metadata": {},
   "outputs": [
    {
     "data": {
      "application/vnd.jupyter.widget-view+json": {
       "model_id": "fd7496c0500c44848c0d36c02a42db4c",
       "version_major": 2,
       "version_minor": 0
      },
      "text/plain": [
       "Canvas(toolbar=Toolbar(toolitems=[('Home', 'Reset original view', 'home', 'home'), ('Back', 'Back to previous …"
      ]
     },
     "metadata": {},
     "output_type": "display_data"
    },
    {
     "name": "stdout",
     "output_type": "stream",
     "text": [
      "o1 :  25.911978\n",
      "predict_day :  5\n",
      "------------------------\n",
      "nse3 :  [0.37248564]\n",
      "nse_test :  [0.37248564]\n"
     ]
    }
   ],
   "source": [
    "val_nse = {}\n",
    "val_pbias = {}\n",
    "val_nse['GRU'], val_pbias['GRU'], pred, label = compa(\n",
    "    model=gru_model,df=test_df, plot_col=out_features[0], target_std=target_std, target_mean=target_mean,\n",
    "    #predict_day = rnn_predict_day)\n",
    "    predict_day = 4)\n",
    "\n",
    "print('nse_test : ', val_nse['GRU'])"
   ]
  },
  {
   "cell_type": "code",
   "execution_count": 40,
   "id": "respective-buying",
   "metadata": {},
   "outputs": [],
   "source": [
    "#train_df.shape, val_df.shape, test_df.shape"
   ]
  },
  {
   "cell_type": "code",
   "execution_count": 41,
   "id": "primary-polyester",
   "metadata": {},
   "outputs": [
    {
     "ename": "NameError",
     "evalue": "name 'stop' is not defined",
     "output_type": "error",
     "traceback": [
      "\u001b[0;31m---------------------------------------------------------------------------\u001b[0m",
      "\u001b[0;31mNameError\u001b[0m                                 Traceback (most recent call last)",
      "\u001b[0;32m<ipython-input-41-e3eef677e2c5>\u001b[0m in \u001b[0;36m<module>\u001b[0;34m\u001b[0m\n\u001b[1;32m     13\u001b[0m \u001b[0;31m#      SSSSSSSSSSSSSSSSSS                  ******              *********************      *****\u001b[0m\u001b[0;34m\u001b[0m\u001b[0;34m\u001b[0m\u001b[0;34m\u001b[0m\u001b[0m\n\u001b[1;32m     14\u001b[0m \u001b[0;31m#-----------------------------------------------------------------------------------------------------------------\u001b[0m\u001b[0;34m\u001b[0m\u001b[0;34m\u001b[0m\u001b[0;34m\u001b[0m\u001b[0m\n\u001b[0;32m---> 15\u001b[0;31m \u001b[0mstop\u001b[0m \u001b[0;34m=\u001b[0m \u001b[0mstop\u001b[0m\u001b[0;34m\u001b[0m\u001b[0;34m\u001b[0m\u001b[0m\n\u001b[0m",
      "\u001b[0;31mNameError\u001b[0m: name 'stop' is not defined"
     ]
    }
   ],
   "source": [
    "#-----------------------------------------------------------------------------------------------------------------\n",
    "# 123SFACVTHYI78567UDBYUJM534523RDHGTHETYIE5I8I78O9P789J467UBDFGDASFSADCXVFDSWERTNERGRTTUTYAFGASDFSDBGFDF67E54563\n",
    "# 64534FDSFVSDHT56SDFG656USRHSDYA3Y RTA WERGERGSDFGVTY34TASDF dfasdfghhgbcvbsdfgrwergfdsfvzxcvasdfaweqdqasdfderadf\n",
    "# feasetttttttttttttttttttvxzcvxzvxcvxvnjfghjvbnfghjdfhgdhthrtyyyyyyyyyyrtjliuioyuytrtyurtyughjuyityuityuityuijjty\n",
    "# hgfgdrrtyetghfdghvcvbnhjfghjgggnfnmjhkuytlryewqwerasdfgghrthfgjyruhjyuihjknhybgtvfrcdezxcabnghrtyreeghghte45654y  \n",
    "# tr345rgbbbdfghterty4534562345jhgy5462345234534n5345g345t3245d34f235345f345g34454f345t345er345234yt545y45tg45t534\n",
    "#       SSSSSSSSSSSSSS         ASDFALKJIVAJLMSEFLKMALSKVJALKSRKLTGAKLSDGVLK   *****    ***************   \n",
    "#            SSSSSSSSSSSSS               ******            ******              *****    *************       (*_*)  \n",
    "#                   SSSSSSSS               ******            ******              *****    *****            ~( (>\n",
    "#        SSSS         S  SSS               ******            ******              *****    *****            / (          \n",
    "#      SSSS          S  SSSS               ******            ******              *****    *****                     \n",
    "#     SSSSS            SSSS                ******             ******            ******    *****                     \n",
    "#      SSSSSSSSSSSSSSSSSS                  ******              *********************      *****                   \n",
    "#-----------------------------------------------------------------------------------------------------------------\n",
    "stop = stop"
   ]
  },
  {
   "cell_type": "code",
   "execution_count": null,
   "id": "radical-progressive",
   "metadata": {},
   "outputs": [],
   "source": [
    "val_nse = {}\n",
    "val_pbias = {}\n",
    "val_nse['GRU'], val_pbias['GRU'], pred, label = compa(\n",
    "    model=gru_model,df=real_df_all, plot_col=out_features[0], target_std=target_std, target_mean=target_mean,\n",
    "    #predict_day = rnn_predict_day)\n",
    "    predict_day = 4)\n",
    "print(model_path)\n",
    "print(\"year : \" + start_year + \" ~ \"+ end_year)\n",
    "print('run : ', run_num)\n",
    "print('target : ', rnn_target_column, \" \", out_features[0])\n",
    "print(\"length : \",df_length)\n",
    "print(teg_check)\n",
    "print(\"---------------\")\n",
    "print(val_nse['GRU'])\n",
    "print(val_pbias['GRU'])"
   ]
  },
  {
   "cell_type": "code",
   "execution_count": null,
   "id": "excellent-inspection",
   "metadata": {},
   "outputs": [],
   "source": [
    "from core.models import GRUModel, compile"
   ]
  },
  {
   "cell_type": "code",
   "execution_count": null,
   "id": "entertaining-sunrise",
   "metadata": {},
   "outputs": [],
   "source": [
    "model112 = GRUModel(rnn_out_steps, out_num_features)\n",
    "model112.load_weights(model_path+\"gru.ckpt\")\n",
    "compile(model112)\n"
   ]
  },
  {
   "cell_type": "code",
   "execution_count": null,
   "id": "subtle-vacuum",
   "metadata": {},
   "outputs": [],
   "source": [
    "val_nse = {}\n",
    "val_pbias = {}\n",
    "val_nse['GRU'], val_pbias['GRU'], pred, label = compa(\n",
    "    #model=model112,df=test_df, plot_col=out_features[0], target_std=target_std, target_mean=target_mean,\n",
    "    model=model112,df=val_df, plot_col=out_features[0], target_std=target_std, target_mean=target_mean,\n",
    "    #predict_day = rnn_predict_day)\n",
    "    predict_day = 4)\n",
    "print(model_path)\n",
    "print(\"year : \" + start_year + \" ~ \"+ end_year)\n",
    "print('run : ', run_num)\n",
    "print('target : ', rnn_target_column)\n",
    "print(\"length : \",df_length)\n",
    "print(teg_check)\n",
    "print(\"---------------\")\n",
    "print(val_nse['GRU'])\n",
    "print(val_pbias['GRU'])"
   ]
  },
  {
   "cell_type": "code",
   "execution_count": null,
   "id": "assured-restriction",
   "metadata": {
    "scrolled": true
   },
   "outputs": [],
   "source": [
    "##.evaluate(multi_window.train)\n",
    "#model112.evaluate(multi_window.val.repeat(-1), steps=100)"
   ]
  },
  {
   "cell_type": "code",
   "execution_count": null,
   "id": "exempt-confidence",
   "metadata": {},
   "outputs": [],
   "source": []
  },
  {
   "cell_type": "code",
   "execution_count": null,
   "id": "democratic-cooling",
   "metadata": {},
   "outputs": [],
   "source": []
  },
  {
   "cell_type": "code",
   "execution_count": null,
   "id": "filled-causing",
   "metadata": {},
   "outputs": [],
   "source": []
  },
  {
   "cell_type": "code",
   "execution_count": null,
   "id": "motivated-poison",
   "metadata": {},
   "outputs": [],
   "source": []
  },
  {
   "cell_type": "code",
   "execution_count": null,
   "id": "outstanding-grove",
   "metadata": {},
   "outputs": [],
   "source": []
  },
  {
   "cell_type": "code",
   "execution_count": null,
   "id": "featured-battle",
   "metadata": {},
   "outputs": [],
   "source": []
  },
  {
   "cell_type": "code",
   "execution_count": null,
   "id": "criminal-hypothetical",
   "metadata": {},
   "outputs": [],
   "source": []
  },
  {
   "cell_type": "code",
   "execution_count": null,
   "id": "numeric-cartoon",
   "metadata": {},
   "outputs": [],
   "source": []
  },
  {
   "cell_type": "code",
   "execution_count": null,
   "id": "frozen-christmas",
   "metadata": {},
   "outputs": [],
   "source": []
  },
  {
   "cell_type": "code",
   "execution_count": null,
   "id": "sweet-planner",
   "metadata": {},
   "outputs": [],
   "source": []
  },
  {
   "cell_type": "code",
   "execution_count": null,
   "id": "uniform-craps",
   "metadata": {},
   "outputs": [],
   "source": []
  },
  {
   "cell_type": "code",
   "execution_count": null,
   "id": "minimal-military",
   "metadata": {},
   "outputs": [],
   "source": []
  },
  {
   "cell_type": "code",
   "execution_count": null,
   "id": "greater-halloween",
   "metadata": {},
   "outputs": [],
   "source": []
  },
  {
   "cell_type": "code",
   "execution_count": null,
   "id": "potential-measurement",
   "metadata": {},
   "outputs": [],
   "source": []
  },
  {
   "cell_type": "code",
   "execution_count": null,
   "id": "serial-variable",
   "metadata": {},
   "outputs": [],
   "source": []
  },
  {
   "cell_type": "code",
   "execution_count": null,
   "id": "dimensional-message",
   "metadata": {},
   "outputs": [],
   "source": []
  },
  {
   "cell_type": "code",
   "execution_count": null,
   "id": "sized-crazy",
   "metadata": {},
   "outputs": [],
   "source": [
    "\n",
    "def compa(model=None,df = None, plot_col=0, input_width=7*24, label_width=5*24, target_std=None, target_mean=None, predict_day=4):\n",
    "    \n",
    "    #print(df.shape)\n",
    "    #print(plot_col)\n",
    "    \n",
    "    width = input_width + label_width\n",
    "    \n",
    "    length = df.shape[0]\n",
    "    length -= width\n",
    "    \n",
    "    inputs = []\n",
    "    labels = []\n",
    "    \n",
    "    for i in range(0, length, 24):\n",
    "        dataset = df.iloc[i:i+width].to_numpy()\n",
    "        input = dataset[:input_width]\n",
    "        label = dataset[input_width:, plot_col:plot_col+1]\n",
    "        \n",
    "        input = input.reshape((-1,)+input.shape)\n",
    "        label = label.reshape((-1,)+label.shape)\n",
    "        \n",
    "        inputs.append(input)\n",
    "        labels.append(label)\n",
    "        \n",
    "    inputs = np.concatenate(inputs, axis=0)\n",
    "    labels = np.concatenate(labels, axis=0)\n",
    "    \n",
    "    \n",
    "\n",
    "    predictions = model(inputs).numpy()\n",
    "    \n",
    "    print(\"input : \", inputs.shape, \"labels : \", labels.shape, \"predictions : \", predictions.shape)\n",
    "    #print(predictions.shape)\n",
    "    \n",
    "    predictions = predictions * target_std[plot_col] + target_mean[plot_col]\n",
    "    labels = labels * target_std[plot_col] + target_mean[plot_col]\n",
    "\n",
    "    pred_day = hour_to_day_mean(predictions)\n",
    "    \n",
    "    label_day = hour_to_day_mean(labels)\n",
    "    \n",
    "    inputs_target = inputs[:,:,plot_col:plot_col+1]\n",
    "    inputs_target = inputs_target * target_std[plot_col] + target_mean[plot_col]\n",
    "    inputs_day = hour_to_day_mean(inputs_target)\n",
    "    \n",
    "    print(\"                label_day.shape : \",label_day.shape, \"pred_day.shape : \", pred_day.shape)\n",
    "    \n",
    "    #plt.figure()\n",
    "    #input_index = np.array(range(0, length, 24))\n",
    "    #label_index = input_index + 24* (7 + predict_day)\n",
    "    #plt.plot(input_index, inputs_day[:, 0, :], label='input')\n",
    "    #plt.plot(label_index, label_day[:, predict_day, :], label='label')\n",
    "    #plt.plot(label_index, pred_day[:, predict_day, :], label='pred')\n",
    "    #plt.legend()\n",
    "    \n",
    "    #o1 = np.mean(labels)\n",
    "    o1 = np.mean(label_day[:,predict_day,:])\n",
    "    nse1 = ((label_day - pred_day)**2).sum(axis=0)\n",
    "    nse2 = ((label_day - o1)**2).sum(axis=0)\n",
    "    nse3 = 1 - (nse1[predict_day]/nse2[predict_day])\n",
    "    print('o1 : ', o1)\n",
    "    print('predict_day : ', predict_day + 1)\n",
    "    pbias1 = (label_day - pred_day).sum(axis=0)\n",
    "    pbias2 = (label_day).sum(axis=0)\n",
    "    pbias3 = (pbias1[predict_day]/pbias2[predict_day])*100\n",
    "    \n",
    "    \n",
    "    mae = (np.abs(label_day - pred_day)).mean()\n",
    "    mse = ((label_day - pred_day)**2).mean()\n",
    "    rmse = np.sqrt(((label_day - pred_day)**2).mean())\n",
    "    \n",
    "    print('------------------------')\n",
    "    print(mae, mse ,rmse)\n",
    "    labels_test = labels.mean(axis=1)\n",
    "    predis_test = inputs_target.mean(axis=1)\n",
    "    \n",
    "    nse2_1 = ((labels_test - predis_test)**2).sum()\n",
    "    nse2_2 = ((labels_test - o1)**2).sum()\n",
    "    nse2_3 = 1 - (nse2_1/nse2_2)\n",
    "    \n",
    "    pbias2_1 = (labels_test - predis_test).sum()\n",
    "    pbias2_2 = labels_test.sum()\n",
    "    pbias2_3 = pbias2_1/pbias2_2 * 100\n",
    "    #print(labels_test.shape)\n",
    "    #print(predis_test.shape)\n",
    "    #print()\n",
    "    #print(\"nse2_3 : \",nse2_3)\n",
    "    #print(\"pbias2_3 : \",pbias2_3)\n",
    "    ##print('------------------------')\n",
    "    print(\"nse3 : \", nse3)\n",
    "    print(\"pbias3 : \",pbias3)\n",
    "    ##print('------------------------')\n",
    "    \n",
    "    return nse3, np.abs(pbias3), inputs_day, label_day, pred_day\n",
    "    "
   ]
  },
  {
   "cell_type": "code",
   "execution_count": null,
   "id": "separate-appendix",
   "metadata": {},
   "outputs": [],
   "source": []
  },
  {
   "cell_type": "code",
   "execution_count": null,
   "id": "under-terminology",
   "metadata": {},
   "outputs": [],
   "source": [
    "\n",
    "x = np.arange(len(val_nse))\n",
    "width = 0.35\n",
    "plt.figure()\n",
    "plt.title(watershed + '  ['+start_year+','+end_year+']  ' + rnn_target_column)\n",
    "plt.bar(x, val_pbias.values(), 0.3, label='PBIAS' )\n",
    "plt.bar(x + width, val_nse.values(), 0.3, label='NSE')\n",
    "plt.xticks(x,val_nse.keys(), rotation=0)\n",
    "_ = plt.legend()\n",
    "plt.show()\n"
   ]
  },
  {
   "cell_type": "code",
   "execution_count": null,
   "id": "sufficient-catalog",
   "metadata": {},
   "outputs": [],
   "source": []
  },
  {
   "cell_type": "code",
   "execution_count": null,
   "id": "other-honduras",
   "metadata": {},
   "outputs": [],
   "source": []
  },
  {
   "cell_type": "code",
   "execution_count": null,
   "id": "unnecessary-marker",
   "metadata": {},
   "outputs": [],
   "source": []
  }
 ],
 "metadata": {
  "kernelspec": {
   "display_name": "Python 3",
   "language": "python",
   "name": "python3"
  },
  "language_info": {
   "codemirror_mode": {
    "name": "ipython",
    "version": 3
   },
   "file_extension": ".py",
   "mimetype": "text/x-python",
   "name": "python",
   "nbconvert_exporter": "python",
   "pygments_lexer": "ipython3",
   "version": "3.7.9"
  }
 },
 "nbformat": 4,
 "nbformat_minor": 5
}
