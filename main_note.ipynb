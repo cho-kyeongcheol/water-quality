{
 "cells": [
  {
   "cell_type": "code",
   "execution_count": 1,
   "id": "bored-conservation",
   "metadata": {},
   "outputs": [],
   "source": [
    "import shutil\n",
    "\n",
    "from core.gain import *\n",
    "from core.rnn_predic import *\n",
    "from core.models import *\n",
    "from core.util import *\n",
    "#from core.window import WindowGenerator, MissData, make_dataset_water, WaterDataGenerator\n",
    "from core.window import WindowGenerator, make_dataset_gain, make_dataset_water\n",
    "from core.file_open import make_dataframe\n",
    "from core.miss_data import MissData\n",
    "import json\n",
    "%matplotlib widget\n",
    "import os"
   ]
  },
  {
   "cell_type": "code",
   "execution_count": 2,
   "id": "instant-rough",
   "metadata": {},
   "outputs": [],
   "source": [
    "def hour_to_day_mean(array):\n",
    "    time = 24\n",
    "    array = array.reshape((array.shape[0], array.shape[1] // time, time, array.shape[2]))\n",
    "    array = array.mean(2)\n",
    "    return array"
   ]
  },
  {
   "cell_type": "code",
   "execution_count": 3,
   "id": "outstanding-adolescent",
   "metadata": {},
   "outputs": [],
   "source": [
    "\n",
    "def compa(model=None,df = None, plot_col=0, input_width=7*24, label_width=5*24, target_std=None, target_mean=None, predict_day=4):\n",
    "    width = input_width + label_width\n",
    "    length = df.shape[0] - width\n",
    "    inputs = []\n",
    "    labels = []\n",
    "    \n",
    "    for i in range(0, length, 24):\n",
    "        dataset = df.iloc[i:i+width].to_numpy()\n",
    "        input = dataset[:input_width]\n",
    "        label = dataset[input_width:, plot_col:plot_col+1]\n",
    "        \n",
    "        input = input.reshape((-1,)+input.shape)\n",
    "        label = label.reshape((-1,)+label.shape)\n",
    "        \n",
    "        inputs.append(input)\n",
    "        labels.append(label)\n",
    "        \n",
    "        \n",
    "    inputs = np.concatenate(inputs, axis=0)\n",
    "    labels = np.concatenate(labels, axis=0)\n",
    "    \n",
    "\n",
    "    predictions = model(inputs).numpy()\n",
    "    \n",
    "    predictions = predictions * target_std[plot_col] + target_mean[plot_col]\n",
    "    labels = labels * target_std[plot_col] + target_mean[plot_col]\n",
    "\n",
    "    pred_day = hour_to_day_mean(predictions)\n",
    "    \n",
    "    label_day = hour_to_day_mean(labels)\n",
    "    \n",
    "    inputs_target = inputs[:,:,plot_col:plot_col+1]\n",
    "    inputs_target = inputs_target * target_std[plot_col] + target_mean[plot_col]\n",
    "    inputs_day = hour_to_day_mean(inputs_target)\n",
    "    \n",
    "    plt.figure()\n",
    "    input_index = np.array(range(0, length, 24))\n",
    "    label_index = input_index + 24* (7 + predict_day)\n",
    "    plt.plot(input_index, inputs_day[:, 0, :], label='input')\n",
    "    plt.plot(label_index, label_day[:, predict_day, :], label='label')\n",
    "    plt.plot(label_index, pred_day[:, predict_day, :], label='pred')\n",
    "    plt.legend()\n",
    "    #plt.savefig('test_plt.png')\n",
    "    \n",
    "    #o1 = np.mean(labels)\n",
    "    o1 = np.mean(label_day[:,predict_day,:])\n",
    "    nse1 = ((label_day - pred_day)**2).sum(axis=0)\n",
    "    nse2 = ((label_day - o1)**2).sum(axis=0)\n",
    "    nse3 = 1 - (nse1[predict_day]/nse2[predict_day])\n",
    "    print('o1 : ', o1)\n",
    "    print('predict_day : ', predict_day + 1)\n",
    "    pbias1 = (label_day - pred_day).sum(axis=0)\n",
    "    pbias2 = (label_day).sum(axis=0)\n",
    "    pbias3 = (pbias1[predict_day]/pbias2[predict_day])*100\n",
    "    \n",
    "    \n",
    "    mae = (np.abs(label_day - pred_day)).mean()\n",
    "    mse = ((label_day - pred_day)**2).mean()\n",
    "    rmse = np.sqrt(((label_day - pred_day)**2).mean())\n",
    "    \n",
    "    print('------------------------')\n",
    "    print(mae, mse ,rmse)\n",
    "    labels_test = labels.mean(axis=1)\n",
    "    predis_test = inputs_target.mean(axis=1)\n",
    "    \n",
    "    nse2_1 = ((labels_test - predis_test)**2).sum()\n",
    "    nse2_2 = ((labels_test - o1)**2).sum()\n",
    "    nse2_3 = 1 - (nse2_1/nse2_2)\n",
    "    \n",
    "    pbias2_1 = (labels_test - predis_test).sum()\n",
    "    pbias2_2 = labels_test.sum()\n",
    "    pbias2_3 = pbias2_1/pbias2_2 * 100\n",
    "    #print(labels_test.shape)\n",
    "    #print(predis_test.shape)\n",
    "    #print()\n",
    "    #print(\"nse2_3 : \",nse2_3)\n",
    "    #print(\"pbias2_3 : \",pbias2_3)\n",
    "    ##print('------------------------')\n",
    "    print(\"nse3 : \", nse3)\n",
    "    print(\"pbias3 : \",pbias3)\n",
    "    ##print('------------------------')\n",
    "    \n",
    "    return nse3, np.abs(pbias3), pred_day, labels"
   ]
  },
  {
   "cell_type": "code",
   "execution_count": 4,
   "id": "offensive-spider",
   "metadata": {},
   "outputs": [
    {
     "name": "stdout",
     "output_type": "stream",
     "text": [
      "1 Physical GPUs, 1 Logical GPUs\n"
     ]
    }
   ],
   "source": [
    "os.environ[\"CUDA_DEVICE_ORDER\"]=\"PCI_BUS_ID\"   # see issue #152\n",
    "os.environ[\"CUDA_VISIBLE_DEVICES\"]=\"0,1\"\n",
    "\n",
    "gpus = tf.config.experimental.list_physical_devices('GPU')\n",
    "if gpus:\n",
    "    try:\n",
    "        # Currently, memory growth needs to be the same across GPUs\n",
    "        for gpu in gpus:\n",
    "            tf.config.experimental.set_memory_growth(gpu, True)\n",
    "        logical_gpus = tf.config.experimental.list_logical_devices('GPU')\n",
    "        print(len(gpus), \"Physical GPUs,\", len(logical_gpus), \"Logical GPUs\")\n",
    "    except RuntimeError as e:\n",
    "        # Memory growth must be set before GPUs have been initialized\n",
    "        print(e) \n"
   ]
  },
  {
   "cell_type": "code",
   "execution_count": 5,
   "id": "norman-queen",
   "metadata": {},
   "outputs": [],
   "source": [
    "data_path = 'data/'\n",
    "parameters_dir = 'input'\n",
    "\n",
    "parameters_file = 'input.json'\n",
    "parameters_path = '{dir}/{file}'.format(dir=parameters_dir, file=parameters_file)\n",
    "\n",
    "with open(parameters_path, encoding='utf8') as json_file:\n",
    "    parameters = json.load(json_file)\n",
    "\n",
    "gain_parameters = parameters['gain']\n",
    "rnn_parameters = parameters['rnn']\n",
    "file_parameters = parameters['file']"
   ]
  },
  {
   "cell_type": "code",
   "execution_count": 6,
   "id": "defensive-traffic",
   "metadata": {},
   "outputs": [
    {
     "data": {
      "text/plain": [
       "'nak_auto_13'"
      ]
     },
     "execution_count": 6,
     "metadata": {},
     "output_type": "execute_result"
    }
   ],
   "source": [
    "file_parameters['watershed']"
   ]
  },
  {
   "cell_type": "code",
   "execution_count": 7,
   "id": "unlimited-postage",
   "metadata": {},
   "outputs": [],
   "source": [
    "parameters_path = parameters_dir+'/'+ file_parameters['watershed'] + '.json'\n",
    "with open(parameters_path, encoding='utf8') as json_file:\n",
    "    parameters = json.load(json_file)"
   ]
  },
  {
   "cell_type": "code",
   "execution_count": 8,
   "id": "changed-timer",
   "metadata": {},
   "outputs": [],
   "source": [
    "pd.set_option('display.max_columns', 1000)"
   ]
  },
  {
   "cell_type": "code",
   "execution_count": 9,
   "id": "alternate-reverse",
   "metadata": {},
   "outputs": [],
   "source": [
    "data_parameters = parameters['data']\n",
    "\n",
    "interpolation_option = data_parameters['interpolation']\n",
    "colum_idx = data_parameters['columns']\n",
    "watershed = data_parameters['watershed']\n",
    "file_names = data_parameters['files']\n",
    "folder = data_parameters['directorys']\n",
    "for i in range(len(folder)):\n",
    "    folder[i] = watershed+folder[i]"
   ]
  },
  {
   "cell_type": "code",
   "execution_count": 10,
   "id": "committed-boulder",
   "metadata": {},
   "outputs": [],
   "source": [
    "__GAIN_TRAINING__ = gain_parameters['train']\n",
    "gain_epochs = gain_parameters['max_epochs']\n",
    "gain_in_setps = gain_parameters['input_width']\n",
    "gain_out_setps = gain_parameters['label_width']\n",
    "gain_batch_size = gain_parameters['batch_size']\n",
    "gain_fill_no = gain_parameters['fill_width']\n",
    "gain_shift = gain_parameters['shift_width']\n",
    "gain_miss_rate = gain_parameters['miss_rate']\n",
    "\n",
    "__RNN_TRAINING__ = rnn_parameters['train']\n",
    "rnn_epochs = rnn_parameters['max_epochs']\n",
    "rnn_in_setps = rnn_parameters['input_width']\n",
    "rnn_out_steps = rnn_parameters['label_width']\n",
    "rnn_batch_size = rnn_parameters['batch_size']\n",
    "rnn_predict_day = rnn_parameters['predict_day']\n",
    "rnn_target_column = rnn_parameters['target_column']\n",
    "\n",
    "if rnn_predict_day < 3 or rnn_predict_day >5:\n",
    "    print('predict_day err')\n",
    "    exit(88)\n",
    "rnn_predict_day -= 1"
   ]
  },
  {
   "cell_type": "code",
   "execution_count": 11,
   "id": "powered-sixth",
   "metadata": {},
   "outputs": [
    {
     "data": {
      "text/plain": [
       "(False, 2000, True, 20)"
      ]
     },
     "execution_count": 11,
     "metadata": {},
     "output_type": "execute_result"
    }
   ],
   "source": [
    "__GAIN_TRAINING__, gain_epochs ,__RNN_TRAINING__, rnn_epochs"
   ]
  },
  {
   "cell_type": "code",
   "execution_count": 12,
   "id": "suspected-quebec",
   "metadata": {},
   "outputs": [],
   "source": [
    "run_num = range(len(folder))\n",
    "real_df_all = pd.DataFrame([])\n",
    "target_all = target_mean = target_std = 0\n",
    "\n",
    "gain_val_performance = {}\n",
    "gain_performance = {}\n",
    "\n",
    "length = len(run_num)\n",
    "\n",
    "#ddday = 31\n",
    "#mmmonth = 12\n",
    "\n",
    "#length = 1"
   ]
  },
  {
   "cell_type": "code",
   "execution_count": 13,
   "id": "undefined-sperm",
   "metadata": {
    "scrolled": true
   },
   "outputs": [
    {
     "name": "stdout",
     "output_type": "stream",
     "text": [
      "interpol flag :  [False, False]\n",
      "folder :  data/nak/자동/\n",
      "colum_idx :  :,[26,27,28,29,30,31,32,33]\n",
      "file_names[idx] :  [['도개_2013.xlsx', '도개_2014.xlsx', '도개_2015.xlsx', '도개_2016.xlsx', '도개_2017.xlsx', '도개_2018.xlsx', '도개_2019.xlsx', '도개_2020.xlsx'], ['신암_2013.xlsx', '신암_2014.xlsx', '신암_2015.xlsx', '신암_2016.xlsx', '신암_2017.xlsx', '신암_2018.xlsx', '신암_2019.xlsx', '신암_2020.xlsx'], ['풍양_2013.xlsx', '풍양_2014.xlsx', '풍양_2015.xlsx', '풍양_2016.xlsx', '풍양_2017.xlsx', '풍양_2018.xlsx', '풍양_2019.xlsx', '풍양_2020.xlsx']]\n",
      "data/nak/자동/도개_2013.xlsx\n",
      "data/nak/자동/도개_2014.xlsx\n",
      "data/nak/자동/도개_2015.xlsx\n",
      "data/nak/자동/도개_2016.xlsx\n",
      "data/nak/자동/도개_2017.xlsx\n",
      "data/nak/자동/도개_2018.xlsx\n",
      "data/nak/자동/도개_2019.xlsx\n",
      "data/nak/자동/도개_2020.xlsx\n",
      "You must check this make_timeseries : time length\n",
      "time range in files :  2013-01-01 00:00  ~  2020-12-31 23:00\n",
      "data/nak/자동/신암_2013.xlsx\n",
      "data/nak/자동/신암_2014.xlsx\n",
      "data/nak/자동/신암_2015.xlsx\n",
      "data/nak/자동/신암_2016.xlsx\n",
      "data/nak/자동/신암_2017.xlsx\n",
      "data/nak/자동/신암_2018.xlsx\n",
      "data/nak/자동/신암_2019.xlsx\n",
      "data/nak/자동/신암_2020.xlsx\n",
      "You must check this make_timeseries : time length\n",
      "time range in files :  2013-01-01 00:00  ~  2020-12-31 23:00\n",
      "data/nak/자동/풍양_2013.xlsx\n",
      "data/nak/자동/풍양_2014.xlsx\n",
      "data/nak/자동/풍양_2015.xlsx\n",
      "data/nak/자동/풍양_2016.xlsx\n",
      "data/nak/자동/풍양_2017.xlsx\n",
      "data/nak/자동/풍양_2018.xlsx\n",
      "data/nak/자동/풍양_2019.xlsx\n",
      "data/nak/자동/풍양_2020.xlsx\n",
      "You must check this make_timeseries : time length\n",
      "time range in files :  2013-01-01 00:00  ~  2020-12-31 23:00\n",
      "MissData :  save/  miss :  (11063, 12)\n",
      "1/1 [==============================] - 0s 8ms/step - loss: 0.2497\n",
      "MissData :  save/  miss :  (11063, 12)\n"
     ]
    }
   ],
   "source": [
    "for i in range(length):\n",
    "\n",
    "    idx = run_num[i]\n",
    "\n",
    "    print('interpol flag : ', interpolation_option[idx])\n",
    "    print('folder : ', data_path + folder[idx])\n",
    "    print('colum_idx : ', colum_idx[idx])\n",
    "    print('file_names[idx] : ', file_names[idx])\n",
    "\n",
    "    #start = time.time()\n",
    "\n",
    "    #if watershed == '한강_12days_test':\n",
    "    #    df, times = make_dataframe_temp_12days(folder[idx], file_names[idx], colum_idx[idx], interpolate=interpolation_option[idx])\n",
    "    #else:\n",
    "    df, times = make_dataframe(data_path+folder[idx], file_names[idx], colum_idx[idx], interpolation=interpolation_option[idx])\n",
    "    #df, times, mmmonth, ddday = make_dataframe(data_path+folder[idx], file_names[idx], \n",
    "#                               colum_idx[idx], interpolation=interpolation_option[idx],\n",
    "#                              first_file_no=i, month=mmmonth, day=ddday)\n",
    "\n",
    "    df_all, train_mean, train_std, df = normalize(df)\n",
    "\n",
    "\n",
    "    if i == 0:\n",
    "        dfff = df\n",
    "        target_all = df_all\n",
    "        target_std = train_std\n",
    "        target_mean = train_mean\n",
    "        start_year = str(times.iloc[0].year)\n",
    "        end_year = str(times.iloc[-1].year)\n",
    "\n",
    "    if interpolation_option[idx][0] == False:\n",
    "\n",
    "        loadfiles = ['idx.npy', 'miss.npy', 'discriminator.h5', 'generator.h5']\n",
    "\n",
    "        gain_calc_falg = True\n",
    "\n",
    "        if __GAIN_TRAINING__ == True:\n",
    "            gain_calc_falg = MissData.save(pd.concat(df, axis=0).to_numpy(), max_tseq=24, save_dir='save/')\n",
    "            #print(folder[idx], ': training ', 'Miss date save : ', gain_calc_falg)\n",
    "        else:\n",
    "            for file in loadfiles:\n",
    "                if os.path.isfile('save/' + folder[idx]+file):\n",
    "                    shutil.copyfile('save/' + folder[idx]+file, 'save/'+file)\n",
    "                    #print('load file name : save/' + folder[idx]+file)\n",
    "                else:\n",
    "                    if file == 'miss.npy':\n",
    "                        gain_calc_falg = MissData.save(pd.concat(df, axis=0).to_numpy(), max_tseq=24, save_dir='save/')\n",
    "                        #print(folder[idx], ': is not miss.npy ', 'Miss date save : ', gain_calc_falg)\n",
    "\n",
    "        if gain_calc_falg == True:\n",
    "            #print('GainWindowGenerator in main')\n",
    "            WindowGenerator.make_dataset = make_dataset_gain\n",
    "            wide_window = WindowGenerator(input_width=gain_in_setps, label_width=gain_out_setps, shift=gain_shift,\n",
    "                                          fill_no=gain_fill_no, miss_rate=gain_miss_rate, batch_size=gain_batch_size,\n",
    "                                          train_df = df_all, val_df = df_all, test_df = df_all, df = df)\n",
    "\n",
    "            #gain = model_GAIN(shape=wide_window.dg.shape[1:], gen_sigmoid=False, epochs=gain_epochs, training_flag=__GAIN_TRAINING__, window=wide_window, model_save_path='save/')\n",
    "            gain = model_GAIN(shape=(gain_in_setps, df_all.shape[1]), gen_sigmoid=False, epochs=gain_epochs,\n",
    "                              training_flag=__GAIN_TRAINING__, window=wide_window, model_save_path='save/')\n",
    "\n",
    "            gain_val_performance[str(i)] = gain.evaluate(wide_window.val)\n",
    "            gain_performance[str(i)] = gain.evaluate(wide_window.test, verbose=0)\n",
    "\n",
    "            #print('file proc in main')\n",
    "            if __GAIN_TRAINING__ == True:\n",
    "                #dir = 'save/'+folder[i]\n",
    "                if not os.path.exists('save/' + folder[idx]):\n",
    "                    os.makedirs('save/'+folder[idx])\n",
    "                for file in loadfiles:\n",
    "                    shutil.copyfile('save/' + file, 'save/' + folder[idx] + file)\n",
    "\n",
    "            #print('create_dataset_with_gain in main')\n",
    "            #ori, gan = create_dataset_with_gain(gain=gain, window=wide_window, df=df)\n",
    "            ori, gan = create_dataset_with_gain(gain=gain, shape=(gain_in_setps, df_all.shape[1]), df=df)\n",
    "\n",
    "        else:\n",
    "            gan = create_dataset_interpol(window=gain_in_setps, df=df)\n",
    "    else:\n",
    "        gan = create_dataset_interpol(window=gain_in_setps, df=df)\n",
    "\n",
    "    if i == 0 :\n",
    "#        if i < length -1:\n",
    "#            gan = gan[:,:-4]  #맨마지막전까지 사인코사인삭제\n",
    "#            print(gan.shape)\n",
    "        real_df_all = pd.DataFrame(gan)\n",
    "    else:\n",
    "#        if i < length -1:\n",
    "#            gan = gan[:,:-4]  #맨마지막전까지 사인코사인삭제\n",
    "#            print(gan.shape)\n",
    "        real_df_all = pd.concat([real_df_all, pd.DataFrame(gan)], axis=1)"
   ]
  },
  {
   "cell_type": "code",
   "execution_count": null,
   "id": "offshore-evening",
   "metadata": {},
   "outputs": [],
   "source": []
  },
  {
   "cell_type": "code",
   "execution_count": 14,
   "id": "civilian-creator",
   "metadata": {},
   "outputs": [],
   "source": [
    "#-----------------------------------------------------------------------------------------------------------------\n",
    "#            RRRRRRRRRRRRRRRRRR          NNNNNN       NNNNNN      NNNNNN       NNNNNN\n",
    "#           RRRRRRRRRRRRRRRRRRRR        NNNNNNN      NNNNNN      NNNNNNN      NNNNNN\n",
    "#          RRRRRRR      RRRRRRRR       NNNNNNNN     NNNNNN      NNNNNNNN     NNNNNN\n",
    "#         RRRRRRR      RRRRRRRR       NNNNNNNNN    NNNNNN      NNNNNNNNN    NNNNNN\n",
    "#        RRRRRRRRRRRRRRRRRRRR        NNNNNNNNNN   NNNNNN      NNNNNNNNNN   NNNNNN\n",
    "#       RRRRRRRRRRRRRRRRR           NNNNNNNNNNN  NNNNNN      NNNNNNNNNNN  NNNNNN \n",
    "#      RRRRRRR     RRRRRRR         NNNNNNN NNNN NNNNNN      NNNNNNN NNNN NNNNNN\n",
    "#     RRRRRRR       RRRRRRR       NNNNNNN  NNNNNNNNNN      NNNNNNN  NNNNNNNNNN\n",
    "#    RRRRRRR        RRRRRRR      NNNNNNN   NNNNNNNNN      NNNNNNN   NNNNNNNNN\n",
    "#   RRRRRRR         RRRRRRR     NNNNNNN    NNNNNNNN      NNNNNNN    NNNNNNNN \n",
    "#  RRRRRRR         RRRRRRR     NNNNNNN     NNNNNNN      NNNNNNN     NNNNNNN\n",
    "#-----------------------------------------------------------------------------------------------------------------"
   ]
  },
  {
   "cell_type": "code",
   "execution_count": null,
   "id": "comprehensive-mission",
   "metadata": {},
   "outputs": [],
   "source": []
  },
  {
   "cell_type": "code",
   "execution_count": 14,
   "id": "technological-homework",
   "metadata": {
    "scrolled": true
   },
   "outputs": [
    {
     "name": "stdout",
     "output_type": "stream",
     "text": [
      "label_columns_indices:\n",
      "{'tmpr_value': 0, 'ph_value': 1, 'do_value': 2, 'ec_value': 3, 'toc_value': 4, '총질소_값': 5, '총인_값': 6, '클로로필-a_값': 7, 'Day sin': 8, 'Day cos': 9, 'Year sin': 10, 'Year cos': 11}\n",
      "target_col_idx :  6\n",
      "out_num_features :  1\n"
     ]
    }
   ],
   "source": [
    "label_columns_indices = {name: i for i, name in enumerate(dfff[0])}\n",
    "print(\"label_columns_indices:\")\n",
    "print(label_columns_indices)\n",
    "target_dic = {\"do\":\"do_value\", \"toc\":\"toc_value\", \"tn\":\"총질소_값\", \"tp\":\"총인_값\", \"chl-a\":\"클로로필-a_값\"}\n",
    "target_col_idx = label_columns_indices[target_dic[rnn_target_column]]\n",
    "out_features = [target_col_idx]\n",
    "out_num_features = len(out_features)\n",
    "\n",
    "print(\"target_col_idx : \", target_col_idx)\n",
    "print('out_num_features : ', out_num_features)"
   ]
  },
  {
   "cell_type": "code",
   "execution_count": 15,
   "id": "prime-fellow",
   "metadata": {},
   "outputs": [
    {
     "name": "stdout",
     "output_type": "stream",
     "text": [
      "(70128, 36)\n",
      "tp\n"
     ]
    }
   ],
   "source": [
    "print(real_df_all.shape)\n",
    "rnn_target_column = 'tp'\n",
    "print(rnn_target_column)\n",
    "\n",
    "#df_length = real_df_all.shape[0] - 3000\n",
    "df_length = real_df_all.shape[0]\n",
    "\n",
    "fake_df = real_df_all.iloc[:df_length,:]"
   ]
  },
  {
   "cell_type": "code",
   "execution_count": 16,
   "id": "nasty-canberra",
   "metadata": {},
   "outputs": [
    {
     "name": "stdout",
     "output_type": "stream",
     "text": [
      "train_df.shape :  (49089, 36) val_df.shape :  (14026, 36) test_df.shape: (7013, 36)\n"
     ]
    }
   ],
   "source": [
    "#train_df, val_df, test_df, test_df2 = dataset_slice(fake_df, 0.8, 0.1, 0.1)\n",
    "#teg_check = 'train=8, val=1, test=1'\n",
    "\n",
    "#train_df, test_df, val_df, test_df2 = dataset_slice(real_df_all, 0.8, 0.1, 0.1)\n",
    "#teg_check = 'train=8, test=1, val=1'\n",
    "\n",
    "#val_df, test_df,train_df, test_df2 = dataset_slice(real_df_all, 0.1, 0.1, 0.8)\n",
    "#teg_check = 'val=1, test=1, train=8'\n",
    "\n",
    "#test_df, val_df, train_df, test_df2 = dataset_slice(real_df_all, 0.1, 0.1, 0.8)\n",
    "#teg_check = 'test=1, val=1, train=8'\n",
    "\n",
    "#val_df, train_df, test_df, test_df2 = dataset_slice(real_df_all, 0.1, 0.8, 0.1)\n",
    "#teg_check = 'val=1, train=8, test=1'\n",
    "\n",
    "#test_df, train_df, val_df, test_df2 = dataset_slice(real_df_all, 0.1, 0.8, 0.1)\n",
    "#teg_check = 'test=1, train=8, val=1'\n",
    "\n",
    "train_df, test_df, val_df, test_df2 = dataset_slice(real_df_all, 0.7, 0.1, 0.2)\n",
    "teg_check = 'train=7, test=1, val=2'\n",
    "\n",
    "print('train_df.shape : ', train_df.shape, 'val_df.shape : ', val_df.shape, 'test_df.shape:' ,test_df.shape)"
   ]
  },
  {
   "cell_type": "code",
   "execution_count": 17,
   "id": "academic-planner",
   "metadata": {},
   "outputs": [],
   "source": [
    "#fake_df.shape[0]/8760"
   ]
  },
  {
   "cell_type": "code",
   "execution_count": 18,
   "id": "settled-devices",
   "metadata": {},
   "outputs": [
    {
     "data": {
      "application/vnd.jupyter.widget-view+json": {
       "model_id": "1c60a0f37f6543e69c4c8df0387d22ad",
       "version_major": 2,
       "version_minor": 0
      },
      "text/plain": [
       "Canvas(toolbar=Toolbar(toolitems=[('Home', 'Reset original view', 'home', 'home'), ('Back', 'Back to previous …"
      ]
     },
     "metadata": {},
     "output_type": "display_data"
    }
   ],
   "source": [
    "plt.figure()\n",
    "plt.plot(real_df_all.iloc[:, out_features[0]])\n",
    "plt.show()"
   ]
  },
  {
   "cell_type": "code",
   "execution_count": 19,
   "id": "compressed-resolution",
   "metadata": {},
   "outputs": [
    {
     "data": {
      "application/vnd.jupyter.widget-view+json": {
       "model_id": "05c317b86f6840848cbb56aea1e583a4",
       "version_major": 2,
       "version_minor": 0
      },
      "text/plain": [
       "Canvas(toolbar=Toolbar(toolitems=[('Home', 'Reset original view', 'home', 'home'), ('Back', 'Back to previous …"
      ]
     },
     "metadata": {},
     "output_type": "display_data"
    },
    {
     "data": {
      "text/plain": [
       "[<matplotlib.lines.Line2D at 0x7f17a4264050>]"
      ]
     },
     "execution_count": 19,
     "metadata": {},
     "output_type": "execute_result"
    }
   ],
   "source": [
    "plt.figure()\n",
    "plt.plot(val_df.iloc[:, out_features[0]])"
   ]
  },
  {
   "cell_type": "code",
   "execution_count": 20,
   "id": "sought-radar",
   "metadata": {},
   "outputs": [
    {
     "name": "stdout",
     "output_type": "stream",
     "text": [
      "label_columns_indices:\n",
      "{'tmpr_value': 0, 'ph_value': 1, 'do_value': 2, 'ec_value': 3, 'toc_value': 4, '총질소_값': 5, '총인_값': 6, '클로로필-a_값': 7, 'Day sin': 8, 'Day cos': 9, 'Year sin': 10, 'Year cos': 11}\n"
     ]
    }
   ],
   "source": [
    "label_columns_indices = {name: i for i, name in enumerate(dfff[0])}\n",
    "print(\"label_columns_indices:\")\n",
    "print(label_columns_indices)\n",
    "target_dic = {\"do\":\"do_value\", \"toc\":\"toc_value\", \"tn\":\"총질소_값\", \"tp\":\"총인_값\", \"chl-a\":\"클로로필-a_값\"}"
   ]
  },
  {
   "cell_type": "code",
   "execution_count": null,
   "id": "capable-discipline",
   "metadata": {},
   "outputs": [],
   "source": []
  },
  {
   "cell_type": "code",
   "execution_count": 21,
   "id": "imposed-stake",
   "metadata": {},
   "outputs": [
    {
     "name": "stdout",
     "output_type": "stream",
     "text": [
      "target_col_idx :  6\n",
      "out_num_features :  1\n"
     ]
    }
   ],
   "source": [
    "target_col_idx = label_columns_indices[target_dic[rnn_target_column]]\n",
    "out_features = [target_col_idx]\n",
    "out_num_features = len(out_features)\n",
    "\n",
    "print(\"target_col_idx : \", target_col_idx)\n",
    "print('out_num_features : ', out_num_features)"
   ]
  },
  {
   "cell_type": "code",
   "execution_count": 22,
   "id": "cloudy-postcard",
   "metadata": {},
   "outputs": [],
   "source": [
    "idx = [2, 4, 5, 6, 7]\n",
    "pa = [\"do/\", \"toc/\", \"nitrogen/\", \"phosphorus/\", \"chlorophyll-a/\"]\n",
    "indices = {name: i for i, name in enumerate(idx)}"
   ]
  },
  {
   "cell_type": "code",
   "execution_count": 23,
   "id": "transsexual-grace",
   "metadata": {},
   "outputs": [
    {
     "name": "stdout",
     "output_type": "stream",
     "text": [
      "save model path :  save/nak/models/nak_auto_13/phosphorus/\n"
     ]
    }
   ],
   "source": [
    "WindowGenerator.make_dataset = make_dataset_water\n",
    "multi_window = WindowGenerator(\n",
    "    input_width=rnn_in_setps,label_width=rnn_out_steps, shift=rnn_out_steps,out_features=out_features,\n",
    "    out_num_features=out_num_features,label_columns=dfff[0].columns, batch_size=rnn_batch_size,\n",
    "    train_df=train_df, val_df=val_df, test_df=test_df, test_df2=test_df2)\n",
    "\n",
    "model_path = \"save/\" + watershed + \"models/\" + file_parameters['watershed'] + '/'+  pa[indices[target_col_idx]]\n",
    "print(\"save model path : \", model_path)\n",
    "\n",
    "if __RNN_TRAINING__:\n",
    "    #if not os.path.exists('save/' + watershed):\n",
    "    #    os.makedirs('save/' + watershed)\n",
    "    if not os.path.exists(model_path):\n",
    "        os.makedirs(model_path)"
   ]
  },
  {
   "cell_type": "code",
   "execution_count": 24,
   "id": "competitive-battery",
   "metadata": {},
   "outputs": [],
   "source": [
    "#\"save/\" + watershed + \"models/\" + file_parameters['watershed'] + '/' + pa[indices[target_col_idx]]\n",
    "#model_path"
   ]
  },
  {
   "cell_type": "code",
   "execution_count": 26,
   "id": "super-medicaid",
   "metadata": {},
   "outputs": [
    {
     "data": {
      "text/plain": [
       "20"
      ]
     },
     "execution_count": 26,
     "metadata": {},
     "output_type": "execute_result"
    }
   ],
   "source": [
    "rnn_epochs"
   ]
  },
  {
   "cell_type": "markdown",
   "id": "ranking-commander",
   "metadata": {},
   "source": [
    "## 모델 학습"
   ]
  },
  {
   "cell_type": "code",
   "execution_count": 25,
   "id": "closing-beads",
   "metadata": {
    "scrolled": false
   },
   "outputs": [
    {
     "name": "stdout",
     "output_type": "stream",
     "text": [
      "WARNING:tensorflow:Layer gru will not use cuDNN kernel since it doesn't meet the cuDNN kernel criteria. It will use generic GPU kernel as fallback when running on GPU\n",
      "WARNING:tensorflow:Layer gru_1 will not use cuDNN kernel since it doesn't meet the cuDNN kernel criteria. It will use generic GPU kernel as fallback when running on GPU\n",
      "WARNING:tensorflow:`period` argument is deprecated. Please use `save_freq` to specify the frequency in number of batches seen.\n",
      "Epoch 1/50\n",
      "10/10 [==============================] - ETA: 0s - loss: 1.1729 - mean_absolute_error: 0.5357 - nse: 0.2350\n",
      "Epoch 00001: val_nse improved from -inf to 0.16984, saving model to save/best_model.h5\n",
      "10/10 [==============================] - 10s 1s/step - loss: 1.1729 - mean_absolute_error: 0.5357 - nse: 0.2350 - val_loss: 0.5212 - val_mean_absolute_error: 0.5123 - val_nse: 0.1698\n",
      "Epoch 2/50\n",
      "10/10 [==============================] - ETA: 0s - loss: 1.1954 - mean_absolute_error: 0.3950 - nse: 0.4102\n",
      "Epoch 00002: val_nse improved from 0.16984 to 0.27047, saving model to save/best_model.h5\n",
      "10/10 [==============================] - 10s 1s/step - loss: 1.1954 - mean_absolute_error: 0.3950 - nse: 0.4102 - val_loss: 0.4581 - val_mean_absolute_error: 0.4798 - val_nse: 0.2705\n",
      "Epoch 3/50\n",
      "10/10 [==============================] - ETA: 0s - loss: 0.8569 - mean_absolute_error: 0.3519 - nse: 0.5283\n",
      "Epoch 00003: val_nse improved from 0.27047 to 0.38917, saving model to save/best_model.h5\n",
      "10/10 [==============================] - 10s 993ms/step - loss: 0.8569 - mean_absolute_error: 0.3519 - nse: 0.5283 - val_loss: 0.3831 - val_mean_absolute_error: 0.4219 - val_nse: 0.3892\n",
      "Epoch 4/50\n",
      "10/10 [==============================] - ETA: 0s - loss: 1.1112 - mean_absolute_error: 0.3446 - nse: 0.5071\n",
      "Epoch 00004: val_nse improved from 0.38917 to 0.48187, saving model to save/best_model.h5\n",
      "10/10 [==============================] - 10s 1000ms/step - loss: 1.1112 - mean_absolute_error: 0.3446 - nse: 0.5071 - val_loss: 0.3272 - val_mean_absolute_error: 0.3827 - val_nse: 0.4819\n",
      "Epoch 5/50\n",
      "10/10 [==============================] - ETA: 0s - loss: 1.6229 - mean_absolute_error: 0.3446 - nse: 0.4455\n",
      "Epoch 00005: val_nse improved from 0.48187 to 0.54540, saving model to save/best_model.h5\n",
      "10/10 [==============================] - 10s 1000ms/step - loss: 1.6229 - mean_absolute_error: 0.3446 - nse: 0.4455 - val_loss: 0.2895 - val_mean_absolute_error: 0.3665 - val_nse: 0.5454\n",
      "Epoch 6/50\n",
      "10/10 [==============================] - ETA: 0s - loss: 0.5504 - mean_absolute_error: 0.3244 - nse: 0.6076\n",
      "Epoch 00006: val_nse improved from 0.54540 to 0.57899, saving model to save/best_model.h5\n",
      "10/10 [==============================] - 10s 1s/step - loss: 0.5504 - mean_absolute_error: 0.3244 - nse: 0.6076 - val_loss: 0.2678 - val_mean_absolute_error: 0.3535 - val_nse: 0.5790\n",
      "Epoch 7/50\n",
      "10/10 [==============================] - ETA: 0s - loss: 1.9104 - mean_absolute_error: 0.3463 - nse: 0.4050\n",
      "Epoch 00007: val_nse did not improve from 0.57899\n",
      "10/10 [==============================] - 10s 987ms/step - loss: 1.9104 - mean_absolute_error: 0.3463 - nse: 0.4050 - val_loss: 0.3051 - val_mean_absolute_error: 0.3728 - val_nse: 0.5170\n",
      "Epoch 8/50\n",
      "10/10 [==============================] - ETA: 0s - loss: 1.0573 - mean_absolute_error: 0.3153 - nse: 0.5213\n",
      "Epoch 00008: val_nse did not improve from 0.57899\n",
      "10/10 [==============================] - 10s 991ms/step - loss: 1.0573 - mean_absolute_error: 0.3153 - nse: 0.5213 - val_loss: 0.2872 - val_mean_absolute_error: 0.3541 - val_nse: 0.5478\n",
      "Epoch 9/50\n",
      "10/10 [==============================] - ETA: 0s - loss: 1.6923 - mean_absolute_error: 0.3099 - nse: 0.4495\n",
      "Epoch 00009: val_nse did not improve from 0.57899\n",
      "10/10 [==============================] - 10s 990ms/step - loss: 1.6923 - mean_absolute_error: 0.3099 - nse: 0.4495 - val_loss: 0.3090 - val_mean_absolute_error: 0.3720 - val_nse: 0.5111\n",
      "Epoch 10/50\n",
      "10/10 [==============================] - ETA: 0s - loss: 1.3541 - mean_absolute_error: 0.3315 - nse: 0.4874\n",
      "Epoch 00010: val_nse did not improve from 0.57899\n",
      "10/10 [==============================] - 10s 995ms/step - loss: 1.3541 - mean_absolute_error: 0.3315 - nse: 0.4874 - val_loss: 0.2933 - val_mean_absolute_error: 0.3516 - val_nse: 0.5365\n",
      "Epoch 11/50\n",
      "10/10 [==============================] - ETA: 0s - loss: 1.0662 - mean_absolute_error: 0.3164 - nse: 0.5088\n",
      "Epoch 00011: val_nse improved from 0.57899 to 0.58403, saving model to save/best_model.h5\n",
      "10/10 [==============================] - 10s 995ms/step - loss: 1.0662 - mean_absolute_error: 0.3164 - nse: 0.5088 - val_loss: 0.2650 - val_mean_absolute_error: 0.3357 - val_nse: 0.5840\n",
      "Epoch 12/50\n",
      "10/10 [==============================] - ETA: 0s - loss: 0.5299 - mean_absolute_error: 0.3176 - nse: 0.6266\n",
      "Epoch 00012: val_nse did not improve from 0.58403\n",
      "10/10 [==============================] - 10s 1s/step - loss: 0.5299 - mean_absolute_error: 0.3176 - nse: 0.6266 - val_loss: 0.2918 - val_mean_absolute_error: 0.3462 - val_nse: 0.5387\n",
      "Epoch 13/50\n",
      "10/10 [==============================] - ETA: 0s - loss: 1.0815 - mean_absolute_error: 0.3212 - nse: 0.5837\n",
      "Epoch 00013: val_nse did not improve from 0.58403\n",
      "10/10 [==============================] - 10s 996ms/step - loss: 1.0815 - mean_absolute_error: 0.3212 - nse: 0.5837 - val_loss: 0.3176 - val_mean_absolute_error: 0.3679 - val_nse: 0.4967\n",
      "Epoch 14/50\n",
      "10/10 [==============================] - ETA: 0s - loss: 0.7804 - mean_absolute_error: 0.2971 - nse: 0.6041\n",
      "Epoch 00014: val_nse did not improve from 0.58403\n",
      "10/10 [==============================] - 10s 997ms/step - loss: 0.7804 - mean_absolute_error: 0.2971 - nse: 0.6041 - val_loss: 0.2833 - val_mean_absolute_error: 0.3484 - val_nse: 0.5537\n",
      "Epoch 15/50\n",
      "10/10 [==============================] - ETA: 0s - loss: 1.0753 - mean_absolute_error: 0.3137 - nse: 0.6029\n",
      "Epoch 00015: val_nse did not improve from 0.58403\n",
      "10/10 [==============================] - 10s 988ms/step - loss: 1.0753 - mean_absolute_error: 0.3137 - nse: 0.6029 - val_loss: 0.3089 - val_mean_absolute_error: 0.3640 - val_nse: 0.5126\n",
      "Epoch 16/50\n",
      "10/10 [==============================] - ETA: 0s - loss: 1.0605 - mean_absolute_error: 0.3228 - nse: 0.5675\n",
      "Epoch 00016: val_nse did not improve from 0.58403\n",
      "10/10 [==============================] - 10s 999ms/step - loss: 1.0605 - mean_absolute_error: 0.3228 - nse: 0.5675 - val_loss: 0.3455 - val_mean_absolute_error: 0.3856 - val_nse: 0.4534\n",
      "Epoch 17/50\n",
      "10/10 [==============================] - ETA: 0s - loss: 1.2933 - mean_absolute_error: 0.3154 - nse: 0.5549\n",
      "Epoch 00017: val_nse did not improve from 0.58403\n",
      "10/10 [==============================] - 10s 998ms/step - loss: 1.2933 - mean_absolute_error: 0.3154 - nse: 0.5549 - val_loss: 0.3911 - val_mean_absolute_error: 0.4100 - val_nse: 0.3808\n",
      "Epoch 18/50\n",
      "10/10 [==============================] - ETA: 0s - loss: 0.7582 - mean_absolute_error: 0.3022 - nse: 0.6091\n",
      "Epoch 00018: val_nse did not improve from 0.58403\n",
      "10/10 [==============================] - 10s 989ms/step - loss: 0.7582 - mean_absolute_error: 0.3022 - nse: 0.6091 - val_loss: 0.4562 - val_mean_absolute_error: 0.4347 - val_nse: 0.2715\n",
      "Epoch 19/50\n",
      "10/10 [==============================] - ETA: 0s - loss: 2.1032 - mean_absolute_error: 0.3371 - nse: 0.4777\n",
      "Epoch 00019: val_nse did not improve from 0.58403\n",
      "10/10 [==============================] - 10s 991ms/step - loss: 2.1032 - mean_absolute_error: 0.3371 - nse: 0.4777 - val_loss: 0.3029 - val_mean_absolute_error: 0.3578 - val_nse: 0.5228\n",
      "Epoch 20/50\n",
      "10/10 [==============================] - ETA: 0s - loss: 0.4801 - mean_absolute_error: 0.2890 - nse: 0.6868\n",
      "Epoch 00020: val_nse did not improve from 0.58403\n",
      "10/10 [==============================] - 10s 983ms/step - loss: 0.4801 - mean_absolute_error: 0.2890 - nse: 0.6868 - val_loss: 0.2838 - val_mean_absolute_error: 0.3511 - val_nse: 0.5537\n",
      "Epoch 21/50\n",
      "10/10 [==============================] - ETA: 0s - loss: 1.2919 - mean_absolute_error: 0.2978 - nse: 0.5594\n",
      "Epoch 00021: val_nse did not improve from 0.58403\n",
      "10/10 [==============================] - 10s 990ms/step - loss: 1.2919 - mean_absolute_error: 0.2978 - nse: 0.5594 - val_loss: 0.3570 - val_mean_absolute_error: 0.4101 - val_nse: 0.4344\n"
     ]
    },
    {
     "name": "stdout",
     "output_type": "stream",
     "text": [
      "Epoch 22/50\n",
      "10/10 [==============================] - ETA: 0s - loss: 0.8978 - mean_absolute_error: 0.3060 - nse: 0.5709\n",
      "Epoch 00022: val_nse did not improve from 0.58403\n",
      "10/10 [==============================] - 10s 1s/step - loss: 0.8978 - mean_absolute_error: 0.3060 - nse: 0.5709 - val_loss: 0.3955 - val_mean_absolute_error: 0.4189 - val_nse: 0.3715\n",
      "Epoch 23/50\n",
      "10/10 [==============================] - ETA: 0s - loss: 1.3102 - mean_absolute_error: 0.3086 - nse: 0.5887\n",
      "Epoch 00023: val_nse did not improve from 0.58403\n",
      "10/10 [==============================] - 10s 994ms/step - loss: 1.3102 - mean_absolute_error: 0.3086 - nse: 0.5887 - val_loss: 0.3703 - val_mean_absolute_error: 0.3833 - val_nse: 0.4144\n",
      "Epoch 24/50\n",
      "10/10 [==============================] - ETA: 0s - loss: 0.2413 - mean_absolute_error: 0.2943 - nse: 0.7082\n",
      "Epoch 00024: val_nse did not improve from 0.58403\n",
      "10/10 [==============================] - 10s 990ms/step - loss: 0.2413 - mean_absolute_error: 0.2943 - nse: 0.7082 - val_loss: 0.3536 - val_mean_absolute_error: 0.3764 - val_nse: 0.4404\n",
      "Epoch 25/50\n",
      "10/10 [==============================] - ETA: 0s - loss: 0.5129 - mean_absolute_error: 0.3054 - nse: 0.6752\n",
      "Epoch 00025: val_nse did not improve from 0.58403\n",
      "10/10 [==============================] - 10s 991ms/step - loss: 0.5129 - mean_absolute_error: 0.3054 - nse: 0.6752 - val_loss: 0.4903 - val_mean_absolute_error: 0.4604 - val_nse: 0.2198\n",
      "Epoch 26/50\n",
      "10/10 [==============================] - ETA: 0s - loss: 0.9991 - mean_absolute_error: 0.2931 - nse: 0.6791\n",
      "Epoch 00026: val_nse did not improve from 0.58403\n",
      "10/10 [==============================] - 10s 992ms/step - loss: 0.9991 - mean_absolute_error: 0.2931 - nse: 0.6791 - val_loss: 0.6019 - val_mean_absolute_error: 0.4814 - val_nse: 0.0409\n",
      "Epoch 27/50\n",
      "10/10 [==============================] - ETA: 0s - loss: 0.2099 - mean_absolute_error: 0.2807 - nse: 0.7256\n",
      "Epoch 00027: val_nse did not improve from 0.58403\n",
      "10/10 [==============================] - 10s 1s/step - loss: 0.2099 - mean_absolute_error: 0.2807 - nse: 0.7256 - val_loss: 0.3667 - val_mean_absolute_error: 0.3931 - val_nse: 0.4191\n",
      "Epoch 28/50\n",
      "10/10 [==============================] - ETA: 0s - loss: 1.3016 - mean_absolute_error: 0.3008 - nse: 0.5222\n",
      "Epoch 00028: val_nse did not improve from 0.58403\n",
      "10/10 [==============================] - 10s 984ms/step - loss: 1.3016 - mean_absolute_error: 0.3008 - nse: 0.5222 - val_loss: 0.4906 - val_mean_absolute_error: 0.4525 - val_nse: 0.2185\n",
      "Epoch 29/50\n",
      "10/10 [==============================] - ETA: 0s - loss: 1.0227 - mean_absolute_error: 0.2931 - nse: 0.5753\n",
      "Epoch 00029: val_nse did not improve from 0.58403\n",
      "10/10 [==============================] - 10s 992ms/step - loss: 1.0227 - mean_absolute_error: 0.2931 - nse: 0.5753 - val_loss: 0.6240 - val_mean_absolute_error: 0.5131 - val_nse: 0.0077\n",
      "Epoch 30/50\n",
      "10/10 [==============================] - ETA: 0s - loss: 0.4703 - mean_absolute_error: 0.2833 - nse: 0.6892\n",
      "Epoch 00030: val_nse did not improve from 0.58403\n",
      "10/10 [==============================] - 10s 991ms/step - loss: 0.4703 - mean_absolute_error: 0.2833 - nse: 0.6892 - val_loss: 0.4372 - val_mean_absolute_error: 0.4160 - val_nse: 0.3073\n",
      "Epoch 31/50\n",
      "10/10 [==============================] - ETA: 0s - loss: 1.7808 - mean_absolute_error: 0.3002 - nse: 0.4770\n",
      "Epoch 00031: val_nse did not improve from 0.58403\n",
      "10/10 [==============================] - 10s 983ms/step - loss: 1.7808 - mean_absolute_error: 0.3002 - nse: 0.4770 - val_loss: 0.4892 - val_mean_absolute_error: 0.4407 - val_nse: 0.2213\n",
      "Epoch 32/50\n",
      "10/10 [==============================] - ETA: 0s - loss: 1.5480 - mean_absolute_error: 0.3105 - nse: 0.5158\n",
      "Epoch 00032: val_nse did not improve from 0.58403\n",
      "10/10 [==============================] - 10s 993ms/step - loss: 1.5480 - mean_absolute_error: 0.3105 - nse: 0.5158 - val_loss: 0.5539 - val_mean_absolute_error: 0.4652 - val_nse: 0.1211\n",
      "Epoch 33/50\n",
      "10/10 [==============================] - ETA: 0s - loss: 1.2228 - mean_absolute_error: 0.2896 - nse: 0.5277\n",
      "Epoch 00033: val_nse did not improve from 0.58403\n",
      "10/10 [==============================] - 10s 979ms/step - loss: 1.2228 - mean_absolute_error: 0.2896 - nse: 0.5277 - val_loss: 0.6873 - val_mean_absolute_error: 0.5063 - val_nse: -0.0947\n",
      "Epoch 34/50\n",
      "10/10 [==============================] - ETA: 0s - loss: 0.7006 - mean_absolute_error: 0.2763 - nse: 0.6691\n",
      "Epoch 00034: val_nse did not improve from 0.58403\n",
      "10/10 [==============================] - 10s 965ms/step - loss: 0.7006 - mean_absolute_error: 0.2763 - nse: 0.6691 - val_loss: 0.4716 - val_mean_absolute_error: 0.4174 - val_nse: 0.2478\n",
      "Epoch 35/50\n",
      "10/10 [==============================] - ETA: 0s - loss: 1.4860 - mean_absolute_error: 0.3054 - nse: 0.5222\n",
      "Epoch 00035: val_nse did not improve from 0.58403\n",
      "10/10 [==============================] - 10s 985ms/step - loss: 1.4860 - mean_absolute_error: 0.3054 - nse: 0.5222 - val_loss: 0.5407 - val_mean_absolute_error: 0.4475 - val_nse: 0.1411\n",
      "Epoch 36/50\n",
      "10/10 [==============================] - ETA: 0s - loss: 0.2097 - mean_absolute_error: 0.2734 - nse: 0.7516\n",
      "Epoch 00036: val_nse did not improve from 0.58403\n",
      "10/10 [==============================] - 10s 987ms/step - loss: 0.2097 - mean_absolute_error: 0.2734 - nse: 0.7516 - val_loss: 0.5866 - val_mean_absolute_error: 0.4600 - val_nse: 0.0667\n",
      "Epoch 37/50\n",
      "10/10 [==============================] - ETA: 0s - loss: 1.4809 - mean_absolute_error: 0.2893 - nse: 0.5489\n",
      "Epoch 00037: val_nse did not improve from 0.58403\n",
      "10/10 [==============================] - 10s 969ms/step - loss: 1.4809 - mean_absolute_error: 0.2893 - nse: 0.5489 - val_loss: 0.5132 - val_mean_absolute_error: 0.4367 - val_nse: 0.1838\n",
      "Epoch 38/50\n",
      "10/10 [==============================] - ETA: 0s - loss: 1.4720 - mean_absolute_error: 0.2807 - nse: 0.5171\n",
      "Epoch 00038: val_nse did not improve from 0.58403\n",
      "10/10 [==============================] - 10s 979ms/step - loss: 1.4720 - mean_absolute_error: 0.2807 - nse: 0.5171 - val_loss: 0.5601 - val_mean_absolute_error: 0.4482 - val_nse: 0.1124\n",
      "Epoch 39/50\n",
      "10/10 [==============================] - ETA: 0s - loss: 1.2152 - mean_absolute_error: 0.2836 - nse: 0.6109\n",
      "Epoch 00039: val_nse did not improve from 0.58403\n",
      "10/10 [==============================] - 10s 979ms/step - loss: 1.2152 - mean_absolute_error: 0.2836 - nse: 0.6109 - val_loss: 0.6807 - val_mean_absolute_error: 0.4956 - val_nse: -0.0813\n",
      "Epoch 40/50\n",
      "10/10 [==============================] - ETA: 0s - loss: 0.9474 - mean_absolute_error: 0.2800 - nse: 0.6129\n",
      "Epoch 00040: val_nse did not improve from 0.58403\n",
      "10/10 [==============================] - 10s 974ms/step - loss: 0.9474 - mean_absolute_error: 0.2800 - nse: 0.6129 - val_loss: 0.5223 - val_mean_absolute_error: 0.4280 - val_nse: 0.1663\n",
      "Epoch 41/50\n",
      "10/10 [==============================] - ETA: 0s - loss: 0.6711 - mean_absolute_error: 0.2647 - nse: 0.6898\n",
      "Epoch 00041: val_nse did not improve from 0.58403\n",
      "10/10 [==============================] - 10s 973ms/step - loss: 0.6711 - mean_absolute_error: 0.2647 - nse: 0.6898 - val_loss: 0.6286 - val_mean_absolute_error: 0.4668 - val_nse: 0.0045\n",
      "Epoch 42/50\n",
      "10/10 [==============================] - ETA: 0s - loss: 0.9303 - mean_absolute_error: 0.2700 - nse: 0.6203\n",
      "Epoch 00042: val_nse did not improve from 0.58403\n",
      "10/10 [==============================] - 10s 975ms/step - loss: 0.9303 - mean_absolute_error: 0.2700 - nse: 0.6203 - val_loss: 0.5438 - val_mean_absolute_error: 0.4288 - val_nse: 0.1389\n",
      "Epoch 43/50\n",
      "10/10 [==============================] - ETA: 0s - loss: 1.2060 - mean_absolute_error: 0.2822 - nse: 0.6492\n",
      "Epoch 00043: val_nse did not improve from 0.58403\n",
      "10/10 [==============================] - 10s 981ms/step - loss: 1.2060 - mean_absolute_error: 0.2822 - nse: 0.6492 - val_loss: 0.6404 - val_mean_absolute_error: 0.4671 - val_nse: -0.0245\n",
      "Epoch 44/50\n",
      "10/10 [==============================] - ETA: 0s - loss: 0.6859 - mean_absolute_error: 0.2644 - nse: 0.6646\n",
      "Epoch 00044: val_nse did not improve from 0.58403\n",
      "10/10 [==============================] - 10s 988ms/step - loss: 0.6859 - mean_absolute_error: 0.2644 - nse: 0.6646 - val_loss: 0.6013 - val_mean_absolute_error: 0.4665 - val_nse: 0.0442\n",
      "Epoch 45/50\n"
     ]
    },
    {
     "name": "stdout",
     "output_type": "stream",
     "text": [
      "10/10 [==============================] - ETA: 0s - loss: 1.7500 - mean_absolute_error: 0.2965 - nse: 0.4908\n",
      "Epoch 00045: val_nse did not improve from 0.58403\n",
      "10/10 [==============================] - 10s 986ms/step - loss: 1.7500 - mean_absolute_error: 0.2965 - nse: 0.4908 - val_loss: 0.5745 - val_mean_absolute_error: 0.4595 - val_nse: 0.0888\n",
      "Epoch 46/50\n",
      "10/10 [==============================] - ETA: 0s - loss: 0.9580 - mean_absolute_error: 0.2841 - nse: 0.5949\n",
      "Epoch 00046: val_nse did not improve from 0.58403\n",
      "10/10 [==============================] - 10s 978ms/step - loss: 0.9580 - mean_absolute_error: 0.2841 - nse: 0.5949 - val_loss: 0.4225 - val_mean_absolute_error: 0.3834 - val_nse: 0.3316\n",
      "Epoch 47/50\n",
      "10/10 [==============================] - ETA: 0s - loss: 1.3075 - mean_absolute_error: 0.2685 - nse: 0.6332\n",
      "Epoch 00047: val_nse did not improve from 0.58403\n",
      "10/10 [==============================] - 10s 978ms/step - loss: 1.3075 - mean_absolute_error: 0.2685 - nse: 0.6332 - val_loss: 0.5362 - val_mean_absolute_error: 0.4305 - val_nse: 0.1517\n",
      "Epoch 48/50\n",
      "10/10 [==============================] - ETA: 0s - loss: 1.2249 - mean_absolute_error: 0.2832 - nse: 0.5626\n",
      "Epoch 00048: val_nse did not improve from 0.58403\n",
      "10/10 [==============================] - 10s 983ms/step - loss: 1.2249 - mean_absolute_error: 0.2832 - nse: 0.5626 - val_loss: 0.4733 - val_mean_absolute_error: 0.4140 - val_nse: 0.2512\n",
      "Epoch 49/50\n",
      "10/10 [==============================] - ETA: 0s - loss: 1.2273 - mean_absolute_error: 0.2902 - nse: 0.6068\n",
      "Epoch 00049: val_nse did not improve from 0.58403\n",
      "10/10 [==============================] - 10s 993ms/step - loss: 1.2273 - mean_absolute_error: 0.2902 - nse: 0.6068 - val_loss: 0.4682 - val_mean_absolute_error: 0.4104 - val_nse: 0.2538\n",
      "Epoch 50/50\n",
      "10/10 [==============================] - ETA: 0s - loss: 0.1666 - mean_absolute_error: 0.2657 - nse: 0.7935\n",
      "Epoch 00050: val_nse did not improve from 0.58403\n",
      "10/10 [==============================] - 10s 977ms/step - loss: 0.1666 - mean_absolute_error: 0.2657 - nse: 0.7935 - val_loss: 0.5617 - val_mean_absolute_error: 0.4339 - val_nse: 0.1142\n"
     ]
    }
   ],
   "source": [
    "gru_model = model_gru(\n",
    "    #window=multi_window, OUT_STEPS=rnn_out_steps, out_num_features=out_num_features, epochs=rnn_epochs,\n",
    "    window=multi_window, OUT_STEPS=rnn_out_steps, out_num_features=out_num_features, epochs=50,\n",
    "    training_flag=__RNN_TRAINING__, checkpoint_path=model_path+\"gru.ckpt\")"
   ]
  },
  {
   "cell_type": "markdown",
   "id": "tender-attack",
   "metadata": {},
   "source": [
    "## core / window.py / "
   ]
  },
  {
   "cell_type": "code",
   "execution_count": 26,
   "id": "smooth-wilson",
   "metadata": {
    "scrolled": false
   },
   "outputs": [
    {
     "data": {
      "application/vnd.jupyter.widget-view+json": {
       "model_id": "76b6dfd4e3e947f29bdec2688e935d68",
       "version_major": 2,
       "version_minor": 0
      },
      "text/plain": [
       "Canvas(toolbar=Toolbar(toolitems=[('Home', 'Reset original view', 'home', 'home'), ('Back', 'Back to previous …"
      ]
     },
     "metadata": {},
     "output_type": "display_data"
    },
    {
     "name": "stdout",
     "output_type": "stream",
     "text": [
      "o1 :  0.0206734\n",
      "predict_day :  5\n",
      "------------------------\n",
      "0.006156568 9.458441e-05 0.0097254515\n",
      "nse3 :  [0.48433334]\n",
      "pbias3 :  [-5.0740266]\n",
      "save/nak/models/nak_auto_13/phosphorus/\n",
      "year : 2013 ~ 2020\n",
      "run :  range(0, 1)\n",
      "target :  tp\n",
      "length :  70128\n",
      "train=7, test=1, val=2\n",
      "---------------\n",
      "[0.48433334]\n",
      "[5.0740266]\n"
     ]
    }
   ],
   "source": [
    "val_nse = {}\n",
    "val_pbias = {}\n",
    "val_nse['GRU'], val_pbias['GRU'], pred, label = compa(\n",
    "    model=gru_model,df=val_df, plot_col=out_features[0], target_std=target_std, target_mean=target_mean,\n",
    "    #predict_day = rnn_predict_day)\n",
    "    predict_day = 4)\n",
    "print(model_path)\n",
    "print(\"year : \" + start_year + \" ~ \"+ end_year)\n",
    "print('run : ', run_num)\n",
    "print('target : ', rnn_target_column)\n",
    "print(\"length : \",df_length)\n",
    "print(teg_check)\n",
    "print(\"---------------\")\n",
    "print(val_nse['GRU'])\n",
    "print(val_pbias['GRU'])"
   ]
  },
  {
   "cell_type": "code",
   "execution_count": 27,
   "id": "enhanced-amount",
   "metadata": {},
   "outputs": [
    {
     "data": {
      "application/vnd.jupyter.widget-view+json": {
       "model_id": "757b83ef74a34223a2fdf6f4b59c75fa",
       "version_major": 2,
       "version_minor": 0
      },
      "text/plain": [
       "Canvas(toolbar=Toolbar(toolitems=[('Home', 'Reset original view', 'home', 'home'), ('Back', 'Back to previous …"
      ]
     },
     "metadata": {},
     "output_type": "display_data"
    },
    {
     "name": "stdout",
     "output_type": "stream",
     "text": [
      "o1 :  0.019663975\n",
      "predict_day :  5\n",
      "------------------------\n",
      "0.0056578694 0.00014925754 0.012217101\n",
      "nse3 :  [0.4854462]\n",
      "pbias3 :  [2.646158]\n",
      "save/nak/models/nak_auto_13/phosphorus/\n",
      "year : 2013 ~ 2020\n",
      "run :  range(0, 1)\n",
      "target :  tp\n",
      "length :  70128\n",
      "train=7, test=1, val=2\n",
      "---------------\n",
      "[0.4854462]\n",
      "[2.646158]\n"
     ]
    }
   ],
   "source": [
    "val_nse = {}\n",
    "val_pbias = {}\n",
    "val_nse['GRU'], val_pbias['GRU'], pred, label = compa(\n",
    "    model=gru_model,df=real_df_all, plot_col=out_features[0], target_std=target_std, target_mean=target_mean,\n",
    "    #predict_day = rnn_predict_day)\n",
    "    predict_day = 4)\n",
    "print(model_path)\n",
    "print(\"year : \" + start_year + \" ~ \"+ end_year)\n",
    "print('run : ', run_num)\n",
    "print('target : ', rnn_target_column)\n",
    "print(\"length : \",df_length)\n",
    "print(teg_check)\n",
    "print(\"---------------\")\n",
    "print(val_nse['GRU'])\n",
    "print(val_pbias['GRU'])"
   ]
  },
  {
   "cell_type": "code",
   "execution_count": 40,
   "id": "respective-buying",
   "metadata": {},
   "outputs": [],
   "source": [
    "#train_df.shape, val_df.shape, test_df.shape"
   ]
  },
  {
   "cell_type": "code",
   "execution_count": 41,
   "id": "primary-polyester",
   "metadata": {},
   "outputs": [
    {
     "ename": "NameError",
     "evalue": "name 'stop' is not defined",
     "output_type": "error",
     "traceback": [
      "\u001b[0;31m---------------------------------------------------------------------------\u001b[0m",
      "\u001b[0;31mNameError\u001b[0m                                 Traceback (most recent call last)",
      "\u001b[0;32m<ipython-input-41-e3eef677e2c5>\u001b[0m in \u001b[0;36m<module>\u001b[0;34m\u001b[0m\n\u001b[1;32m     13\u001b[0m \u001b[0;31m#      SSSSSSSSSSSSSSSSSS                  ******              *********************      *****\u001b[0m\u001b[0;34m\u001b[0m\u001b[0;34m\u001b[0m\u001b[0;34m\u001b[0m\u001b[0m\n\u001b[1;32m     14\u001b[0m \u001b[0;31m#-----------------------------------------------------------------------------------------------------------------\u001b[0m\u001b[0;34m\u001b[0m\u001b[0;34m\u001b[0m\u001b[0;34m\u001b[0m\u001b[0m\n\u001b[0;32m---> 15\u001b[0;31m \u001b[0mstop\u001b[0m \u001b[0;34m=\u001b[0m \u001b[0mstop\u001b[0m\u001b[0;34m\u001b[0m\u001b[0;34m\u001b[0m\u001b[0m\n\u001b[0m",
      "\u001b[0;31mNameError\u001b[0m: name 'stop' is not defined"
     ]
    }
   ],
   "source": [
    "#-----------------------------------------------------------------------------------------------------------------\n",
    "# 123SFACVTHYI78567UDBYUJM534523RDHGTHETYIE5I8I78O9P789J467UBDFGDASFSADCXVFDSWERTNERGRTTUTYAFGASDFSDBGFDF67E54563\n",
    "# 64534FDSFVSDHT56SDFG656USRHSDYA3Y RTA WERGERGSDFGVTY34TASDF dfasdfghhgbcvbsdfgrwergfdsfvzxcvasdfaweqdqasdfderadf\n",
    "# feasetttttttttttttttttttvxzcvxzvxcvxvnjfghjvbnfghjdfhgdhthrtyyyyyyyyyyrtjliuioyuytrtyurtyughjuyityuityuityuijjty\n",
    "# hgfgdrrtyetghfdghvcvbnhjfghjgggnfnmjhkuytlryewqwerasdfgghrthfgjyruhjyuihjknhybgtvfrcdezxcabnghrtyreeghghte45654y  \n",
    "# tr345rgbbbdfghterty4534562345jhgy5462345234534n5345g345t3245d34f235345f345g34454f345t345er345234yt545y45tg45t534\n",
    "#       SSSSSSSSSSSSSS         ASDFALKJIVAJLMSEFLKMALSKVJALKSRKLTGAKLSDGVLK   *****    ***************   \n",
    "#            SSSSSSSSSSSSS               ******            ******              *****    *************       (*_*)  \n",
    "#                   SSSSSSSS               ******            ******              *****    *****            ~( (>\n",
    "#        SSSS         S  SSS               ******            ******              *****    *****            / (          \n",
    "#      SSSS          S  SSSS               ******            ******              *****    *****                     \n",
    "#     SSSSS            SSSS                ******             ******            ******    *****                     \n",
    "#      SSSSSSSSSSSSSSSSSS                  ******              *********************      *****                   \n",
    "#-----------------------------------------------------------------------------------------------------------------\n",
    "stop = stop"
   ]
  },
  {
   "cell_type": "code",
   "execution_count": null,
   "id": "radical-progressive",
   "metadata": {},
   "outputs": [],
   "source": [
    "val_nse = {}\n",
    "val_pbias = {}\n",
    "val_nse['GRU'], val_pbias['GRU'], pred, label = compa(\n",
    "    model=gru_model,df=real_df_all, plot_col=out_features[0], target_std=target_std, target_mean=target_mean,\n",
    "    #predict_day = rnn_predict_day)\n",
    "    predict_day = 4)\n",
    "print(model_path)\n",
    "print(\"year : \" + start_year + \" ~ \"+ end_year)\n",
    "print('run : ', run_num)\n",
    "print('target : ', rnn_target_column)\n",
    "print(\"length : \",df_length)\n",
    "print(teg_check)\n",
    "print(\"---------------\")\n",
    "print(val_nse['GRU'])\n",
    "print(val_pbias['GRU'])"
   ]
  },
  {
   "cell_type": "code",
   "execution_count": null,
   "id": "excellent-inspection",
   "metadata": {},
   "outputs": [],
   "source": [
    "from core.models import GRUModel, compile"
   ]
  },
  {
   "cell_type": "code",
   "execution_count": null,
   "id": "entertaining-sunrise",
   "metadata": {},
   "outputs": [],
   "source": [
    "model112 = GRUModel(rnn_out_steps, out_num_features)\n",
    "model112.load_weights(model_path+\"gru.ckpt\")\n",
    "compile(model112)\n"
   ]
  },
  {
   "cell_type": "code",
   "execution_count": null,
   "id": "subtle-vacuum",
   "metadata": {},
   "outputs": [],
   "source": [
    "val_nse = {}\n",
    "val_pbias = {}\n",
    "val_nse['GRU'], val_pbias['GRU'], pred, label = compa(\n",
    "    #model=model112,df=test_df, plot_col=out_features[0], target_std=target_std, target_mean=target_mean,\n",
    "    model=model112,df=val_df, plot_col=out_features[0], target_std=target_std, target_mean=target_mean,\n",
    "    #predict_day = rnn_predict_day)\n",
    "    predict_day = 4)\n",
    "print(model_path)\n",
    "print(\"year : \" + start_year + \" ~ \"+ end_year)\n",
    "print('run : ', run_num)\n",
    "print('target : ', rnn_target_column)\n",
    "print(\"length : \",df_length)\n",
    "print(teg_check)\n",
    "print(\"---------------\")\n",
    "print(val_nse['GRU'])\n",
    "print(val_pbias['GRU'])"
   ]
  },
  {
   "cell_type": "code",
   "execution_count": null,
   "id": "assured-restriction",
   "metadata": {
    "scrolled": true
   },
   "outputs": [],
   "source": [
    "##.evaluate(multi_window.train)\n",
    "#model112.evaluate(multi_window.val.repeat(-1), steps=100)"
   ]
  },
  {
   "cell_type": "code",
   "execution_count": null,
   "id": "exempt-confidence",
   "metadata": {},
   "outputs": [],
   "source": []
  },
  {
   "cell_type": "code",
   "execution_count": null,
   "id": "democratic-cooling",
   "metadata": {},
   "outputs": [],
   "source": []
  },
  {
   "cell_type": "code",
   "execution_count": null,
   "id": "filled-causing",
   "metadata": {},
   "outputs": [],
   "source": []
  },
  {
   "cell_type": "code",
   "execution_count": null,
   "id": "motivated-poison",
   "metadata": {},
   "outputs": [],
   "source": []
  },
  {
   "cell_type": "code",
   "execution_count": null,
   "id": "outstanding-grove",
   "metadata": {},
   "outputs": [],
   "source": []
  },
  {
   "cell_type": "code",
   "execution_count": null,
   "id": "featured-battle",
   "metadata": {},
   "outputs": [],
   "source": []
  },
  {
   "cell_type": "code",
   "execution_count": null,
   "id": "criminal-hypothetical",
   "metadata": {},
   "outputs": [],
   "source": []
  },
  {
   "cell_type": "code",
   "execution_count": null,
   "id": "numeric-cartoon",
   "metadata": {},
   "outputs": [],
   "source": []
  },
  {
   "cell_type": "code",
   "execution_count": null,
   "id": "frozen-christmas",
   "metadata": {},
   "outputs": [],
   "source": []
  },
  {
   "cell_type": "code",
   "execution_count": null,
   "id": "sweet-planner",
   "metadata": {},
   "outputs": [],
   "source": []
  },
  {
   "cell_type": "code",
   "execution_count": null,
   "id": "uniform-craps",
   "metadata": {},
   "outputs": [],
   "source": []
  },
  {
   "cell_type": "code",
   "execution_count": null,
   "id": "minimal-military",
   "metadata": {},
   "outputs": [],
   "source": []
  },
  {
   "cell_type": "code",
   "execution_count": null,
   "id": "greater-halloween",
   "metadata": {},
   "outputs": [],
   "source": []
  },
  {
   "cell_type": "code",
   "execution_count": null,
   "id": "potential-measurement",
   "metadata": {},
   "outputs": [],
   "source": []
  },
  {
   "cell_type": "code",
   "execution_count": null,
   "id": "serial-variable",
   "metadata": {},
   "outputs": [],
   "source": []
  },
  {
   "cell_type": "code",
   "execution_count": null,
   "id": "dimensional-message",
   "metadata": {},
   "outputs": [],
   "source": []
  },
  {
   "cell_type": "code",
   "execution_count": null,
   "id": "sized-crazy",
   "metadata": {},
   "outputs": [],
   "source": [
    "\n",
    "def compa(model=None,df = None, plot_col=0, input_width=7*24, label_width=5*24, target_std=None, target_mean=None, predict_day=4):\n",
    "    \n",
    "    #print(df.shape)\n",
    "    #print(plot_col)\n",
    "    \n",
    "    width = input_width + label_width\n",
    "    \n",
    "    length = df.shape[0]\n",
    "    length -= width\n",
    "    \n",
    "    inputs = []\n",
    "    labels = []\n",
    "    \n",
    "    for i in range(0, length, 24):\n",
    "        dataset = df.iloc[i:i+width].to_numpy()\n",
    "        input = dataset[:input_width]\n",
    "        label = dataset[input_width:, plot_col:plot_col+1]\n",
    "        \n",
    "        input = input.reshape((-1,)+input.shape)\n",
    "        label = label.reshape((-1,)+label.shape)\n",
    "        \n",
    "        inputs.append(input)\n",
    "        labels.append(label)\n",
    "        \n",
    "    inputs = np.concatenate(inputs, axis=0)\n",
    "    labels = np.concatenate(labels, axis=0)\n",
    "    \n",
    "    \n",
    "\n",
    "    predictions = model(inputs).numpy()\n",
    "    \n",
    "    print(\"input : \", inputs.shape, \"labels : \", labels.shape, \"predictions : \", predictions.shape)\n",
    "    #print(predictions.shape)\n",
    "    \n",
    "    predictions = predictions * target_std[plot_col] + target_mean[plot_col]\n",
    "    labels = labels * target_std[plot_col] + target_mean[plot_col]\n",
    "\n",
    "    pred_day = hour_to_day_mean(predictions)\n",
    "    \n",
    "    label_day = hour_to_day_mean(labels)\n",
    "    \n",
    "    inputs_target = inputs[:,:,plot_col:plot_col+1]\n",
    "    inputs_target = inputs_target * target_std[plot_col] + target_mean[plot_col]\n",
    "    inputs_day = hour_to_day_mean(inputs_target)\n",
    "    \n",
    "    print(\"                label_day.shape : \",label_day.shape, \"pred_day.shape : \", pred_day.shape)\n",
    "    \n",
    "    #plt.figure()\n",
    "    #input_index = np.array(range(0, length, 24))\n",
    "    #label_index = input_index + 24* (7 + predict_day)\n",
    "    #plt.plot(input_index, inputs_day[:, 0, :], label='input')\n",
    "    #plt.plot(label_index, label_day[:, predict_day, :], label='label')\n",
    "    #plt.plot(label_index, pred_day[:, predict_day, :], label='pred')\n",
    "    #plt.legend()\n",
    "    \n",
    "    #o1 = np.mean(labels)\n",
    "    o1 = np.mean(label_day[:,predict_day,:])\n",
    "    nse1 = ((label_day - pred_day)**2).sum(axis=0)\n",
    "    nse2 = ((label_day - o1)**2).sum(axis=0)\n",
    "    nse3 = 1 - (nse1[predict_day]/nse2[predict_day])\n",
    "    print('o1 : ', o1)\n",
    "    print('predict_day : ', predict_day + 1)\n",
    "    pbias1 = (label_day - pred_day).sum(axis=0)\n",
    "    pbias2 = (label_day).sum(axis=0)\n",
    "    pbias3 = (pbias1[predict_day]/pbias2[predict_day])*100\n",
    "    \n",
    "    \n",
    "    mae = (np.abs(label_day - pred_day)).mean()\n",
    "    mse = ((label_day - pred_day)**2).mean()\n",
    "    rmse = np.sqrt(((label_day - pred_day)**2).mean())\n",
    "    \n",
    "    print('------------------------')\n",
    "    print(mae, mse ,rmse)\n",
    "    labels_test = labels.mean(axis=1)\n",
    "    predis_test = inputs_target.mean(axis=1)\n",
    "    \n",
    "    nse2_1 = ((labels_test - predis_test)**2).sum()\n",
    "    nse2_2 = ((labels_test - o1)**2).sum()\n",
    "    nse2_3 = 1 - (nse2_1/nse2_2)\n",
    "    \n",
    "    pbias2_1 = (labels_test - predis_test).sum()\n",
    "    pbias2_2 = labels_test.sum()\n",
    "    pbias2_3 = pbias2_1/pbias2_2 * 100\n",
    "    #print(labels_test.shape)\n",
    "    #print(predis_test.shape)\n",
    "    #print()\n",
    "    #print(\"nse2_3 : \",nse2_3)\n",
    "    #print(\"pbias2_3 : \",pbias2_3)\n",
    "    ##print('------------------------')\n",
    "    print(\"nse3 : \", nse3)\n",
    "    print(\"pbias3 : \",pbias3)\n",
    "    ##print('------------------------')\n",
    "    \n",
    "    return nse3, np.abs(pbias3), inputs_day, label_day, pred_day\n",
    "    "
   ]
  },
  {
   "cell_type": "code",
   "execution_count": null,
   "id": "separate-appendix",
   "metadata": {},
   "outputs": [],
   "source": []
  },
  {
   "cell_type": "code",
   "execution_count": null,
   "id": "under-terminology",
   "metadata": {},
   "outputs": [],
   "source": [
    "\n",
    "x = np.arange(len(val_nse))\n",
    "width = 0.35\n",
    "plt.figure()\n",
    "plt.title(watershed + '  ['+start_year+','+end_year+']  ' + rnn_target_column)\n",
    "plt.bar(x, val_pbias.values(), 0.3, label='PBIAS' )\n",
    "plt.bar(x + width, val_nse.values(), 0.3, label='NSE')\n",
    "plt.xticks(x,val_nse.keys(), rotation=0)\n",
    "_ = plt.legend()\n",
    "plt.show()\n"
   ]
  },
  {
   "cell_type": "code",
   "execution_count": null,
   "id": "sufficient-catalog",
   "metadata": {},
   "outputs": [],
   "source": []
  },
  {
   "cell_type": "code",
   "execution_count": null,
   "id": "other-honduras",
   "metadata": {},
   "outputs": [],
   "source": []
  },
  {
   "cell_type": "code",
   "execution_count": null,
   "id": "unnecessary-marker",
   "metadata": {},
   "outputs": [],
   "source": []
  }
 ],
 "metadata": {
  "kernelspec": {
   "display_name": "Python 3",
   "language": "python",
   "name": "python3"
  },
  "language_info": {
   "codemirror_mode": {
    "name": "ipython",
    "version": 3
   },
   "file_extension": ".py",
   "mimetype": "text/x-python",
   "name": "python",
   "nbconvert_exporter": "python",
   "pygments_lexer": "ipython3",
   "version": "3.7.9"
  }
 },
 "nbformat": 4,
 "nbformat_minor": 5
}
