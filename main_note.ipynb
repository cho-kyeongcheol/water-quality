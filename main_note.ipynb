{
 "cells": [
  {
   "cell_type": "code",
   "execution_count": 1,
   "id": "bored-conservation",
   "metadata": {},
   "outputs": [],
   "source": [
    "import shutil\n",
    "\n",
    "from core.gain import *\n",
    "from core.rnn_predic import *\n",
    "from core.models import *\n",
    "from core.util import *\n",
    "#from core.window import WindowGenerator, MissData, make_dataset_water, WaterDataGenerator\n",
    "from core.window import WindowGenerator, make_dataset_gain, make_dataset_water\n",
    "from core.file_open import make_dataframe\n",
    "from core.miss_data import MissData\n",
    "import json\n",
    "%matplotlib widget\n",
    "import os"
   ]
  },
  {
   "cell_type": "code",
   "execution_count": null,
   "id": "instant-rough",
   "metadata": {},
   "outputs": [],
   "source": [
    "def hour_to_day_mean(array):\n",
    "    time = 24\n",
    "    array = array.reshape((array.shape[0], array.shape[1] // time, time, array.shape[2]))\n",
    "    array = array.mean(2)\n",
    "    return array"
   ]
  },
  {
   "cell_type": "code",
   "execution_count": null,
   "id": "parliamentary-antenna",
   "metadata": {},
   "outputs": [],
   "source": [
    "\n",
    "def compa(model=None,df = None, plot_col=0, input_width=7*24, label_width=5*24, target_std=None, target_mean=None, predict_day=4):\n",
    "    width = input_width + label_width\n",
    "    length = df.shape[0] - width\n",
    "    inputs = []\n",
    "    labels = []\n",
    "    \n",
    "    for i in range(0, length, 24):\n",
    "        dataset = df.iloc[i:i+width].to_numpy()\n",
    "        input = dataset[:input_width]\n",
    "        label = dataset[input_width:, plot_col:plot_col+1]\n",
    "        \n",
    "        input = input.reshape((-1,)+input.shape)\n",
    "        label = label.reshape((-1,)+label.shape)\n",
    "        \n",
    "        inputs.append(input)\n",
    "        labels.append(label)\n",
    "        \n",
    "        \n",
    "    inputs = np.concatenate(inputs, axis=0)\n",
    "    labels = np.concatenate(labels, axis=0)\n",
    "    \n",
    "\n",
    "    predictions = model(inputs).numpy()\n",
    "    \n",
    "    predictions = predictions * target_std[plot_col] + target_mean[plot_col]\n",
    "    labels = labels * target_std[plot_col] + target_mean[plot_col]\n",
    "\n",
    "    pred_day = hour_to_day_mean(predictions)\n",
    "    \n",
    "    label_day = hour_to_day_mean(labels)\n",
    "    \n",
    "    inputs_target = inputs[:,:,plot_col:plot_col+1]\n",
    "    inputs_target = inputs_target * target_std[plot_col] + target_mean[plot_col]\n",
    "    inputs_day = hour_to_day_mean(inputs_target)\n",
    "    \n",
    "    plt.figure()\n",
    "    input_index = np.array(range(0, length, 24))\n",
    "    label_index = input_index + 24* (7 + predict_day)\n",
    "    plt.plot(input_index, inputs_day[:, 0, :], label='input')\n",
    "    plt.plot(label_index, label_day[:, predict_day, :], label='label')\n",
    "    plt.plot(label_index, pred_day[:, predict_day, :], label='pred')\n",
    "    plt.legend()\n",
    "    #plt.savefig('test_plt.png')\n",
    "    \n",
    "    #o1 = np.mean(labels)\n",
    "    o1 = np.mean(label_day[:,predict_day,:])\n",
    "    nse1 = ((label_day - pred_day)**2).sum(axis=0)\n",
    "    nse2 = ((label_day - o1)**2).sum(axis=0)\n",
    "    nse3 = 1 - (nse1[predict_day]/nse2[predict_day])\n",
    "    print('o1 : ', o1)\n",
    "    print('predict_day : ', predict_day + 1)\n",
    "    pbias1 = (label_day - pred_day).sum(axis=0)\n",
    "    pbias2 = (label_day).sum(axis=0)\n",
    "    pbias3 = (pbias1[predict_day]/pbias2[predict_day])*100\n",
    "    \n",
    "    \n",
    "    mae = (np.abs(label_day - pred_day)).mean()\n",
    "    mse = ((label_day - pred_day)**2).mean()\n",
    "    rmse = np.sqrt(((label_day - pred_day)**2).mean())\n",
    "    \n",
    "    print('------------------------')\n",
    "    print(mae, mse ,rmse)\n",
    "    labels_test = labels.mean(axis=1)\n",
    "    predis_test = inputs_target.mean(axis=1)\n",
    "    \n",
    "    nse2_1 = ((labels_test - predis_test)**2).sum()\n",
    "    nse2_2 = ((labels_test - o1)**2).sum()\n",
    "    nse2_3 = 1 - (nse2_1/nse2_2)\n",
    "    \n",
    "    pbias2_1 = (labels_test - predis_test).sum()\n",
    "    pbias2_2 = labels_test.sum()\n",
    "    pbias2_3 = pbias2_1/pbias2_2 * 100\n",
    "    #print(labels_test.shape)\n",
    "    #print(predis_test.shape)\n",
    "    #print()\n",
    "    #print(\"nse2_3 : \",nse2_3)\n",
    "    #print(\"pbias2_3 : \",pbias2_3)\n",
    "    ##print('------------------------')\n",
    "    print(\"nse3 : \", nse3)\n",
    "    print(\"pbias3 : \",pbias3)\n",
    "    ##print('------------------------')\n",
    "    \n",
    "    return nse3, np.abs(pbias3), pred_day, labels"
   ]
  },
  {
   "cell_type": "code",
   "execution_count": 2,
   "id": "offensive-spider",
   "metadata": {},
   "outputs": [],
   "source": [
    "os.environ[\"CUDA_DEVICE_ORDER\"]=\"PCI_BUS_ID\"   # see issue #152\n",
    "os.environ[\"CUDA_VISIBLE_DEVICES\"]=\"0,1\"\n"
   ]
  },
  {
   "cell_type": "code",
   "execution_count": 3,
   "id": "norman-queen",
   "metadata": {},
   "outputs": [],
   "source": [
    "data_path = 'data/'\n",
    "parameters_dir = 'input'\n",
    "\n",
    "parameters_file = 'input.json'\n",
    "parameters_path = '{dir}/{file}'.format(dir=parameters_dir, file=parameters_file)\n",
    "\n",
    "with open(parameters_path, encoding='utf8') as json_file:\n",
    "    parameters = json.load(json_file)\n",
    "\n",
    "gain_parameters = parameters['gain']\n",
    "rnn_parameters = parameters['rnn']\n",
    "file_parameters = parameters['file']"
   ]
  },
  {
   "cell_type": "code",
   "execution_count": 4,
   "id": "defensive-traffic",
   "metadata": {},
   "outputs": [
    {
     "data": {
      "text/plain": [
       "{'watershed': 'yeong_auto'}"
      ]
     },
     "execution_count": 4,
     "metadata": {},
     "output_type": "execute_result"
    }
   ],
   "source": [
    "file_parameters"
   ]
  },
  {
   "cell_type": "code",
   "execution_count": 5,
   "id": "unlimited-postage",
   "metadata": {},
   "outputs": [],
   "source": [
    "parameters_path = parameters_dir+'/'+ file_parameters['watershed'] + '.json'\n",
    "with open(parameters_path, encoding='utf8') as json_file:\n",
    "    parameters = json.load(json_file)"
   ]
  },
  {
   "cell_type": "code",
   "execution_count": 6,
   "id": "changed-timer",
   "metadata": {},
   "outputs": [],
   "source": [
    "pd.set_option('display.max_columns', 1000)"
   ]
  },
  {
   "cell_type": "code",
   "execution_count": 7,
   "id": "alternate-reverse",
   "metadata": {},
   "outputs": [],
   "source": [
    "data_parameters = parameters['data']\n",
    "\n",
    "interpolation_option = data_parameters['interpolation']\n",
    "colum_idx = data_parameters['columns']\n",
    "watershed = data_parameters['watershed']\n",
    "file_names = data_parameters['files']\n",
    "folder = data_parameters['directorys']\n",
    "for i in range(len(folder)):\n",
    "    folder[i] = watershed+folder[i]"
   ]
  },
  {
   "cell_type": "code",
   "execution_count": 8,
   "id": "committed-boulder",
   "metadata": {},
   "outputs": [],
   "source": [
    "__GAIN_TRAINING__ = gain_parameters['train']\n",
    "gain_epochs = gain_parameters['max_epochs']\n",
    "gain_in_setps = gain_parameters['input_width']\n",
    "gain_out_setps = gain_parameters['label_width']\n",
    "gain_batch_size = gain_parameters['batch_size']\n",
    "gain_fill_no = gain_parameters['fill_width']\n",
    "gain_shift = gain_parameters['shift_width']\n",
    "gain_miss_rate = gain_parameters['miss_rate']\n",
    "\n",
    "__RNN_TRAINING__ = rnn_parameters['train']\n",
    "rnn_epochs = rnn_parameters['max_epochs']\n",
    "rnn_in_setps = rnn_parameters['input_width']\n",
    "rnn_out_steps = rnn_parameters['label_width']\n",
    "rnn_batch_size = rnn_parameters['batch_size']\n",
    "rnn_predict_day = rnn_parameters['predict_day']\n",
    "rnn_target_column = rnn_parameters['target_column']\n",
    "\n",
    "if rnn_predict_day < 3 or rnn_predict_day >5:\n",
    "    print('predict_day err')\n",
    "    exit(88)\n",
    "rnn_predict_day -= 1"
   ]
  },
  {
   "cell_type": "code",
   "execution_count": 9,
   "id": "powered-sixth",
   "metadata": {},
   "outputs": [
    {
     "data": {
      "text/plain": [
       "(True, 150, True, 15)"
      ]
     },
     "execution_count": 9,
     "metadata": {},
     "output_type": "execute_result"
    }
   ],
   "source": [
    "__GAIN_TRAINING__, gain_epochs ,__RNN_TRAINING__, rnn_epochs"
   ]
  },
  {
   "cell_type": "code",
   "execution_count": 10,
   "id": "suspected-quebec",
   "metadata": {},
   "outputs": [],
   "source": [
    "run_num = range(len(folder))\n",
    "real_df_all = pd.DataFrame([])\n",
    "target_all = target_mean = target_std = 0\n",
    "\n",
    "gain_val_performance = {}\n",
    "gain_performance = {}\n",
    "\n",
    "length = len(run_num)\n",
    "#length = 1"
   ]
  },
  {
   "cell_type": "code",
   "execution_count": 11,
   "id": "undefined-sperm",
   "metadata": {
    "scrolled": true
   },
   "outputs": [
    {
     "name": "stdout",
     "output_type": "stream",
     "text": [
      "interpol flag :  [False, False]\n",
      "folder :  data/yeong/자동/\n",
      "colum_idx :  :,[26,27,28,29,30,31,32,33]\n",
      "file_names[idx] :  [['나주_2015.xlsx', '나주_2016.xlsx', '나주_2017.xlsx', '나주_2018.xlsx', '나주_2019.xlsx', '나주_2020.xlsx'], ['지석천_2015.xlsx', '지석천_2016.xlsx', '지석천_2017.xlsx', '지석천_2018.xlsx', '지석천_2019.xlsx', '지석천_2020.xlsx'], ['용봉_2015.xlsx', '용봉_2016.xlsx', '용봉_2017.xlsx', '용봉_2018.xlsx', '용봉_2019.xlsx', '용봉_2020.xlsx'], ['우치_2015.xlsx', '우치_2016.xlsx', '우치_2017.xlsx', '우치_2018.xlsx', '우치_2019.xlsx', '우치_2020.xlsx']]\n",
      "data/yeong/자동/나주_2015.xlsx\n",
      "data/yeong/자동/나주_2016.xlsx\n",
      "data/yeong/자동/나주_2017.xlsx\n",
      "data/yeong/자동/나주_2018.xlsx\n",
      "data/yeong/자동/나주_2019.xlsx\n",
      "data/yeong/자동/나주_2020.xlsx\n",
      "You must check this make_timeseries : time length\n",
      "time range in files :  2015-01-01 00:00  ~  2020-12-31 23:00\n",
      "data/yeong/자동/지석천_2015.xlsx\n",
      "data/yeong/자동/지석천_2016.xlsx\n",
      "data/yeong/자동/지석천_2017.xlsx\n",
      "data/yeong/자동/지석천_2018.xlsx\n",
      "data/yeong/자동/지석천_2019.xlsx\n",
      "data/yeong/자동/지석천_2020.xlsx\n",
      "You must check this make_timeseries : time length\n",
      "time range in files :  2015-01-01 00:00  ~  2020-12-31 23:00\n",
      "data/yeong/자동/용봉_2015.xlsx\n",
      "data/yeong/자동/용봉_2016.xlsx\n",
      "data/yeong/자동/용봉_2017.xlsx\n",
      "data/yeong/자동/용봉_2018.xlsx\n",
      "data/yeong/자동/용봉_2019.xlsx\n",
      "data/yeong/자동/용봉_2020.xlsx\n",
      "You must check this make_timeseries : time length\n",
      "time range in files :  2015-01-01 00:00  ~  2020-12-31 23:00\n",
      "data/yeong/자동/우치_2015.xlsx\n",
      "data/yeong/자동/우치_2016.xlsx\n",
      "data/yeong/자동/우치_2017.xlsx\n",
      "data/yeong/자동/우치_2018.xlsx\n",
      "data/yeong/자동/우치_2019.xlsx\n",
      "data/yeong/자동/우치_2020.xlsx\n",
      "You must check this make_timeseries : time length\n",
      "time range in files :  2015-01-01 00:00  ~  2020-12-31 23:00\n",
      "MissData :  save/  miss :  (14780, 12)\n",
      "MissData :  save/  miss :  (14780, 12)\n",
      "Epoch 1/150\n",
      "595/595 [==============================] - 6s 10ms/step - gen_loss: 7.8420 - disc_loss: 0.2388 - rmse: 0.3357 - val_loss: 0.2858\n",
      "Epoch 2/150\n",
      "595/595 [==============================] - 6s 10ms/step - gen_loss: 3.9604 - disc_loss: 0.1774 - rmse: 0.2766 - val_loss: 0.2842\n",
      "Epoch 3/150\n",
      "595/595 [==============================] - 6s 11ms/step - gen_loss: 3.4515 - disc_loss: 0.1625 - rmse: 0.2530 - val_loss: 0.2637\n",
      "Epoch 4/150\n",
      "595/595 [==============================] - 7s 11ms/step - gen_loss: 3.1978 - disc_loss: 0.1539 - rmse: 0.2440 - val_loss: 0.2654\n",
      "Epoch 5/150\n",
      "595/595 [==============================] - 6s 11ms/step - gen_loss: 2.9756 - disc_loss: 0.1480 - rmse: 0.2497 - val_loss: 0.2599\n",
      "Epoch 6/150\n",
      "595/595 [==============================] - 7s 11ms/step - gen_loss: 2.8820 - disc_loss: 0.1396 - rmse: 0.2310 - val_loss: 0.2578\n",
      "Epoch 7/150\n",
      "595/595 [==============================] - 7s 11ms/step - gen_loss: 2.6486 - disc_loss: 0.1310 - rmse: 0.2410 - val_loss: 0.2576\n",
      "Epoch 8/150\n",
      "595/595 [==============================] - 6s 11ms/step - gen_loss: 2.6544 - disc_loss: 0.1285 - rmse: 0.2354 - val_loss: 0.2429\n",
      "Epoch 9/150\n",
      "595/595 [==============================] - 7s 12ms/step - gen_loss: 2.6163 - disc_loss: 0.1277 - rmse: 0.2234 - val_loss: 0.2482\n",
      "Epoch 10/150\n",
      "595/595 [==============================] - 7s 12ms/step - gen_loss: 2.6318 - disc_loss: 0.1252 - rmse: 0.2285 - val_loss: 0.2421\n",
      "Epoch 11/150\n",
      "595/595 [==============================] - 6s 11ms/step - gen_loss: 2.6005 - disc_loss: 0.1220 - rmse: 0.2222 - val_loss: 0.2322\n",
      "Epoch 12/150\n",
      "595/595 [==============================] - 6s 11ms/step - gen_loss: 2.6089 - disc_loss: 0.1214 - rmse: 0.2197 - val_loss: 0.2230\n",
      "Epoch 13/150\n",
      "595/595 [==============================] - 7s 11ms/step - gen_loss: 2.6459 - disc_loss: 0.1197 - rmse: 0.2326 - val_loss: 0.2283\n",
      "Epoch 14/150\n",
      "595/595 [==============================] - 6s 11ms/step - gen_loss: 2.5442 - disc_loss: 0.1183 - rmse: 0.2174 - val_loss: 0.2401\n",
      "Epoch 15/150\n",
      "595/595 [==============================] - 6s 11ms/step - gen_loss: 2.5454 - disc_loss: 0.1170 - rmse: 0.2111 - val_loss: 0.2314\n",
      "Epoch 16/150\n",
      "595/595 [==============================] - 6s 11ms/step - gen_loss: 2.4551 - disc_loss: 0.1155 - rmse: 0.2091 - val_loss: 0.2443\n",
      "Epoch 17/150\n",
      "595/595 [==============================] - 6s 11ms/step - gen_loss: 2.5070 - disc_loss: 0.1161 - rmse: 0.2074 - val_loss: 0.2209\n",
      "Epoch 18/150\n",
      "595/595 [==============================] - 6s 11ms/step - gen_loss: 2.5292 - disc_loss: 0.1126 - rmse: 0.2260 - val_loss: 0.2259\n",
      "Epoch 19/150\n",
      "595/595 [==============================] - 7s 11ms/step - gen_loss: 2.4696 - disc_loss: 0.1128 - rmse: 0.2172 - val_loss: 0.2194\n",
      "Epoch 20/150\n",
      "595/595 [==============================] - 6s 11ms/step - gen_loss: 2.4722 - disc_loss: 0.1120 - rmse: 0.2111 - val_loss: 0.2211\n",
      "Epoch 21/150\n",
      "595/595 [==============================] - 7s 11ms/step - gen_loss: 2.5229 - disc_loss: 0.1119 - rmse: 0.2034 - val_loss: 0.2206\n",
      "Epoch 22/150\n",
      "595/595 [==============================] - 7s 11ms/step - gen_loss: 2.4452 - disc_loss: 0.1101 - rmse: 0.2020 - val_loss: 0.2165\n",
      "Epoch 23/150\n",
      "595/595 [==============================] - 7s 11ms/step - gen_loss: 2.4812 - disc_loss: 0.1085 - rmse: 0.2021 - val_loss: 0.2260\n",
      "Epoch 24/150\n",
      "595/595 [==============================] - 6s 11ms/step - gen_loss: 2.4623 - disc_loss: 0.1063 - rmse: 0.2015 - val_loss: 0.2089\n",
      "Epoch 25/150\n",
      "595/595 [==============================] - 6s 11ms/step - gen_loss: 2.4667 - disc_loss: 0.1087 - rmse: 0.1992 - val_loss: 0.2256\n",
      "Epoch 26/150\n",
      "595/595 [==============================] - 6s 11ms/step - gen_loss: 2.4935 - disc_loss: 0.1072 - rmse: 0.2035 - val_loss: 0.2129\n",
      "Epoch 27/150\n",
      "595/595 [==============================] - 6s 11ms/step - gen_loss: 2.4332 - disc_loss: 0.1065 - rmse: 0.2004 - val_loss: 0.2186\n",
      "Epoch 28/150\n",
      "595/595 [==============================] - 6s 11ms/step - gen_loss: 2.4767 - disc_loss: 0.1053 - rmse: 0.1982 - val_loss: 0.2118\n",
      "Epoch 29/150\n",
      "595/595 [==============================] - 6s 11ms/step - gen_loss: 2.3705 - disc_loss: 0.1083 - rmse: 0.1990 - val_loss: 0.2181\n",
      "Epoch 30/150\n",
      "595/595 [==============================] - 6s 11ms/step - gen_loss: 2.4411 - disc_loss: 0.1063 - rmse: 0.1955 - val_loss: 0.2201\n",
      "Epoch 31/150\n",
      "595/595 [==============================] - 7s 11ms/step - gen_loss: 2.4341 - disc_loss: 0.1051 - rmse: 0.2078 - val_loss: 0.2144\n",
      "Epoch 32/150\n",
      "595/595 [==============================] - 6s 11ms/step - gen_loss: 2.4934 - disc_loss: 0.1053 - rmse: 0.2044 - val_loss: 0.2111\n",
      "Epoch 33/150\n",
      "595/595 [==============================] - 6s 11ms/step - gen_loss: 2.4666 - disc_loss: 0.1048 - rmse: 0.1958 - val_loss: 0.2237\n",
      "Epoch 34/150\n",
      "595/595 [==============================] - 6s 11ms/step - gen_loss: 2.3963 - disc_loss: 0.1047 - rmse: 0.1967 - val_loss: 0.2053\n",
      "Epoch 35/150\n",
      "595/595 [==============================] - 6s 11ms/step - gen_loss: 2.4347 - disc_loss: 0.1028 - rmse: 0.1967 - val_loss: 0.2127\n",
      "Epoch 36/150\n",
      "595/595 [==============================] - 6s 11ms/step - gen_loss: 2.3925 - disc_loss: 0.1019 - rmse: 0.1964 - val_loss: 0.2003\n",
      "Epoch 37/150\n",
      "595/595 [==============================] - 6s 11ms/step - gen_loss: 2.4919 - disc_loss: 0.1010 - rmse: 0.2001 - val_loss: 0.2078\n",
      "Epoch 38/150\n",
      "595/595 [==============================] - 6s 11ms/step - gen_loss: 2.4968 - disc_loss: 0.1032 - rmse: 0.1936 - val_loss: 0.2113\n",
      "Epoch 39/150\n",
      "595/595 [==============================] - 6s 11ms/step - gen_loss: 2.3925 - disc_loss: 0.1048 - rmse: 0.1940 - val_loss: 0.2118\n",
      "Epoch 40/150\n",
      "595/595 [==============================] - 7s 11ms/step - gen_loss: 2.3883 - disc_loss: 0.1039 - rmse: 0.1937 - val_loss: 0.2243\n",
      "Epoch 41/150\n",
      "595/595 [==============================] - 6s 11ms/step - gen_loss: 2.4668 - disc_loss: 0.1035 - rmse: 0.1956 - val_loss: 0.2143\n",
      "Epoch 42/150\n",
      "595/595 [==============================] - 7s 11ms/step - gen_loss: 2.4625 - disc_loss: 0.0993 - rmse: 0.1921 - val_loss: 0.2090\n",
      "Epoch 43/150\n",
      "595/595 [==============================] - 6s 11ms/step - gen_loss: 2.4001 - disc_loss: 0.1019 - rmse: 0.1929 - val_loss: 0.2140\n",
      "Epoch 44/150\n",
      "595/595 [==============================] - 6s 11ms/step - gen_loss: 2.4169 - disc_loss: 0.0994 - rmse: 0.1941 - val_loss: 0.2067\n",
      "Epoch 45/150\n",
      "595/595 [==============================] - 6s 11ms/step - gen_loss: 2.4330 - disc_loss: 0.1007 - rmse: 0.1896 - val_loss: 0.2225\n",
      "Epoch 46/150\n",
      "595/595 [==============================] - 6s 11ms/step - gen_loss: 2.4108 - disc_loss: 0.1028 - rmse: 0.1930 - val_loss: 0.2121\n"
     ]
    },
    {
     "name": "stdout",
     "output_type": "stream",
     "text": [
      "Epoch 47/150\n",
      "595/595 [==============================] - 7s 11ms/step - gen_loss: 2.3875 - disc_loss: 0.1017 - rmse: 0.1960 - val_loss: 0.2246\n",
      "Epoch 48/150\n",
      "595/595 [==============================] - 7s 11ms/step - gen_loss: 2.4412 - disc_loss: 0.1034 - rmse: 0.1909 - val_loss: 0.2159\n",
      "Epoch 49/150\n",
      "595/595 [==============================] - 6s 11ms/step - gen_loss: 2.3928 - disc_loss: 0.0998 - rmse: 0.1926 - val_loss: 0.2021\n",
      "Epoch 50/150\n",
      "595/595 [==============================] - 6s 11ms/step - gen_loss: 2.4756 - disc_loss: 0.0995 - rmse: 0.1910 - val_loss: 0.2007\n",
      "Epoch 51/150\n",
      "595/595 [==============================] - 6s 11ms/step - gen_loss: 2.4591 - disc_loss: 0.1001 - rmse: 0.1894 - val_loss: 0.2042\n",
      "Epoch 52/150\n",
      "595/595 [==============================] - 6s 11ms/step - gen_loss: 2.4179 - disc_loss: 0.1007 - rmse: 0.1960 - val_loss: 0.2114\n",
      "Epoch 53/150\n",
      "595/595 [==============================] - 6s 11ms/step - gen_loss: 2.4118 - disc_loss: 0.1004 - rmse: 0.2072 - val_loss: 0.2236\n",
      "Epoch 54/150\n",
      "595/595 [==============================] - 6s 11ms/step - gen_loss: 2.3819 - disc_loss: 0.1000 - rmse: 0.1916 - val_loss: 0.2121\n",
      "Epoch 55/150\n",
      "595/595 [==============================] - 6s 11ms/step - gen_loss: 2.3727 - disc_loss: 0.0994 - rmse: 0.1906 - val_loss: 0.2023\n",
      "Epoch 56/150\n",
      "595/595 [==============================] - 6s 11ms/step - gen_loss: 2.4798 - disc_loss: 0.0984 - rmse: 0.1968 - val_loss: 0.2267\n",
      "Epoch 57/150\n",
      "595/595 [==============================] - 7s 11ms/step - gen_loss: 2.4104 - disc_loss: 0.1004 - rmse: 0.2018 - val_loss: 0.2080\n",
      "Epoch 58/150\n",
      "595/595 [==============================] - 6s 11ms/step - gen_loss: 2.3733 - disc_loss: 0.0995 - rmse: 0.1890 - val_loss: 0.2024\n",
      "Epoch 59/150\n",
      "595/595 [==============================] - 6s 11ms/step - gen_loss: 2.4161 - disc_loss: 0.1005 - rmse: 0.1929 - val_loss: 0.2055\n",
      "Epoch 60/150\n",
      "595/595 [==============================] - 6s 11ms/step - gen_loss: 2.3833 - disc_loss: 0.0990 - rmse: 0.1943 - val_loss: 0.2183\n",
      "Epoch 61/150\n",
      "595/595 [==============================] - 6s 11ms/step - gen_loss: 2.4205 - disc_loss: 0.0988 - rmse: 0.1940 - val_loss: 0.2034\n",
      "Epoch 62/150\n",
      "595/595 [==============================] - 6s 11ms/step - gen_loss: 2.3925 - disc_loss: 0.0986 - rmse: 0.1934 - val_loss: 0.1970\n",
      "Epoch 63/150\n",
      "595/595 [==============================] - 6s 11ms/step - gen_loss: 2.3875 - disc_loss: 0.0990 - rmse: 0.1925 - val_loss: 0.2076\n",
      "Epoch 64/150\n",
      "595/595 [==============================] - 6s 11ms/step - gen_loss: 2.4192 - disc_loss: 0.1001 - rmse: 0.1932 - val_loss: 0.2034\n",
      "Epoch 65/150\n",
      "595/595 [==============================] - 6s 11ms/step - gen_loss: 2.3851 - disc_loss: 0.1005 - rmse: 0.1904 - val_loss: 0.1998\n",
      "Epoch 66/150\n",
      "595/595 [==============================] - 6s 11ms/step - gen_loss: 2.4026 - disc_loss: 0.0989 - rmse: 0.1886 - val_loss: 0.1996\n",
      "Epoch 67/150\n",
      "595/595 [==============================] - 6s 11ms/step - gen_loss: 2.4276 - disc_loss: 0.0973 - rmse: 0.1960 - val_loss: 0.2032\n",
      "Epoch 68/150\n",
      "595/595 [==============================] - 7s 11ms/step - gen_loss: 2.3954 - disc_loss: 0.0981 - rmse: 0.1925 - val_loss: 0.2100\n",
      "Epoch 69/150\n",
      "595/595 [==============================] - 6s 11ms/step - gen_loss: 2.4663 - disc_loss: 0.1006 - rmse: 0.1964 - val_loss: 0.2125\n",
      "Epoch 70/150\n",
      "595/595 [==============================] - 6s 11ms/step - gen_loss: 2.4701 - disc_loss: 0.0980 - rmse: 0.1913 - val_loss: 0.2082\n",
      "Epoch 71/150\n",
      "595/595 [==============================] - 6s 11ms/step - gen_loss: 2.4372 - disc_loss: 0.0991 - rmse: 0.1886 - val_loss: 0.2003\n",
      "Epoch 72/150\n",
      "595/595 [==============================] - 6s 11ms/step - gen_loss: 2.4053 - disc_loss: 0.0979 - rmse: 0.1932 - val_loss: 0.2085\n",
      "Epoch 73/150\n",
      "595/595 [==============================] - 7s 11ms/step - gen_loss: 2.4601 - disc_loss: 0.0999 - rmse: 0.1938 - val_loss: 0.2133\n",
      "Epoch 74/150\n",
      "595/595 [==============================] - 6s 11ms/step - gen_loss: 2.3860 - disc_loss: 0.0990 - rmse: 0.1901 - val_loss: 0.2091\n",
      "Epoch 75/150\n",
      "595/595 [==============================] - 6s 11ms/step - gen_loss: 2.4043 - disc_loss: 0.0978 - rmse: 0.1917 - val_loss: 0.2135\n",
      "Epoch 76/150\n",
      "595/595 [==============================] - 6s 11ms/step - gen_loss: 2.4110 - disc_loss: 0.0975 - rmse: 0.1836 - val_loss: 0.2038\n",
      "Epoch 77/150\n",
      "595/595 [==============================] - 6s 11ms/step - gen_loss: 2.4783 - disc_loss: 0.0972 - rmse: 0.1861 - val_loss: 0.2029\n",
      "Epoch 78/150\n",
      "595/595 [==============================] - 6s 11ms/step - gen_loss: 2.4843 - disc_loss: 0.1001 - rmse: 0.1918 - val_loss: 0.2052\n",
      "Epoch 79/150\n",
      "595/595 [==============================] - 6s 11ms/step - gen_loss: 2.4096 - disc_loss: 0.0991 - rmse: 0.1881 - val_loss: 0.2241\n",
      "Epoch 80/150\n",
      "595/595 [==============================] - 7s 11ms/step - gen_loss: 2.4238 - disc_loss: 0.0984 - rmse: 0.1869 - val_loss: 0.2128\n",
      "Epoch 81/150\n",
      "595/595 [==============================] - 6s 11ms/step - gen_loss: 2.3335 - disc_loss: 0.0972 - rmse: 0.1878 - val_loss: 0.2049\n",
      "Epoch 82/150\n",
      "595/595 [==============================] - 7s 11ms/step - gen_loss: 2.4374 - disc_loss: 0.0990 - rmse: 0.1943 - val_loss: 0.2069\n",
      "Epoch 83/150\n",
      "595/595 [==============================] - 6s 11ms/step - gen_loss: 2.5334 - disc_loss: 0.0987 - rmse: 0.1923 - val_loss: 0.2265\n",
      "Epoch 84/150\n",
      "595/595 [==============================] - 6s 11ms/step - gen_loss: 2.3985 - disc_loss: 0.0978 - rmse: 0.1859 - val_loss: 0.2121\n",
      "Epoch 85/150\n",
      "595/595 [==============================] - 6s 11ms/step - gen_loss: 2.4520 - disc_loss: 0.0988 - rmse: 0.1954 - val_loss: 0.2096\n",
      "Epoch 86/150\n",
      "595/595 [==============================] - 6s 11ms/step - gen_loss: 2.4249 - disc_loss: 0.0994 - rmse: 0.1890 - val_loss: 0.2001\n",
      "Epoch 87/150\n",
      "595/595 [==============================] - 6s 11ms/step - gen_loss: 2.4422 - disc_loss: 0.0980 - rmse: 0.1872 - val_loss: 0.2120\n",
      "Epoch 88/150\n",
      "595/595 [==============================] - 7s 11ms/step - gen_loss: 2.4244 - disc_loss: 0.0987 - rmse: 0.1867 - val_loss: 0.2150\n",
      "Epoch 89/150\n",
      "595/595 [==============================] - 7s 11ms/step - gen_loss: 2.4204 - disc_loss: 0.0991 - rmse: 0.1867 - val_loss: 0.2081\n",
      "Epoch 90/150\n",
      "595/595 [==============================] - 7s 11ms/step - gen_loss: 2.4457 - disc_loss: 0.0978 - rmse: 0.1875 - val_loss: 0.2118\n",
      "Epoch 91/150\n",
      "595/595 [==============================] - 6s 11ms/step - gen_loss: 2.4316 - disc_loss: 0.0980 - rmse: 0.1882 - val_loss: 0.2118\n",
      "Epoch 92/150\n",
      "595/595 [==============================] - 7s 11ms/step - gen_loss: 2.3858 - disc_loss: 0.0989 - rmse: 0.1921 - val_loss: 0.2110\n",
      "MissData :  save/  miss :  (14780, 12)\n",
      "595/595 [==============================] - 2s 3ms/step - loss: 0.2087\n",
      "MissData :  save/  miss :  (14780, 12)\n"
     ]
    }
   ],
   "source": [
    "for i in range(length):\n",
    "\n",
    "    idx = run_num[i]\n",
    "\n",
    "    print('interpol flag : ', interpolation_option[idx])\n",
    "    print('folder : ', data_path + folder[idx])\n",
    "    print('colum_idx : ', colum_idx[idx])\n",
    "    print('file_names[idx] : ', file_names[idx])\n",
    "\n",
    "    #start = time.time()\n",
    "\n",
    "    #if watershed == '한강_12days_test':\n",
    "    #    df, times = make_dataframe_temp_12days(folder[idx], file_names[idx], colum_idx[idx], interpolate=interpolation_option[idx])\n",
    "    #else:\n",
    "    df, times = make_dataframe(data_path+folder[idx], file_names[idx], colum_idx[idx], interpolation=interpolation_option[idx])\n",
    "\n",
    "    df_all, train_mean, train_std, df = normalize(df)\n",
    "\n",
    "\n",
    "    if i == 0:\n",
    "        dfff = df\n",
    "        target_all = df_all\n",
    "        target_std = train_std\n",
    "        target_mean = train_mean\n",
    "        start_year = str(times.iloc[0].year)\n",
    "        end_year = str(times.iloc[-1].year)\n",
    "\n",
    "    if interpolation_option[idx][0] == False:\n",
    "\n",
    "        loadfiles = ['idx.npy', 'miss.npy', 'discriminator.h5', 'generator.h5']\n",
    "\n",
    "        gain_calc_falg = True\n",
    "\n",
    "        if __GAIN_TRAINING__ == True:\n",
    "            gain_calc_falg = MissData.save(pd.concat(df, axis=0).to_numpy(), max_tseq=24, save_dir='save/')\n",
    "            #print(folder[idx], ': training ', 'Miss date save : ', gain_calc_falg)\n",
    "        else:\n",
    "            for file in loadfiles:\n",
    "                if os.path.isfile('save/' + folder[idx]+file):\n",
    "                    shutil.copyfile('save/' + folder[idx]+file, 'save/'+file)\n",
    "                    #print('load file name : save/' + folder[idx]+file)\n",
    "                else:\n",
    "                    if file == 'miss.npy':\n",
    "                        gain_calc_falg = MissData.save(pd.concat(df, axis=0).to_numpy(), max_tseq=24, save_dir='save/')\n",
    "                        #print(folder[idx], ': is not miss.npy ', 'Miss date save : ', gain_calc_falg)\n",
    "\n",
    "        if gain_calc_falg == True:\n",
    "            #print('GainWindowGenerator in main')\n",
    "            WindowGenerator.make_dataset = make_dataset_gain\n",
    "            wide_window = WindowGenerator(input_width=gain_in_setps, label_width=gain_out_setps, shift=gain_shift,\n",
    "                                          fill_no=gain_fill_no, miss_rate=gain_miss_rate, batch_size=gain_batch_size,\n",
    "                                          train_df = df_all, val_df = df_all, test_df = df_all, df = df)\n",
    "\n",
    "            #gain = model_GAIN(shape=wide_window.dg.shape[1:], gen_sigmoid=False, epochs=gain_epochs, training_flag=__GAIN_TRAINING__, window=wide_window, model_save_path='save/')\n",
    "            gain = model_GAIN(shape=(gain_in_setps, df_all.shape[1]), gen_sigmoid=False, epochs=gain_epochs,\n",
    "                              training_flag=__GAIN_TRAINING__, window=wide_window, model_save_path='save/')\n",
    "\n",
    "            gain_val_performance[str(i)] = gain.evaluate(wide_window.val)\n",
    "            gain_performance[str(i)] = gain.evaluate(wide_window.test, verbose=0)\n",
    "\n",
    "            #print('file proc in main')\n",
    "            if __GAIN_TRAINING__ == True:\n",
    "                #dir = 'save/'+folder[i]\n",
    "                if not os.path.exists('save/' + folder[idx]):\n",
    "                    os.makedirs('save/'+folder[idx])\n",
    "                for file in loadfiles:\n",
    "                    shutil.copyfile('save/' + file, 'save/' + folder[idx] + file)\n",
    "\n",
    "            #print('create_dataset_with_gain in main')\n",
    "            #ori, gan = create_dataset_with_gain(gain=gain, window=wide_window, df=df)\n",
    "            ori, gan = create_dataset_with_gain(gain=gain, shape=(gain_in_setps, df_all.shape[1]), df=df)\n",
    "\n",
    "        else:\n",
    "            gan = create_dataset_interpol(window=gain_in_setps, df=df)\n",
    "    else:\n",
    "        gan = create_dataset_interpol(window=gain_in_setps, df=df)\n",
    "\n",
    "    if i == 0 :\n",
    "#        if i < length -1:\n",
    "#            gan = gan[:,:-4]  #맨마지막전까지 사인코사인삭제\n",
    "#            print(gan.shape)\n",
    "        real_df_all = pd.DataFrame(gan)\n",
    "    else:\n",
    "#        if i < length -1:\n",
    "#            gan = gan[:,:-4]  #맨마지막전까지 사인코사인삭제\n",
    "#            print(gan.shape)\n",
    "        real_df_all = pd.concat([real_df_all, pd.DataFrame(gan)], axis=1)"
   ]
  },
  {
   "cell_type": "code",
   "execution_count": null,
   "id": "excess-reason",
   "metadata": {},
   "outputs": [],
   "source": []
  },
  {
   "cell_type": "code",
   "execution_count": null,
   "id": "polish-equipment",
   "metadata": {},
   "outputs": [],
   "source": [
    "#-----------------------------------------------------------------------------------------------------------------\n",
    "#\n",
    "#\n",
    "#\n",
    "#\n",
    "#\n",
    "#\n",
    "#-----------------------------------------------------------------------------------------------------------------\n",
    "#\n",
    "#\n",
    "#\n",
    "#\n",
    "#\n",
    "#\n",
    "#-----------------------------------------------------------------------------------------------------------------"
   ]
  },
  {
   "cell_type": "code",
   "execution_count": null,
   "id": "successful-prize",
   "metadata": {},
   "outputs": [],
   "source": []
  },
  {
   "cell_type": "code",
   "execution_count": 33,
   "id": "higher-prime",
   "metadata": {
    "scrolled": true
   },
   "outputs": [
    {
     "name": "stdout",
     "output_type": "stream",
     "text": [
      "label_columns_indices:\n",
      "{'tmpr_value': 0, 'ph_value': 1, 'do_value': 2, 'ec_value': 3, 'toc_value': 4, '총질소_값': 5, '총인_값': 6, '클로로필-a_값': 7, 'Day sin': 8, 'Day cos': 9, 'Year sin': 10, 'Year cos': 11}\n",
      "target_col_idx :  4\n",
      "out_num_features :  1\n"
     ]
    }
   ],
   "source": [
    "label_columns_indices = {name: i for i, name in enumerate(dfff[0])}\n",
    "print(\"label_columns_indices:\")\n",
    "print(label_columns_indices)\n",
    "target_dic = {\"do\":\"do_value\", \"toc\":\"toc_value\", \"tn\":\"총질소_값\", \"tp\":\"총인_값\", \"chl-a\":\"클로로필-a_값\"}\n",
    "target_col_idx = label_columns_indices[target_dic[rnn_target_column]]\n",
    "out_features = [target_col_idx]\n",
    "out_num_features = len(out_features)\n",
    "\n",
    "print(\"target_col_idx : \", target_col_idx)\n",
    "print('out_num_features : ', out_num_features)"
   ]
  },
  {
   "cell_type": "code",
   "execution_count": 338,
   "id": "prime-fellow",
   "metadata": {},
   "outputs": [
    {
     "name": "stdout",
     "output_type": "stream",
     "text": [
      "(52608, 48)\n",
      "tn\n"
     ]
    }
   ],
   "source": [
    "print(real_df_all.shape)\n",
    "\n",
    "rnn_target_column = 'tn'\n",
    "print(rnn_target_column)"
   ]
  },
  {
   "cell_type": "code",
   "execution_count": 383,
   "id": "nasty-canberra",
   "metadata": {},
   "outputs": [],
   "source": [
    "#train_df, val_df, test_df, test_df2 = dataset_slice(real_df_all, 0.8, 0.1, 0.1)\n",
    "#teg_check = 'train=8, val=1, test=1'\n",
    "\n",
    "#train_df, test_df, val_df, test_df2 = dataset_slice(real_df_all, 0.8, 0.1, 0.1)\n",
    "#teg_check = 'train=8, test=1, val=1'\n",
    "\n",
    "val_df, test_df,train_df, test_df2 = dataset_slice(real_df_all, 0.1, 0.1, 0.8)\n",
    "teg_check = 'val=1, test=1, train=8'\n",
    "\n",
    "#test_df, val_df, train_df, test_df2 = dataset_slice(real_df_all, 0.1, 0.1, 0.8)\n",
    "#teg_check = 'test=1, val=1, train=8'\n",
    "\n",
    "#val_df, train_df, test_df, test_df2 = dataset_slice(real_df_all, 0.1, 0.8, 0.1)\n",
    "#teg_check = 'val=1, train=8, val=1'\n",
    "\n",
    "#test_df, train_df, val_df, test_df2 = dataset_slice(real_df_all, 0.1, 0.8, 0.1)\n",
    "#teg_check = 'test=1, train=8, val=1'\n"
   ]
  },
  {
   "cell_type": "code",
   "execution_count": 384,
   "id": "academic-planner",
   "metadata": {},
   "outputs": [
    {
     "name": "stdout",
     "output_type": "stream",
     "text": [
      "train_df.shape :  (42087, 48) val_df.shape :  (5260, 48) test_df.shape: (5261, 48)\n"
     ]
    }
   ],
   "source": [
    "print('train_df.shape : ', train_df.shape, 'val_df.shape : ', val_df.shape, 'test_df.shape:' ,test_df.shape)"
   ]
  },
  {
   "cell_type": "code",
   "execution_count": 385,
   "id": "sweet-joining",
   "metadata": {},
   "outputs": [
    {
     "data": {
      "application/vnd.jupyter.widget-view+json": {
       "model_id": "3d116957cbf24196aaf77991a9fe3a0f",
       "version_major": 2,
       "version_minor": 0
      },
      "text/plain": [
       "Canvas(toolbar=Toolbar(toolitems=[('Home', 'Reset original view', 'home', 'home'), ('Back', 'Back to previous …"
      ]
     },
     "metadata": {},
     "output_type": "display_data"
    },
    {
     "data": {
      "text/plain": [
       "[<matplotlib.lines.Line2D at 0x7f2ad00d1e10>]"
      ]
     },
     "execution_count": 385,
     "metadata": {},
     "output_type": "execute_result"
    }
   ],
   "source": [
    "plt.figure()\n",
    "plt.plot(real_df_all.iloc[:, out_features[0]])"
   ]
  },
  {
   "cell_type": "code",
   "execution_count": 386,
   "id": "compressed-resolution",
   "metadata": {},
   "outputs": [
    {
     "data": {
      "application/vnd.jupyter.widget-view+json": {
       "model_id": "d9b74da392a44dc683abff063d20167e",
       "version_major": 2,
       "version_minor": 0
      },
      "text/plain": [
       "Canvas(toolbar=Toolbar(toolitems=[('Home', 'Reset original view', 'home', 'home'), ('Back', 'Back to previous …"
      ]
     },
     "metadata": {},
     "output_type": "display_data"
    },
    {
     "data": {
      "text/plain": [
       "[<matplotlib.lines.Line2D at 0x7f2ad00c0090>]"
      ]
     },
     "execution_count": 386,
     "metadata": {},
     "output_type": "execute_result"
    }
   ],
   "source": [
    "plt.figure()\n",
    "plt.plot(test_df.iloc[:, out_features[0]])"
   ]
  },
  {
   "cell_type": "code",
   "execution_count": 387,
   "id": "sought-radar",
   "metadata": {},
   "outputs": [
    {
     "name": "stdout",
     "output_type": "stream",
     "text": [
      "label_columns_indices:\n",
      "{'tmpr_value': 0, 'ph_value': 1, 'do_value': 2, 'ec_value': 3, 'toc_value': 4, '총질소_값': 5, '총인_값': 6, '클로로필-a_값': 7, 'Day sin': 8, 'Day cos': 9, 'Year sin': 10, 'Year cos': 11}\n"
     ]
    }
   ],
   "source": [
    "label_columns_indices = {name: i for i, name in enumerate(dfff[0])}\n",
    "print(\"label_columns_indices:\")\n",
    "print(label_columns_indices)\n",
    "target_dic = {\"do\":\"do_value\", \"toc\":\"toc_value\", \"tn\":\"총질소_값\", \"tp\":\"총인_값\", \"chl-a\":\"클로로필-a_값\"}"
   ]
  },
  {
   "cell_type": "code",
   "execution_count": null,
   "id": "capable-discipline",
   "metadata": {},
   "outputs": [],
   "source": []
  },
  {
   "cell_type": "code",
   "execution_count": 388,
   "id": "imposed-stake",
   "metadata": {},
   "outputs": [
    {
     "name": "stdout",
     "output_type": "stream",
     "text": [
      "target_col_idx :  5\n",
      "out_num_features :  1\n"
     ]
    }
   ],
   "source": [
    "target_col_idx = label_columns_indices[target_dic[rnn_target_column]]\n",
    "out_features = [target_col_idx]\n",
    "out_num_features = len(out_features)\n",
    "\n",
    "print(\"target_col_idx : \", target_col_idx)\n",
    "print('out_num_features : ', out_num_features)"
   ]
  },
  {
   "cell_type": "code",
   "execution_count": 389,
   "id": "cloudy-postcard",
   "metadata": {},
   "outputs": [],
   "source": [
    "idx = [2, 4, 5, 6, 7]\n",
    "pa = [\"do/\", \"toc/\", \"nitrogen/\", \"phosphorus/\", \"chlorophyll-a/\"]\n",
    "indices = {name: i for i, name in enumerate(idx)}"
   ]
  },
  {
   "cell_type": "code",
   "execution_count": 390,
   "id": "transsexual-grace",
   "metadata": {},
   "outputs": [
    {
     "name": "stdout",
     "output_type": "stream",
     "text": [
      "save model path :  save/yeong/models/nitrogen/\n"
     ]
    }
   ],
   "source": [
    "WindowGenerator.make_dataset = make_dataset_water\n",
    "multi_window = WindowGenerator(\n",
    "    input_width=rnn_in_setps,label_width=rnn_out_steps, shift=rnn_out_steps,out_features=out_features,\n",
    "    out_num_features=out_num_features,label_columns=dfff[0].columns, batch_size=rnn_batch_size,\n",
    "    train_df=train_df, val_df=val_df, test_df=test_df, test_df2=test_df2)\n",
    "\n",
    "model_path = \"save/\" + watershed + \"models/\" + pa[indices[target_col_idx]]\n",
    "print(\"save model path : \", model_path)\n",
    "\n",
    "if __RNN_TRAINING__:\n",
    "    if not os.path.exists('save/' + watershed):\n",
    "        os.makedirs('save/' + watershed)\n",
    "    if not os.path.exists(model_path):\n",
    "        os.makedirs(model_path)"
   ]
  },
  {
   "cell_type": "markdown",
   "id": "ranking-commander",
   "metadata": {},
   "source": [
    "## 모델 학습"
   ]
  },
  {
   "cell_type": "code",
   "execution_count": 391,
   "id": "closing-beads",
   "metadata": {
    "scrolled": true
   },
   "outputs": [
    {
     "name": "stdout",
     "output_type": "stream",
     "text": [
      "WARNING:tensorflow:Layer gru_52 will not use cuDNN kernel since it doesn't meet the cuDNN kernel criteria. It will use generic GPU kernel as fallback when running on GPU\n",
      "WARNING:tensorflow:Layer gru_53 will not use cuDNN kernel since it doesn't meet the cuDNN kernel criteria. It will use generic GPU kernel as fallback when running on GPU\n",
      "WARNING:tensorflow:`period` argument is deprecated. Please use `save_freq` to specify the frequency in number of batches seen.\n",
      "Epoch 1/15\n",
      "10/10 [==============================] - ETA: 0s - loss: 0.5578 - mean_absolute_error: 0.5537 - nse: 0.1941\n",
      "Epoch 00001: val_loss improved from inf to 0.08665, saving model to save/yeong/models/nitrogen/gru.h5\n",
      "10/10 [==============================] - 2s 240ms/step - loss: 0.5578 - mean_absolute_error: 0.5537 - nse: 0.1941 - val_loss: 0.0867 - val_mean_absolute_error: 0.2177 - val_nse: 0.6922\n",
      "Epoch 2/15\n",
      "10/10 [==============================] - ETA: 0s - loss: 0.3134 - mean_absolute_error: 0.4138 - nse: 0.5881\n",
      "Epoch 00002: val_loss did not improve from 0.08665\n",
      "10/10 [==============================] - 2s 198ms/step - loss: 0.3134 - mean_absolute_error: 0.4138 - nse: 0.5881 - val_loss: 0.1916 - val_mean_absolute_error: 0.3633 - val_nse: 0.2883\n",
      "Epoch 3/15\n",
      "10/10 [==============================] - ETA: 0s - loss: 0.2122 - mean_absolute_error: 0.3493 - nse: 0.7182\n",
      "Epoch 00003: val_loss did not improve from 0.08665\n",
      "10/10 [==============================] - 2s 200ms/step - loss: 0.2122 - mean_absolute_error: 0.3493 - nse: 0.7182 - val_loss: 0.1554 - val_mean_absolute_error: 0.3262 - val_nse: 0.4365\n",
      "Epoch 4/15\n",
      "10/10 [==============================] - ETA: 0s - loss: 0.1579 - mean_absolute_error: 0.2991 - nse: 0.7852\n",
      "Epoch 00004: val_loss did not improve from 0.08665\n",
      "10/10 [==============================] - 2s 202ms/step - loss: 0.1579 - mean_absolute_error: 0.2991 - nse: 0.7852 - val_loss: 0.1008 - val_mean_absolute_error: 0.2469 - val_nse: 0.6583\n",
      "Epoch 5/15\n",
      "10/10 [==============================] - ETA: 0s - loss: 0.1355 - mean_absolute_error: 0.2725 - nse: 0.8220\n",
      "Epoch 00005: val_loss improved from 0.08665 to 0.06299, saving model to save/yeong/models/nitrogen/gru.h5\n",
      "10/10 [==============================] - 2s 206ms/step - loss: 0.1355 - mean_absolute_error: 0.2725 - nse: 0.8220 - val_loss: 0.0630 - val_mean_absolute_error: 0.1973 - val_nse: 0.7716\n",
      "Epoch 6/15\n",
      "10/10 [==============================] - ETA: 0s - loss: 0.1460 - mean_absolute_error: 0.2805 - nse: 0.8036\n",
      "Epoch 00006: val_loss did not improve from 0.06299\n",
      "10/10 [==============================] - 2s 203ms/step - loss: 0.1460 - mean_absolute_error: 0.2805 - nse: 0.8036 - val_loss: 0.0760 - val_mean_absolute_error: 0.2144 - val_nse: 0.7384\n",
      "Epoch 7/15\n",
      "10/10 [==============================] - ETA: 0s - loss: 0.1383 - mean_absolute_error: 0.2728 - nse: 0.8290\n",
      "Epoch 00007: val_loss did not improve from 0.06299\n",
      "10/10 [==============================] - 2s 201ms/step - loss: 0.1383 - mean_absolute_error: 0.2728 - nse: 0.8290 - val_loss: 0.0778 - val_mean_absolute_error: 0.2164 - val_nse: 0.7191\n",
      "Epoch 8/15\n",
      "10/10 [==============================] - ETA: 0s - loss: 0.1306 - mean_absolute_error: 0.2664 - nse: 0.8169\n",
      "Epoch 00008: val_loss did not improve from 0.06299\n",
      "10/10 [==============================] - 2s 201ms/step - loss: 0.1306 - mean_absolute_error: 0.2664 - nse: 0.8169 - val_loss: 0.0800 - val_mean_absolute_error: 0.2223 - val_nse: 0.6994\n",
      "Epoch 9/15\n",
      "10/10 [==============================] - ETA: 0s - loss: 0.1169 - mean_absolute_error: 0.2531 - nse: 0.8327\n",
      "Epoch 00009: val_loss did not improve from 0.06299\n",
      "10/10 [==============================] - 2s 201ms/step - loss: 0.1169 - mean_absolute_error: 0.2531 - nse: 0.8327 - val_loss: 0.0793 - val_mean_absolute_error: 0.2166 - val_nse: 0.7104\n",
      "Epoch 10/15\n",
      "10/10 [==============================] - ETA: 0s - loss: 0.1206 - mean_absolute_error: 0.2563 - nse: 0.8359\n",
      "Epoch 00010: val_loss did not improve from 0.06299\n",
      "10/10 [==============================] - 2s 204ms/step - loss: 0.1206 - mean_absolute_error: 0.2563 - nse: 0.8359 - val_loss: 0.0715 - val_mean_absolute_error: 0.2020 - val_nse: 0.7192\n",
      "Epoch 11/15\n",
      "10/10 [==============================] - ETA: 0s - loss: 0.1136 - mean_absolute_error: 0.2485 - nse: 0.8367\n",
      "Epoch 00011: val_loss did not improve from 0.06299\n",
      "10/10 [==============================] - 2s 205ms/step - loss: 0.1136 - mean_absolute_error: 0.2485 - nse: 0.8367 - val_loss: 0.0836 - val_mean_absolute_error: 0.2241 - val_nse: 0.7103\n",
      "Epoch 12/15\n",
      "10/10 [==============================] - ETA: 0s - loss: 0.1179 - mean_absolute_error: 0.2522 - nse: 0.8235\n",
      "Epoch 00012: val_loss did not improve from 0.06299\n",
      "10/10 [==============================] - 2s 200ms/step - loss: 0.1179 - mean_absolute_error: 0.2522 - nse: 0.8235 - val_loss: 0.0933 - val_mean_absolute_error: 0.2376 - val_nse: 0.6367\n",
      "Epoch 13/15\n",
      "10/10 [==============================] - ETA: 0s - loss: 0.1123 - mean_absolute_error: 0.2473 - nse: 0.8335\n",
      "Epoch 00013: val_loss improved from 0.06299 to 0.06211, saving model to save/yeong/models/nitrogen/gru.h5\n",
      "10/10 [==============================] - 2s 202ms/step - loss: 0.1123 - mean_absolute_error: 0.2473 - nse: 0.8335 - val_loss: 0.0621 - val_mean_absolute_error: 0.1910 - val_nse: 0.7847\n",
      "Epoch 14/15\n",
      "10/10 [==============================] - ETA: 0s - loss: 0.1107 - mean_absolute_error: 0.2507 - nse: 0.8338\n",
      "Epoch 00014: val_loss did not improve from 0.06211\n",
      "10/10 [==============================] - 2s 208ms/step - loss: 0.1107 - mean_absolute_error: 0.2507 - nse: 0.8338 - val_loss: 0.0815 - val_mean_absolute_error: 0.2259 - val_nse: 0.7362\n",
      "Epoch 15/15\n",
      "10/10 [==============================] - ETA: 0s - loss: 0.1157 - mean_absolute_error: 0.2537 - nse: 0.8352\n",
      "Epoch 00015: val_loss did not improve from 0.06211\n",
      "10/10 [==============================] - 2s 202ms/step - loss: 0.1157 - mean_absolute_error: 0.2537 - nse: 0.8352 - val_loss: 0.1080 - val_mean_absolute_error: 0.2563 - val_nse: 0.6076\n"
     ]
    }
   ],
   "source": [
    "gru_model = model_gru(\n",
    "    window=multi_window, OUT_STEPS=rnn_out_steps, out_num_features=out_num_features, epochs=rnn_epochs,\n",
    "    training_flag=__RNN_TRAINING__, checkpoint_path=model_path+\"gru.h5\")"
   ]
  },
  {
   "cell_type": "markdown",
   "id": "tender-attack",
   "metadata": {},
   "source": [
    "## core / window.py / "
   ]
  },
  {
   "cell_type": "code",
   "execution_count": 392,
   "id": "smooth-wilson",
   "metadata": {
    "scrolled": true
   },
   "outputs": [
    {
     "data": {
      "application/vnd.jupyter.widget-view+json": {
       "model_id": "421d80d7b876470da78d3f6594069e36",
       "version_major": 2,
       "version_minor": 0
      },
      "text/plain": [
       "Canvas(toolbar=Toolbar(toolitems=[('Home', 'Reset original view', 'home', 'home'), ('Back', 'Back to previous …"
      ]
     },
     "metadata": {},
     "output_type": "display_data"
    },
    {
     "name": "stdout",
     "output_type": "stream",
     "text": [
      "o1 :  4.283763\n",
      "predict_day :  5\n",
      "------------------------\n",
      "0.37580103 0.21346697 0.46202487\n",
      "nse3 :  [0.69313526]\n",
      "pbias3 :  [-7.169616]\n",
      "save/yeong/models/nitrogen/\n",
      "year : 2015 ~ 2020\n",
      "run :  range(0, 1)\n",
      "target :  tn\n",
      "val=1, test=1, train=8\n",
      "---------------\n",
      "[0.69313526]\n",
      "[7.169616]\n"
     ]
    }
   ],
   "source": [
    "val_nse = {}\n",
    "val_pbias = {}\n",
    "val_nse['GRU'], val_pbias['GRU'], pred, label = compa(\n",
    "    model=gru_model,df=test_df, plot_col=out_features[0], target_std=target_std, target_mean=target_mean,\n",
    "    #predict_day = rnn_predict_day)\n",
    "    predict_day = 4)\n",
    "print(model_path)\n",
    "print(\"year : \" + start_year + \" ~ \"+ end_year)\n",
    "print('run : ', run_num)\n",
    "print('target : ', rnn_target_column)\n",
    "print(teg_check)\n",
    "print(\"---------------\")\n",
    "print(val_nse['GRU'])\n",
    "print(val_pbias['GRU'])"
   ]
  },
  {
   "cell_type": "code",
   "execution_count": 371,
   "id": "respective-buying",
   "metadata": {},
   "outputs": [],
   "source": [
    "#train_df.shape, val_df.shape, test_df.shape"
   ]
  },
  {
   "cell_type": "code",
   "execution_count": 372,
   "id": "primary-polyester",
   "metadata": {},
   "outputs": [],
   "source": [
    "#-----------------------------------------------------------------------------------------------------------------\n",
    "#\n",
    "#\n",
    "#\n",
    "#\n",
    "#\n",
    "#\n",
    "#-----------------------------------------------------------------------------------------------------------------\n",
    "#\n",
    "#\n",
    "#\n",
    "#\n",
    "#\n",
    "#\n",
    "#-----------------------------------------------------------------------------------------------------------------\n"
   ]
  },
  {
   "cell_type": "code",
   "execution_count": null,
   "id": "successful-identification",
   "metadata": {},
   "outputs": [],
   "source": []
  },
  {
   "cell_type": "code",
   "execution_count": null,
   "id": "entertaining-sunrise",
   "metadata": {},
   "outputs": [],
   "source": []
  },
  {
   "cell_type": "code",
   "execution_count": null,
   "id": "subtle-vacuum",
   "metadata": {},
   "outputs": [],
   "source": []
  },
  {
   "cell_type": "code",
   "execution_count": null,
   "id": "assured-restriction",
   "metadata": {},
   "outputs": [],
   "source": []
  },
  {
   "cell_type": "code",
   "execution_count": null,
   "id": "exempt-confidence",
   "metadata": {},
   "outputs": [],
   "source": []
  },
  {
   "cell_type": "code",
   "execution_count": null,
   "id": "democratic-cooling",
   "metadata": {},
   "outputs": [],
   "source": []
  },
  {
   "cell_type": "code",
   "execution_count": null,
   "id": "filled-causing",
   "metadata": {},
   "outputs": [],
   "source": []
  },
  {
   "cell_type": "code",
   "execution_count": null,
   "id": "motivated-poison",
   "metadata": {},
   "outputs": [],
   "source": []
  },
  {
   "cell_type": "code",
   "execution_count": null,
   "id": "outstanding-grove",
   "metadata": {},
   "outputs": [],
   "source": []
  },
  {
   "cell_type": "code",
   "execution_count": null,
   "id": "featured-battle",
   "metadata": {},
   "outputs": [],
   "source": []
  },
  {
   "cell_type": "code",
   "execution_count": null,
   "id": "criminal-hypothetical",
   "metadata": {},
   "outputs": [],
   "source": []
  },
  {
   "cell_type": "code",
   "execution_count": null,
   "id": "numeric-cartoon",
   "metadata": {},
   "outputs": [],
   "source": []
  },
  {
   "cell_type": "code",
   "execution_count": null,
   "id": "frozen-christmas",
   "metadata": {},
   "outputs": [],
   "source": []
  },
  {
   "cell_type": "code",
   "execution_count": 54,
   "id": "sweet-planner",
   "metadata": {},
   "outputs": [],
   "source": []
  },
  {
   "cell_type": "code",
   "execution_count": null,
   "id": "uniform-craps",
   "metadata": {},
   "outputs": [],
   "source": []
  },
  {
   "cell_type": "code",
   "execution_count": null,
   "id": "minimal-military",
   "metadata": {},
   "outputs": [],
   "source": []
  },
  {
   "cell_type": "code",
   "execution_count": null,
   "id": "greater-halloween",
   "metadata": {},
   "outputs": [],
   "source": []
  },
  {
   "cell_type": "code",
   "execution_count": null,
   "id": "potential-measurement",
   "metadata": {},
   "outputs": [],
   "source": []
  },
  {
   "cell_type": "code",
   "execution_count": null,
   "id": "serial-variable",
   "metadata": {},
   "outputs": [],
   "source": []
  },
  {
   "cell_type": "code",
   "execution_count": null,
   "id": "dimensional-message",
   "metadata": {},
   "outputs": [],
   "source": []
  },
  {
   "cell_type": "code",
   "execution_count": null,
   "id": "sized-crazy",
   "metadata": {},
   "outputs": [],
   "source": [
    "\n",
    "def compa(model=None,df = None, plot_col=0, input_width=7*24, label_width=5*24, target_std=None, target_mean=None, predict_day=4):\n",
    "    \n",
    "    #print(df.shape)\n",
    "    #print(plot_col)\n",
    "    \n",
    "    width = input_width + label_width\n",
    "    \n",
    "    length = df.shape[0]\n",
    "    length -= width\n",
    "    \n",
    "    inputs = []\n",
    "    labels = []\n",
    "    \n",
    "    for i in range(0, length, 24):\n",
    "        dataset = df.iloc[i:i+width].to_numpy()\n",
    "        input = dataset[:input_width]\n",
    "        label = dataset[input_width:, plot_col:plot_col+1]\n",
    "        \n",
    "        input = input.reshape((-1,)+input.shape)\n",
    "        label = label.reshape((-1,)+label.shape)\n",
    "        \n",
    "        inputs.append(input)\n",
    "        labels.append(label)\n",
    "        \n",
    "    inputs = np.concatenate(inputs, axis=0)\n",
    "    labels = np.concatenate(labels, axis=0)\n",
    "    \n",
    "    \n",
    "\n",
    "    predictions = model(inputs).numpy()\n",
    "    \n",
    "    print(\"input : \", inputs.shape, \"labels : \", labels.shape, \"predictions : \", predictions.shape)\n",
    "    #print(predictions.shape)\n",
    "    \n",
    "    predictions = predictions * target_std[plot_col] + target_mean[plot_col]\n",
    "    labels = labels * target_std[plot_col] + target_mean[plot_col]\n",
    "\n",
    "    pred_day = hour_to_day_mean(predictions)\n",
    "    \n",
    "    label_day = hour_to_day_mean(labels)\n",
    "    \n",
    "    inputs_target = inputs[:,:,plot_col:plot_col+1]\n",
    "    inputs_target = inputs_target * target_std[plot_col] + target_mean[plot_col]\n",
    "    inputs_day = hour_to_day_mean(inputs_target)\n",
    "    \n",
    "    print(\"                label_day.shape : \",label_day.shape, \"pred_day.shape : \", pred_day.shape)\n",
    "    \n",
    "    #plt.figure()\n",
    "    #input_index = np.array(range(0, length, 24))\n",
    "    #label_index = input_index + 24* (7 + predict_day)\n",
    "    #plt.plot(input_index, inputs_day[:, 0, :], label='input')\n",
    "    #plt.plot(label_index, label_day[:, predict_day, :], label='label')\n",
    "    #plt.plot(label_index, pred_day[:, predict_day, :], label='pred')\n",
    "    #plt.legend()\n",
    "    \n",
    "    #o1 = np.mean(labels)\n",
    "    o1 = np.mean(label_day[:,predict_day,:])\n",
    "    nse1 = ((label_day - pred_day)**2).sum(axis=0)\n",
    "    nse2 = ((label_day - o1)**2).sum(axis=0)\n",
    "    nse3 = 1 - (nse1[predict_day]/nse2[predict_day])\n",
    "    print('o1 : ', o1)\n",
    "    print('predict_day : ', predict_day + 1)\n",
    "    pbias1 = (label_day - pred_day).sum(axis=0)\n",
    "    pbias2 = (label_day).sum(axis=0)\n",
    "    pbias3 = (pbias1[predict_day]/pbias2[predict_day])*100\n",
    "    \n",
    "    \n",
    "    mae = (np.abs(label_day - pred_day)).mean()\n",
    "    mse = ((label_day - pred_day)**2).mean()\n",
    "    rmse = np.sqrt(((label_day - pred_day)**2).mean())\n",
    "    \n",
    "    print('------------------------')\n",
    "    print(mae, mse ,rmse)\n",
    "    labels_test = labels.mean(axis=1)\n",
    "    predis_test = inputs_target.mean(axis=1)\n",
    "    \n",
    "    nse2_1 = ((labels_test - predis_test)**2).sum()\n",
    "    nse2_2 = ((labels_test - o1)**2).sum()\n",
    "    nse2_3 = 1 - (nse2_1/nse2_2)\n",
    "    \n",
    "    pbias2_1 = (labels_test - predis_test).sum()\n",
    "    pbias2_2 = labels_test.sum()\n",
    "    pbias2_3 = pbias2_1/pbias2_2 * 100\n",
    "    #print(labels_test.shape)\n",
    "    #print(predis_test.shape)\n",
    "    #print()\n",
    "    #print(\"nse2_3 : \",nse2_3)\n",
    "    #print(\"pbias2_3 : \",pbias2_3)\n",
    "    ##print('------------------------')\n",
    "    print(\"nse3 : \", nse3)\n",
    "    print(\"pbias3 : \",pbias3)\n",
    "    ##print('------------------------')\n",
    "    \n",
    "    return nse3, np.abs(pbias3), inputs_day, label_day, pred_day\n",
    "    "
   ]
  },
  {
   "cell_type": "code",
   "execution_count": null,
   "id": "separate-appendix",
   "metadata": {},
   "outputs": [],
   "source": []
  },
  {
   "cell_type": "code",
   "execution_count": null,
   "id": "under-terminology",
   "metadata": {},
   "outputs": [],
   "source": [
    "\n",
    "x = np.arange(len(val_nse))\n",
    "width = 0.35\n",
    "plt.figure()\n",
    "plt.title(watershed + '  ['+start_year+','+end_year+']  ' + rnn_target_column)\n",
    "plt.bar(x, val_pbias.values(), 0.3, label='PBIAS' )\n",
    "plt.bar(x + width, val_nse.values(), 0.3, label='NSE')\n",
    "plt.xticks(x,val_nse.keys(), rotation=0)\n",
    "_ = plt.legend()\n",
    "plt.show()\n"
   ]
  },
  {
   "cell_type": "code",
   "execution_count": null,
   "id": "sufficient-catalog",
   "metadata": {},
   "outputs": [],
   "source": []
  },
  {
   "cell_type": "code",
   "execution_count": null,
   "id": "other-honduras",
   "metadata": {},
   "outputs": [],
   "source": []
  },
  {
   "cell_type": "code",
   "execution_count": null,
   "id": "unnecessary-marker",
   "metadata": {},
   "outputs": [],
   "source": []
  }
 ],
 "metadata": {
  "kernelspec": {
   "display_name": "Python 3",
   "language": "python",
   "name": "python3"
  },
  "language_info": {
   "codemirror_mode": {
    "name": "ipython",
    "version": 3
   },
   "file_extension": ".py",
   "mimetype": "text/x-python",
   "name": "python",
   "nbconvert_exporter": "python",
   "pygments_lexer": "ipython3",
   "version": "3.7.9"
  }
 },
 "nbformat": 4,
 "nbformat_minor": 5
}
