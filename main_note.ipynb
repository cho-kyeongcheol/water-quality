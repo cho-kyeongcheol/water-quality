{
 "cells": [
  {
   "cell_type": "code",
   "execution_count": 1,
   "id": "bored-conservation",
   "metadata": {},
   "outputs": [],
   "source": [
    "import shutil\n",
    "\n",
    "from core.gain import *\n",
    "from core.rnn_predic import *\n",
    "from core.models import *\n",
    "from core.util import *\n",
    "#from core.window import WindowGenerator, MissData, make_dataset_water, WaterDataGenerator\n",
    "from core.window import WindowGenerator, make_dataset_gain, make_dataset_water\n",
    "from core.file_open import make_dataframe\n",
    "from core.miss_data import MissData\n",
    "import json\n",
    "%matplotlib widget\n",
    "import os"
   ]
  },
  {
   "cell_type": "code",
   "execution_count": 2,
   "id": "instant-rough",
   "metadata": {},
   "outputs": [],
   "source": [
    "def hour_to_day_mean(array):\n",
    "    time = 24\n",
    "    array = array.reshape((array.shape[0], array.shape[1] // time, time, array.shape[2]))\n",
    "    array = array.mean(2)\n",
    "    return array"
   ]
  },
  {
   "cell_type": "code",
   "execution_count": 3,
   "id": "outstanding-adolescent",
   "metadata": {},
   "outputs": [],
   "source": [
    "\n",
    "def compa(model=None,df = None, plot_col=0, input_width=7*24, label_width=5*24, target_std=None, target_mean=None, predict_day=4):\n",
    "    width = input_width + label_width\n",
    "    length = df.shape[0] - width\n",
    "    inputs = []\n",
    "    labels = []\n",
    "    \n",
    "    for i in range(0, length, 24):\n",
    "        dataset = df.iloc[i:i+width].to_numpy()\n",
    "        input = dataset[:input_width]\n",
    "        label = dataset[input_width:, plot_col:plot_col+1]\n",
    "        \n",
    "        input = input.reshape((-1,)+input.shape)\n",
    "        label = label.reshape((-1,)+label.shape)\n",
    "        \n",
    "        inputs.append(input)\n",
    "        labels.append(label)\n",
    "        \n",
    "        \n",
    "    inputs = np.concatenate(inputs, axis=0)\n",
    "    labels = np.concatenate(labels, axis=0)\n",
    "    \n",
    "\n",
    "    predictions = model(inputs).numpy()\n",
    "    \n",
    "    predictions = predictions * target_std[plot_col] + target_mean[plot_col]\n",
    "    labels = labels * target_std[plot_col] + target_mean[plot_col]\n",
    "\n",
    "    pred_day = hour_to_day_mean(predictions)\n",
    "    \n",
    "    label_day = hour_to_day_mean(labels)\n",
    "    \n",
    "    inputs_target = inputs[:,:,plot_col:plot_col+1]\n",
    "    inputs_target = inputs_target * target_std[plot_col] + target_mean[plot_col]\n",
    "    inputs_day = hour_to_day_mean(inputs_target)\n",
    "    \n",
    "    plt.figure()\n",
    "    input_index = np.array(range(0, length, 24))\n",
    "    label_index = input_index + 24* (7 + predict_day)\n",
    "    plt.plot(input_index, inputs_day[:, 0, :], label='input')\n",
    "    plt.plot(label_index, label_day[:, predict_day, :], label='label')\n",
    "    plt.plot(label_index, pred_day[:, predict_day, :], label='pred')\n",
    "    plt.legend()\n",
    "    #plt.savefig('test_plt.png')\n",
    "    \n",
    "    #o1 = np.mean(labels)\n",
    "    o1 = np.mean(label_day[:,predict_day,:])\n",
    "    nse1 = ((label_day - pred_day)**2).sum(axis=0)\n",
    "    nse2 = ((label_day - o1)**2).sum(axis=0)\n",
    "    nse3 = 1 - (nse1[predict_day]/nse2[predict_day])\n",
    "    print('o1 : ', o1)\n",
    "    print('predict_day : ', predict_day + 1)\n",
    "    pbias1 = (label_day - pred_day).sum(axis=0)\n",
    "    pbias2 = (label_day).sum(axis=0)\n",
    "    pbias3 = (pbias1[predict_day]/pbias2[predict_day])*100\n",
    "    \n",
    "    \n",
    "    mae = (np.abs(label_day - pred_day)).mean()\n",
    "    mse = ((label_day - pred_day)**2).mean()\n",
    "    rmse = np.sqrt(((label_day - pred_day)**2).mean())\n",
    "    \n",
    "    print('------------------------')\n",
    "    print(mae, mse ,rmse)\n",
    "    labels_test = labels.mean(axis=1)\n",
    "    predis_test = inputs_target.mean(axis=1)\n",
    "    \n",
    "    nse2_1 = ((labels_test - predis_test)**2).sum()\n",
    "    nse2_2 = ((labels_test - o1)**2).sum()\n",
    "    nse2_3 = 1 - (nse2_1/nse2_2)\n",
    "    \n",
    "    pbias2_1 = (labels_test - predis_test).sum()\n",
    "    pbias2_2 = labels_test.sum()\n",
    "    pbias2_3 = pbias2_1/pbias2_2 * 100\n",
    "    #print(labels_test.shape)\n",
    "    #print(predis_test.shape)\n",
    "    #print()\n",
    "    #print(\"nse2_3 : \",nse2_3)\n",
    "    #print(\"pbias2_3 : \",pbias2_3)\n",
    "    ##print('------------------------')\n",
    "    #print(\"nse3 : \", nse3)\n",
    "    #print(\"pbias3 : \",pbias3)\n",
    "    ##print('------------------------')\n",
    "    \n",
    "    return nse3, np.abs(pbias3), pred_day, labels"
   ]
  },
  {
   "cell_type": "code",
   "execution_count": 4,
   "id": "offensive-spider",
   "metadata": {},
   "outputs": [
    {
     "name": "stdout",
     "output_type": "stream",
     "text": [
      "1 Physical GPUs, 1 Logical GPUs\n"
     ]
    }
   ],
   "source": [
    "os.environ[\"CUDA_DEVICE_ORDER\"]=\"PCI_BUS_ID\"   # see issue #152\n",
    "os.environ[\"CUDA_VISIBLE_DEVICES\"]=\"0,1\"\n",
    "\n",
    "gpus = tf.config.experimental.list_physical_devices('GPU')\n",
    "if gpus:\n",
    "    try:\n",
    "        # Currently, memory growth needs to be the same across GPUs\n",
    "        for gpu in gpus:\n",
    "            tf.config.experimental.set_memory_growth(gpu, True)\n",
    "        logical_gpus = tf.config.experimental.list_logical_devices('GPU')\n",
    "        print(len(gpus), \"Physical GPUs,\", len(logical_gpus), \"Logical GPUs\")\n",
    "    except RuntimeError as e:\n",
    "        # Memory growth must be set before GPUs have been initialized\n",
    "        print(e) \n"
   ]
  },
  {
   "cell_type": "code",
   "execution_count": 5,
   "id": "norman-queen",
   "metadata": {},
   "outputs": [],
   "source": [
    "data_path = 'data/'\n",
    "parameters_dir = 'input'\n",
    "\n",
    "parameters_file = 'input.json'\n",
    "parameters_path = '{dir}/{file}'.format(dir=parameters_dir, file=parameters_file)\n",
    "\n",
    "with open(parameters_path, encoding='utf8') as json_file:\n",
    "    parameters = json.load(json_file)\n",
    "\n",
    "gain_parameters = parameters['gain']\n",
    "rnn_parameters = parameters['rnn']\n",
    "file_parameters = parameters['file']"
   ]
  },
  {
   "cell_type": "code",
   "execution_count": 6,
   "id": "defensive-traffic",
   "metadata": {},
   "outputs": [
    {
     "data": {
      "text/plain": [
       "'nak_auto_13'"
      ]
     },
     "execution_count": 6,
     "metadata": {},
     "output_type": "execute_result"
    }
   ],
   "source": [
    "file_parameters['watershed']"
   ]
  },
  {
   "cell_type": "code",
   "execution_count": 7,
   "id": "unlimited-postage",
   "metadata": {},
   "outputs": [],
   "source": [
    "parameters_path = parameters_dir+'/'+ file_parameters['watershed'] + '.json'\n",
    "with open(parameters_path, encoding='utf8') as json_file:\n",
    "    parameters = json.load(json_file)"
   ]
  },
  {
   "cell_type": "code",
   "execution_count": 8,
   "id": "changed-timer",
   "metadata": {},
   "outputs": [],
   "source": [
    "pd.set_option('display.max_columns', 1000)"
   ]
  },
  {
   "cell_type": "code",
   "execution_count": 9,
   "id": "alternate-reverse",
   "metadata": {},
   "outputs": [],
   "source": [
    "data_parameters = parameters['data']\n",
    "\n",
    "interpolation_option = data_parameters['interpolation']\n",
    "colum_idx = data_parameters['columns']\n",
    "watershed = data_parameters['watershed']\n",
    "file_names = data_parameters['files']\n",
    "folder = data_parameters['directorys']\n",
    "for i in range(len(folder)):\n",
    "    folder[i] = watershed+folder[i]"
   ]
  },
  {
   "cell_type": "code",
   "execution_count": 10,
   "id": "committed-boulder",
   "metadata": {},
   "outputs": [],
   "source": [
    "__GAIN_TRAINING__ = gain_parameters['train']\n",
    "gain_epochs = gain_parameters['max_epochs']\n",
    "gain_in_setps = gain_parameters['input_width']\n",
    "gain_out_setps = gain_parameters['label_width']\n",
    "gain_batch_size = gain_parameters['batch_size']\n",
    "gain_fill_no = gain_parameters['fill_width']\n",
    "gain_shift = gain_parameters['shift_width']\n",
    "gain_miss_rate = gain_parameters['miss_rate']\n",
    "\n",
    "__RNN_TRAINING__ = rnn_parameters['train']\n",
    "rnn_epochs = rnn_parameters['max_epochs']\n",
    "rnn_in_setps = rnn_parameters['input_width']\n",
    "rnn_out_steps = rnn_parameters['label_width']\n",
    "rnn_batch_size = rnn_parameters['batch_size']\n",
    "rnn_predict_day = rnn_parameters['predict_day']\n",
    "rnn_target_column = rnn_parameters['target_column']\n",
    "\n",
    "if rnn_predict_day < 3 or rnn_predict_day >5:\n",
    "    print('predict_day err')\n",
    "    exit(88)\n",
    "rnn_predict_day -= 1"
   ]
  },
  {
   "cell_type": "code",
   "execution_count": 11,
   "id": "powered-sixth",
   "metadata": {},
   "outputs": [
    {
     "data": {
      "text/plain": [
       "(False, 2000, True, 20)"
      ]
     },
     "execution_count": 11,
     "metadata": {},
     "output_type": "execute_result"
    }
   ],
   "source": [
    "__GAIN_TRAINING__, gain_epochs ,__RNN_TRAINING__, rnn_epochs"
   ]
  },
  {
   "cell_type": "code",
   "execution_count": 12,
   "id": "suspected-quebec",
   "metadata": {},
   "outputs": [],
   "source": [
    "run_num = range(len(folder))\n",
    "real_df_all = pd.DataFrame([])\n",
    "target_all = target_mean = target_std = 0\n",
    "\n",
    "gain_val_performance = {}\n",
    "gain_performance = {}\n",
    "\n",
    "length = len(run_num)\n",
    "\n",
    "ddday = 31\n",
    "mmmonth = 12\n",
    "\n",
    "#length = 1"
   ]
  },
  {
   "cell_type": "code",
   "execution_count": 13,
   "id": "undefined-sperm",
   "metadata": {
    "scrolled": true
   },
   "outputs": [
    {
     "name": "stdout",
     "output_type": "stream",
     "text": [
      "interpol flag :  [False, False]\n",
      "folder :  data/nak/자동/\n",
      "colum_idx :  :,[26,27,28,29,30,31,32,33]\n",
      "file_names[idx] :  [['도개_2013.xlsx', '도개_2014.xlsx', '도개_2015.xlsx', '도개_2016.xlsx', '도개_2017.xlsx', '도개_2018.xlsx', '도개_2019.xlsx', '도개_2020.xlsx'], ['신암_2013.xlsx', '신암_2014.xlsx', '신암_2015.xlsx', '신암_2016.xlsx', '신암_2017.xlsx', '신암_2018.xlsx', '신암_2019.xlsx', '신암_2020.xlsx'], ['풍양_2013.xlsx', '풍양_2014.xlsx', '풍양_2015.xlsx', '풍양_2016.xlsx', '풍양_2017.xlsx', '풍양_2018.xlsx', '풍양_2019.xlsx', '풍양_2020.xlsx']]\n",
      "data/nak/자동/도개_2013.xlsx\n",
      "data/nak/자동/도개_2014.xlsx\n",
      "data/nak/자동/도개_2015.xlsx\n",
      "data/nak/자동/도개_2016.xlsx\n",
      "data/nak/자동/도개_2017.xlsx\n",
      "data/nak/자동/도개_2018.xlsx\n",
      "data/nak/자동/도개_2019.xlsx\n",
      "data/nak/자동/도개_2020.xlsx\n",
      "time range in files :  2013-01-01 00:00  ~  2020-11-15 23:00\n",
      "data/nak/자동/신암_2013.xlsx\n",
      "data/nak/자동/신암_2014.xlsx\n",
      "data/nak/자동/신암_2015.xlsx\n",
      "data/nak/자동/신암_2016.xlsx\n",
      "data/nak/자동/신암_2017.xlsx\n",
      "data/nak/자동/신암_2018.xlsx\n",
      "data/nak/자동/신암_2019.xlsx\n",
      "data/nak/자동/신암_2020.xlsx\n",
      "time range in files :  2013-01-01 00:00  ~  2020-11-15 23:00\n",
      "data/nak/자동/풍양_2013.xlsx\n",
      "data/nak/자동/풍양_2014.xlsx\n",
      "data/nak/자동/풍양_2015.xlsx\n",
      "data/nak/자동/풍양_2016.xlsx\n",
      "data/nak/자동/풍양_2017.xlsx\n",
      "data/nak/자동/풍양_2018.xlsx\n",
      "data/nak/자동/풍양_2019.xlsx\n",
      "data/nak/자동/풍양_2020.xlsx\n",
      "time range in files :  2013-01-01 00:00  ~  2020-11-15 23:00\n",
      "MissData :  save/  miss :  (11063, 12)\n",
      "1/1 [==============================] - 0s 8ms/step - loss: 0.2462\n",
      "MissData :  save/  miss :  (11063, 12)\n"
     ]
    }
   ],
   "source": [
    "for i in range(length):\n",
    "\n",
    "    idx = run_num[i]\n",
    "\n",
    "    print('interpol flag : ', interpolation_option[idx])\n",
    "    print('folder : ', data_path + folder[idx])\n",
    "    print('colum_idx : ', colum_idx[idx])\n",
    "    print('file_names[idx] : ', file_names[idx])\n",
    "\n",
    "    #start = time.time()\n",
    "\n",
    "    #if watershed == '한강_12days_test':\n",
    "    #    df, times = make_dataframe_temp_12days(folder[idx], file_names[idx], colum_idx[idx], interpolate=interpolation_option[idx])\n",
    "    #else:\n",
    "    #df, times = make_dataframe(data_path+folder[idx], file_names[idx], colum_idx[idx], interpolation=interpolation_option[idx])\n",
    "    df, times, mmmonth, ddday = make_dataframe(data_path+folder[idx], file_names[idx], \n",
    "                               colum_idx[idx], interpolation=interpolation_option[idx],\n",
    "                              first_file_no=i, month=mmmonth, day=ddday)\n",
    "\n",
    "    df_all, train_mean, train_std, df = normalize(df)\n",
    "\n",
    "\n",
    "    if i == 0:\n",
    "        dfff = df\n",
    "        target_all = df_all\n",
    "        target_std = train_std\n",
    "        target_mean = train_mean\n",
    "        start_year = str(times.iloc[0].year)\n",
    "        end_year = str(times.iloc[-1].year)\n",
    "\n",
    "    if interpolation_option[idx][0] == False:\n",
    "\n",
    "        loadfiles = ['idx.npy', 'miss.npy', 'discriminator.h5', 'generator.h5']\n",
    "\n",
    "        gain_calc_falg = True\n",
    "\n",
    "        if __GAIN_TRAINING__ == True:\n",
    "            gain_calc_falg = MissData.save(pd.concat(df, axis=0).to_numpy(), max_tseq=24, save_dir='save/')\n",
    "            #print(folder[idx], ': training ', 'Miss date save : ', gain_calc_falg)\n",
    "        else:\n",
    "            for file in loadfiles:\n",
    "                if os.path.isfile('save/' + folder[idx]+file):\n",
    "                    shutil.copyfile('save/' + folder[idx]+file, 'save/'+file)\n",
    "                    #print('load file name : save/' + folder[idx]+file)\n",
    "                else:\n",
    "                    if file == 'miss.npy':\n",
    "                        gain_calc_falg = MissData.save(pd.concat(df, axis=0).to_numpy(), max_tseq=24, save_dir='save/')\n",
    "                        #print(folder[idx], ': is not miss.npy ', 'Miss date save : ', gain_calc_falg)\n",
    "\n",
    "        if gain_calc_falg == True:\n",
    "            #print('GainWindowGenerator in main')\n",
    "            WindowGenerator.make_dataset = make_dataset_gain\n",
    "            wide_window = WindowGenerator(input_width=gain_in_setps, label_width=gain_out_setps, shift=gain_shift,\n",
    "                                          fill_no=gain_fill_no, miss_rate=gain_miss_rate, batch_size=gain_batch_size,\n",
    "                                          train_df = df_all, val_df = df_all, test_df = df_all, df = df)\n",
    "\n",
    "            #gain = model_GAIN(shape=wide_window.dg.shape[1:], gen_sigmoid=False, epochs=gain_epochs, training_flag=__GAIN_TRAINING__, window=wide_window, model_save_path='save/')\n",
    "            gain = model_GAIN(shape=(gain_in_setps, df_all.shape[1]), gen_sigmoid=False, epochs=gain_epochs,\n",
    "                              training_flag=__GAIN_TRAINING__, window=wide_window, model_save_path='save/')\n",
    "\n",
    "            gain_val_performance[str(i)] = gain.evaluate(wide_window.val)\n",
    "            gain_performance[str(i)] = gain.evaluate(wide_window.test, verbose=0)\n",
    "\n",
    "            #print('file proc in main')\n",
    "            if __GAIN_TRAINING__ == True:\n",
    "                #dir = 'save/'+folder[i]\n",
    "                if not os.path.exists('save/' + folder[idx]):\n",
    "                    os.makedirs('save/'+folder[idx])\n",
    "                for file in loadfiles:\n",
    "                    shutil.copyfile('save/' + file, 'save/' + folder[idx] + file)\n",
    "\n",
    "            #print('create_dataset_with_gain in main')\n",
    "            #ori, gan = create_dataset_with_gain(gain=gain, window=wide_window, df=df)\n",
    "            ori, gan = create_dataset_with_gain(gain=gain, shape=(gain_in_setps, df_all.shape[1]), df=df)\n",
    "\n",
    "        else:\n",
    "            gan = create_dataset_interpol(window=gain_in_setps, df=df)\n",
    "    else:\n",
    "        gan = create_dataset_interpol(window=gain_in_setps, df=df)\n",
    "\n",
    "    if i == 0 :\n",
    "#        if i < length -1:\n",
    "#            gan = gan[:,:-4]  #맨마지막전까지 사인코사인삭제\n",
    "#            print(gan.shape)\n",
    "        real_df_all = pd.DataFrame(gan)\n",
    "    else:\n",
    "#        if i < length -1:\n",
    "#            gan = gan[:,:-4]  #맨마지막전까지 사인코사인삭제\n",
    "#            print(gan.shape)\n",
    "        real_df_all = pd.concat([real_df_all, pd.DataFrame(gan)], axis=1)"
   ]
  },
  {
   "cell_type": "code",
   "execution_count": null,
   "id": "offshore-evening",
   "metadata": {},
   "outputs": [],
   "source": []
  },
  {
   "cell_type": "code",
   "execution_count": 14,
   "id": "civilian-creator",
   "metadata": {},
   "outputs": [],
   "source": [
    "#-----------------------------------------------------------------------------------------------------------------\n",
    "#            RRRRRRRRRRRRRRRRRR          NNNNNN       NNNNNN      NNNNNN       NNNNNN\n",
    "#           RRRRRRRRRRRRRRRRRRRR        NNNNNNN      NNNNNN      NNNNNNN      NNNNNN\n",
    "#          RRRRRRR      RRRRRRRR       NNNNNNNN     NNNNNN      NNNNNNNN     NNNNNN\n",
    "#         RRRRRRR      RRRRRRRR       NNNNNNNNN    NNNNNN      NNNNNNNNN    NNNNNN\n",
    "#        RRRRRRRRRRRRRRRRRRRR        NNNNNNNNNN   NNNNNN      NNNNNNNNNN   NNNNNN\n",
    "#       RRRRRRRRRRRRRRRRR           NNNNNNNNNNN  NNNNNN      NNNNNNNNNNN  NNNNNN \n",
    "#      RRRRRRR     RRRRRRR         NNNNNNN NNNN NNNNNN      NNNNNNN NNNN NNNNNN\n",
    "#     RRRRRRR       RRRRRRR       NNNNNNN  NNNNNNNNNN      NNNNNNN  NNNNNNNNNN\n",
    "#    RRRRRRR        RRRRRRR      NNNNNNN   NNNNNNNNN      NNNNNNN   NNNNNNNNN\n",
    "#   RRRRRRR         RRRRRRR     NNNNNNN    NNNNNNNN      NNNNNNN    NNNNNNNN \n",
    "#  RRRRRRR         RRRRRRR     NNNNNNN     NNNNNNN      NNNNNNN     NNNNNNN\n",
    "#-----------------------------------------------------------------------------------------------------------------"
   ]
  },
  {
   "cell_type": "code",
   "execution_count": null,
   "id": "comprehensive-mission",
   "metadata": {},
   "outputs": [],
   "source": []
  },
  {
   "cell_type": "code",
   "execution_count": 15,
   "id": "technological-homework",
   "metadata": {
    "scrolled": true
   },
   "outputs": [
    {
     "name": "stdout",
     "output_type": "stream",
     "text": [
      "label_columns_indices:\n",
      "{'tmpr_value': 0, 'ph_value': 1, 'do_value': 2, 'ec_value': 3, 'toc_value': 4, '총질소_값': 5, '총인_값': 6, '클로로필-a_값': 7, 'Day sin': 8, 'Day cos': 9, 'Year sin': 10, 'Year cos': 11}\n",
      "target_col_idx :  6\n",
      "out_num_features :  1\n"
     ]
    }
   ],
   "source": [
    "label_columns_indices = {name: i for i, name in enumerate(dfff[0])}\n",
    "print(\"label_columns_indices:\")\n",
    "print(label_columns_indices)\n",
    "target_dic = {\"do\":\"do_value\", \"toc\":\"toc_value\", \"tn\":\"총질소_값\", \"tp\":\"총인_값\", \"chl-a\":\"클로로필-a_값\"}\n",
    "target_col_idx = label_columns_indices[target_dic[rnn_target_column]]\n",
    "out_features = [target_col_idx]\n",
    "out_num_features = len(out_features)\n",
    "\n",
    "print(\"target_col_idx : \", target_col_idx)\n",
    "print('out_num_features : ', out_num_features)"
   ]
  },
  {
   "cell_type": "code",
   "execution_count": 92,
   "id": "prime-fellow",
   "metadata": {},
   "outputs": [
    {
     "name": "stdout",
     "output_type": "stream",
     "text": [
      "(69024, 36)\n",
      "do\n"
     ]
    }
   ],
   "source": [
    "print(real_df_all.shape)\n",
    "rnn_target_column = 'do'\n",
    "print(rnn_target_column)\n",
    "\n",
    "#df_length = real_df_all.shape[0] - 3000\n",
    "df_length = real_df_all.shape[0]\n",
    "\n",
    "fake_df = real_df_all.iloc[:df_length,:]"
   ]
  },
  {
   "cell_type": "code",
   "execution_count": 93,
   "id": "nasty-canberra",
   "metadata": {},
   "outputs": [
    {
     "name": "stdout",
     "output_type": "stream",
     "text": [
      "train_df.shape :  (48316, 36) val_df.shape :  (13805, 36) test_df.shape: (6903, 36)\n"
     ]
    }
   ],
   "source": [
    "#train_df, val_df, test_df, test_df2 = dataset_slice(fake_df, 0.8, 0.1, 0.1)\n",
    "#teg_check = 'train=8, val=1, test=1'\n",
    "\n",
    "#train_df, test_df, val_df, test_df2 = dataset_slice(real_df_all, 0.8, 0.1, 0.1)\n",
    "#teg_check = 'train=8, test=1, val=1'\n",
    "\n",
    "#val_df, test_df,train_df, test_df2 = dataset_slice(real_df_all, 0.1, 0.1, 0.8)\n",
    "#teg_check = 'val=1, test=1, train=8'\n",
    "\n",
    "#test_df, val_df, train_df, test_df2 = dataset_slice(real_df_all, 0.1, 0.1, 0.8)\n",
    "#teg_check = 'test=1, val=1, train=8'\n",
    "\n",
    "#val_df, train_df, test_df, test_df2 = dataset_slice(real_df_all, 0.1, 0.8, 0.1)\n",
    "#teg_check = 'val=1, train=8, test=1'\n",
    "\n",
    "#test_df, train_df, val_df, test_df2 = dataset_slice(real_df_all, 0.1, 0.8, 0.1)\n",
    "#teg_check = 'test=1, train=8, val=1'\n",
    "\n",
    "train_df, test_df, val_df, test_df2 = dataset_slice(real_df_all, 0.7, 0.1, 0.2)\n",
    "teg_check = 'train=7, test=1, val=2'\n",
    "\n",
    "print('train_df.shape : ', train_df.shape, 'val_df.shape : ', val_df.shape, 'test_df.shape:' ,test_df.shape)"
   ]
  },
  {
   "cell_type": "code",
   "execution_count": 94,
   "id": "academic-planner",
   "metadata": {},
   "outputs": [],
   "source": [
    "#fake_df.shape[0]/8760"
   ]
  },
  {
   "cell_type": "code",
   "execution_count": 95,
   "id": "sought-radar",
   "metadata": {},
   "outputs": [
    {
     "name": "stdout",
     "output_type": "stream",
     "text": [
      "label_columns_indices:\n",
      "{'tmpr_value': 0, 'ph_value': 1, 'do_value': 2, 'ec_value': 3, 'toc_value': 4, '총질소_값': 5, '총인_값': 6, '클로로필-a_값': 7, 'Day sin': 8, 'Day cos': 9, 'Year sin': 10, 'Year cos': 11}\n"
     ]
    }
   ],
   "source": [
    "label_columns_indices = {name: i for i, name in enumerate(dfff[0])}\n",
    "print(\"label_columns_indices:\")\n",
    "print(label_columns_indices)\n",
    "target_dic = {\"do\":\"do_value\", \"toc\":\"toc_value\", \"tn\":\"총질소_값\", \"tp\":\"총인_값\", \"chl-a\":\"클로로필-a_값\"}"
   ]
  },
  {
   "cell_type": "code",
   "execution_count": null,
   "id": "capable-discipline",
   "metadata": {},
   "outputs": [],
   "source": []
  },
  {
   "cell_type": "code",
   "execution_count": 96,
   "id": "imposed-stake",
   "metadata": {},
   "outputs": [
    {
     "name": "stdout",
     "output_type": "stream",
     "text": [
      "target_col_idx :  2\n",
      "out_num_features :  1\n"
     ]
    }
   ],
   "source": [
    "target_col_idx = label_columns_indices[target_dic[rnn_target_column]]\n",
    "out_features = [target_col_idx]\n",
    "out_num_features = len(out_features)\n",
    "\n",
    "print(\"target_col_idx : \", target_col_idx)\n",
    "print('out_num_features : ', out_num_features)"
   ]
  },
  {
   "cell_type": "code",
   "execution_count": 97,
   "id": "cloudy-postcard",
   "metadata": {},
   "outputs": [],
   "source": [
    "idx = [2, 4, 5, 6, 7]\n",
    "pa = [\"do/\", \"toc/\", \"nitrogen/\", \"phosphorus/\", \"chlorophyll-a/\"]\n",
    "indices = {name: i for i, name in enumerate(idx)}"
   ]
  },
  {
   "cell_type": "code",
   "execution_count": 98,
   "id": "settled-devices",
   "metadata": {},
   "outputs": [
    {
     "data": {
      "application/vnd.jupyter.widget-view+json": {
       "model_id": "588d38dbe5584a1d8d2c903eb3318143",
       "version_major": 2,
       "version_minor": 0
      },
      "text/plain": [
       "Canvas(toolbar=Toolbar(toolitems=[('Home', 'Reset original view', 'home', 'home'), ('Back', 'Back to previous …"
      ]
     },
     "metadata": {},
     "output_type": "display_data"
    }
   ],
   "source": [
    "plt.figure()\n",
    "plt.plot(real_df_all.iloc[:, out_features[0]])\n",
    "plt.show()"
   ]
  },
  {
   "cell_type": "code",
   "execution_count": 99,
   "id": "compressed-resolution",
   "metadata": {
    "scrolled": true
   },
   "outputs": [
    {
     "data": {
      "application/vnd.jupyter.widget-view+json": {
       "model_id": "6cd38f47a3344d99807ad3d56bee41a4",
       "version_major": 2,
       "version_minor": 0
      },
      "text/plain": [
       "Canvas(toolbar=Toolbar(toolitems=[('Home', 'Reset original view', 'home', 'home'), ('Back', 'Back to previous …"
      ]
     },
     "metadata": {},
     "output_type": "display_data"
    },
    {
     "data": {
      "text/plain": [
       "[<matplotlib.lines.Line2D at 0x7f94201737d0>]"
      ]
     },
     "execution_count": 99,
     "metadata": {},
     "output_type": "execute_result"
    }
   ],
   "source": [
    "plt.figure()\n",
    "plt.plot(val_df.iloc[:, out_features[0]])"
   ]
  },
  {
   "cell_type": "code",
   "execution_count": 100,
   "id": "transsexual-grace",
   "metadata": {},
   "outputs": [
    {
     "name": "stdout",
     "output_type": "stream",
     "text": [
      "save model path :  save/nak/models/nak_auto_13/do/\n"
     ]
    }
   ],
   "source": [
    "WindowGenerator.make_dataset = make_dataset_water\n",
    "multi_window = WindowGenerator(\n",
    "    input_width=rnn_in_setps,label_width=rnn_out_steps, shift=rnn_out_steps,out_features=out_features,\n",
    "    out_num_features=out_num_features,label_columns=dfff[0].columns, batch_size=rnn_batch_size,\n",
    "    train_df=train_df, val_df=val_df, test_df=test_df, test_df2=test_df2)\n",
    "\n",
    "model_path = \"save/\" + watershed + \"models/\" + file_parameters['watershed'] + '/'+  pa[indices[target_col_idx]]\n",
    "print(\"save model path : \", model_path)\n",
    "\n",
    "if __RNN_TRAINING__:\n",
    "    #if not os.path.exists('save/' + watershed):\n",
    "    #    os.makedirs('save/' + watershed)\n",
    "    if not os.path.exists(model_path):\n",
    "        os.makedirs(model_path)"
   ]
  },
  {
   "cell_type": "code",
   "execution_count": 101,
   "id": "competitive-battery",
   "metadata": {},
   "outputs": [],
   "source": [
    "#\"save/\" + watershed + \"models/\" + file_parameters['watershed'] + '/' + pa[indices[target_col_idx]]\n",
    "#model_path"
   ]
  },
  {
   "cell_type": "code",
   "execution_count": 102,
   "id": "super-medicaid",
   "metadata": {},
   "outputs": [
    {
     "data": {
      "text/plain": [
       "(20, 240)"
      ]
     },
     "execution_count": 102,
     "metadata": {},
     "output_type": "execute_result"
    }
   ],
   "source": [
    "rnn_epochs, rnn_in_setps"
   ]
  },
  {
   "cell_type": "markdown",
   "id": "ranking-commander",
   "metadata": {},
   "source": [
    "## 모델 학습"
   ]
  },
  {
   "cell_type": "code",
   "execution_count": 103,
   "id": "closing-beads",
   "metadata": {
    "scrolled": true
   },
   "outputs": [
    {
     "name": "stdout",
     "output_type": "stream",
     "text": [
      "WARNING:tensorflow:Layer gru_8 will not use cuDNN kernel since it doesn't meet the cuDNN kernel criteria. It will use generic GPU kernel as fallback when running on GPU\n",
      "WARNING:tensorflow:Layer gru_9 will not use cuDNN kernel since it doesn't meet the cuDNN kernel criteria. It will use generic GPU kernel as fallback when running on GPU\n",
      "WARNING:tensorflow:`period` argument is deprecated. Please use `save_freq` to specify the frequency in number of batches seen.\n",
      "Epoch 1/15\n",
      "10/10 [==============================] - ETA: 0s - loss: 0.7159 - mean_absolute_error: 0.6662 - nse: 0.3327\n",
      "Epoch 00001: val_nse improved from -inf to -0.25299, saving model to save/best_model.h5\n",
      "10/10 [==============================] - 12s 1s/step - loss: 0.7159 - mean_absolute_error: 0.6662 - nse: 0.3327 - val_loss: 0.7949 - val_mean_absolute_error: 0.7163 - val_nse: -0.2530\n",
      "Epoch 2/15\n",
      "10/10 [==============================] - ETA: 0s - loss: 0.4011 - mean_absolute_error: 0.4969 - nse: 0.6317\n",
      "Epoch 00002: val_nse improved from -0.25299 to 0.20397, saving model to save/best_model.h5\n",
      "10/10 [==============================] - 12s 1s/step - loss: 0.4011 - mean_absolute_error: 0.4969 - nse: 0.6317 - val_loss: 0.5058 - val_mean_absolute_error: 0.5557 - val_nse: 0.2040\n",
      "Epoch 3/15\n",
      "10/10 [==============================] - ETA: 0s - loss: 0.3362 - mean_absolute_error: 0.4498 - nse: 0.7110\n",
      "Epoch 00003: val_nse improved from 0.20397 to 0.38356, saving model to save/best_model.h5\n",
      "10/10 [==============================] - 12s 1s/step - loss: 0.3362 - mean_absolute_error: 0.4498 - nse: 0.7110 - val_loss: 0.3921 - val_mean_absolute_error: 0.4914 - val_nse: 0.3836\n",
      "Epoch 4/15\n",
      "10/10 [==============================] - ETA: 0s - loss: 0.2804 - mean_absolute_error: 0.4032 - nse: 0.7516\n",
      "Epoch 00004: val_nse improved from 0.38356 to 0.43835, saving model to save/best_model.h5\n",
      "10/10 [==============================] - 12s 1s/step - loss: 0.2804 - mean_absolute_error: 0.4032 - nse: 0.7516 - val_loss: 0.3573 - val_mean_absolute_error: 0.4601 - val_nse: 0.4384\n",
      "Epoch 5/15\n",
      "10/10 [==============================] - ETA: 0s - loss: 0.2536 - mean_absolute_error: 0.3737 - nse: 0.7793\n",
      "Epoch 00005: val_nse improved from 0.43835 to 0.51068, saving model to save/best_model.h5\n",
      "10/10 [==============================] - 12s 1s/step - loss: 0.2536 - mean_absolute_error: 0.3737 - nse: 0.7793 - val_loss: 0.3115 - val_mean_absolute_error: 0.4148 - val_nse: 0.5107\n",
      "Epoch 6/15\n",
      "10/10 [==============================] - ETA: 0s - loss: 0.2594 - mean_absolute_error: 0.3758 - nse: 0.7724\n",
      "Epoch 00006: val_nse improved from 0.51068 to 0.51105, saving model to save/best_model.h5\n",
      "10/10 [==============================] - 12s 1s/step - loss: 0.2594 - mean_absolute_error: 0.3758 - nse: 0.7724 - val_loss: 0.3114 - val_mean_absolute_error: 0.4197 - val_nse: 0.5110\n",
      "Epoch 7/15\n",
      "10/10 [==============================] - ETA: 0s - loss: 0.2544 - mean_absolute_error: 0.3735 - nse: 0.7604\n",
      "Epoch 00007: val_nse improved from 0.51105 to 0.51229, saving model to save/best_model.h5\n",
      "10/10 [==============================] - 12s 1s/step - loss: 0.2544 - mean_absolute_error: 0.3735 - nse: 0.7604 - val_loss: 0.3105 - val_mean_absolute_error: 0.4181 - val_nse: 0.5123\n",
      "Epoch 8/15\n",
      "10/10 [==============================] - ETA: 0s - loss: 0.2428 - mean_absolute_error: 0.3592 - nse: 0.7773\n",
      "Epoch 00008: val_nse did not improve from 0.51229\n",
      "10/10 [==============================] - 12s 1s/step - loss: 0.2428 - mean_absolute_error: 0.3592 - nse: 0.7773 - val_loss: 0.3289 - val_mean_absolute_error: 0.4347 - val_nse: 0.4831\n",
      "Epoch 9/15\n",
      "10/10 [==============================] - ETA: 0s - loss: 0.2492 - mean_absolute_error: 0.3724 - nse: 0.7674\n",
      "Epoch 00009: val_nse did not improve from 0.51229\n",
      "10/10 [==============================] - 12s 1s/step - loss: 0.2492 - mean_absolute_error: 0.3724 - nse: 0.7674 - val_loss: 0.3363 - val_mean_absolute_error: 0.4365 - val_nse: 0.4714\n",
      "Epoch 10/15\n",
      "10/10 [==============================] - ETA: 0s - loss: 0.2316 - mean_absolute_error: 0.3534 - nse: 0.7749\n",
      "Epoch 00010: val_nse did not improve from 0.51229\n",
      "10/10 [==============================] - 12s 1s/step - loss: 0.2316 - mean_absolute_error: 0.3534 - nse: 0.7749 - val_loss: 0.3670 - val_mean_absolute_error: 0.4598 - val_nse: 0.4223\n",
      "Epoch 11/15\n",
      "10/10 [==============================] - ETA: 0s - loss: 0.2514 - mean_absolute_error: 0.3731 - nse: 0.7715\n",
      "Epoch 00011: val_nse did not improve from 0.51229\n",
      "10/10 [==============================] - 12s 1s/step - loss: 0.2514 - mean_absolute_error: 0.3731 - nse: 0.7715 - val_loss: 0.3404 - val_mean_absolute_error: 0.4380 - val_nse: 0.4644\n",
      "Epoch 12/15\n",
      "10/10 [==============================] - ETA: 0s - loss: 0.2353 - mean_absolute_error: 0.3572 - nse: 0.7880\n",
      "Epoch 00012: val_nse did not improve from 0.51229\n",
      "10/10 [==============================] - 12s 1s/step - loss: 0.2353 - mean_absolute_error: 0.3572 - nse: 0.7880 - val_loss: 0.3448 - val_mean_absolute_error: 0.4382 - val_nse: 0.4581\n",
      "Epoch 13/15\n",
      "10/10 [==============================] - ETA: 0s - loss: 0.2363 - mean_absolute_error: 0.3591 - nse: 0.7800\n",
      "Epoch 00013: val_nse did not improve from 0.51229\n",
      "10/10 [==============================] - 12s 1s/step - loss: 0.2363 - mean_absolute_error: 0.3591 - nse: 0.7800 - val_loss: 0.3133 - val_mean_absolute_error: 0.4155 - val_nse: 0.5071\n",
      "Epoch 14/15\n",
      "10/10 [==============================] - ETA: 0s - loss: 0.2247 - mean_absolute_error: 0.3499 - nse: 0.7988\n",
      "Epoch 00014: val_nse did not improve from 0.51229\n",
      "10/10 [==============================] - 12s 1s/step - loss: 0.2247 - mean_absolute_error: 0.3499 - nse: 0.7988 - val_loss: 0.3516 - val_mean_absolute_error: 0.4493 - val_nse: 0.4476\n",
      "Epoch 15/15\n",
      "10/10 [==============================] - ETA: 0s - loss: 0.2357 - mean_absolute_error: 0.3604 - nse: 0.7874\n",
      "Epoch 00015: val_nse did not improve from 0.51229\n",
      "10/10 [==============================] - 12s 1s/step - loss: 0.2357 - mean_absolute_error: 0.3604 - nse: 0.7874 - val_loss: 0.3679 - val_mean_absolute_error: 0.4546 - val_nse: 0.4213\n"
     ]
    }
   ],
   "source": [
    "gru_model = model_gru(\n",
    "    #window=multi_window, OUT_STEPS=rnn_out_steps, out_num_features=out_num_features, epochs=rnn_epochs,\n",
    "    window=multi_window, OUT_STEPS=rnn_out_steps, out_num_features=out_num_features, epochs=15,\n",
    "    training_flag=__RNN_TRAINING__, checkpoint_path=model_path+\"gru.ckpt\")"
   ]
  },
  {
   "cell_type": "markdown",
   "id": "tender-attack",
   "metadata": {},
   "source": [
    "## core / window.py / "
   ]
  },
  {
   "cell_type": "code",
   "execution_count": 104,
   "id": "smooth-wilson",
   "metadata": {
    "scrolled": false
   },
   "outputs": [
    {
     "data": {
      "application/vnd.jupyter.widget-view+json": {
       "model_id": "64dce035682c42aeb7de9c2725794e83",
       "version_major": 2,
       "version_minor": 0
      },
      "text/plain": [
       "Canvas(toolbar=Toolbar(toolitems=[('Home', 'Reset original view', 'home', 'home'), ('Back', 'Back to previous …"
      ]
     },
     "metadata": {},
     "output_type": "display_data"
    },
    {
     "name": "stdout",
     "output_type": "stream",
     "text": [
      "o1 :  9.796849\n",
      "predict_day :  5\n",
      "------------------------\n",
      "0.8148699 1.1795805 1.086085\n",
      "save/nak/models/nak_auto_13/do/\n",
      "year : 2013 ~ 2020\n",
      "run :  range(0, 1)\n",
      "target :  do   2\n",
      "length :  69024\n",
      "train=7, test=1, val=2\n",
      "nse_val :  [0.40752226]\n"
     ]
    }
   ],
   "source": [
    "val_nse = {}\n",
    "val_pbias = {}\n",
    "val_nse['GRU'], val_pbias['GRU'], pred, label = compa(\n",
    "    model=gru_model,df=val_df, plot_col=out_features[0], target_std=target_std, target_mean=target_mean,\n",
    "    #predict_day = rnn_predict_day)\n",
    "    predict_day = 4)\n",
    "print(model_path)\n",
    "print(\"year : \" + start_year + \" ~ \"+ end_year)\n",
    "print('run : ', run_num)\n",
    "print('target : ', rnn_target_column , \" \", out_features[0])\n",
    "print(\"length : \",df_length)\n",
    "print(teg_check)\n",
    "print('nse_val : ', val_nse['GRU'])\n",
    "#print(\"---------------\")\n",
    "#print(val_nse['GRU'])\n",
    "#print(val_pbias['GRU'])"
   ]
  },
  {
   "cell_type": "code",
   "execution_count": 105,
   "id": "aging-occasions",
   "metadata": {},
   "outputs": [
    {
     "data": {
      "application/vnd.jupyter.widget-view+json": {
       "model_id": "dee1f8e91f4b4eb9a543cdc22d62e41f",
       "version_major": 2,
       "version_minor": 0
      },
      "text/plain": [
       "Canvas(toolbar=Toolbar(toolitems=[('Home', 'Reset original view', 'home', 'home'), ('Back', 'Back to previous …"
      ]
     },
     "metadata": {},
     "output_type": "display_data"
    },
    {
     "name": "stdout",
     "output_type": "stream",
     "text": [
      "o1 :  10.35457\n",
      "predict_day :  5\n",
      "------------------------\n",
      "0.72366905 0.9723255 0.9860657\n",
      "nse_all :  [0.7092619]\n"
     ]
    }
   ],
   "source": [
    "val_nse = {}\n",
    "val_pbias = {}\n",
    "val_nse['GRU'], val_pbias['GRU'], pred, label = compa(\n",
    "    model=gru_model,df=real_df_all, plot_col=out_features[0], target_std=target_std, target_mean=target_mean,\n",
    "    #predict_day = rnn_predict_day)\n",
    "    predict_day = 4)\n",
    "print('nse_all : ', val_nse['GRU'])"
   ]
  },
  {
   "cell_type": "code",
   "execution_count": null,
   "id": "patent-boston",
   "metadata": {},
   "outputs": [],
   "source": []
  },
  {
   "cell_type": "code",
   "execution_count": 106,
   "id": "imported-frequency",
   "metadata": {},
   "outputs": [
    {
     "data": {
      "application/vnd.jupyter.widget-view+json": {
       "model_id": "5b8bb23fb1784446815320609656d2d0",
       "version_major": 2,
       "version_minor": 0
      },
      "text/plain": [
       "Canvas(toolbar=Toolbar(toolitems=[('Home', 'Reset original view', 'home', 'home'), ('Back', 'Back to previous …"
      ]
     },
     "metadata": {},
     "output_type": "display_data"
    },
    {
     "name": "stdout",
     "output_type": "stream",
     "text": [
      "o1 :  10.370083\n",
      "predict_day :  5\n",
      "------------------------\n",
      "0.69067115 0.8818088 0.93904674\n",
      "nse_train :  [0.74152833]\n"
     ]
    }
   ],
   "source": [
    "val_nse = {}\n",
    "val_pbias = {}\n",
    "val_nse['GRU'], val_pbias['GRU'], pred, label = compa(\n",
    "    model=gru_model,df=train_df, plot_col=out_features[0], target_std=target_std, target_mean=target_mean,\n",
    "    #predict_day = rnn_predict_day)\n",
    "    predict_day = 4)\n",
    "\n",
    "print('nse_train : ', val_nse['GRU'])"
   ]
  },
  {
   "cell_type": "code",
   "execution_count": 107,
   "id": "documentary-lawyer",
   "metadata": {},
   "outputs": [
    {
     "data": {
      "application/vnd.jupyter.widget-view+json": {
       "model_id": "59332a975773489199de92cee83e00c9",
       "version_major": 2,
       "version_minor": 0
      },
      "text/plain": [
       "Canvas(toolbar=Toolbar(toolitems=[('Home', 'Reset original view', 'home', 'home'), ('Back', 'Back to previous …"
      ]
     },
     "metadata": {},
     "output_type": "display_data"
    },
    {
     "name": "stdout",
     "output_type": "stream",
     "text": [
      "o1 :  11.367394\n",
      "predict_day :  5\n",
      "------------------------\n",
      "0.73299986 1.080701 1.0395677\n",
      "nse_test :  [0.76111937]\n"
     ]
    }
   ],
   "source": [
    "val_nse = {}\n",
    "val_pbias = {}\n",
    "val_nse['GRU'], val_pbias['GRU'], pred, label = compa(\n",
    "    model=gru_model,df=test_df, plot_col=out_features[0], target_std=target_std, target_mean=target_mean,\n",
    "    #predict_day = rnn_predict_day)\n",
    "    predict_day = 4)\n",
    "\n",
    "print('nse_test : ', val_nse['GRU'])"
   ]
  },
  {
   "cell_type": "code",
   "execution_count": 108,
   "id": "respective-buying",
   "metadata": {},
   "outputs": [],
   "source": [
    "#train_df.shape, val_df.shape, test_df.shape"
   ]
  },
  {
   "cell_type": "code",
   "execution_count": 89,
   "id": "primary-polyester",
   "metadata": {},
   "outputs": [
    {
     "ename": "NameError",
     "evalue": "name 'stop' is not defined",
     "output_type": "error",
     "traceback": [
      "\u001b[0;31m---------------------------------------------------------------------------\u001b[0m",
      "\u001b[0;31mNameError\u001b[0m                                 Traceback (most recent call last)",
      "\u001b[0;32m<ipython-input-89-e66a6ade5f40>\u001b[0m in \u001b[0;36m<module>\u001b[0;34m\u001b[0m\n\u001b[1;32m     13\u001b[0m \u001b[0;31m#      SSSSSSSSSSSSSSSSSS                  ******              *********************      *****\u001b[0m\u001b[0;34m\u001b[0m\u001b[0;34m\u001b[0m\u001b[0;34m\u001b[0m\u001b[0m\n\u001b[1;32m     14\u001b[0m \u001b[0;31m#-----------------------------------------------------------------------------------------------------------------\u001b[0m\u001b[0;34m\u001b[0m\u001b[0;34m\u001b[0m\u001b[0;34m\u001b[0m\u001b[0m\n\u001b[0;32m---> 15\u001b[0;31m \u001b[0mstop\u001b[0m \u001b[0;34m=\u001b[0m \u001b[0mstop\u001b[0m\u001b[0;34m\u001b[0m\u001b[0;34m\u001b[0m\u001b[0m\n\u001b[0m",
      "\u001b[0;31mNameError\u001b[0m: name 'stop' is not defined"
     ]
    }
   ],
   "source": [
    "#-----------------------------------------------------------------------------------------------------------------\n",
    "# 123SFACVTHYI78567UDBYUJM534523RDHGTHETYIE5I8I78O9P789J467UBDFGDASFSADCXVFDSWERTNERGRTTUTYAFGASDFSDBGFDF67E54563\n",
    "# 64534FDSFVSDHT56SDFG656USRHSDYA3Y RTA WERGERGSDFGVTY34TASDF dfasdfghhgbcvbsdfgrwergfdsfvzxcvasdfaweqdqasdfderadf\n",
    "# feasetttttttttttttttttttvxzcvxzvxcvxvnjfghjvb111nfghjdfhgdhthrtyyyyyyyyyyrtjliuioyuytrtyurtyughjuyityuityuityuijjty\n",
    "# hgfgdrrtyetghfdghvcvbnhjfghjgggnfnmjhkuytlryewqwerasdfgghrthfgjyruhjyuihjknhybgtvfrcdezxcabnghrtyreeghghte45654y  \n",
    "# tr345rgbbbdfghterty4534562345jhgy5462345234534n5345g345t3245d34f235345f345g34454f345t345er345234yt545y45tg45t534\n",
    "#       SSSSSSSSSSSSSS         ASDFALKJIVAJLMSEFLKMALSKVJALKSRKLTGAKLSDGVLK   *****    ***************   \n",
    "#            SSSSSSSSSSSSS               ******            ******              *****    *************       (*_*)  \n",
    "#                   SSSSSSSS               ******            ******              *****    *****            ~( (>\n",
    "#        SSSS         S  SSS               ******            ******              *****    *****            / (          \n",
    "#      SSSS          S  SSSS               ******            ******              *****    *****                     \n",
    "#     SSSSS            SSSS                ******             ******            ******    *****                     \n",
    "#      SSSSSSSSSSSSSSSSSS                  ******              *********************      *****                   \n",
    "#-----------------------------------------------------------------------------------------------------------------\n",
    "stop = stop"
   ]
  },
  {
   "cell_type": "code",
   "execution_count": null,
   "id": "radical-progressive",
   "metadata": {},
   "outputs": [],
   "source": [
    "val_nse = {}\n",
    "val_pbias = {}\n",
    "val_nse['GRU'], val_pbias['GRU'], pred, label = compa(\n",
    "    model=gru_model,df=real_df_all, plot_col=out_features[0], target_std=target_std, target_mean=target_mean,\n",
    "    #predict_day = rnn_predict_day)\n",
    "    predict_day = 4)\n",
    "print(model_path)\n",
    "print(\"year : \" + start_year + \" ~ \"+ end_year)\n",
    "print('run : ', run_num)\n",
    "print('target : ', rnn_target_column, \" \", out_features[0])\n",
    "print(\"length : \",df_length)\n",
    "print(teg_check)\n",
    "print(\"---------------\")\n",
    "print(val_nse['GRU'])\n",
    "print(val_pbias['GRU'])"
   ]
  },
  {
   "cell_type": "code",
   "execution_count": null,
   "id": "excellent-inspection",
   "metadata": {},
   "outputs": [],
   "source": [
    "from core.models import GRUModel, compile"
   ]
  },
  {
   "cell_type": "code",
   "execution_count": null,
   "id": "entertaining-sunrise",
   "metadata": {},
   "outputs": [],
   "source": [
    "model112 = GRUModel(rnn_out_steps, out_num_features)\n",
    "model112.load_weights(model_path+\"gru.ckpt\")\n",
    "compile(model112)\n"
   ]
  },
  {
   "cell_type": "code",
   "execution_count": null,
   "id": "subtle-vacuum",
   "metadata": {},
   "outputs": [],
   "source": [
    "val_nse = {}\n",
    "val_pbias = {}\n",
    "val_nse['GRU'], val_pbias['GRU'], pred, label = compa(\n",
    "    #model=model112,df=test_df, plot_col=out_features[0], target_std=target_std, target_mean=target_mean,\n",
    "    model=model112,df=val_df, plot_col=out_features[0], target_std=target_std, target_mean=target_mean,\n",
    "    #predict_day = rnn_predict_day)\n",
    "    predict_day = 4)\n",
    "print(model_path)\n",
    "print(\"year : \" + start_year + \" ~ \"+ end_year)\n",
    "print('run : ', run_num)\n",
    "print('target : ', rnn_target_column)\n",
    "print(\"length : \",df_length)\n",
    "print(teg_check)\n",
    "print(\"---------------\")\n",
    "print(val_nse['GRU'])\n",
    "print(val_pbias['GRU'])"
   ]
  },
  {
   "cell_type": "code",
   "execution_count": null,
   "id": "assured-restriction",
   "metadata": {
    "scrolled": true
   },
   "outputs": [],
   "source": [
    "##.evaluate(multi_window.train)\n",
    "#model112.evaluate(multi_window.val.repeat(-1), steps=100)"
   ]
  },
  {
   "cell_type": "code",
   "execution_count": null,
   "id": "exempt-confidence",
   "metadata": {},
   "outputs": [],
   "source": []
  },
  {
   "cell_type": "code",
   "execution_count": null,
   "id": "democratic-cooling",
   "metadata": {},
   "outputs": [],
   "source": []
  },
  {
   "cell_type": "code",
   "execution_count": null,
   "id": "filled-causing",
   "metadata": {},
   "outputs": [],
   "source": []
  },
  {
   "cell_type": "code",
   "execution_count": null,
   "id": "motivated-poison",
   "metadata": {},
   "outputs": [],
   "source": []
  },
  {
   "cell_type": "code",
   "execution_count": null,
   "id": "outstanding-grove",
   "metadata": {},
   "outputs": [],
   "source": []
  },
  {
   "cell_type": "code",
   "execution_count": null,
   "id": "featured-battle",
   "metadata": {},
   "outputs": [],
   "source": []
  },
  {
   "cell_type": "code",
   "execution_count": null,
   "id": "criminal-hypothetical",
   "metadata": {},
   "outputs": [],
   "source": []
  },
  {
   "cell_type": "code",
   "execution_count": null,
   "id": "numeric-cartoon",
   "metadata": {},
   "outputs": [],
   "source": []
  },
  {
   "cell_type": "code",
   "execution_count": null,
   "id": "frozen-christmas",
   "metadata": {},
   "outputs": [],
   "source": []
  },
  {
   "cell_type": "code",
   "execution_count": null,
   "id": "sweet-planner",
   "metadata": {},
   "outputs": [],
   "source": []
  },
  {
   "cell_type": "code",
   "execution_count": null,
   "id": "uniform-craps",
   "metadata": {},
   "outputs": [],
   "source": []
  },
  {
   "cell_type": "code",
   "execution_count": null,
   "id": "minimal-military",
   "metadata": {},
   "outputs": [],
   "source": []
  },
  {
   "cell_type": "code",
   "execution_count": null,
   "id": "greater-halloween",
   "metadata": {},
   "outputs": [],
   "source": []
  },
  {
   "cell_type": "code",
   "execution_count": null,
   "id": "potential-measurement",
   "metadata": {},
   "outputs": [],
   "source": []
  },
  {
   "cell_type": "code",
   "execution_count": null,
   "id": "serial-variable",
   "metadata": {},
   "outputs": [],
   "source": []
  },
  {
   "cell_type": "code",
   "execution_count": null,
   "id": "dimensional-message",
   "metadata": {},
   "outputs": [],
   "source": []
  },
  {
   "cell_type": "code",
   "execution_count": null,
   "id": "sized-crazy",
   "metadata": {},
   "outputs": [],
   "source": [
    "\n",
    "def compa(model=None,df = None, plot_col=0, input_width=7*24, label_width=5*24, target_std=None, target_mean=None, predict_day=4):\n",
    "    \n",
    "    #print(df.shape)\n",
    "    #print(plot_col)\n",
    "    \n",
    "    width = input_width + label_width\n",
    "    \n",
    "    length = df.shape[0]\n",
    "    length -= width\n",
    "    \n",
    "    inputs = []\n",
    "    labels = []\n",
    "    \n",
    "    for i in range(0, length, 24):\n",
    "        dataset = df.iloc[i:i+width].to_numpy()\n",
    "        input = dataset[:input_width]\n",
    "        label = dataset[input_width:, plot_col:plot_col+1]\n",
    "        \n",
    "        input = input.reshape((-1,)+input.shape)\n",
    "        label = label.reshape((-1,)+label.shape)\n",
    "        \n",
    "        inputs.append(input)\n",
    "        labels.append(label)\n",
    "        \n",
    "    inputs = np.concatenate(inputs, axis=0)\n",
    "    labels = np.concatenate(labels, axis=0)\n",
    "    \n",
    "    \n",
    "\n",
    "    predictions = model(inputs).numpy()\n",
    "    \n",
    "    print(\"input : \", inputs.shape, \"labels : \", labels.shape, \"predictions : \", predictions.shape)\n",
    "    #print(predictions.shape)\n",
    "    \n",
    "    predictions = predictions * target_std[plot_col] + target_mean[plot_col]\n",
    "    labels = labels * target_std[plot_col] + target_mean[plot_col]\n",
    "\n",
    "    pred_day = hour_to_day_mean(predictions)\n",
    "    \n",
    "    label_day = hour_to_day_mean(labels)\n",
    "    \n",
    "    inputs_target = inputs[:,:,plot_col:plot_col+1]\n",
    "    inputs_target = inputs_target * target_std[plot_col] + target_mean[plot_col]\n",
    "    inputs_day = hour_to_day_mean(inputs_target)\n",
    "    \n",
    "    print(\"                label_day.shape : \",label_day.shape, \"pred_day.shape : \", pred_day.shape)\n",
    "    \n",
    "    #plt.figure()\n",
    "    #input_index = np.array(range(0, length, 24))\n",
    "    #label_index = input_index + 24* (7 + predict_day)\n",
    "    #plt.plot(input_index, inputs_day[:, 0, :], label='input')\n",
    "    #plt.plot(label_index, label_day[:, predict_day, :], label='label')\n",
    "    #plt.plot(label_index, pred_day[:, predict_day, :], label='pred')\n",
    "    #plt.legend()\n",
    "    \n",
    "    #o1 = np.mean(labels)\n",
    "    o1 = np.mean(label_day[:,predict_day,:])\n",
    "    nse1 = ((label_day - pred_day)**2).sum(axis=0)\n",
    "    nse2 = ((label_day - o1)**2).sum(axis=0)\n",
    "    nse3 = 1 - (nse1[predict_day]/nse2[predict_day])\n",
    "    print('o1 : ', o1)\n",
    "    print('predict_day : ', predict_day + 1)\n",
    "    pbias1 = (label_day - pred_day).sum(axis=0)\n",
    "    pbias2 = (label_day).sum(axis=0)\n",
    "    pbias3 = (pbias1[predict_day]/pbias2[predict_day])*100\n",
    "    \n",
    "    \n",
    "    mae = (np.abs(label_day - pred_day)).mean()\n",
    "    mse = ((label_day - pred_day)**2).mean()\n",
    "    rmse = np.sqrt(((label_day - pred_day)**2).mean())\n",
    "    \n",
    "    print('------------------------')\n",
    "    print(mae, mse ,rmse)\n",
    "    labels_test = labels.mean(axis=1)\n",
    "    predis_test = inputs_target.mean(axis=1)\n",
    "    \n",
    "    nse2_1 = ((labels_test - predis_test)**2).sum()\n",
    "    nse2_2 = ((labels_test - o1)**2).sum()\n",
    "    nse2_3 = 1 - (nse2_1/nse2_2)\n",
    "    \n",
    "    pbias2_1 = (labels_test - predis_test).sum()\n",
    "    pbias2_2 = labels_test.sum()\n",
    "    pbias2_3 = pbias2_1/pbias2_2 * 100\n",
    "    #print(labels_test.shape)\n",
    "    #print(predis_test.shape)\n",
    "    #print()\n",
    "    #print(\"nse2_3 : \",nse2_3)\n",
    "    #print(\"pbias2_3 : \",pbias2_3)\n",
    "    ##print('------------------------')\n",
    "    print(\"nse3 : \", nse3)\n",
    "    print(\"pbias3 : \",pbias3)\n",
    "    ##print('------------------------')\n",
    "    \n",
    "    return nse3, np.abs(pbias3), inputs_day, label_day, pred_day\n",
    "    "
   ]
  },
  {
   "cell_type": "code",
   "execution_count": null,
   "id": "separate-appendix",
   "metadata": {},
   "outputs": [],
   "source": []
  },
  {
   "cell_type": "code",
   "execution_count": null,
   "id": "under-terminology",
   "metadata": {},
   "outputs": [],
   "source": [
    "\n",
    "x = np.arange(len(val_nse))\n",
    "width = 0.35\n",
    "plt.figure()\n",
    "plt.title(watershed + '  ['+start_year+','+end_year+']  ' + rnn_target_column)\n",
    "plt.bar(x, val_pbias.values(), 0.3, label='PBIAS' )\n",
    "plt.bar(x + width, val_nse.values(), 0.3, label='NSE')\n",
    "plt.xticks(x,val_nse.keys(), rotation=0)\n",
    "_ = plt.legend()\n",
    "plt.show()\n"
   ]
  },
  {
   "cell_type": "code",
   "execution_count": null,
   "id": "sufficient-catalog",
   "metadata": {},
   "outputs": [],
   "source": []
  },
  {
   "cell_type": "code",
   "execution_count": null,
   "id": "other-honduras",
   "metadata": {},
   "outputs": [],
   "source": []
  },
  {
   "cell_type": "code",
   "execution_count": null,
   "id": "unnecessary-marker",
   "metadata": {},
   "outputs": [],
   "source": []
  }
 ],
 "metadata": {
  "kernelspec": {
   "display_name": "Python 3",
   "language": "python",
   "name": "python3"
  },
  "language_info": {
   "codemirror_mode": {
    "name": "ipython",
    "version": 3
   },
   "file_extension": ".py",
   "mimetype": "text/x-python",
   "name": "python",
   "nbconvert_exporter": "python",
   "pygments_lexer": "ipython3",
   "version": "3.7.9"
  }
 },
 "nbformat": 4,
 "nbformat_minor": 5
}
