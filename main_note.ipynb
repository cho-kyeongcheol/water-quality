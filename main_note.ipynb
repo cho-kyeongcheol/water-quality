{
 "cells": [
  {
   "cell_type": "code",
   "execution_count": 104,
   "id": "bored-conservation",
   "metadata": {},
   "outputs": [],
   "source": [
    "import shutil\n",
    "\n",
    "from core.gain import *\n",
    "from core.rnn_predic import *\n",
    "from core.models import *\n",
    "from core.util import *\n",
    "#from core.window import WindowGenerator, MissData, make_dataset_water, WaterDataGenerator\n",
    "from core.window import WindowGenerator, make_dataset_gain, make_dataset_water\n",
    "from core.file_open import make_dataframe\n",
    "from core.miss_data import MissData\n",
    "import json\n",
    "%matplotlib widget\n",
    "import os"
   ]
  },
  {
   "cell_type": "code",
   "execution_count": 105,
   "id": "instant-rough",
   "metadata": {},
   "outputs": [],
   "source": [
    "def hour_to_day_mean(array):\n",
    "    time = 24\n",
    "    array = array.reshape((array.shape[0], array.shape[1] // time, time, array.shape[2]))\n",
    "    array = array.mean(2)\n",
    "    return array"
   ]
  },
  {
   "cell_type": "code",
   "execution_count": 106,
   "id": "conceptual-alpha",
   "metadata": {},
   "outputs": [],
   "source": [
    "\n",
    "def compa(model=None,df = None, plot_col=0, input_width=7*24, label_width=5*24, target_std=None, target_mean=None, predict_day=4):\n",
    "    width = input_width + label_width\n",
    "    length = df.shape[0] - width\n",
    "    inputs = []\n",
    "    labels = []\n",
    "    \n",
    "    for i in range(0, length, 24):\n",
    "        dataset = df.iloc[i:i+width].to_numpy()\n",
    "        input = dataset[:input_width]\n",
    "        label = dataset[input_width:, plot_col:plot_col+1]\n",
    "        \n",
    "        input = input.reshape((-1,)+input.shape)\n",
    "        label = label.reshape((-1,)+label.shape)\n",
    "        \n",
    "        inputs.append(input)\n",
    "        labels.append(label)\n",
    "        \n",
    "        \n",
    "    inputs = np.concatenate(inputs, axis=0)\n",
    "    labels = np.concatenate(labels, axis=0)\n",
    "    \n",
    "\n",
    "    predictions = model(inputs).numpy()\n",
    "    \n",
    "    predictions = predictions * target_std[plot_col] + target_mean[plot_col]\n",
    "    labels = labels * target_std[plot_col] + target_mean[plot_col]\n",
    "\n",
    "    pred_day = hour_to_day_mean(predictions)\n",
    "    \n",
    "    label_day = hour_to_day_mean(labels)\n",
    "    \n",
    "    inputs_target = inputs[:,:,plot_col:plot_col+1]\n",
    "    inputs_target = inputs_target * target_std[plot_col] + target_mean[plot_col]\n",
    "    inputs_day = hour_to_day_mean(inputs_target)\n",
    "    \n",
    "    plt.figure()\n",
    "    input_index = np.array(range(0, length, 24))\n",
    "    label_index = input_index + 24* (7 + predict_day)\n",
    "    plt.plot(input_index, inputs_day[:, 0, :], label='input')\n",
    "    plt.plot(label_index, label_day[:, predict_day, :], label='label')\n",
    "    plt.plot(label_index, pred_day[:, predict_day, :], label='pred')\n",
    "    plt.legend()\n",
    "    #plt.savefig('test_plt.png')\n",
    "    \n",
    "    #o1 = np.mean(labels)\n",
    "    o1 = np.mean(label_day[:,predict_day,:])\n",
    "    nse1 = ((label_day - pred_day)**2).sum(axis=0)\n",
    "    nse2 = ((label_day - o1)**2).sum(axis=0)\n",
    "    nse3 = 1 - (nse1[predict_day]/nse2[predict_day])\n",
    "    print('o1 : ', o1)\n",
    "    print('predict_day : ', predict_day + 1)\n",
    "    pbias1 = (label_day - pred_day).sum(axis=0)\n",
    "    pbias2 = (label_day).sum(axis=0)\n",
    "    pbias3 = (pbias1[predict_day]/pbias2[predict_day])*100\n",
    "    \n",
    "    \n",
    "    mae = (np.abs(label_day - pred_day)).mean()\n",
    "    mse = ((label_day - pred_day)**2).mean()\n",
    "    rmse = np.sqrt(((label_day - pred_day)**2).mean())\n",
    "    \n",
    "    print('------------------------')\n",
    "    print(mae, mse ,rmse)\n",
    "    labels_test = labels.mean(axis=1)\n",
    "    predis_test = inputs_target.mean(axis=1)\n",
    "    \n",
    "    nse2_1 = ((labels_test - predis_test)**2).sum()\n",
    "    nse2_2 = ((labels_test - o1)**2).sum()\n",
    "    nse2_3 = 1 - (nse2_1/nse2_2)\n",
    "    \n",
    "    pbias2_1 = (labels_test - predis_test).sum()\n",
    "    pbias2_2 = labels_test.sum()\n",
    "    pbias2_3 = pbias2_1/pbias2_2 * 100\n",
    "    #print(labels_test.shape)\n",
    "    #print(predis_test.shape)\n",
    "    #print()\n",
    "    #print(\"nse2_3 : \",nse2_3)\n",
    "    #print(\"pbias2_3 : \",pbias2_3)\n",
    "    ##print('------------------------')\n",
    "    print(\"nse3 : \", nse3)\n",
    "    print(\"pbias3 : \",pbias3)\n",
    "    ##print('------------------------')\n",
    "    \n",
    "    return nse3, np.abs(pbias3), pred_day, labels"
   ]
  },
  {
   "cell_type": "code",
   "execution_count": 107,
   "id": "offensive-spider",
   "metadata": {},
   "outputs": [],
   "source": [
    "os.environ[\"CUDA_DEVICE_ORDER\"]=\"PCI_BUS_ID\"   # see issue #152\n",
    "os.environ[\"CUDA_VISIBLE_DEVICES\"]=\"0,1\"\n"
   ]
  },
  {
   "cell_type": "code",
   "execution_count": 108,
   "id": "norman-queen",
   "metadata": {},
   "outputs": [],
   "source": [
    "data_path = 'data/'\n",
    "parameters_dir = 'input'\n",
    "\n",
    "parameters_file = 'input.json'\n",
    "parameters_path = '{dir}/{file}'.format(dir=parameters_dir, file=parameters_file)\n",
    "\n",
    "with open(parameters_path, encoding='utf8') as json_file:\n",
    "    parameters = json.load(json_file)\n",
    "\n",
    "gain_parameters = parameters['gain']\n",
    "rnn_parameters = parameters['rnn']\n",
    "file_parameters = parameters['file']"
   ]
  },
  {
   "cell_type": "code",
   "execution_count": 109,
   "id": "defensive-traffic",
   "metadata": {},
   "outputs": [
    {
     "data": {
      "text/plain": [
       "{'watershed': 'geum_auto'}"
      ]
     },
     "execution_count": 109,
     "metadata": {},
     "output_type": "execute_result"
    }
   ],
   "source": [
    "file_parameters"
   ]
  },
  {
   "cell_type": "code",
   "execution_count": 110,
   "id": "unlimited-postage",
   "metadata": {},
   "outputs": [],
   "source": [
    "parameters_path = parameters_dir+'/'+ file_parameters['watershed'] + '.json'\n",
    "with open(parameters_path, encoding='utf8') as json_file:\n",
    "    parameters = json.load(json_file)"
   ]
  },
  {
   "cell_type": "code",
   "execution_count": 111,
   "id": "changed-timer",
   "metadata": {},
   "outputs": [],
   "source": [
    "pd.set_option('display.max_columns', 1000)"
   ]
  },
  {
   "cell_type": "code",
   "execution_count": 112,
   "id": "alternate-reverse",
   "metadata": {},
   "outputs": [],
   "source": [
    "data_parameters = parameters['data']\n",
    "\n",
    "interpolation_option = data_parameters['interpolation']\n",
    "colum_idx = data_parameters['columns']\n",
    "watershed = data_parameters['watershed']\n",
    "file_names = data_parameters['files']\n",
    "folder = data_parameters['directorys']\n",
    "for i in range(len(folder)):\n",
    "    folder[i] = watershed+folder[i]"
   ]
  },
  {
   "cell_type": "code",
   "execution_count": 113,
   "id": "committed-boulder",
   "metadata": {},
   "outputs": [],
   "source": [
    "__GAIN_TRAINING__ = gain_parameters['train']\n",
    "gain_epochs = gain_parameters['max_epochs']\n",
    "gain_in_setps = gain_parameters['input_width']\n",
    "gain_out_setps = gain_parameters['label_width']\n",
    "gain_batch_size = gain_parameters['batch_size']\n",
    "gain_fill_no = gain_parameters['fill_width']\n",
    "gain_shift = gain_parameters['shift_width']\n",
    "gain_miss_rate = gain_parameters['miss_rate']\n",
    "\n",
    "__RNN_TRAINING__ = rnn_parameters['train']\n",
    "rnn_epochs = rnn_parameters['max_epochs']\n",
    "rnn_in_setps = rnn_parameters['input_width']\n",
    "rnn_out_steps = rnn_parameters['label_width']\n",
    "rnn_batch_size = rnn_parameters['batch_size']\n",
    "rnn_predict_day = rnn_parameters['predict_day']\n",
    "rnn_target_column = rnn_parameters['target_column']\n",
    "\n",
    "if rnn_predict_day < 3 or rnn_predict_day >5:\n",
    "    print('predict_day err')\n",
    "    exit(88)\n",
    "rnn_predict_day -= 1"
   ]
  },
  {
   "cell_type": "code",
   "execution_count": 114,
   "id": "powered-sixth",
   "metadata": {},
   "outputs": [
    {
     "data": {
      "text/plain": [
       "(False, 2000, True, 20)"
      ]
     },
     "execution_count": 114,
     "metadata": {},
     "output_type": "execute_result"
    }
   ],
   "source": [
    "__GAIN_TRAINING__, gain_epochs ,__RNN_TRAINING__, rnn_epochs"
   ]
  },
  {
   "cell_type": "code",
   "execution_count": 115,
   "id": "suspected-quebec",
   "metadata": {},
   "outputs": [],
   "source": [
    "run_num = range(len(folder))\n",
    "real_df_all = pd.DataFrame([])\n",
    "target_all = target_mean = target_std = 0\n",
    "\n",
    "gain_val_performance = {}\n",
    "gain_performance = {}\n",
    "\n",
    "length = len(run_num)\n",
    "#length = 1"
   ]
  },
  {
   "cell_type": "code",
   "execution_count": 116,
   "id": "undefined-sperm",
   "metadata": {
    "scrolled": true
   },
   "outputs": [
    {
     "name": "stdout",
     "output_type": "stream",
     "text": [
      "interpol flag :  [False, False]\n",
      "folder :  data/geum/자동/\n",
      "colum_idx :  :,[26,27,28,29,30,31,32,33]\n",
      "file_names[idx] :  [['현도_2015.xlsx', '현도_2016.xlsx', '현도_2017.xlsx', '현도_2018.xlsx', '현도_2019.xlsx', '현도_2020.xlsx'], ['대청호_2015.xlsx', '대청호_2016.xlsx', '대청호_2017.xlsx', '대청호_2018.xlsx', '대청호_2019.xlsx', '대청호_2020.xlsx'], ['장계_2015.xlsx', '장계_2016.xlsx', '장계_2017.xlsx', '장계_2018.xlsx', '장계_2019.xlsx', '장계_2020.xlsx']]\n",
      "data/geum/자동/현도_2015.xlsx\n",
      "data/geum/자동/현도_2016.xlsx\n",
      "data/geum/자동/현도_2017.xlsx\n",
      "data/geum/자동/현도_2018.xlsx\n",
      "data/geum/자동/현도_2019.xlsx\n",
      "data/geum/자동/현도_2020.xlsx\n",
      "You must check this make_timeseries : time length\n",
      "time range in files :  2015-01-01 00:00  ~  2020-12-31 23:00\n",
      "data/geum/자동/대청호_2015.xlsx\n",
      "data/geum/자동/대청호_2016.xlsx\n",
      "data/geum/자동/대청호_2017.xlsx\n",
      "data/geum/자동/대청호_2018.xlsx\n",
      "data/geum/자동/대청호_2019.xlsx\n",
      "data/geum/자동/대청호_2020.xlsx\n",
      "You must check this make_timeseries : time length\n",
      "time range in files :  2015-01-01 00:00  ~  2020-12-31 23:00\n",
      "data/geum/자동/장계_2015.xlsx\n",
      "data/geum/자동/장계_2016.xlsx\n",
      "data/geum/자동/장계_2017.xlsx\n",
      "data/geum/자동/장계_2018.xlsx\n",
      "data/geum/자동/장계_2019.xlsx\n",
      "data/geum/자동/장계_2020.xlsx\n",
      "You must check this make_timeseries : time length\n",
      "time range in files :  2015-01-01 00:00  ~  2020-12-31 23:00\n",
      "MissData :  save/  miss :  (9086, 12)\n",
      "1/1 [==============================] - 0s 4ms/step - loss: 0.1733\n",
      "MissData :  save/  miss :  (9086, 12)\n"
     ]
    }
   ],
   "source": [
    "for i in range(length):\n",
    "\n",
    "    idx = run_num[i]\n",
    "\n",
    "    print('interpol flag : ', interpolation_option[idx])\n",
    "    print('folder : ', data_path + folder[idx])\n",
    "    print('colum_idx : ', colum_idx[idx])\n",
    "    print('file_names[idx] : ', file_names[idx])\n",
    "\n",
    "    #start = time.time()\n",
    "\n",
    "    #if watershed == '한강_12days_test':\n",
    "    #    df, times = make_dataframe_temp_12days(folder[idx], file_names[idx], colum_idx[idx], interpolate=interpolation_option[idx])\n",
    "    #else:\n",
    "    df, times = make_dataframe(data_path+folder[idx], file_names[idx], colum_idx[idx], interpolation=interpolation_option[idx])\n",
    "\n",
    "    df_all, train_mean, train_std, df = normalize(df)\n",
    "\n",
    "\n",
    "    if i == 0:\n",
    "        dfff = df\n",
    "        target_all = df_all\n",
    "        target_std = train_std\n",
    "        target_mean = train_mean\n",
    "        start_year = str(times.iloc[0].year)\n",
    "        end_year = str(times.iloc[-1].year)\n",
    "\n",
    "    if interpolation_option[idx][0] == False:\n",
    "\n",
    "        loadfiles = ['idx.npy', 'miss.npy', 'discriminator.h5', 'generator.h5']\n",
    "\n",
    "        gain_calc_falg = True\n",
    "\n",
    "        if __GAIN_TRAINING__ == True:\n",
    "            gain_calc_falg = MissData.save(pd.concat(df, axis=0).to_numpy(), max_tseq=24, save_dir='save/')\n",
    "            #print(folder[idx], ': training ', 'Miss date save : ', gain_calc_falg)\n",
    "        else:\n",
    "            for file in loadfiles:\n",
    "                if os.path.isfile('save/' + folder[idx]+file):\n",
    "                    shutil.copyfile('save/' + folder[idx]+file, 'save/'+file)\n",
    "                    #print('load file name : save/' + folder[idx]+file)\n",
    "                else:\n",
    "                    if file == 'miss.npy':\n",
    "                        gain_calc_falg = MissData.save(pd.concat(df, axis=0).to_numpy(), max_tseq=24, save_dir='save/')\n",
    "                        #print(folder[idx], ': is not miss.npy ', 'Miss date save : ', gain_calc_falg)\n",
    "\n",
    "        if gain_calc_falg == True:\n",
    "            #print('GainWindowGenerator in main')\n",
    "            WindowGenerator.make_dataset = make_dataset_gain\n",
    "            wide_window = WindowGenerator(input_width=gain_in_setps, label_width=gain_out_setps, shift=gain_shift,\n",
    "                                          fill_no=gain_fill_no, miss_rate=gain_miss_rate, batch_size=gain_batch_size,\n",
    "                                          train_df = df_all, val_df = df_all, test_df = df_all, df = df)\n",
    "\n",
    "            #gain = model_GAIN(shape=wide_window.dg.shape[1:], gen_sigmoid=False, epochs=gain_epochs, training_flag=__GAIN_TRAINING__, window=wide_window, model_save_path='save/')\n",
    "            gain = model_GAIN(shape=(gain_in_setps, df_all.shape[1]), gen_sigmoid=False, epochs=gain_epochs,\n",
    "                              training_flag=__GAIN_TRAINING__, window=wide_window, model_save_path='save/')\n",
    "\n",
    "            gain_val_performance[str(i)] = gain.evaluate(wide_window.val)\n",
    "            gain_performance[str(i)] = gain.evaluate(wide_window.test, verbose=0)\n",
    "\n",
    "            #print('file proc in main')\n",
    "            if __GAIN_TRAINING__ == True:\n",
    "                #dir = 'save/'+folder[i]\n",
    "                if not os.path.exists('save/' + folder[idx]):\n",
    "                    os.makedirs('save/'+folder[idx])\n",
    "                for file in loadfiles:\n",
    "                    shutil.copyfile('save/' + file, 'save/' + folder[idx] + file)\n",
    "\n",
    "            #print('create_dataset_with_gain in main')\n",
    "            #ori, gan = create_dataset_with_gain(gain=gain, window=wide_window, df=df)\n",
    "            ori, gan = create_dataset_with_gain(gain=gain, shape=(gain_in_setps, df_all.shape[1]), df=df)\n",
    "\n",
    "        else:\n",
    "            gan = create_dataset_interpol(window=gain_in_setps, df=df)\n",
    "    else:\n",
    "        gan = create_dataset_interpol(window=gain_in_setps, df=df)\n",
    "\n",
    "    if i == 0 :\n",
    "#        if i < length -1:\n",
    "#            gan = gan[:,:-4]  #맨마지막전까지 사인코사인삭제\n",
    "#            print(gan.shape)\n",
    "        real_df_all = pd.DataFrame(gan)\n",
    "    else:\n",
    "#        if i < length -1:\n",
    "#            gan = gan[:,:-4]  #맨마지막전까지 사인코사인삭제\n",
    "#            print(gan.shape)\n",
    "        real_df_all = pd.concat([real_df_all, pd.DataFrame(gan)], axis=1)"
   ]
  },
  {
   "cell_type": "code",
   "execution_count": null,
   "id": "removed-mystery",
   "metadata": {},
   "outputs": [],
   "source": []
  },
  {
   "cell_type": "code",
   "execution_count": 117,
   "id": "guided-bishop",
   "metadata": {},
   "outputs": [],
   "source": [
    "#-----------------------------------------------------------------------------------------------------------------\n",
    "#            RRRRRRRRRRRRRRRRRR          NNNNNN       NNNNNN      NNNNNN       NNNNNN\n",
    "#           RRRRRRRRRRRRRRRRRRRR        NNNNNNN      NNNNNN      NNNNNNN      NNNNNN\n",
    "#          RRRRRRR      RRRRRRRR       NNNNNNNN     NNNNNN      NNNNNNNN     NNNNNN\n",
    "#         RRRRRRR      RRRRRRRR       NNNNNNNNN    NNNNNN      NNNNNNNNN    NNNNNN\n",
    "#        RRRRRRRRRRRRRRRRRRRR        NNNNNNNNNN   NNNNNN      NNNNNNNNNN   NNNNNN\n",
    "#       RRRRRRRRRRRRRRRRR           NNNNNNNNNNN  NNNNNN      NNNNNNNNNNN  NNNNNN \n",
    "#      RRRRRRR     RRRRRRR         NNNNNNN NNNN NNNNNN      NNNNNNN NNNN NNNNNN\n",
    "#     RRRRRRR       RRRRRRR       NNNNNNN  NNNNNNNNNN      NNNNNNN  NNNNNNNNNN\n",
    "#    RRRRRRR        RRRRRRR      NNNNNNN   NNNNNNNNN      NNNNNNN   NNNNNNNNN\n",
    "#   RRRRRRR         RRRRRRR     NNNNNNN    NNNNNNNN      NNNNNNN    NNNNNNNN \n",
    "#  RRRRRRR         RRRRRRR     NNNNNNN     NNNNNNN      NNNNNNN     NNNNNNN\n",
    "#-----------------------------------------------------------------------------------------------------------------"
   ]
  },
  {
   "cell_type": "code",
   "execution_count": null,
   "id": "understanding-process",
   "metadata": {},
   "outputs": [],
   "source": []
  },
  {
   "cell_type": "code",
   "execution_count": 118,
   "id": "small-digest",
   "metadata": {
    "scrolled": true
   },
   "outputs": [
    {
     "name": "stdout",
     "output_type": "stream",
     "text": [
      "label_columns_indices:\n",
      "{'tmpr_value': 0, 'ph_value': 1, 'do_value': 2, 'ec_value': 3, 'toc_value': 4, '총질소_값': 5, '총인_값': 6, '클로로필-a_값': 7, 'Day sin': 8, 'Day cos': 9, 'Year sin': 10, 'Year cos': 11}\n",
      "target_col_idx :  6\n",
      "out_num_features :  1\n"
     ]
    }
   ],
   "source": [
    "label_columns_indices = {name: i for i, name in enumerate(dfff[0])}\n",
    "print(\"label_columns_indices:\")\n",
    "print(label_columns_indices)\n",
    "target_dic = {\"do\":\"do_value\", \"toc\":\"toc_value\", \"tn\":\"총질소_값\", \"tp\":\"총인_값\", \"chl-a\":\"클로로필-a_값\"}\n",
    "target_col_idx = label_columns_indices[target_dic[rnn_target_column]]\n",
    "out_features = [target_col_idx]\n",
    "out_num_features = len(out_features)\n",
    "\n",
    "print(\"target_col_idx : \", target_col_idx)\n",
    "print('out_num_features : ', out_num_features)"
   ]
  },
  {
   "cell_type": "code",
   "execution_count": 132,
   "id": "prime-fellow",
   "metadata": {},
   "outputs": [
    {
     "name": "stdout",
     "output_type": "stream",
     "text": [
      "(52608, 36)\n",
      "chl-a\n"
     ]
    }
   ],
   "source": [
    "print(real_df_all.shape)\n",
    "rnn_target_column = 'chl-a'\n",
    "print(rnn_target_column)\n",
    "\n",
    "#df_length = real_df_all.shape[0] - 3000\n",
    "df_length = real_df_all.shape[0]\n",
    "\n",
    "fake_df = real_df_all.iloc[:df_length,:]"
   ]
  },
  {
   "cell_type": "code",
   "execution_count": 133,
   "id": "nasty-canberra",
   "metadata": {},
   "outputs": [
    {
     "name": "stdout",
     "output_type": "stream",
     "text": [
      "train_df.shape :  (36825, 36) val_df.shape :  (10522, 36) test_df.shape: (5261, 36)\n"
     ]
    }
   ],
   "source": [
    "#train_df, val_df, test_df, test_df2 = dataset_slice(fake_df, 0.8, 0.1, 0.1)\n",
    "#teg_check = 'train=8, val=1, test=1'\n",
    "\n",
    "#train_df, test_df, val_df, test_df2 = dataset_slice(real_df_all, 0.8, 0.1, 0.1)\n",
    "#teg_check = 'train=8, test=1, val=1'\n",
    "\n",
    "#val_df, test_df,train_df, test_df2 = dataset_slice(real_df_all, 0.1, 0.1, 0.8)\n",
    "#teg_check = 'val=1, test=1, train=8'\n",
    "\n",
    "#test_df, val_df, train_df, test_df2 = dataset_slice(real_df_all, 0.1, 0.1, 0.8)\n",
    "#teg_check = 'test=1, val=1, train=8'\n",
    "\n",
    "#val_df, train_df, test_df, test_df2 = dataset_slice(real_df_all, 0.1, 0.8, 0.1)\n",
    "#teg_check = 'val=1, train=8, test=1'\n",
    "\n",
    "#test_df, train_df, val_df, test_df2 = dataset_slice(real_df_all, 0.1, 0.8, 0.1)\n",
    "#teg_check = 'test=1, train=8, val=1'\n",
    "\n",
    "train_df, test_df, val_df, test_df2 = dataset_slice(real_df_all, 0.7, 0.1, 0.2)\n",
    "teg_check = 'train=7, test=1, val=2'\n",
    "\n",
    "print('train_df.shape : ', train_df.shape, 'val_df.shape : ', val_df.shape, 'test_df.shape:' ,test_df.shape)"
   ]
  },
  {
   "cell_type": "code",
   "execution_count": 134,
   "id": "academic-planner",
   "metadata": {},
   "outputs": [],
   "source": [
    "#fake_df.shape[0]/8760"
   ]
  },
  {
   "cell_type": "code",
   "execution_count": 135,
   "id": "thermal-moderator",
   "metadata": {},
   "outputs": [
    {
     "data": {
      "application/vnd.jupyter.widget-view+json": {
       "model_id": "c17c91308d384c24850ca25e9e7015bf",
       "version_major": 2,
       "version_minor": 0
      },
      "text/plain": [
       "Canvas(toolbar=Toolbar(toolitems=[('Home', 'Reset original view', 'home', 'home'), ('Back', 'Back to previous …"
      ]
     },
     "metadata": {},
     "output_type": "display_data"
    }
   ],
   "source": [
    "plt.figure()\n",
    "plt.plot(real_df_all.iloc[:, out_features[0]])\n",
    "plt.show()"
   ]
  },
  {
   "cell_type": "code",
   "execution_count": 136,
   "id": "compressed-resolution",
   "metadata": {},
   "outputs": [
    {
     "data": {
      "application/vnd.jupyter.widget-view+json": {
       "model_id": "697eeaf01ef248ff9d645431fe173c3b",
       "version_major": 2,
       "version_minor": 0
      },
      "text/plain": [
       "Canvas(toolbar=Toolbar(toolitems=[('Home', 'Reset original view', 'home', 'home'), ('Back', 'Back to previous …"
      ]
     },
     "metadata": {},
     "output_type": "display_data"
    },
    {
     "data": {
      "text/plain": [
       "[<matplotlib.lines.Line2D at 0x7fbd200c33d0>]"
      ]
     },
     "execution_count": 136,
     "metadata": {},
     "output_type": "execute_result"
    }
   ],
   "source": [
    "plt.figure()\n",
    "plt.plot(val_df.iloc[:, out_features[0]])"
   ]
  },
  {
   "cell_type": "code",
   "execution_count": 137,
   "id": "sought-radar",
   "metadata": {},
   "outputs": [
    {
     "name": "stdout",
     "output_type": "stream",
     "text": [
      "label_columns_indices:\n",
      "{'tmpr_value': 0, 'ph_value': 1, 'do_value': 2, 'ec_value': 3, 'toc_value': 4, '총질소_값': 5, '총인_값': 6, '클로로필-a_값': 7, 'Day sin': 8, 'Day cos': 9, 'Year sin': 10, 'Year cos': 11}\n"
     ]
    }
   ],
   "source": [
    "label_columns_indices = {name: i for i, name in enumerate(dfff[0])}\n",
    "print(\"label_columns_indices:\")\n",
    "print(label_columns_indices)\n",
    "target_dic = {\"do\":\"do_value\", \"toc\":\"toc_value\", \"tn\":\"총질소_값\", \"tp\":\"총인_값\", \"chl-a\":\"클로로필-a_값\"}"
   ]
  },
  {
   "cell_type": "code",
   "execution_count": null,
   "id": "capable-discipline",
   "metadata": {},
   "outputs": [],
   "source": []
  },
  {
   "cell_type": "code",
   "execution_count": 138,
   "id": "imposed-stake",
   "metadata": {},
   "outputs": [
    {
     "name": "stdout",
     "output_type": "stream",
     "text": [
      "target_col_idx :  7\n",
      "out_num_features :  1\n"
     ]
    }
   ],
   "source": [
    "target_col_idx = label_columns_indices[target_dic[rnn_target_column]]\n",
    "out_features = [target_col_idx]\n",
    "out_num_features = len(out_features)\n",
    "\n",
    "print(\"target_col_idx : \", target_col_idx)\n",
    "print('out_num_features : ', out_num_features)"
   ]
  },
  {
   "cell_type": "code",
   "execution_count": 139,
   "id": "cloudy-postcard",
   "metadata": {},
   "outputs": [],
   "source": [
    "idx = [2, 4, 5, 6, 7]\n",
    "pa = [\"do/\", \"toc/\", \"nitrogen/\", \"phosphorus/\", \"chlorophyll-a/\"]\n",
    "indices = {name: i for i, name in enumerate(idx)}"
   ]
  },
  {
   "cell_type": "code",
   "execution_count": 140,
   "id": "transsexual-grace",
   "metadata": {},
   "outputs": [
    {
     "name": "stdout",
     "output_type": "stream",
     "text": [
      "save model path :  save/geum/models/chlorophyll-a/\n"
     ]
    }
   ],
   "source": [
    "WindowGenerator.make_dataset = make_dataset_water\n",
    "multi_window = WindowGenerator(\n",
    "    input_width=rnn_in_setps,label_width=rnn_out_steps, shift=rnn_out_steps,out_features=out_features,\n",
    "    out_num_features=out_num_features,label_columns=dfff[0].columns, batch_size=rnn_batch_size,\n",
    "    train_df=train_df, val_df=val_df, test_df=test_df, test_df2=test_df2)\n",
    "\n",
    "model_path = \"save/\" + watershed + \"models/\" + pa[indices[target_col_idx]]\n",
    "print(\"save model path : \", model_path)\n",
    "\n",
    "if __RNN_TRAINING__:\n",
    "    if not os.path.exists('save/' + watershed):\n",
    "        os.makedirs('save/' + watershed)\n",
    "    if not os.path.exists(model_path):\n",
    "        os.makedirs(model_path)"
   ]
  },
  {
   "cell_type": "code",
   "execution_count": 141,
   "id": "steady-processing",
   "metadata": {},
   "outputs": [
    {
     "data": {
      "text/plain": [
       "20"
      ]
     },
     "execution_count": 141,
     "metadata": {},
     "output_type": "execute_result"
    }
   ],
   "source": [
    "rnn_epochs"
   ]
  },
  {
   "cell_type": "markdown",
   "id": "ranking-commander",
   "metadata": {},
   "source": [
    "## 모델 학습"
   ]
  },
  {
   "cell_type": "code",
   "execution_count": 142,
   "id": "closing-beads",
   "metadata": {
    "scrolled": true
   },
   "outputs": [
    {
     "name": "stdout",
     "output_type": "stream",
     "text": [
      "WARNING:tensorflow:Layer gru_22 will not use cuDNN kernel since it doesn't meet the cuDNN kernel criteria. It will use generic GPU kernel as fallback when running on GPU\n",
      "WARNING:tensorflow:Layer gru_23 will not use cuDNN kernel since it doesn't meet the cuDNN kernel criteria. It will use generic GPU kernel as fallback when running on GPU\n",
      "WARNING:tensorflow:`period` argument is deprecated. Please use `save_freq` to specify the frequency in number of batches seen.\n",
      "Epoch 1/50\n",
      "10/10 [==============================] - ETA: 0s - loss: 0.1161 - mean_absolute_error: 0.2870 - nse: -3.4787\n",
      "Epoch 00001: val_loss improved from inf to 0.08181, saving model to save/best_model.h5\n",
      "10/10 [==============================] - 8s 803ms/step - loss: 0.1161 - mean_absolute_error: 0.2870 - nse: -3.4787 - val_loss: 0.0818 - val_mean_absolute_error: 0.2530 - val_nse: -0.0555\n",
      "Epoch 2/50\n",
      "10/10 [==============================] - ETA: 0s - loss: 0.0344 - mean_absolute_error: 0.1477 - nse: -0.3167\n",
      "Epoch 00002: val_loss improved from 0.08181 to 0.06136, saving model to save/best_model.h5\n",
      "10/10 [==============================] - 8s 774ms/step - loss: 0.0344 - mean_absolute_error: 0.1477 - nse: -0.3167 - val_loss: 0.0614 - val_mean_absolute_error: 0.1983 - val_nse: 0.2071\n",
      "Epoch 3/50\n",
      "10/10 [==============================] - ETA: 0s - loss: 0.0262 - mean_absolute_error: 0.1222 - nse: 0.0449\n",
      "Epoch 00003: val_loss did not improve from 0.06136\n",
      "10/10 [==============================] - 8s 776ms/step - loss: 0.0262 - mean_absolute_error: 0.1222 - nse: 0.0449 - val_loss: 0.0651 - val_mean_absolute_error: 0.2129 - val_nse: 0.1589\n",
      "Epoch 4/50\n",
      "10/10 [==============================] - ETA: 0s - loss: 0.0254 - mean_absolute_error: 0.1212 - nse: 0.0833\n",
      "Epoch 00004: val_loss did not improve from 0.06136\n",
      "10/10 [==============================] - 8s 786ms/step - loss: 0.0254 - mean_absolute_error: 0.1212 - nse: 0.0833 - val_loss: 0.0668 - val_mean_absolute_error: 0.2263 - val_nse: 0.1375\n",
      "Epoch 5/50\n",
      "10/10 [==============================] - ETA: 0s - loss: 0.0235 - mean_absolute_error: 0.1140 - nse: 0.1457\n",
      "Epoch 00005: val_loss did not improve from 0.06136\n",
      "10/10 [==============================] - 8s 773ms/step - loss: 0.0235 - mean_absolute_error: 0.1140 - nse: 0.1457 - val_loss: 0.0741 - val_mean_absolute_error: 0.2321 - val_nse: 0.0411\n",
      "Epoch 6/50\n",
      "10/10 [==============================] - ETA: 0s - loss: 0.0221 - mean_absolute_error: 0.1097 - nse: 0.1914\n",
      "Epoch 00006: val_loss improved from 0.06136 to 0.05970, saving model to save/best_model.h5\n",
      "10/10 [==============================] - 8s 780ms/step - loss: 0.0221 - mean_absolute_error: 0.1097 - nse: 0.1914 - val_loss: 0.0597 - val_mean_absolute_error: 0.2061 - val_nse: 0.2285\n",
      "Epoch 7/50\n",
      "10/10 [==============================] - ETA: 0s - loss: 0.0201 - mean_absolute_error: 0.1037 - nse: 0.2135\n",
      "Epoch 00007: val_loss improved from 0.05970 to 0.05697, saving model to save/best_model.h5\n",
      "10/10 [==============================] - 8s 770ms/step - loss: 0.0201 - mean_absolute_error: 0.1037 - nse: 0.2135 - val_loss: 0.0570 - val_mean_absolute_error: 0.1955 - val_nse: 0.2641\n",
      "Epoch 8/50\n",
      "10/10 [==============================] - ETA: 0s - loss: 0.0209 - mean_absolute_error: 0.1040 - nse: 0.2813\n",
      "Epoch 00008: val_loss did not improve from 0.05697\n",
      "10/10 [==============================] - 8s 776ms/step - loss: 0.0209 - mean_absolute_error: 0.1040 - nse: 0.2813 - val_loss: 0.0605 - val_mean_absolute_error: 0.2057 - val_nse: 0.2149\n",
      "Epoch 9/50\n",
      "10/10 [==============================] - ETA: 0s - loss: 0.0176 - mean_absolute_error: 0.0951 - nse: 0.3503\n",
      "Epoch 00009: val_loss improved from 0.05697 to 0.05510, saving model to save/best_model.h5\n",
      "10/10 [==============================] - 8s 772ms/step - loss: 0.0176 - mean_absolute_error: 0.0951 - nse: 0.3503 - val_loss: 0.0551 - val_mean_absolute_error: 0.1949 - val_nse: 0.2853\n",
      "Epoch 10/50\n",
      "10/10 [==============================] - ETA: 0s - loss: 0.0164 - mean_absolute_error: 0.0922 - nse: 0.3870\n",
      "Epoch 00010: val_loss improved from 0.05510 to 0.04653, saving model to save/best_model.h5\n",
      "10/10 [==============================] - 8s 772ms/step - loss: 0.0164 - mean_absolute_error: 0.0922 - nse: 0.3870 - val_loss: 0.0465 - val_mean_absolute_error: 0.1684 - val_nse: 0.4010\n",
      "Epoch 11/50\n",
      "10/10 [==============================] - ETA: 0s - loss: 0.0172 - mean_absolute_error: 0.0925 - nse: 0.3487\n",
      "Epoch 00011: val_loss did not improve from 0.04653\n",
      "10/10 [==============================] - 8s 777ms/step - loss: 0.0172 - mean_absolute_error: 0.0925 - nse: 0.3487 - val_loss: 0.0482 - val_mean_absolute_error: 0.1811 - val_nse: 0.3749\n",
      "Epoch 12/50\n",
      "10/10 [==============================] - ETA: 0s - loss: 0.0175 - mean_absolute_error: 0.0952 - nse: 0.3615\n",
      "Epoch 00012: val_loss improved from 0.04653 to 0.04652, saving model to save/best_model.h5\n",
      "10/10 [==============================] - 8s 770ms/step - loss: 0.0175 - mean_absolute_error: 0.0952 - nse: 0.3615 - val_loss: 0.0465 - val_mean_absolute_error: 0.1758 - val_nse: 0.3994\n",
      "Epoch 13/50\n",
      "10/10 [==============================] - ETA: 0s - loss: 0.0162 - mean_absolute_error: 0.0899 - nse: 0.4216\n",
      "Epoch 00013: val_loss improved from 0.04652 to 0.04270, saving model to save/best_model.h5\n",
      "10/10 [==============================] - 8s 774ms/step - loss: 0.0162 - mean_absolute_error: 0.0899 - nse: 0.4216 - val_loss: 0.0427 - val_mean_absolute_error: 0.1638 - val_nse: 0.4477\n",
      "Epoch 14/50\n",
      "10/10 [==============================] - ETA: 0s - loss: 0.0150 - mean_absolute_error: 0.0886 - nse: 0.4703\n",
      "Epoch 00014: val_loss improved from 0.04270 to 0.04209, saving model to save/best_model.h5\n",
      "10/10 [==============================] - 8s 772ms/step - loss: 0.0150 - mean_absolute_error: 0.0886 - nse: 0.4703 - val_loss: 0.0421 - val_mean_absolute_error: 0.1638 - val_nse: 0.4550\n",
      "Epoch 15/50\n",
      "10/10 [==============================] - ETA: 0s - loss: 0.0144 - mean_absolute_error: 0.0852 - nse: 0.4940\n",
      "Epoch 00015: val_loss did not improve from 0.04209\n",
      "10/10 [==============================] - 8s 780ms/step - loss: 0.0144 - mean_absolute_error: 0.0852 - nse: 0.4940 - val_loss: 0.0423 - val_mean_absolute_error: 0.1637 - val_nse: 0.4547\n",
      "Epoch 16/50\n",
      "10/10 [==============================] - ETA: 0s - loss: 0.0148 - mean_absolute_error: 0.0856 - nse: 0.4515\n",
      "Epoch 00016: val_loss improved from 0.04209 to 0.04021, saving model to save/best_model.h5\n",
      "10/10 [==============================] - 8s 774ms/step - loss: 0.0148 - mean_absolute_error: 0.0856 - nse: 0.4515 - val_loss: 0.0402 - val_mean_absolute_error: 0.1578 - val_nse: 0.4797\n",
      "Epoch 17/50\n",
      "10/10 [==============================] - ETA: 0s - loss: 0.0143 - mean_absolute_error: 0.0844 - nse: 0.4677\n",
      "Epoch 00017: val_loss did not improve from 0.04021\n",
      "10/10 [==============================] - 8s 778ms/step - loss: 0.0143 - mean_absolute_error: 0.0844 - nse: 0.4677 - val_loss: 0.0444 - val_mean_absolute_error: 0.1726 - val_nse: 0.4249\n",
      "Epoch 18/50\n",
      "10/10 [==============================] - ETA: 0s - loss: 0.0135 - mean_absolute_error: 0.0820 - nse: 0.4838\n",
      "Epoch 00018: val_loss improved from 0.04021 to 0.04002, saving model to save/best_model.h5\n",
      "10/10 [==============================] - 8s 768ms/step - loss: 0.0135 - mean_absolute_error: 0.0820 - nse: 0.4838 - val_loss: 0.0400 - val_mean_absolute_error: 0.1534 - val_nse: 0.4838\n",
      "Epoch 19/50\n",
      "10/10 [==============================] - ETA: 0s - loss: 0.0153 - mean_absolute_error: 0.0865 - nse: 0.4878\n",
      "Epoch 00019: val_loss did not improve from 0.04002\n",
      "10/10 [==============================] - 8s 764ms/step - loss: 0.0153 - mean_absolute_error: 0.0865 - nse: 0.4878 - val_loss: 0.0446 - val_mean_absolute_error: 0.1731 - val_nse: 0.4223\n",
      "Epoch 20/50\n",
      "10/10 [==============================] - ETA: 0s - loss: 0.0141 - mean_absolute_error: 0.0850 - nse: 0.5010\n",
      "Epoch 00020: val_loss did not improve from 0.04002\n",
      "10/10 [==============================] - 8s 768ms/step - loss: 0.0141 - mean_absolute_error: 0.0850 - nse: 0.5010 - val_loss: 0.0428 - val_mean_absolute_error: 0.1670 - val_nse: 0.4479\n",
      "Epoch 21/50\n",
      "10/10 [==============================] - ETA: 0s - loss: 0.0146 - mean_absolute_error: 0.0841 - nse: 0.4652\n",
      "Epoch 00021: val_loss did not improve from 0.04002\n",
      "10/10 [==============================] - 8s 781ms/step - loss: 0.0146 - mean_absolute_error: 0.0841 - nse: 0.4652 - val_loss: 0.0410 - val_mean_absolute_error: 0.1612 - val_nse: 0.4692\n"
     ]
    },
    {
     "name": "stdout",
     "output_type": "stream",
     "text": [
      "Epoch 22/50\n",
      "10/10 [==============================] - ETA: 0s - loss: 0.0130 - mean_absolute_error: 0.0805 - nse: 0.5294\n",
      "Epoch 00022: val_loss did not improve from 0.04002\n",
      "10/10 [==============================] - 8s 774ms/step - loss: 0.0130 - mean_absolute_error: 0.0805 - nse: 0.5294 - val_loss: 0.0447 - val_mean_absolute_error: 0.1728 - val_nse: 0.4229\n",
      "Epoch 23/50\n",
      "10/10 [==============================] - ETA: 0s - loss: 0.0137 - mean_absolute_error: 0.0826 - nse: 0.4853\n",
      "Epoch 00023: val_loss did not improve from 0.04002\n",
      "10/10 [==============================] - 8s 762ms/step - loss: 0.0137 - mean_absolute_error: 0.0826 - nse: 0.4853 - val_loss: 0.0403 - val_mean_absolute_error: 0.1560 - val_nse: 0.4796\n",
      "Epoch 24/50\n",
      "10/10 [==============================] - ETA: 0s - loss: 0.0137 - mean_absolute_error: 0.0817 - nse: 0.4886\n",
      "Epoch 00024: val_loss did not improve from 0.04002\n",
      "10/10 [==============================] - 8s 772ms/step - loss: 0.0137 - mean_absolute_error: 0.0817 - nse: 0.4886 - val_loss: 0.0441 - val_mean_absolute_error: 0.1692 - val_nse: 0.4320\n",
      "Epoch 25/50\n",
      "10/10 [==============================] - ETA: 0s - loss: 0.0131 - mean_absolute_error: 0.0806 - nse: 0.4862\n",
      "Epoch 00025: val_loss did not improve from 0.04002\n",
      "10/10 [==============================] - 8s 757ms/step - loss: 0.0131 - mean_absolute_error: 0.0806 - nse: 0.4862 - val_loss: 0.0423 - val_mean_absolute_error: 0.1622 - val_nse: 0.4540\n",
      "Epoch 26/50\n",
      "10/10 [==============================] - ETA: 0s - loss: 0.0140 - mean_absolute_error: 0.0827 - nse: 0.4946\n",
      "Epoch 00026: val_loss did not improve from 0.04002\n",
      "10/10 [==============================] - 8s 776ms/step - loss: 0.0140 - mean_absolute_error: 0.0827 - nse: 0.4946 - val_loss: 0.0412 - val_mean_absolute_error: 0.1603 - val_nse: 0.4697\n",
      "Epoch 27/50\n",
      "10/10 [==============================] - ETA: 0s - loss: 0.0132 - mean_absolute_error: 0.0803 - nse: 0.4960\n",
      "Epoch 00027: val_loss did not improve from 0.04002\n",
      "10/10 [==============================] - 8s 769ms/step - loss: 0.0132 - mean_absolute_error: 0.0803 - nse: 0.4960 - val_loss: 0.0436 - val_mean_absolute_error: 0.1703 - val_nse: 0.4395\n",
      "Epoch 28/50\n",
      "10/10 [==============================] - ETA: 0s - loss: 0.0135 - mean_absolute_error: 0.0797 - nse: 0.4880\n",
      "Epoch 00028: val_loss did not improve from 0.04002\n",
      "10/10 [==============================] - 8s 773ms/step - loss: 0.0135 - mean_absolute_error: 0.0797 - nse: 0.4880 - val_loss: 0.0428 - val_mean_absolute_error: 0.1698 - val_nse: 0.4479\n",
      "Epoch 29/50\n",
      "10/10 [==============================] - ETA: 0s - loss: 0.0129 - mean_absolute_error: 0.0800 - nse: 0.5210\n",
      "Epoch 00029: val_loss did not improve from 0.04002\n",
      "10/10 [==============================] - 8s 772ms/step - loss: 0.0129 - mean_absolute_error: 0.0800 - nse: 0.5210 - val_loss: 0.0413 - val_mean_absolute_error: 0.1618 - val_nse: 0.4664\n",
      "Epoch 30/50\n",
      "10/10 [==============================] - ETA: 0s - loss: 0.0124 - mean_absolute_error: 0.0794 - nse: 0.5490\n",
      "Epoch 00030: val_loss did not improve from 0.04002\n",
      "10/10 [==============================] - 8s 767ms/step - loss: 0.0124 - mean_absolute_error: 0.0794 - nse: 0.5490 - val_loss: 0.0444 - val_mean_absolute_error: 0.1736 - val_nse: 0.4267\n",
      "Epoch 31/50\n",
      "10/10 [==============================] - ETA: 0s - loss: 0.0126 - mean_absolute_error: 0.0796 - nse: 0.5056\n",
      "Epoch 00031: val_loss did not improve from 0.04002\n",
      "10/10 [==============================] - 8s 770ms/step - loss: 0.0126 - mean_absolute_error: 0.0796 - nse: 0.5056 - val_loss: 0.0432 - val_mean_absolute_error: 0.1663 - val_nse: 0.4423\n",
      "Epoch 32/50\n",
      "10/10 [==============================] - ETA: 0s - loss: 0.0135 - mean_absolute_error: 0.0806 - nse: 0.5197\n",
      "Epoch 00032: val_loss did not improve from 0.04002\n",
      "10/10 [==============================] - 8s 774ms/step - loss: 0.0135 - mean_absolute_error: 0.0806 - nse: 0.5197 - val_loss: 0.0432 - val_mean_absolute_error: 0.1684 - val_nse: 0.4423\n",
      "Epoch 33/50\n",
      "10/10 [==============================] - ETA: 0s - loss: 0.0133 - mean_absolute_error: 0.0803 - nse: 0.5256\n",
      "Epoch 00033: val_loss did not improve from 0.04002\n",
      "10/10 [==============================] - 8s 770ms/step - loss: 0.0133 - mean_absolute_error: 0.0803 - nse: 0.5256 - val_loss: 0.0428 - val_mean_absolute_error: 0.1646 - val_nse: 0.4476\n",
      "Epoch 34/50\n",
      "10/10 [==============================] - ETA: 0s - loss: 0.0130 - mean_absolute_error: 0.0796 - nse: 0.5293\n",
      "Epoch 00034: val_loss did not improve from 0.04002\n",
      "10/10 [==============================] - 8s 784ms/step - loss: 0.0130 - mean_absolute_error: 0.0796 - nse: 0.5293 - val_loss: 0.0428 - val_mean_absolute_error: 0.1692 - val_nse: 0.4460\n",
      "Epoch 35/50\n",
      "10/10 [==============================] - ETA: 0s - loss: 0.0131 - mean_absolute_error: 0.0815 - nse: 0.5062\n",
      "Epoch 00035: val_loss did not improve from 0.04002\n",
      "10/10 [==============================] - 8s 771ms/step - loss: 0.0131 - mean_absolute_error: 0.0815 - nse: 0.5062 - val_loss: 0.0513 - val_mean_absolute_error: 0.1915 - val_nse: 0.3338\n",
      "Epoch 36/50\n",
      "10/10 [==============================] - ETA: 0s - loss: 0.0123 - mean_absolute_error: 0.0777 - nse: 0.5251\n",
      "Epoch 00036: val_loss did not improve from 0.04002\n",
      "10/10 [==============================] - 8s 778ms/step - loss: 0.0123 - mean_absolute_error: 0.0777 - nse: 0.5251 - val_loss: 0.0428 - val_mean_absolute_error: 0.1654 - val_nse: 0.4454\n",
      "Epoch 37/50\n",
      "10/10 [==============================] - ETA: 0s - loss: 0.0137 - mean_absolute_error: 0.0803 - nse: 0.5211\n",
      "Epoch 00037: val_loss did not improve from 0.04002\n",
      "10/10 [==============================] - 8s 779ms/step - loss: 0.0137 - mean_absolute_error: 0.0803 - nse: 0.5211 - val_loss: 0.0437 - val_mean_absolute_error: 0.1671 - val_nse: 0.4321\n",
      "Epoch 38/50\n",
      "10/10 [==============================] - ETA: 0s - loss: 0.0126 - mean_absolute_error: 0.0792 - nse: 0.5383\n",
      "Epoch 00038: val_loss did not improve from 0.04002\n",
      "10/10 [==============================] - 8s 767ms/step - loss: 0.0126 - mean_absolute_error: 0.0792 - nse: 0.5383 - val_loss: 0.0454 - val_mean_absolute_error: 0.1709 - val_nse: 0.4140\n",
      "Epoch 39/50\n",
      "10/10 [==============================] - ETA: 0s - loss: 0.0124 - mean_absolute_error: 0.0790 - nse: 0.5186\n",
      "Epoch 00039: val_loss did not improve from 0.04002\n",
      "10/10 [==============================] - 8s 774ms/step - loss: 0.0124 - mean_absolute_error: 0.0790 - nse: 0.5186 - val_loss: 0.0497 - val_mean_absolute_error: 0.1899 - val_nse: 0.3565\n",
      "Epoch 40/50\n",
      "10/10 [==============================] - ETA: 0s - loss: 0.0138 - mean_absolute_error: 0.0816 - nse: 0.5227\n",
      "Epoch 00040: val_loss did not improve from 0.04002\n",
      "10/10 [==============================] - 8s 777ms/step - loss: 0.0138 - mean_absolute_error: 0.0816 - nse: 0.5227 - val_loss: 0.0437 - val_mean_absolute_error: 0.1677 - val_nse: 0.4358\n",
      "Epoch 41/50\n",
      "10/10 [==============================] - ETA: 0s - loss: 0.0124 - mean_absolute_error: 0.0780 - nse: 0.5310\n",
      "Epoch 00041: val_loss did not improve from 0.04002\n",
      "10/10 [==============================] - 8s 777ms/step - loss: 0.0124 - mean_absolute_error: 0.0780 - nse: 0.5310 - val_loss: 0.0500 - val_mean_absolute_error: 0.1858 - val_nse: 0.3540\n",
      "Epoch 42/50\n",
      "10/10 [==============================] - ETA: 0s - loss: 0.0124 - mean_absolute_error: 0.0784 - nse: 0.5586\n",
      "Epoch 00042: val_loss did not improve from 0.04002\n",
      "10/10 [==============================] - 8s 789ms/step - loss: 0.0124 - mean_absolute_error: 0.0784 - nse: 0.5586 - val_loss: 0.0519 - val_mean_absolute_error: 0.1907 - val_nse: 0.3285\n",
      "Epoch 43/50\n",
      "10/10 [==============================] - ETA: 0s - loss: 0.0125 - mean_absolute_error: 0.0785 - nse: 0.5360\n",
      "Epoch 00043: val_loss did not improve from 0.04002\n",
      "10/10 [==============================] - 8s 774ms/step - loss: 0.0125 - mean_absolute_error: 0.0785 - nse: 0.5360 - val_loss: 0.0497 - val_mean_absolute_error: 0.1848 - val_nse: 0.3580\n",
      "Epoch 44/50\n",
      "10/10 [==============================] - ETA: 0s - loss: 0.0113 - mean_absolute_error: 0.0753 - nse: 0.6043\n",
      "Epoch 00044: val_loss did not improve from 0.04002\n",
      "10/10 [==============================] - 8s 778ms/step - loss: 0.0113 - mean_absolute_error: 0.0753 - nse: 0.6043 - val_loss: 0.0505 - val_mean_absolute_error: 0.1874 - val_nse: 0.3478\n",
      "Epoch 45/50\n"
     ]
    },
    {
     "name": "stdout",
     "output_type": "stream",
     "text": [
      "10/10 [==============================] - ETA: 0s - loss: 0.0109 - mean_absolute_error: 0.0728 - nse: 0.5884\n",
      "Epoch 00045: val_loss did not improve from 0.04002\n",
      "10/10 [==============================] - 8s 784ms/step - loss: 0.0109 - mean_absolute_error: 0.0728 - nse: 0.5884 - val_loss: 0.0490 - val_mean_absolute_error: 0.1815 - val_nse: 0.3670\n",
      "Epoch 46/50\n",
      "10/10 [==============================] - ETA: 0s - loss: 0.0117 - mean_absolute_error: 0.0753 - nse: 0.5824\n",
      "Epoch 00046: val_loss did not improve from 0.04002\n",
      "10/10 [==============================] - 8s 775ms/step - loss: 0.0117 - mean_absolute_error: 0.0753 - nse: 0.5824 - val_loss: 0.0585 - val_mean_absolute_error: 0.2061 - val_nse: 0.2419\n",
      "Epoch 47/50\n",
      "10/10 [==============================] - ETA: 0s - loss: 0.0115 - mean_absolute_error: 0.0751 - nse: 0.5825\n",
      "Epoch 00047: val_loss did not improve from 0.04002\n",
      "10/10 [==============================] - 8s 783ms/step - loss: 0.0115 - mean_absolute_error: 0.0751 - nse: 0.5825 - val_loss: 0.0497 - val_mean_absolute_error: 0.1845 - val_nse: 0.3559\n",
      "Epoch 48/50\n",
      "10/10 [==============================] - ETA: 0s - loss: 0.0120 - mean_absolute_error: 0.0771 - nse: 0.5860\n",
      "Epoch 00048: val_loss did not improve from 0.04002\n",
      "10/10 [==============================] - 8s 775ms/step - loss: 0.0120 - mean_absolute_error: 0.0771 - nse: 0.5860 - val_loss: 0.0528 - val_mean_absolute_error: 0.1883 - val_nse: 0.3174\n",
      "Epoch 49/50\n",
      "10/10 [==============================] - ETA: 0s - loss: 0.0118 - mean_absolute_error: 0.0749 - nse: 0.5826\n",
      "Epoch 00049: val_loss did not improve from 0.04002\n",
      "10/10 [==============================] - 8s 777ms/step - loss: 0.0118 - mean_absolute_error: 0.0749 - nse: 0.5826 - val_loss: 0.0500 - val_mean_absolute_error: 0.1865 - val_nse: 0.3544\n",
      "Epoch 50/50\n",
      "10/10 [==============================] - ETA: 0s - loss: 0.0113 - mean_absolute_error: 0.0758 - nse: 0.5972\n",
      "Epoch 00050: val_loss did not improve from 0.04002\n",
      "10/10 [==============================] - 8s 775ms/step - loss: 0.0113 - mean_absolute_error: 0.0758 - nse: 0.5972 - val_loss: 0.0572 - val_mean_absolute_error: 0.1999 - val_nse: 0.2589\n"
     ]
    }
   ],
   "source": [
    "gru_model = model_gru(\n",
    "    #window=multi_window, OUT_STEPS=rnn_out_steps, out_num_features=out_num_features, epochs=rnn_epochs,\n",
    "    window=multi_window, OUT_STEPS=rnn_out_steps, out_num_features=out_num_features, epochs=50,\n",
    "    training_flag=__RNN_TRAINING__, checkpoint_path=model_path+\"gru.ckpt\")"
   ]
  },
  {
   "cell_type": "markdown",
   "id": "tender-attack",
   "metadata": {},
   "source": [
    "## core / window.py / "
   ]
  },
  {
   "cell_type": "code",
   "execution_count": 131,
   "id": "smooth-wilson",
   "metadata": {
    "scrolled": false
   },
   "outputs": [
    {
     "data": {
      "application/vnd.jupyter.widget-view+json": {
       "model_id": "d900f08b831a453cb2f70aa98ac98d86",
       "version_major": 2,
       "version_minor": 0
      },
      "text/plain": [
       "Canvas(toolbar=Toolbar(toolitems=[('Home', 'Reset original view', 'home', 'home'), ('Back', 'Back to previous …"
      ]
     },
     "metadata": {},
     "output_type": "display_data"
    },
    {
     "name": "stdout",
     "output_type": "stream",
     "text": [
      "o1 :  4.165518\n",
      "predict_day :  5\n",
      "------------------------\n",
      "1.4503161 3.3886654 1.8408328\n",
      "nse3 :  [0.42248267]\n",
      "pbias3 :  [-14.909211]\n",
      "save/geum/models/chlorophyll-a/\n",
      "year : 2015 ~ 2020\n",
      "run :  range(0, 1)\n",
      "target :  chl-a\n",
      "length :  52608\n",
      "train=7, test=1, val=2\n",
      "---------------\n",
      "[0.42248267]\n",
      "[14.909211]\n"
     ]
    }
   ],
   "source": [
    "val_nse = {}\n",
    "val_pbias = {}\n",
    "val_nse['GRU'], val_pbias['GRU'], pred, label = compa(\n",
    "    model=gru_model,df=val_df, plot_col=out_features[0], target_std=target_std, target_mean=target_mean,\n",
    "    #predict_day = rnn_predict_day)\n",
    "    predict_day = 4)\n",
    "print(model_path)\n",
    "print(\"year : \" + start_year + \" ~ \"+ end_year)\n",
    "print('run : ', run_num)\n",
    "print('target : ', rnn_target_column)\n",
    "print(\"length : \",df_length)\n",
    "print(teg_check)\n",
    "print(\"---------------\")\n",
    "print(val_nse['GRU'])\n",
    "print(val_pbias['GRU'])"
   ]
  },
  {
   "cell_type": "code",
   "execution_count": 97,
   "id": "respective-buying",
   "metadata": {},
   "outputs": [],
   "source": [
    "#train_df.shape, val_df.shape, test_df.shape"
   ]
  },
  {
   "cell_type": "code",
   "execution_count": 98,
   "id": "primary-polyester",
   "metadata": {},
   "outputs": [
    {
     "ename": "NameError",
     "evalue": "name 'stop' is not defined",
     "output_type": "error",
     "traceback": [
      "\u001b[0;31m---------------------------------------------------------------------------\u001b[0m",
      "\u001b[0;31mNameError\u001b[0m                                 Traceback (most recent call last)",
      "\u001b[0;32m<ipython-input-98-e0217f206edd>\u001b[0m in \u001b[0;36m<module>\u001b[0;34m\u001b[0m\n\u001b[1;32m     13\u001b[0m \u001b[0;31m#      SSSSSSSSSSSSSSSSSS                  ******              *********************      *****\u001b[0m\u001b[0;34m\u001b[0m\u001b[0;34m\u001b[0m\u001b[0;34m\u001b[0m\u001b[0m\n\u001b[1;32m     14\u001b[0m \u001b[0;31m#-----------------------------------------------------------------------------------------------------------------\u001b[0m\u001b[0;34m\u001b[0m\u001b[0;34m\u001b[0m\u001b[0;34m\u001b[0m\u001b[0m\n\u001b[0;32m---> 15\u001b[0;31m \u001b[0mstop\u001b[0m \u001b[0;34m=\u001b[0m \u001b[0mstop\u001b[0m\u001b[0;34m\u001b[0m\u001b[0;34m\u001b[0m\u001b[0m\n\u001b[0m",
      "\u001b[0;31mNameError\u001b[0m: name 'stop' is not defined"
     ]
    }
   ],
   "source": [
    "#-----------------------------------------------------------------------------------------------------------------\n",
    "# 123SFACVTHYI78567UDBYUJM534523RDHGTHETYIE5I8I78O9P789J467UBDFGDASFSADCXVFDSWERTNERGRTTUTYAFGASDFSDBGFDF67E54563\n",
    "# 64534FDSFVSDHT56SDFG656USRHSDYA3Y RTA WERGERGSDFGVTY34TASDF dfasdfghhgbcvbsdfgrwergfdsfvzxcvasdfaweqdqasdfderadf\n",
    "# feasetttttttttttttttttttvxzcvxzvxcvxvnjfghjvbnfghjdfhgdhthrtyyyyyyyyyyrtjliuioyuytrtyurtyughjuyityuityuityuijjty\n",
    "# hgfgdrrtyetghfdghvcvbnhjfghjgggnfnmjhkuytlryewqwerasdfgghrthfgjyruhjyuihjknhybgtvfrcdezxcabnghrtyreeghghte45654y  \n",
    "# tr345rgbbbdfghterty4534562345jhgy5462345234534n5345g345t3245d34f235345f345g34454f345t345er345234yt545y45tg45t534\n",
    "#       SSSSSSSSSSSSSS         ASDFALKJIVAJLMSEFLKMALSKVJALKSRKLTGAKLSDGVLK   *****    ***************   \n",
    "#            SSSSSSSSSSSSS               ******            ******              *****    *************            \n",
    "#                   SSSSSSSS               ******            ******              *****    *****                      \n",
    "#        SSSS         S  SSS               ******            ******              *****    *****                     \n",
    "#      SSSS          S  SSSS               ******            ******              *****    *****                     \n",
    "#     SSSSS            SSSS                ******             ******            ******    *****                     \n",
    "#      SSSSSSSSSSSSSSSSSS                  ******              *********************      *****                   \n",
    "#-----------------------------------------------------------------------------------------------------------------\n",
    "stop = stop"
   ]
  },
  {
   "cell_type": "code",
   "execution_count": null,
   "id": "therapeutic-disabled",
   "metadata": {},
   "outputs": [],
   "source": [
    "from core.models import GRUModel, compile"
   ]
  },
  {
   "cell_type": "code",
   "execution_count": null,
   "id": "entertaining-sunrise",
   "metadata": {},
   "outputs": [],
   "source": [
    "model112 = GRUModel(rnn_out_steps, out_num_features)\n",
    "model112.load_weights(model_path+\"gru.ckpt\")\n",
    "compile(model112)\n"
   ]
  },
  {
   "cell_type": "code",
   "execution_count": null,
   "id": "subtle-vacuum",
   "metadata": {},
   "outputs": [],
   "source": [
    "val_nse = {}\n",
    "val_pbias = {}\n",
    "val_nse['GRU'], val_pbias['GRU'], pred, label = compa(\n",
    "    #model=model112,df=test_df, plot_col=out_features[0], target_std=target_std, target_mean=target_mean,\n",
    "    model=model112,df=val_df, plot_col=out_features[0], target_std=target_std, target_mean=target_mean,\n",
    "    #predict_day = rnn_predict_day)\n",
    "    predict_day = 4)\n",
    "print(model_path)\n",
    "print(\"year : \" + start_year + \" ~ \"+ end_year)\n",
    "print('run : ', run_num)\n",
    "print('target : ', rnn_target_column)\n",
    "print(\"length : \",df_length)\n",
    "print(teg_check)\n",
    "print(\"---------------\")\n",
    "print(val_nse['GRU'])\n",
    "print(val_pbias['GRU'])"
   ]
  },
  {
   "cell_type": "code",
   "execution_count": null,
   "id": "assured-restriction",
   "metadata": {
    "scrolled": true
   },
   "outputs": [],
   "source": [
    "##.evaluate(multi_window.train)\n",
    "#model112.evaluate(multi_window.val.repeat(-1), steps=100)"
   ]
  },
  {
   "cell_type": "code",
   "execution_count": null,
   "id": "exempt-confidence",
   "metadata": {},
   "outputs": [],
   "source": []
  },
  {
   "cell_type": "code",
   "execution_count": null,
   "id": "democratic-cooling",
   "metadata": {},
   "outputs": [],
   "source": []
  },
  {
   "cell_type": "code",
   "execution_count": null,
   "id": "filled-causing",
   "metadata": {},
   "outputs": [],
   "source": []
  },
  {
   "cell_type": "code",
   "execution_count": null,
   "id": "motivated-poison",
   "metadata": {},
   "outputs": [],
   "source": []
  },
  {
   "cell_type": "code",
   "execution_count": null,
   "id": "outstanding-grove",
   "metadata": {},
   "outputs": [],
   "source": []
  },
  {
   "cell_type": "code",
   "execution_count": null,
   "id": "featured-battle",
   "metadata": {},
   "outputs": [],
   "source": []
  },
  {
   "cell_type": "code",
   "execution_count": null,
   "id": "criminal-hypothetical",
   "metadata": {},
   "outputs": [],
   "source": []
  },
  {
   "cell_type": "code",
   "execution_count": null,
   "id": "numeric-cartoon",
   "metadata": {},
   "outputs": [],
   "source": []
  },
  {
   "cell_type": "code",
   "execution_count": null,
   "id": "frozen-christmas",
   "metadata": {},
   "outputs": [],
   "source": []
  },
  {
   "cell_type": "code",
   "execution_count": null,
   "id": "sweet-planner",
   "metadata": {},
   "outputs": [],
   "source": []
  },
  {
   "cell_type": "code",
   "execution_count": null,
   "id": "uniform-craps",
   "metadata": {},
   "outputs": [],
   "source": []
  },
  {
   "cell_type": "code",
   "execution_count": null,
   "id": "minimal-military",
   "metadata": {},
   "outputs": [],
   "source": []
  },
  {
   "cell_type": "code",
   "execution_count": null,
   "id": "greater-halloween",
   "metadata": {},
   "outputs": [],
   "source": []
  },
  {
   "cell_type": "code",
   "execution_count": null,
   "id": "potential-measurement",
   "metadata": {},
   "outputs": [],
   "source": []
  },
  {
   "cell_type": "code",
   "execution_count": null,
   "id": "serial-variable",
   "metadata": {},
   "outputs": [],
   "source": []
  },
  {
   "cell_type": "code",
   "execution_count": null,
   "id": "dimensional-message",
   "metadata": {},
   "outputs": [],
   "source": []
  },
  {
   "cell_type": "code",
   "execution_count": null,
   "id": "sized-crazy",
   "metadata": {},
   "outputs": [],
   "source": [
    "\n",
    "def compa(model=None,df = None, plot_col=0, input_width=7*24, label_width=5*24, target_std=None, target_mean=None, predict_day=4):\n",
    "    \n",
    "    #print(df.shape)\n",
    "    #print(plot_col)\n",
    "    \n",
    "    width = input_width + label_width\n",
    "    \n",
    "    length = df.shape[0]\n",
    "    length -= width\n",
    "    \n",
    "    inputs = []\n",
    "    labels = []\n",
    "    \n",
    "    for i in range(0, length, 24):\n",
    "        dataset = df.iloc[i:i+width].to_numpy()\n",
    "        input = dataset[:input_width]\n",
    "        label = dataset[input_width:, plot_col:plot_col+1]\n",
    "        \n",
    "        input = input.reshape((-1,)+input.shape)\n",
    "        label = label.reshape((-1,)+label.shape)\n",
    "        \n",
    "        inputs.append(input)\n",
    "        labels.append(label)\n",
    "        \n",
    "    inputs = np.concatenate(inputs, axis=0)\n",
    "    labels = np.concatenate(labels, axis=0)\n",
    "    \n",
    "    \n",
    "\n",
    "    predictions = model(inputs).numpy()\n",
    "    \n",
    "    print(\"input : \", inputs.shape, \"labels : \", labels.shape, \"predictions : \", predictions.shape)\n",
    "    #print(predictions.shape)\n",
    "    \n",
    "    predictions = predictions * target_std[plot_col] + target_mean[plot_col]\n",
    "    labels = labels * target_std[plot_col] + target_mean[plot_col]\n",
    "\n",
    "    pred_day = hour_to_day_mean(predictions)\n",
    "    \n",
    "    label_day = hour_to_day_mean(labels)\n",
    "    \n",
    "    inputs_target = inputs[:,:,plot_col:plot_col+1]\n",
    "    inputs_target = inputs_target * target_std[plot_col] + target_mean[plot_col]\n",
    "    inputs_day = hour_to_day_mean(inputs_target)\n",
    "    \n",
    "    print(\"                label_day.shape : \",label_day.shape, \"pred_day.shape : \", pred_day.shape)\n",
    "    \n",
    "    #plt.figure()\n",
    "    #input_index = np.array(range(0, length, 24))\n",
    "    #label_index = input_index + 24* (7 + predict_day)\n",
    "    #plt.plot(input_index, inputs_day[:, 0, :], label='input')\n",
    "    #plt.plot(label_index, label_day[:, predict_day, :], label='label')\n",
    "    #plt.plot(label_index, pred_day[:, predict_day, :], label='pred')\n",
    "    #plt.legend()\n",
    "    \n",
    "    #o1 = np.mean(labels)\n",
    "    o1 = np.mean(label_day[:,predict_day,:])\n",
    "    nse1 = ((label_day - pred_day)**2).sum(axis=0)\n",
    "    nse2 = ((label_day - o1)**2).sum(axis=0)\n",
    "    nse3 = 1 - (nse1[predict_day]/nse2[predict_day])\n",
    "    print('o1 : ', o1)\n",
    "    print('predict_day : ', predict_day + 1)\n",
    "    pbias1 = (label_day - pred_day).sum(axis=0)\n",
    "    pbias2 = (label_day).sum(axis=0)\n",
    "    pbias3 = (pbias1[predict_day]/pbias2[predict_day])*100\n",
    "    \n",
    "    \n",
    "    mae = (np.abs(label_day - pred_day)).mean()\n",
    "    mse = ((label_day - pred_day)**2).mean()\n",
    "    rmse = np.sqrt(((label_day - pred_day)**2).mean())\n",
    "    \n",
    "    print('------------------------')\n",
    "    print(mae, mse ,rmse)\n",
    "    labels_test = labels.mean(axis=1)\n",
    "    predis_test = inputs_target.mean(axis=1)\n",
    "    \n",
    "    nse2_1 = ((labels_test - predis_test)**2).sum()\n",
    "    nse2_2 = ((labels_test - o1)**2).sum()\n",
    "    nse2_3 = 1 - (nse2_1/nse2_2)\n",
    "    \n",
    "    pbias2_1 = (labels_test - predis_test).sum()\n",
    "    pbias2_2 = labels_test.sum()\n",
    "    pbias2_3 = pbias2_1/pbias2_2 * 100\n",
    "    #print(labels_test.shape)\n",
    "    #print(predis_test.shape)\n",
    "    #print()\n",
    "    #print(\"nse2_3 : \",nse2_3)\n",
    "    #print(\"pbias2_3 : \",pbias2_3)\n",
    "    ##print('------------------------')\n",
    "    print(\"nse3 : \", nse3)\n",
    "    print(\"pbias3 : \",pbias3)\n",
    "    ##print('------------------------')\n",
    "    \n",
    "    return nse3, np.abs(pbias3), inputs_day, label_day, pred_day\n",
    "    "
   ]
  },
  {
   "cell_type": "code",
   "execution_count": null,
   "id": "separate-appendix",
   "metadata": {},
   "outputs": [],
   "source": []
  },
  {
   "cell_type": "code",
   "execution_count": null,
   "id": "under-terminology",
   "metadata": {},
   "outputs": [],
   "source": [
    "\n",
    "x = np.arange(len(val_nse))\n",
    "width = 0.35\n",
    "plt.figure()\n",
    "plt.title(watershed + '  ['+start_year+','+end_year+']  ' + rnn_target_column)\n",
    "plt.bar(x, val_pbias.values(), 0.3, label='PBIAS' )\n",
    "plt.bar(x + width, val_nse.values(), 0.3, label='NSE')\n",
    "plt.xticks(x,val_nse.keys(), rotation=0)\n",
    "_ = plt.legend()\n",
    "plt.show()\n"
   ]
  },
  {
   "cell_type": "code",
   "execution_count": null,
   "id": "sufficient-catalog",
   "metadata": {},
   "outputs": [],
   "source": []
  },
  {
   "cell_type": "code",
   "execution_count": null,
   "id": "other-honduras",
   "metadata": {},
   "outputs": [],
   "source": []
  },
  {
   "cell_type": "code",
   "execution_count": null,
   "id": "unnecessary-marker",
   "metadata": {},
   "outputs": [],
   "source": []
  }
 ],
 "metadata": {
  "kernelspec": {
   "display_name": "Python 3",
   "language": "python",
   "name": "python3"
  },
  "language_info": {
   "codemirror_mode": {
    "name": "ipython",
    "version": 3
   },
   "file_extension": ".py",
   "mimetype": "text/x-python",
   "name": "python",
   "nbconvert_exporter": "python",
   "pygments_lexer": "ipython3",
   "version": "3.7.9"
  }
 },
 "nbformat": 4,
 "nbformat_minor": 5
}
