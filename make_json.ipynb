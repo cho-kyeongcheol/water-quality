{
 "cells": [
  {
   "cell_type": "code",
   "execution_count": 4,
   "metadata": {},
   "outputs": [],
   "source": [
    "import json"
   ]
  },
  {
   "cell_type": "code",
   "execution_count": 35,
   "metadata": {},
   "outputs": [],
   "source": [
    "class make_json():\n",
    "    def __init__(self, watershed='han', train_gain=False, train_rnn=False, target_col='do', predict_day=5):\n",
    "        \n",
    "        parameters_dir = 'input'\n",
    "        parameters_file = 'test.json'\n",
    "        parameters_path = '{dir}/{file}'.format(dir=parameters_dir, file=parameters_file)\n",
    "        \n",
    "        self.watershed = watershed\n",
    "        self.train_gain = train_gain\n",
    "        self.train_rnn = train_rnn\n",
    "        self.target_col = target_col\n",
    "        json_parameters={}\n",
    "        with open(parameters_path, encoding='utf8') as json_file:\n",
    "            parameters = json.load(json_file)\n",
    "            \n",
    "            json_parameters['file'] = parameters['file']\n",
    "            json_parameters['gain'] = parameters['gain']\n",
    "            json_parameters['rnn'] = parameters['rnn']\n",
    "            \n",
    "            \n",
    "            json_parameters['file']['watershed'] = self.watershed\n",
    "            json_parameters['gain']['train'] = self.train_gain\n",
    "            json_parameters['rnn']['train'] = self.train_rnn\n",
    "            json_parameters['rnn']['target_column'] = self.target_col\n",
    "            \n",
    "            print(json_parameters)\n",
    "            \n",
    "        with open('input/test_out.json', 'w', encoding='utf-8') as make_file:\n",
    "            json.dump(json_parameters, make_file, indent=4)\n",
    "            "
   ]
  },
  {
   "cell_type": "code",
   "execution_count": 39,
   "metadata": {},
   "outputs": [
    {
     "name": "stdout",
     "output_type": "stream",
     "text": [
      "{'file': {'watershed': 'nak'}, 'gain': {'train': True, 'max_epochs': 2000, 'batch_size': 32, 'input_width': 120, 'label_width': 120, 'shift_width': 120, 'fill_width': 3, 'miss_rate': 0.15}, 'rnn': {'train': True, 'max_epochs': 15, 'target_column': 'toc', 'batch_size': 128, 'input_width': 240, 'label_width': 120, 'predict_day': 5}}\n"
     ]
    },
    {
     "data": {
      "text/plain": [
       "<__main__.make_json at 0x7f8fb7b30390>"
      ]
     },
     "execution_count": 39,
     "metadata": {},
     "output_type": "execute_result"
    }
   ],
   "source": [
    "make_json(watershed='nak', train_gain=True, train_rnn=True, target_col='toc')"
   ]
  },
  {
   "cell_type": "code",
   "execution_count": 12,
   "metadata": {},
   "outputs": [
    {
     "data": {
      "text/plain": [
       "{'train': True,\n",
       " 'max_epochs': 2000,\n",
       " 'batch_size': 32,\n",
       " 'input_width': 120,\n",
       " 'label_width': 120,\n",
       " 'shift_width': 120,\n",
       " 'fill_width': 3,\n",
       " 'miss_rate': 0.15}"
      ]
     },
     "execution_count": 12,
     "metadata": {},
     "output_type": "execute_result"
    }
   ],
   "source": [
    "gain_parameters"
   ]
  },
  {
   "cell_type": "code",
   "execution_count": null,
   "metadata": {},
   "outputs": [],
   "source": [
    "import argparse\n",
    "import json\n",
    "\n",
    "def main (args):\n",
    "    ''''Main function for UCI letter and spam datasets.\n",
    "    \n",
    "    Args:\n",
    "    - data_name: letter or spam\n",
    "    - miss_rate: probability of missing components\n",
    "    - batch:size: batch size\n",
    "    - hint_rate: hint rate\n",
    "    - alpha: hyperparameter\n",
    "    - iterations: iterations\n",
    "    \n",
    "    Returns:\n",
    "    - imputed_data_x: imputed data\n",
    "    - rmse: Root Mean Squared Error\n",
    "    '''\n",
    "    \n",
    "  \n"
   ]
  },
  {
   "cell_type": "code",
   "execution_count": null,
   "metadata": {},
   "outputs": [],
   "source": [
    "if __name__ == '__main__':  \n",
    "    # Inputs for the main function\n",
    "    parser = argparse.ArgumentParser()\n",
    "    parser.add_argument(\n",
    "        '--watershed',\n",
    "        choices=['han','nak', 'geum', 'yeong'],\n",
    "        default='han',\n",
    "        type=str)\n",
    "    parser.add_argument(\n",
    "        '--train_gain',\n",
    "        help='GAIN training option(True/False)',\n",
    "        default=False,\n",
    "        type=bool)\n",
    "    parser.add_argument(\n",
    "        '--train_rnn',\n",
    "        help='RNN training option(True/False)',\n",
    "        default=False,\n",
    "        type=bool)\n",
    "    parser.add_argument(\n",
    "        '--target_col',\n",
    "        choices=['do','toc', 'tn', 'tp', 'chl-a'],\n",
    "        default='do',\n",
    "        type=str)\n",
    "    parser.add_argument(\n",
    "        '--predict_day',\n",
    "        help='number of predict day',\n",
    "        default=5,\n",
    "        type=int)\n",
    "    \n",
    "    args = parser.parse_args() \n",
    "    \n",
    "    # Calls main function  \n",
    "    main(args)"
   ]
  },
  {
   "cell_type": "code",
   "execution_count": null,
   "metadata": {},
   "outputs": [],
   "source": []
  },
  {
   "cell_type": "code",
   "execution_count": null,
   "metadata": {},
   "outputs": [],
   "source": []
  },
  {
   "cell_type": "code",
   "execution_count": null,
   "metadata": {},
   "outputs": [],
   "source": []
  },
  {
   "cell_type": "code",
   "execution_count": null,
   "metadata": {},
   "outputs": [],
   "source": []
  },
  {
   "cell_type": "code",
   "execution_count": null,
   "metadata": {},
   "outputs": [],
   "source": []
  },
  {
   "cell_type": "code",
   "execution_count": null,
   "metadata": {},
   "outputs": [],
   "source": []
  },
  {
   "cell_type": "code",
   "execution_count": null,
   "metadata": {},
   "outputs": [],
   "source": []
  },
  {
   "cell_type": "code",
   "execution_count": null,
   "metadata": {},
   "outputs": [],
   "source": []
  }
 ],
 "metadata": {
  "kernelspec": {
   "display_name": "Python 3",
   "language": "python",
   "name": "python3"
  },
  "language_info": {
   "codemirror_mode": {
    "name": "ipython",
    "version": 3
   },
   "file_extension": ".py",
   "mimetype": "text/x-python",
   "name": "python",
   "nbconvert_exporter": "python",
   "pygments_lexer": "ipython3",
   "version": "3.7.8"
  }
 },
 "nbformat": 4,
 "nbformat_minor": 4
}
