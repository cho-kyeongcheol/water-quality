{
 "cells": [
  {
   "cell_type": "code",
   "execution_count": 1,
   "id": "stuffed-hostel",
   "metadata": {},
   "outputs": [],
   "source": [
    "import pandas as pd\n",
    "import numpy as np\n",
    "\n",
    "import os\n",
    "import datetime"
   ]
  },
  {
   "cell_type": "code",
   "execution_count": 17,
   "id": "painful-pickup",
   "metadata": {},
   "outputs": [],
   "source": [
    "file_name = 'young2/자동/나주_2016.xlsx'"
   ]
  },
  {
   "cell_type": "code",
   "execution_count": 18,
   "id": "capital-entrance",
   "metadata": {},
   "outputs": [],
   "source": [
    "df = pd.read_excel(file_name)"
   ]
  },
  {
   "cell_type": "code",
   "execution_count": 19,
   "id": "immediate-caribbean",
   "metadata": {},
   "outputs": [
    {
     "data": {
      "text/plain": [
       "(8784, 89)"
      ]
     },
     "execution_count": 19,
     "metadata": {},
     "output_type": "execute_result"
    }
   ],
   "source": [
    "df.shape"
   ]
  },
  {
   "cell_type": "code",
   "execution_count": 20,
   "id": "known-increase",
   "metadata": {},
   "outputs": [],
   "source": [
    "#df = df.dropna(subset=['ph_value'])\n",
    "columns = []\n",
    "for i in df.columns:\n",
    "    columns.append(i)\n",
    "\n",
    "df = df.drop(columns[31:46],axis=1)\n",
    "#df = df.drop([31,32,33,34,35,36,37,38,39,40,41,42,43,44,45], axis=1)"
   ]
  },
  {
   "cell_type": "code",
   "execution_count": 21,
   "id": "hundred-cassette",
   "metadata": {},
   "outputs": [
    {
     "data": {
      "text/plain": [
       "(8784, 74)"
      ]
     },
     "execution_count": 21,
     "metadata": {},
     "output_type": "execute_result"
    }
   ],
   "source": [
    "df.shape"
   ]
  },
  {
   "cell_type": "code",
   "execution_count": 27,
   "id": "committed-drill",
   "metadata": {},
   "outputs": [],
   "source": [
    "df.to_excel('tesdt.xlsx',index=False)"
   ]
  },
  {
   "cell_type": "code",
   "execution_count": 43,
   "id": "driven-providence",
   "metadata": {},
   "outputs": [
    {
     "name": "stdout",
     "output_type": "stream",
     "text": [
      "young2/자동/우치_2019.xlsx\n"
     ]
    }
   ],
   "source": [
    "file_name = 'young2/자동/우치_2019.xlsx'\n",
    "\n",
    "df = pd.read_excel(file_name)\n",
    "\n",
    "columns = []\n",
    "for i in df.columns:\n",
    "    columns.append(i)\n",
    "\n",
    "df = df.drop(columns[31:46],axis=1)\n",
    "df.to_excel('우치_2019.xlsx',index=False)\n",
    "print(file_name)"
   ]
  },
  {
   "cell_type": "code",
   "execution_count": null,
   "id": "statutory-creature",
   "metadata": {},
   "outputs": [],
   "source": []
  }
 ],
 "metadata": {
  "kernelspec": {
   "display_name": "Python 3",
   "language": "python",
   "name": "python3"
  },
  "language_info": {
   "codemirror_mode": {
    "name": "ipython",
    "version": 3
   },
   "file_extension": ".py",
   "mimetype": "text/x-python",
   "name": "python",
   "nbconvert_exporter": "python",
   "pygments_lexer": "ipython3",
   "version": "3.7.9"
  }
 },
 "nbformat": 4,
 "nbformat_minor": 5
}
