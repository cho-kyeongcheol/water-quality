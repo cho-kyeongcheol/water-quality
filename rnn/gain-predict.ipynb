{
 "cells": [
  {
   "cell_type": "code",
   "execution_count": 1,
   "metadata": {},
   "outputs": [],
   "source": [
    "# 목표 예측 범위 안에 넣기\n",
    "# data * std + mean\n"
   ]
  },
  {
   "cell_type": "code",
   "execution_count": 2,
   "metadata": {},
   "outputs": [],
   "source": [
    "%matplotlib widget"
   ]
  },
  {
   "cell_type": "code",
   "execution_count": 3,
   "metadata": {},
   "outputs": [],
   "source": [
    "import pandas as pd\n",
    "import numpy as np\n",
    "from glob import glob\n",
    "import os\n",
    "import datetime\n",
    "import matplotlib.pyplot as plt\n",
    "\n",
    "from tensorflow.keras.layers import Input, Concatenate, Dot, Add, ReLU, Activation\n",
    "from tensorflow.keras.layers import Dense, Flatten\n",
    "from tensorflow.keras.optimizers import Adam\n",
    "import tensorflow as tf\n",
    "from tensorflow import keras"
   ]
  },
  {
   "cell_type": "code",
   "execution_count": 5,
   "metadata": {},
   "outputs": [
    {
     "name": "stdout",
     "output_type": "stream",
     "text": [
      "4\n",
      "가평_2016.xlsx\n",
      "가평_2017.xlsx\n",
      "가평_2018.xlsx\n",
      "가평_2019.xlsx\n",
      "4\n",
      "의암호_2016.xlsx\n",
      "의암호_2017.xlsx\n",
      "의암호_2018.xlsx\n",
      "의암호_2019.xlsx\n"
     ]
    }
   ],
   "source": [
    "folder = 'data'\n",
    "# file_names = [['가평_2016.xlsx','가평_2017.xlsx','가평_2018.xlsx', '가평_2019.xlsx'], \n",
    "#               ['의암호_2016.xlsx','의암호_2017.xlsx','의암호_2018.xlsx', '의암호_2019.xlsx'],\n",
    "#               ['서상_2016.xlsx','서상_2017.xlsx','서상_2018.xlsx', '서상_2019.xlsx']]\n",
    "\n",
    "file_names = [['가평_2016.xlsx','가평_2017.xlsx','가평_2018.xlsx', '가평_2019.xlsx'], \n",
    "              ['의암호_2016.xlsx','의암호_2017.xlsx','의암호_2018.xlsx', '의암호_2019.xlsx'],\n",
    "             ]\n",
    "\n",
    "#file_names = [['자동측정망-01-가평-2016.xlsx','자동측정망-01-가평-2017.xlsx','자동측정망-01-가평-2018.xlsx', '자동측정망-01-가평-2019.xlsx', '자동측정망-01-가평-2020.xlsx'], \n",
    "#              ['자동측정망-02-의암호-2016.xlsx','자동측정망-02-의암호-2017.xlsx','자동측정망-02-의암호-2018.xlsx','자동측정망-02-의암호-2019.xlsx','자동측정망-02-의암호-2020.xlsx'],\n",
    "#              ['자동측정망-03-서상-2016.xlsx','자동측정망-03-서상-2017.xlsx','자동측정망-03-서상-2018.xlsx','자동측정망-03-서상-2019.xlsx','자동측정망-03-서상-2020.xlsx'],\n",
    "#              ['자동측정망-04-화천-2016.xlsx','자동측정망-04-화천-2017.xlsx','자동측정망-04-화천-2018.xlsx','자동측정망-04-화천-2019.xlsx','자동측정망-04-화천-2020.xlsx'],\n",
    "              #['총량측정망-10-01-조종천3-2016.xlsx','총량측정망-10-01-조종천3-2017.xlsx','총량측정망-10-01-조종천3-2018.xlsx','총량측정망-10-01-조종천3-2019.xlsx','총량측정망-10-01-조종천3-2020.xlsx'],\n",
    "              #['총량측정망-12-01-청평-2016.xlsx','총량측정망-12-01-청평-2017.xlsx','총량측정망-12-01-청평-2018.xlsx','총량측정망-12-01-청평-2019.xlsx','총량측정망-12-01-청평-2020.xlsx'],\n",
    "              #['총량측정망-12-01-청평-2016s.xlsx','총량측정망-12-01-청평-2017.xlsx','총량측정망-12-01-청평-2018.xlsx','총량측정망-12-01-청평-2019.xlsx','총량측정망-12-01-청평-2020.xlsx'],\n",
    "              #['총량측정망-12-02-가평천3-2016.xlsx','총량측정망-12-02-가평천3-2017.xlsx','총량측정망-12-02-가평천3-2018.xlsx','총량측정망-12-02-가평천3-2019.xlsx','총량측정망-12-02-가평천3-2020.xlsx'],\n",
    "              #['총량측정망-12-03-춘성교-2016.xlsx','총량측정망-12-03-춘성교-2017.xlsx','총량측정망-12-03-춘성교-2018.xlsx','총량측정망-12-03-춘성교-2019.xlsx','총량측정망-12-03-춘성교-2020.xlsx'],\n",
    "              #['총량측정망-20-01-소양강2-2016.xlsx','총량측정망-20-01-소양강2-2017.xlsx','총량측정망-20-01-소양강2-2018.xlsx','총량측정망-20-01-소양강2-2019.xlsx','총량측정망-20-01-소양강2-2020.xlsx'],\n",
    "              #['총량측정망-34-01-춘천A-2016.xlsx','총량측정망-34-01-춘천A-2017.xlsx','총량측정망-34-01-춘천A-2018.xlsx','총량측정망-34-01-춘천A-2019.xlsx','총량측정망-34-01-춘천A-2020.xlsx'],\n",
    "              #['총량측정망-40-01-화천-2016.xlsx','총량측정망-40-01-화천-2017.xlsx','총량측정망-40-01-화천-2018.xlsx','총량측정망-40-01-화천-2019.xlsx','총량측정망-40-01-화천-2020.xlsx']\n",
    "         #    ]\n",
    "\n",
    "\n",
    "\n",
    "day = 24*60*60\n",
    "year = (365.2425)*day\n",
    "\n",
    "df_full = []\n",
    "df = []\n",
    "\n",
    "stride = len(file_names)\n",
    "\n",
    "for loc in range(len(file_names)):\n",
    "    \n",
    "    df_loc = []\n",
    "    print(len(file_names[loc]))\n",
    "    for y in range(len(file_names[loc])):\n",
    "        path = os.path.join(folder, file_names[loc][y])\n",
    "        print(file_names[loc][y])\n",
    "        df_loc.append(pd.read_excel(path))\n",
    "    df_full.append(pd.concat(df_loc))\n",
    "    df.append(df_full[loc].iloc[:, 2:])\n",
    "#     df.append(df_full[loc].iloc[:, [2,3,4,5,6,7,10]])\n",
    "#     df.append(df_full[loc].iloc[:, 2:11])\n",
    "    \n",
    "    date_time = pd.to_datetime(df_full[loc].iloc[:, 0], format='%Y.%m.%d %H:%M', utc=True)\n",
    "    \n",
    "    timestamp_s = date_time.map(datetime.datetime.timestamp)\n",
    "    df[loc]['Day sin'] = np.sin(timestamp_s * (2 * np.pi / day))\n",
    "    df[loc]['Day cos'] = np.cos(timestamp_s * (2 * np.pi / day))\n",
    "    df[loc]['Year sin'] = np.sin(timestamp_s * (2 * np.pi / year))\n",
    "    df[loc]['Year cos'] = np.cos(timestamp_s * (2 * np.pi / year))\n",
    "    df[loc] = df[loc].reset_index(drop=True)\n",
    "        "
   ]
  },
  {
   "cell_type": "code",
   "execution_count": null,
   "metadata": {},
   "outputs": [],
   "source": [
    "'''\n",
    "folder = 'datasave'\n",
    "\n",
    "file_names = [\n",
    "              ['총량측정망-10-01-조종천3-2016.xlsx','총량측정망-10-01-조종천3-2017.xlsx','총량측정망-10-01-조종천3-2018.xlsx','총량측정망-10-01-조종천3-2019.xlsx','총량측정망-10-01-조종천3-2020.xlsx'],\n",
    "              #['총량측정망-12-01-청평-2016.xlsx','총량측정망-12-01-청평-2017.xlsx','총량측정망-12-01-청평-2018.xlsx','총량측정망-12-01-청평-2019.xlsx','총량측정망-12-01-청평-2020.xlsx'],\n",
    "              ['총량측정망-12-01-청평-2016s.xlsx','총량측정망-12-01-청평-2017.xlsx','총량측정망-12-01-청평-2018.xlsx','총량측정망-12-01-청평-2019.xlsx','총량측정망-12-01-청평-2020.xlsx'],\n",
    "              ['총량측정망-12-02-가평천3-2016.xlsx','총량측정망-12-02-가평천3-2017.xlsx','총량측정망-12-02-가평천3-2018.xlsx','총량측정망-12-02-가평천3-2019.xlsx','총량측정망-12-02-가평천3-2020.xlsx'],\n",
    "              ['총량측정망-12-03-춘성교-2016.xlsx','총량측정망-12-03-춘성교-2017.xlsx','총량측정망-12-03-춘성교-2018.xlsx','총량측정망-12-03-춘성교-2019.xlsx','총량측정망-12-03-춘성교-2020.xlsx'],\n",
    "              ['총량측정망-20-01-소양강2-2016.xlsx','총량측정망-20-01-소양강2-2017.xlsx','총량측정망-20-01-소양강2-2018.xlsx','총량측정망-20-01-소양강2-2019.xlsx','총량측정망-20-01-소양강2-2020.xlsx'],\n",
    "              ['총량측정망-34-01-춘천A-2016.xlsx','총량측정망-34-01-춘천A-2017.xlsx','총량측정망-34-01-춘천A-2018.xlsx','총량측정망-34-01-춘천A-2019.xlsx','총량측정망-34-01-춘천A-2020.xlsx'],\n",
    "              ['총량측정망-40-01-화천-2016.xlsx','총량측정망-40-01-화천-2017.xlsx','총량측정망-40-01-화천-2018.xlsx','총량측정망-40-01-화천-2019.xlsx','총량측정망-40-01-화천-2020.xlsx']\n",
    "             ]\n",
    "\n",
    "\n",
    "print(len(file_names))\n",
    "for loc in range(len(file_names)):\n",
    "    df_loc = []\n",
    "    print(len(file_names[loc]))\n",
    "    for y in range(len(file_names[loc])):\n",
    "        path = os.path.join(folder, file_names[loc][y])\n",
    "        print(file_names[loc][y])\n",
    "        df_loc.append(pd.read_excel(path))\n",
    "    df_full.append(pd.concat(df_loc))\n",
    "    \n",
    "    #print(df_full[loc].iloc[:, 3:])\n",
    "    \n",
    "    df.append(df_full[loc].iloc[:, 3:])\n",
    "    \n",
    "    date_time = pd.to_datetime(df_full[loc].iloc[:, 0], format='%Y.%m.%d %H:%M', utc=True)\n",
    "    \n",
    "    timestamp_s = date_time.map(datetime.datetime.timestamp)\n",
    "    df[loc+stride]['Day sin'] = np.sin(timestamp_s * (2 * np.pi / day))\n",
    "    df[loc+stride]['Day cos'] = np.cos(timestamp_s * (2 * np.pi / day))\n",
    "    df[loc+stride]['Year sin'] = np.sin(timestamp_s * (2 * np.pi / year))\n",
    "    df[loc+stride]['Year cos'] = np.cos(timestamp_s * (2 * np.pi / year))\n",
    "    df[loc+stride] = df[loc+stride].reset_index(drop=True)\n",
    "'''"
   ]
  },
  {
   "cell_type": "code",
   "execution_count": null,
   "metadata": {},
   "outputs": [],
   "source": [
    "#df[0]"
   ]
  },
  {
   "cell_type": "code",
   "execution_count": null,
   "metadata": {},
   "outputs": [],
   "source": [
    "#df[0]"
   ]
  },
  {
   "cell_type": "code",
   "execution_count": 6,
   "metadata": {},
   "outputs": [],
   "source": [
    "# normalize data\n",
    "\n",
    "df_all = pd.concat(df)\n",
    "df_all\n",
    "\n",
    "train_mean = df_all.mean()\n",
    "train_std = df_all.std()\n",
    "for i in range(len(file_names)):\n",
    "    df[i] = (df[i]-train_mean)/train_std"
   ]
  },
  {
   "cell_type": "code",
   "execution_count": null,
   "metadata": {},
   "outputs": [],
   "source": [
    "train_mean, train_std\n"
   ]
  },
  {
   "cell_type": "code",
   "execution_count": null,
   "metadata": {},
   "outputs": [],
   "source": [
    "df[0]"
   ]
  },
  {
   "cell_type": "code",
   "execution_count": 7,
   "metadata": {},
   "outputs": [],
   "source": [
    "train_df = df[0]\n",
    "val_df = df[0]\n",
    "test_df = df[0]"
   ]
  },
  {
   "cell_type": "code",
   "execution_count": 8,
   "metadata": {},
   "outputs": [],
   "source": [
    "class WindowGenerator():\n",
    "  def __init__(self, input_width, label_width, shift,\n",
    "               train_df=train_df, val_df=val_df, test_df=test_df,\n",
    "            #train_df=None, val_df=None, test_df=None,\n",
    "               label_columns=None):\n",
    "    # Store the raw data.\n",
    "    self.train_df = train_df\n",
    "    self.val_df = val_df\n",
    "    self.test_df = test_df\n",
    "\n",
    "    # Work out the label column indices.\n",
    "    self.label_columns = label_columns\n",
    "    if label_columns is not None:\n",
    "      self.label_columns_indices = {name: i for i, name in\n",
    "                                    enumerate(label_columns)}\n",
    "    self.column_indices = {name: i for i, name in\n",
    "                           enumerate(train_df.columns)}\n",
    "\n",
    "    # Work out the window parameters.\n",
    "    self.input_width = input_width\n",
    "    self.label_width = label_width\n",
    "    self.shift = shift\n",
    "\n",
    "    self.total_window_size = input_width + shift\n",
    "\n",
    "    self.input_slice = slice(0, input_width)\n",
    "    self.input_indices = np.arange(self.total_window_size)[self.input_slice]\n",
    "\n",
    "    self.label_start = self.total_window_size - self.label_width\n",
    "    self.labels_slice = slice(self.label_start, None)\n",
    "    self.label_indices = np.arange(self.total_window_size)[self.labels_slice]\n",
    "\n",
    "  def __repr__(self):\n",
    "    return '\\n'.join([\n",
    "        f'Total window size: {self.total_window_size}',\n",
    "        f'Input indices: {self.input_indices}',\n",
    "        f'Label indices: {self.label_indices}',\n",
    "        f'Label column name(s): {self.label_columns}'])"
   ]
  },
  {
   "cell_type": "code",
   "execution_count": 9,
   "metadata": {},
   "outputs": [],
   "source": [
    "def split_window(self, features):\n",
    "  inputs = features[:, self.input_slice, :]\n",
    "  labels = features[:, self.labels_slice, :]\n",
    "  if self.label_columns is not None:\n",
    "    labels = tf.stack(\n",
    "        [labels[:, :, self.column_indices[name]] for name in self.label_columns],\n",
    "        axis=-1)\n",
    "\n",
    "  # Slicing doesn't preserve static shape information, so set the shapes\n",
    "  # manually. This way the `tf.data.Datasets` are easier to inspect.\n",
    "  inputs.set_shape([None, self.input_width, None])\n",
    "  labels.set_shape([None, self.label_width, None])\n",
    "\n",
    "  return inputs, labels\n",
    "\n",
    "WindowGenerator.split_window = split_window"
   ]
  },
  {
   "cell_type": "code",
   "execution_count": 10,
   "metadata": {},
   "outputs": [],
   "source": [
    "import matplotlib\n",
    "import matplotlib.font_manager as fm\n",
    "fm.get_fontconfig_fonts()\n",
    "font_location = '/usr/share/fonts/truetype/nanum/NanumGothicCoding.ttf'\n",
    "#font_location = '/usr/share/fonts/opentype/noto/NotoSansCJK-Regular.ttc'\n",
    "# font_location = 'C:/Windows/Fonts/NanumGothic.ttf' # For Windows\n",
    "fprop = fm.FontProperties(fname=font_location)"
   ]
  },
  {
   "cell_type": "code",
   "execution_count": 11,
   "metadata": {},
   "outputs": [],
   "source": [
    "def plot(self, model=None, plot_col='T (degC)', max_subplots=3):\n",
    "  inputs, labels = self.example\n",
    "  plt.figure(figsize=(10, 8))\n",
    "  plot_col_index = self.column_indices[plot_col]\n",
    "  max_n = min(max_subplots, len(inputs))\n",
    "  for n in range(max_n):\n",
    "    plt.subplot(3, 1, n+1)\n",
    "    plt.ylabel(f'{plot_col} [normed]', fontproperties=fprop)\n",
    "    plt.plot(self.input_indices, inputs[n, :, plot_col_index],\n",
    "             label='Inputs', marker='.', zorder=-10)\n",
    "\n",
    "    if self.label_columns:\n",
    "      label_col_index = self.label_columns_indices.get(plot_col, None)\n",
    "    else:\n",
    "      label_col_index = plot_col_index\n",
    "\n",
    "    if label_col_index is None:\n",
    "      continue\n",
    "\n",
    "    plt.scatter(self.label_indices, labels[n, :, label_col_index],\n",
    "                edgecolors='k', label='Labels', c='#2ca02c', s=64)\n",
    "    if model is not None:\n",
    "      predictions = model(inputs)\n",
    "      plt.scatter(self.label_indices, predictions[n, :, label_col_index],\n",
    "                  marker='X', edgecolors='k', label='Predictions',\n",
    "                  c='#ff7f0e', s=64)\n",
    "\n",
    "    if n == 0:\n",
    "      plt.legend()\n",
    "\n",
    "  plt.xlabel('Time [h]')\n",
    "\n",
    "WindowGenerator.plot = plot"
   ]
  },
  {
   "cell_type": "code",
   "execution_count": 12,
   "metadata": {},
   "outputs": [],
   "source": [
    "# not used\n",
    "# original make_dataset code\n",
    "def make_dataset(self, data):\n",
    "  data = np.array(data, dtype=np.float32)\n",
    "  ds = tf.keras.preprocessing.timeseries_dataset_from_array(\n",
    "      data=data,\n",
    "      targets=None,\n",
    "      sequence_length=self.total_window_size,\n",
    "      sequence_stride=1,\n",
    "      shuffle=True,\n",
    "      batch_size=32,)\n",
    "\n",
    "  ds = ds.map(self.split_window)\n",
    "\n",
    "  return ds\n",
    "\n",
    "#WindowGenerator.make_dataset = make_dataset"
   ]
  },
  {
   "cell_type": "code",
   "execution_count": 13,
   "metadata": {},
   "outputs": [],
   "source": [
    "@property\n",
    "def train(self):\n",
    "  return self.make_dataset(self.train_df)\n",
    "\n",
    "@property\n",
    "def val(self):\n",
    "  return self.make_dataset(self.val_df)\n",
    "\n",
    "@property\n",
    "def test(self):\n",
    "  return self.make_dataset(self.test_df)\n",
    "\n",
    "@property\n",
    "def example(self):\n",
    "  \"\"\"Get and cache an example batch of `inputs, labels` for plotting.\"\"\"\n",
    "  result = getattr(self, '_example', None)\n",
    "  if result is None:\n",
    "    # No example batch was found, so get one from the `.train` dataset\n",
    "    result = next(iter(self.train))\n",
    "    # And cache it for next time\n",
    "    self._example = result\n",
    "  return result\n",
    "\n",
    "WindowGenerator.train = train\n",
    "WindowGenerator.val = val\n",
    "WindowGenerator.test = test\n",
    "WindowGenerator.example = example"
   ]
  },
  {
   "cell_type": "code",
   "execution_count": 14,
   "metadata": {},
   "outputs": [],
   "source": [
    "def sample_batch_index(total, batch_size):\n",
    "    '''Sample index of the mini-batch.\n",
    "\n",
    "    Args:\n",
    "        - total: total number of samples\n",
    "        - batch_size: batch size\n",
    "\n",
    "    Returns:\n",
    "        - batch_idx: batch index\n",
    "    '''\n",
    "    total_idx = np.random.permutation(total)\n",
    "    batch_idx = total_idx[:batch_size]\n",
    "    return batch_idx"
   ]
  },
  {
   "cell_type": "code",
   "execution_count": 15,
   "metadata": {},
   "outputs": [],
   "source": [
    "def binary_sampler(p, shape):\n",
    "  '''Sample binary random variables.\n",
    "  \n",
    "  Args:\n",
    "    - p: probability of 1\n",
    "    - shape: matrix shape\n",
    "    \n",
    "  Returns:\n",
    "    - binary_random_matrix: generated binary random matrix.\n",
    "  '''\n",
    "  unif_random_matrix = np.random.uniform(0., 1., size = shape)\n",
    "  binary_random_matrix = 1*(unif_random_matrix < p)\n",
    "  return binary_random_matrix"
   ]
  },
  {
   "cell_type": "code",
   "execution_count": 16,
   "metadata": {},
   "outputs": [],
   "source": [
    "def uniform_sampler(low, high, shape):\n",
    "  '''Sample uniform random variables.\n",
    "  \n",
    "  Args:\n",
    "    - low: low limit\n",
    "    - high: high limit\n",
    "    - rows: the number of rows\n",
    "    - cols: the number of columns\n",
    "    \n",
    "  Returns:\n",
    "    - uniform_random_matrix: generated uniform random matrix.\n",
    "  '''\n",
    "  return np.random.uniform(low, high, size = shape)"
   ]
  },
  {
   "cell_type": "code",
   "execution_count": 17,
   "metadata": {},
   "outputs": [],
   "source": [
    "def normalization (data, parameters=None):\n",
    "  '''Normalize data in [0, 1] range.\n",
    "  \n",
    "  Args:\n",
    "    - data: original data\n",
    "  \n",
    "  Returns:\n",
    "    - norm_data: normalized data\n",
    "    - norm_parameters: min_val, max_val for each feature for renormalization\n",
    "  '''\n",
    "\n",
    "  # Parameters\n",
    "  _, dim = data.shape\n",
    "  norm_data = data.copy()\n",
    "\n",
    "  if parameters is None:\n",
    "\n",
    "    # MixMax normalization\n",
    "    min_val = np.zeros(dim)\n",
    "    max_val = np.zeros(dim)\n",
    "   \n",
    "    # For each dimension\n",
    "    for i in range(dim):\n",
    "      min_val[i] = np.nanmin(norm_data[:,i])\n",
    "      norm_data[:,i] = norm_data[:,i] - np.nanmin(norm_data[:,i])\n",
    "      max_val[i] = np.nanmax(norm_data[:,i])\n",
    "      norm_data[:,i] = norm_data[:,i] / (np.nanmax(norm_data[:,i]) + 1e-6)\n",
    "\n",
    "    # Return norm_parameters for renormalization\n",
    "    norm_parameters = {'min_val': min_val,\n",
    "                       'max_val': max_val}\n",
    "  else:\n",
    "    min_val = parameters['min_val']\n",
    "    max_val = parameters['max_val']\n",
    "\n",
    "    # For each dimension\n",
    "    for i in range(dim):\n",
    "      norm_data[:,i] = norm_data[:,i] - min_val[i]\n",
    "      norm_data[:,i] = norm_data[:,i] / (max_val[i] + 1e-6)\n",
    "\n",
    "    norm_parameters = parameters\n",
    "\n",
    "  return norm_data, norm_parameters"
   ]
  },
  {
   "cell_type": "code",
   "execution_count": 18,
   "metadata": {},
   "outputs": [],
   "source": [
    "class MissData(object):\n",
    "    def __init__(self, load_dir=None):\n",
    "        if load_dir:\n",
    "            self.missarr = np.load(os.path.join(load_dir, 'miss.npy'))\n",
    "            self.idxarr = np.load(os.path.join(load_dir, 'idx.npy'))\n",
    "            \n",
    "    def make_missdata(self, data_x, missrate=0.2):\n",
    "        data = data_x.copy()\n",
    "        rows, cols = data_x.shape\n",
    "        total_no = rows*cols\n",
    "        total_miss_no = np.round(total_no*missrate).astype(int)\n",
    "        total_idx = self.idxarr.shape[0]\n",
    "        idxarr = self.idxarr\n",
    "        missarr = self.missarr\n",
    "        #print(total_miss_no)\n",
    "        miss_no = 0\n",
    "        cum_no = self.idxarr[:,3:4]\n",
    "        cum_no = cum_no.reshape((total_idx))\n",
    "        cum_sum = np.max(cum_no)\n",
    "        #print(cum_no)\n",
    "        #print(total_idx)\n",
    "        while True:\n",
    "            loc_count = np.around(np.random.random()*cum_sum)\n",
    "            #print('loc_count =', loc_count)\n",
    "            idx = len(cum_no[cum_no <= loc_count])-1\n",
    "            #print(cum_no[cum_no <= loc_count])\n",
    "            #print('idx =', idx)\n",
    "            startnan = idxarr[idx][0]\n",
    "            nanlen = idxarr[idx][2]\n",
    "            loc = np.around(np.random.random()*(rows-nanlen)).astype(int)\n",
    "            #print('loc =', loc)\n",
    "            #print(loc_count, idx)\n",
    "            #print(idxarr[idx])\n",
    "            #data_copy = data[loc:loc+nanlen].copy()\n",
    "            data_copy = data[loc:loc+nanlen]\n",
    "            #print('startnan=', startnan)\n",
    "            #isnan = missarr[startnan:startnan+nanlen].copy()\n",
    "            isnan = missarr[startnan:startnan+nanlen]\n",
    "            #print('isnan =',isnan)\n",
    "            miss_no += idxarr[idx][1]\n",
    "            if (miss_no > total_miss_no):\n",
    "                break\n",
    "            data_copy[isnan==1] = np.nan\n",
    "            data[loc:loc+nanlen] = data_copy\n",
    "        #print('miss_data =', data)\n",
    "        return data\n",
    "    \n",
    "    def save(data, max_tseq, save_dir='save'):\n",
    "        no, dim = data.shape\n",
    "        #print((no, dim))\n",
    "        \n",
    "        #print(data)\n",
    "        \n",
    "        isnan = np.isnan(data).astype(int)\n",
    "        isany = np.any(isnan, axis=1).astype(int)\n",
    "        shifted = np.roll(isany, 1)\n",
    "        shifted[0] = 1\n",
    "        #print(isnan)\n",
    "        #print(isany.astype(int))\n",
    "        #print(shifted)\n",
    "        startnan = ((isany == 1) & (shifted ==0)).astype(int)\n",
    "        #print(startnan)\n",
    "        group = startnan.cumsum()\n",
    "        group = group*isany\n",
    "        #print(group)\n",
    "        n = np.max(group)\n",
    "        #print(n)\n",
    "        missarr = None\n",
    "        cum_no = 0\n",
    "        rowidx = 0\n",
    "        for i in range(1, n+1):\n",
    "            g = (group == i).astype(int)\n",
    "            i = np.argmax(g)\n",
    "            rows = g.sum()\n",
    "            #print(len)\n",
    "            #print(i)\n",
    "            #print(type(missarr))\n",
    "            if rows <= max_tseq:\n",
    "                nanseq = isnan[i:i+rows, :]\n",
    "                no = np.sum(nanseq)\n",
    "                #print(no)\n",
    "                if missarr is None:\n",
    "                    missarr = nanseq\n",
    "                    idxarr = np.array([[rowidx, no, rows, cum_no]])\n",
    "                else:\n",
    "                    missarr = np.concatenate((missarr, nanseq))\n",
    "                    idxarr = np.concatenate((idxarr, [[rowidx, no, rows, cum_no]]), axis=0)\n",
    "                cum_no += no\n",
    "                rowidx += rows\n",
    "\n",
    "        #print(idxarr)\n",
    "        miss_npy_file = os.path.join(save_dir, 'miss.npy')\n",
    "        idx_npy_file = os.path.join(save_dir, 'idx.npy')\n",
    "        if not os.path.exists(save_dir):\n",
    "            os.makedirs(save_dir)\n",
    "        np.save(miss_npy_file, missarr)\n",
    "        np.save(idx_npy_file, idxarr)\n",
    "        print('miss_data file saved')"
   ]
  },
  {
   "cell_type": "code",
   "execution_count": 19,
   "metadata": {},
   "outputs": [
    {
     "name": "stdout",
     "output_type": "stream",
     "text": [
      "miss_data file saved\n"
     ]
    }
   ],
   "source": [
    "norm_df = pd.concat(df,axis=0)\n",
    "norm_data = norm_df.to_numpy()\n",
    "MissData.save(norm_data, max_tseq = 24)"
   ]
  },
  {
   "cell_type": "code",
   "execution_count": 20,
   "metadata": {},
   "outputs": [],
   "source": [
    "def interpolate(np_data, max_gap=3):\n",
    "    #n = np_data.shape[1]\n",
    "    data = pd.DataFrame(np_data)\n",
    "    #data[0][0] = np.nan\n",
    "    #data[0][1] = np.nan\n",
    "    #data[0][2] = np.nan\n",
    "    #data[data.columns[0]][0] = np.nan\n",
    "    #data[data.columns[0]][1] = np.nan\n",
    "    #data[data.columns[0]][2] = np.nan\n",
    "    \n",
    "    # create mask\n",
    "    mask = data.copy()\n",
    "    grp = ((mask.notnull() != mask.shift().notnull()).cumsum())\n",
    "    grp['ones'] = 1\n",
    "    for i in data.columns:\n",
    "        mask[i] = (grp.groupby(i)['ones'].transform('count') < max_gap) | data[i].notnull()\n",
    "    data = data.interpolate(method='polynomial', order=5, limit=max_gap, axis=0).bfill()[mask]\n",
    "    return data.to_numpy()\n",
    "    #return data\n",
    "    \n",
    "#filled_data = interpolate(norm_data, max_gap=3)\n",
    "#np.arange(0, 5, dtype=int)\n",
    "#['%d'%val for val in range(0,5)]"
   ]
  },
  {
   "cell_type": "code",
   "execution_count": 21,
   "metadata": {},
   "outputs": [],
   "source": [
    "class GainDataGenerator(keras.utils.Sequence):\n",
    "    'Generates data for GAIN'\n",
    "    def __init__(self,\n",
    "                 data_list,\n",
    "                 batch_size=32,\n",
    "                 input_width=24*3,\n",
    "                 label_width=24*3,\n",
    "                 shift=0,\n",
    "                 fill_no=4,\n",
    "                 miss_rate=0.2,\n",
    "                 hint_rate=0.9,\n",
    "                 normalize=True,\n",
    "                 miss_pattern=None,\n",
    "                 alpha=100.):\n",
    "        'Initialization'\n",
    "        window_size = input_width\n",
    "        \n",
    "        # interpollation\n",
    "        filled_data = []\n",
    "        for data in data_list:\n",
    "            data = interpolate(data, max_gap=fill_no)\n",
    "            filled_data.append(data)\n",
    "            \n",
    "        data_list = filled_data\n",
    "        \n",
    "        # whole data\n",
    "        self.data = np.concatenate(data_list)\n",
    "\n",
    "        # TO-DO\n",
    "        \n",
    "        # pre calculation for  sequence data\n",
    "        last_cum = 0\n",
    "        cums = []\n",
    "        for data in data_list:\n",
    "            isnan = np.isnan(data)\n",
    "            isany = np.any(isnan, axis=1)\n",
    "            #shift same as pd.shift(isany, fill_value=True)\n",
    "            shifted = np.roll(isany, 1)\n",
    "            shifted[0] = True # set to nan\n",
    "            \n",
    "            start_seq = ((isany == False) & (shifted == True)).astype(int)\n",
    "            cum = start_seq.cumsum()\n",
    "            cum += last_cum\n",
    "            last_cum = np.max(cum)\n",
    "            cum[isany] = 0\n",
    "            cums.append(cum)\n",
    "            \n",
    "        \n",
    "        # normlize for spam\n",
    "        if normalize:\n",
    "            self.data, norm_param = normalization(self.data)\n",
    "        #print(norm_param)\n",
    "        \n",
    "        # Define mask matrix\n",
    "        if miss_pattern is None:\n",
    "            self.data_m = binary_sampler(1-miss_rate, self.data.shape)\n",
    "        else:\n",
    "            #MissData.save(self.data, max_tseq = 12)\n",
    "            self.miss = MissData(load_dir='save')\n",
    "            self.miss_rate = miss_rate\n",
    "            miss_data = self.miss.make_missdata(self.data, self.miss_rate)\n",
    "            self.data_m = 1. - np.isnan(miss_data).astype(float)\n",
    "            \n",
    "            self.data_m_rand = binary_sampler(1-(miss_rate/10.), self.data.shape)\n",
    "            self.data_m[self.data_m_rand==0.] = 0.\n",
    "        self.miss_pattern = miss_pattern\n",
    "        \n",
    "        # sequence data\n",
    "        self.ids = np.concatenate(cums)\n",
    "        data_idx = np.empty((0), dtype=int)\n",
    "        for i in range(1, last_cum+1):\n",
    "            seq_len = (self.ids == i).sum()\n",
    "            start_id = np.argmax(self.ids == i)\n",
    "            # possible data number in seqeunce\n",
    "            time_len = seq_len - window_size + 1\n",
    "            start_ids = np.arange(start_id, start_id+time_len)\n",
    "            data_idx = np.append(data_idx, start_ids)\n",
    "            \n",
    "        # start index set for sequence data\n",
    "        self.data_idx = data_idx\n",
    "        self.input_width = input_width\n",
    "        self.no = len(data_idx)\n",
    "        \n",
    "        #print('self.no = ', self.no)\n",
    "        \n",
    "        self.batch_size = batch_size\n",
    "        \n",
    "        # random shuffling  index\n",
    "        self.batch_idx = sample_batch_index(self.no, self.no)\n",
    "        self.batch_id = 0\n",
    "        self.shape = (batch_size,self.input_width)+self.data.shape[1:]\n",
    "        #self.hint_rate = hint_rate\n",
    "            \n",
    "    def __len__(self):\n",
    "        'Denotes the number of batches per epoch'\n",
    "        #return int(128/self.batch_size)\n",
    "        #return 2\n",
    "        return 1\n",
    "\n",
    "    def __getitem__(self, index):\n",
    "        'Generate one batch of data'\n",
    "        #print('index =', index)\n",
    "        # Sample batch\n",
    "        x = np.empty((0, self.input_width, self.data.shape[1]))\n",
    "        #m = np.empty((0, self.input_width, self.data.shape[1]))\n",
    "        #h = np.empty((0, self.input_width, self.data.shape[1]))\n",
    "        y = np.empty((0, self.input_width, self.data.shape[1]))\n",
    "        #print(x.shape)\n",
    "        #print(self.data.shape)\n",
    "        #print(self.input_width)\n",
    "        #self.batch_idx = sample_batch_index(self.no, self.batch_size)\n",
    "        for cnt in range(0, self.batch_size):\n",
    "            i = self.batch_idx[self.batch_id]\n",
    "            self.batch_id += 1\n",
    "            #self.batch_id %= self.batch_size\n",
    "            self.batch_id %= self.no\n",
    "            if self.miss_pattern and (self.batch_id == 0):\n",
    "                self.batch_idx = sample_batch_index(self.no, self.no)\n",
    "                miss_data = self.miss.make_missdata(self.data, self.miss_rate)\n",
    "                self.data_m = 1. - np.isnan(miss_data).astype(float)\n",
    "                self.data_m_rand = binary_sampler(1-self.miss_rate/10., self.data.shape)\n",
    "                self.data_m[self.data_m_rand==0.] = 0.\n",
    "            idx1 = self.data_idx[i]\n",
    "            idx2 = self.data_idx[i]+self.input_width\n",
    "            #print(idx1, idx2)\n",
    "        \n",
    "            Y_mb = self.data[idx1:idx2].copy()\n",
    "            X_mb = Y_mb.copy()\n",
    "            M_mb = self.data_m[idx1:idx2]\n",
    "            Z_mb = uniform_sampler(0, 0.01, shape=X_mb.shape)\n",
    "            X_mb = M_mb*X_mb + (1-M_mb)*Z_mb\n",
    "            #H_mb_temp = binary_sampler(self.hint_rate, shape=X_mb.shape)\n",
    "            #H_mb = M_mb * H_mb_temp\n",
    "            X_mb[M_mb == 0] = np.nan\n",
    "            Y_mb[M_mb == 1] = np.nan\n",
    "            x = np.append(x, [X_mb], axis=0)\n",
    "            #m = np.append(m, [M_mb], axis=0)\n",
    "            #h = np.append(h, [H_mb], axis=0)\n",
    "            y = np.append(y, [Y_mb], axis=0)\n",
    "            \n",
    "        #return [x, m, h], y\n",
    "        return x, y\n",
    "    \n",
    "    def on_epoch_end(self):\n",
    "        'Updates indexes after each epoch'\n",
    "        return\n",
    "\n",
    "dgen = GainDataGenerator(df)"
   ]
  },
  {
   "cell_type": "code",
   "execution_count": 22,
   "metadata": {},
   "outputs": [],
   "source": [
    "class GAIN(keras.Model):\n",
    "    def __init__(self, shape, alpha=100., load=False, hint_rate=0.9, gen_sigmoid=True, **kwargs):\n",
    "        super(GAIN, self).__init__(**kwargs)\n",
    "        self.shape = shape\n",
    "        self.dim = np.prod(shape).astype(int)\n",
    "        self.h_dim = self.dim\n",
    "        self.gen_sigmoid = gen_sigmoid\n",
    "        self.build_generator()\n",
    "        self.build_discriminator()\n",
    "        self.hint_rate = hint_rate\n",
    "        self.alpha = alpha\n",
    "        self.generator_optimizer = Adam()\n",
    "        self.discriminator_optimizer = Adam()\n",
    "\n",
    "    ## GAIN models\n",
    "    def build_generator(self):\n",
    "        last_activation = 'sigmoid' if self.gen_sigmoid else None\n",
    "        xavier_initializer = tf.keras.initializers.GlorotNormal()\n",
    "\n",
    "        shape = self.shape\n",
    "        #x = Input(shape=(self.dim,), name='generator_input_x')\n",
    "        #m = Input(shape=(self.dim,), name='generator_input_m')\n",
    "        x = Input(shape=shape, name='generator_input_x')\n",
    "        m = Input(shape=shape, name='generator_input_m')\n",
    "        \n",
    "        x_f = Flatten()(x)\n",
    "        m_f = Flatten()(m)\n",
    "\n",
    "        a = Concatenate()([x_f, m_f])\n",
    "\n",
    "        a = Dense(self.h_dim, activation='relu', kernel_initializer=xavier_initializer)(a)\n",
    "        #a = keras.layers.BatchNormalization()(a)\n",
    "        a = Dense(self.h_dim, activation='relu', kernel_initializer=xavier_initializer)(a)\n",
    "        #a = keras.layers.BatchNormalization()(a)\n",
    "        a = Dense(self.dim, activation=last_activation, kernel_initializer=xavier_initializer)(a)\n",
    "        G_prob = keras.layers.Reshape(shape)(a)\n",
    "        self.generator = keras.models.Model([x, m], G_prob, name='generator')\n",
    "\n",
    "    def build_discriminator(self):\n",
    "        xavier_initializer = tf.keras.initializers.GlorotNormal()\n",
    "        shape = self.shape\n",
    "\n",
    "        #x = Input(shape=(self.dim,), name='discriminator_input_x')\n",
    "        #h = Input(shape=(self.dim,), name='discriminator_input_h')\n",
    "        x = Input(shape=shape, name='discriminator_input_x')\n",
    "        h = Input(shape=shape, name='discriminator_input_h')\n",
    "        \n",
    "        x_f = Flatten()(x)\n",
    "        h_f = Flatten()(h)\n",
    "\n",
    "        a = Concatenate()([x_f, h_f])\n",
    "\n",
    "        a = Dense(self.h_dim, activation='relu', kernel_initializer=xavier_initializer)(a)\n",
    "        a = Dense(self.h_dim, activation='relu', kernel_initializer=xavier_initializer)(a)\n",
    "        a = Dense(self.dim, activation='sigmoid', kernel_initializer=xavier_initializer)(a)\n",
    "        D_prob = keras.layers.Reshape(shape)(a)\n",
    "        self.discriminator = keras.models.Model([x, h], D_prob, name='discriminator')\n",
    "        \n",
    "    def call(self, inputs):\n",
    "        if isinstance(inputs, tuple):\n",
    "            inputs = inputs[0]\n",
    "        shape = inputs.shape\n",
    "        dims = np.prod(shape[1:])\n",
    "        input_width = shape[1]\n",
    "        #print('inputs.shape=',inputs.shape)\n",
    "        x = inputs\n",
    "        #x = x.reshape((n, -1))\n",
    "        #print('dims=',dims)\n",
    "        #x = keras.layers.Reshape((dims,))(x)\n",
    "        #x = keras.layers.Reshape(tf.TensorShape((self.dim,)))(x)\n",
    "        #print('x =', x)\n",
    "        #print('x.shape = ', x.shape)\n",
    "        #x = keras.layers.Reshape(tf.TensorShape([57]))(x)\n",
    "        \n",
    "        isnan = tf.math.is_nan(x)\n",
    "        #m = 1.- keras.backend.cast(isnan, dtype=tf.float32)\n",
    "        m = tf.where(isnan, 0., 1.)\n",
    "        z = keras.backend.random_uniform(shape=tf.shape(x), minval=0.0, maxval=0.01)\n",
    "        x = tf.where(isnan, z, x)\n",
    "        #z = uniform_sampler(0, 0.01, shape=x.shape)\n",
    "        #z = tf.keras.backend.random_uniform(shape=x.shape, minval=0.0, maxval=0.01)\n",
    "        imputed_data = self.generator([x, m], training=False)\n",
    "        #imputed_data = m*x + (1-m)*imputed_data\n",
    "        #imputed_data = tf.where(isnan, imputed_data, np.nan)\n",
    "        imputed_data = tf.where(isnan, imputed_data, x)\n",
    "        #imputed_data = keras.layers.Reshape(shape[1:])(imputed_data)\n",
    "        #print('imputed_data.shape = ', imputed_data.shape)\n",
    "        \n",
    "        return imputed_data\n",
    "    \n",
    "    def D_loss(M, D_prob):\n",
    "        ## GAIN loss\n",
    "        return -tf.reduce_mean(M * tf.keras.backend.log(D_prob + 1e-8) \\\n",
    "                         + (1-M) * tf.keras.backend.log(1. - D_prob + 1e-8))\n",
    "    \n",
    "    def G_loss(self, M, D_prob, X, G_sample):\n",
    "        G_loss_temp = -tf.reduce_mean((1-M) * tf.keras.backend.log(D_prob + 1e-8))\n",
    "        MSE_loss = tf.reduce_mean((M * X - M * G_sample)**2) / (tf.reduce_mean(M) + 1e-8)\n",
    "        #G_loss_temp = GAIN.G_loss_bincross(M, D_prob)\n",
    "        #MSE_loss = GAIN.MSE_loss(M, X, G_sample)\n",
    "        G_loss = G_loss_temp + self.alpha * MSE_loss\n",
    "        return G_loss\n",
    "        \n",
    "    def RMSE_loss(y_true, y_pred):\n",
    "        isnan = tf.math.is_nan(y_true)\n",
    "        M = tf.where(isnan, 1., 0.)\n",
    "        return tf.sqrt(tf.reduce_sum(tf.where(isnan, 0., y_pred-y_true)**2)/tf.reduce_sum(1-M))\n",
    "    \n",
    "    def train_step(self, data):\n",
    "        #[x, m, h], y = data\n",
    "        x, y = data\n",
    "        #X = keras.layers.Reshape((self.dim,), input_shape=self.shape)(x)\n",
    "        #Y = keras.layers.Reshape((self.dim,), input_shape=self.shape)(y)\n",
    "        #X = keras.layers.Flatten()(x)\n",
    "        #Y = keras.layers.Flatten()(y)\n",
    "        X = x\n",
    "        Y = y\n",
    "        #X = tf.reshape(x, shape=(x.shape[0], -1))\n",
    "        #Y = tf.reshape(y, shape=(x.shape[0], -1))\n",
    "        isnan = tf.math.is_nan(X)\n",
    "        #M = 1 - keras.backend.cast(isnan, dtype=tf.float32)\n",
    "        M = tf.where(isnan, 0., 1.)\n",
    "        Z = keras.backend.random_uniform(shape=tf.shape(X), minval=0.0, maxval=0.01)\n",
    "        #H_temp = binary_sampler(self.hint_rate, shape=X.shape)\n",
    "        H_rand = keras.backend.random_uniform(shape=tf.shape(X), minval=0.0, maxval=1.)\n",
    "        #H_temp = 1*keras.backend.cast((H_rand < self.hint_rate), dtype=tf.float32)\n",
    "        H_temp = tf.where(H_rand < self.hint_rate, 1., 0.)\n",
    "        \n",
    "        H = M * H_temp\n",
    "        #X = M * X + (1-M) * Z\n",
    "        X = tf.where(isnan, Z, X)\n",
    "        with tf.GradientTape() as gen_tape, tf.GradientTape() as disc_tape:\n",
    "            G_sample = self.generator([X, M], training=True)\n",
    "\n",
    "            # Combine with observed data\n",
    "            #Hat_X = tf.where(isnan, G_sample, X)\n",
    "            Hat_X = X * M + G_sample * (1-M)\n",
    "            D_prob = self.discriminator([Hat_X, H], training=True)\n",
    "            gen_loss = self.G_loss(M, D_prob, X, G_sample)\n",
    "            disc_loss = tf.keras.backend.mean(tf.keras.losses.binary_crossentropy(M, D_prob))\n",
    "            #disc_loss = GAIN.D_loss(M, D_prob)\n",
    "            #disc_loss = GAIN.D_loss(M, D_prob)\n",
    "\n",
    "        gradients_of_generator = gen_tape.gradient(gen_loss, self.generator.trainable_variables)\n",
    "        gradients_of_discriminator = disc_tape.gradient(disc_loss, self.discriminator.trainable_variables)\n",
    "\n",
    "        self.generator_optimizer.apply_gradients(zip(gradients_of_generator, self.generator.trainable_variables))\n",
    "        self.discriminator_optimizer.apply_gradients(zip(gradients_of_discriminator, self.discriminator.trainable_variables))\n",
    "        \n",
    "        rmse = tf.sqrt(tf.reduce_sum(tf.where(isnan, G_sample - Y, 0.)**2)/tf.reduce_sum(1-M))\n",
    "        return {\n",
    "                 'gen_loss':     gen_loss,\n",
    "                 'disc_loss':    disc_loss,\n",
    "                 'rmse':         rmse,\n",
    "               }\n",
    "    \n",
    "    def save(self, save_dir='save'):\n",
    "        if not os.path.exists(save_dir):\n",
    "          os.makedirs(save_dir)\n",
    "        disc_savefile = os.path.join(save_dir, 'discriminator.h5')\n",
    "        gen_savefile = os.path.join(save_dir, 'generator.h5')\n",
    "        self.discriminator.save_weights(disc_savefile)\n",
    "        self.generator.save_weights(gen_savefile)\n",
    "\n",
    "    def load(self, save_dir='save'):\n",
    "        disc_savefile = os.path.join(save_dir, 'discriminator.h5')\n",
    "        gen_savefile = os.path.join(save_dir, 'generator.h5')\n",
    "        try:\n",
    "          self.discriminator.load_weights(disc_savefile)\n",
    "          self.generator.load_weights(gen_savefile)\n",
    "          print('model weights loaded')\n",
    "        except:\n",
    "          print('model loadinng error')"
   ]
  },
  {
   "cell_type": "code",
   "execution_count": 23,
   "metadata": {},
   "outputs": [],
   "source": [
    "def make_dataset_gain(self, data):\n",
    "  dg = GainDataGenerator(\n",
    "      df,\n",
    "      input_width = self.input_width,\n",
    "      label_width = self.label_width,\n",
    "      batch_size = 128,\n",
    "      normalize = False,\n",
    "      miss_pattern = True,\n",
    "      miss_rate = 0.15,\n",
    "      fill_no = 3,\n",
    "  )\n",
    "  self.dg = dg\n",
    "  ds = tf.data.Dataset.from_generator(\n",
    "      lambda: dg,\n",
    "      output_types=(tf.float32, tf.float32),\n",
    "      output_shapes=(\n",
    "        dg.shape,\n",
    "        dg.shape\n",
    "        #[batch_size, train_generator.dim],\n",
    "        #[batch_size, train_generator.dim],\n",
    "      )\n",
    "  )\n",
    "  return ds\n",
    "\n",
    "WindowGenerator.make_dataset = make_dataset_gain"
   ]
  },
  {
   "cell_type": "code",
   "execution_count": 24,
   "metadata": {},
   "outputs": [],
   "source": [
    "train_df = df_all\n",
    "val_df = df_all\n",
    "test_df = df_all"
   ]
  },
  {
   "cell_type": "code",
   "execution_count": 25,
   "metadata": {},
   "outputs": [
    {
     "data": {
      "text/plain": [
       "Total window size: 120\n",
       "Input indices: [  0   1   2   3   4   5   6   7   8   9  10  11  12  13  14  15  16  17\n",
       "  18  19  20  21  22  23  24  25  26  27  28  29  30  31  32  33  34  35\n",
       "  36  37  38  39  40  41  42  43  44  45  46  47  48  49  50  51  52  53\n",
       "  54  55  56  57  58  59  60  61  62  63  64  65  66  67  68  69  70  71\n",
       "  72  73  74  75  76  77  78  79  80  81  82  83  84  85  86  87  88  89\n",
       "  90  91  92  93  94  95  96  97  98  99 100 101 102 103 104 105 106 107\n",
       " 108 109 110 111 112 113 114 115 116 117 118 119]\n",
       "Label indices: [  0   1   2   3   4   5   6   7   8   9  10  11  12  13  14  15  16  17\n",
       "  18  19  20  21  22  23  24  25  26  27  28  29  30  31  32  33  34  35\n",
       "  36  37  38  39  40  41  42  43  44  45  46  47  48  49  50  51  52  53\n",
       "  54  55  56  57  58  59  60  61  62  63  64  65  66  67  68  69  70  71\n",
       "  72  73  74  75  76  77  78  79  80  81  82  83  84  85  86  87  88  89\n",
       "  90  91  92  93  94  95  96  97  98  99 100 101 102 103 104 105 106 107\n",
       " 108 109 110 111 112 113 114 115 116 117 118 119]\n",
       "Label column name(s): None"
      ]
     },
     "execution_count": 25,
     "metadata": {},
     "output_type": "execute_result"
    }
   ],
   "source": [
    "wide_window = WindowGenerator(\n",
    "    input_width=24*5, label_width=24*5, shift=0,\n",
    "    #label_columns=['T (degC)']\n",
    ")\n",
    "\n",
    "wide_window"
   ]
  },
  {
   "cell_type": "code",
   "execution_count": 26,
   "metadata": {},
   "outputs": [
    {
     "data": {
      "text/plain": [
       "TensorShape([128, 120, 14])"
      ]
     },
     "execution_count": 26,
     "metadata": {},
     "output_type": "execute_result"
    }
   ],
   "source": [
    "wide_window.example[0].shape"
   ]
  },
  {
   "cell_type": "code",
   "execution_count": null,
   "metadata": {},
   "outputs": [],
   "source": [
    "df[0]"
   ]
  },
  {
   "cell_type": "code",
   "execution_count": 27,
   "metadata": {
    "scrolled": false
   },
   "outputs": [
    {
     "data": {
      "application/vnd.jupyter.widget-view+json": {
       "model_id": "244cf201d6d64c95a5744aec167a5393",
       "version_major": 2,
       "version_minor": 0
      },
      "text/plain": [
       "Canvas(toolbar=Toolbar(toolitems=[('Home', 'Reset original view', 'home', 'home'), ('Back', 'Back to previous …"
      ]
     },
     "metadata": {},
     "output_type": "display_data"
    },
    {
     "name": "stdout",
     "output_type": "stream",
     "text": [
      "make_dataset_gain: dg.no =  2173\n"
     ]
    }
   ],
   "source": [
    "wide_window.plot(plot_col='총유기탄소')\n",
    "print('make_dataset_gain: dg.no = ', wide_window.dg.no)"
   ]
  },
  {
   "cell_type": "code",
   "execution_count": 28,
   "metadata": {},
   "outputs": [
    {
     "data": {
      "application/vnd.jupyter.widget-view+json": {
       "model_id": "7b305ff21b6d448e97ecce21962eaa06",
       "version_major": 2,
       "version_minor": 0
      },
      "text/plain": [
       "Canvas(toolbar=Toolbar(toolitems=[('Home', 'Reset original view', 'home', 'home'), ('Back', 'Back to previous …"
      ]
     },
     "metadata": {},
     "output_type": "display_data"
    }
   ],
   "source": [
    "plt.figure(figsize=(9,10))\n",
    "isnan = np.isnan(norm_data).astype(int)\n",
    "data = ~isnan\n",
    "n = data.shape[0]\n",
    "seq_len = n//8\n",
    "for i in range(8):\n",
    "    plt.subplot(181+i)\n",
    "    plt.imshow(data[i*seq_len:(i+1)*seq_len, 0:7], aspect='auto')\n",
    "    plt.yticks([])\n",
    "plt.show()"
   ]
  },
  {
   "cell_type": "code",
   "execution_count": 29,
   "metadata": {},
   "outputs": [
    {
     "data": {
      "application/vnd.jupyter.widget-view+json": {
       "model_id": "6f10ec484da34f5483e3453562405fee",
       "version_major": 2,
       "version_minor": 0
      },
      "text/plain": [
       "Canvas(toolbar=Toolbar(toolitems=[('Home', 'Reset original view', 'home', 'home'), ('Back', 'Back to previous …"
      ]
     },
     "metadata": {},
     "output_type": "display_data"
    }
   ],
   "source": [
    "plt.figure(figsize=(9,10))\n",
    "n = wide_window.dg.data_m.shape[0]\n",
    "train = n//8\n",
    "for i in range(8):\n",
    "    plt.subplot(181+i)\n",
    "    plt.imshow(wide_window.dg.data_m[i*train:(i+1)*train, 0:7], aspect='auto')\n",
    "    plt.yticks([])\n",
    "#plt.imshow(wide_window.dg.data[0:100])\n",
    "#plt.imshow(wide_window.dg.data_m[800:900], aspect='auto')\n",
    "#print(wide_window.dg.data[0:50])\n",
    "plt.show()"
   ]
  },
  {
   "cell_type": "markdown",
   "metadata": {},
   "source": [
    "## 컴파일 및 학습_GAIN"
   ]
  },
  {
   "cell_type": "code",
   "execution_count": 30,
   "metadata": {},
   "outputs": [],
   "source": [
    "val_performance = {}\n",
    "performance = {}"
   ]
  },
  {
   "cell_type": "code",
   "execution_count": 31,
   "metadata": {},
   "outputs": [],
   "source": [
    "gain = GAIN(shape=wide_window.dg.shape[1:], gen_sigmoid=False)\n",
    "gain.compile(loss=GAIN.RMSE_loss)"
   ]
  },
  {
   "cell_type": "code",
   "execution_count": 32,
   "metadata": {},
   "outputs": [],
   "source": [
    "MAX_EPOCHS = 2000\n",
    "\n",
    "def compile_and_fit(model, window, patience=10):\n",
    "  early_stopping = tf.keras.callbacks.EarlyStopping(monitor='val_loss',\n",
    "                                                    patience=patience,\n",
    "                                                    mode='min')\n",
    "\n",
    "  #model.compile(loss=tf.losses.MeanSquaredError(),\n",
    "                #optimizer=tf.optimizers.Adam(),\n",
    "                #metrics=[tf.metrics.MeanAbsoluteError()])\n",
    "  model.compile(loss=GAIN.RMSE_loss)\n",
    "\n",
    "  history = model.fit(window.train, epochs=MAX_EPOCHS,\n",
    "                      validation_data=window.val,\n",
    "                      callbacks=[early_stopping])\n",
    "  return history"
   ]
  },
  {
   "cell_type": "markdown",
   "metadata": {},
   "source": [
    "**모델 학습**"
   ]
  },
  {
   "cell_type": "code",
   "execution_count": null,
   "metadata": {
    "scrolled": true
   },
   "outputs": [
    {
     "name": "stdout",
     "output_type": "stream",
     "text": [
      "Epoch 1/2000\n",
      "1/1 [==============================] - 1s 1s/step - gen_loss: 102.9387 - disc_loss: 0.7266 - rmse: 0.9428 - val_loss: 0.9104\n",
      "Epoch 2/2000\n",
      "1/1 [==============================] - 0s 169ms/step - gen_loss: 89.3348 - disc_loss: 0.4976 - rmse: 0.8603 - val_loss: 0.7706\n",
      "Epoch 3/2000\n",
      "1/1 [==============================] - 0s 170ms/step - gen_loss: 69.4028 - disc_loss: 0.5079 - rmse: 0.7688 - val_loss: 0.6906\n",
      "Epoch 4/2000\n",
      "1/1 [==============================] - 0s 181ms/step - gen_loss: 63.4132 - disc_loss: 0.4027 - rmse: 0.7293 - val_loss: 0.6410\n",
      "Epoch 5/2000\n",
      "1/1 [==============================] - 0s 200ms/step - gen_loss: 56.3343 - disc_loss: 0.3935 - rmse: 0.6779 - val_loss: 0.6049\n",
      "Epoch 6/2000\n",
      "1/1 [==============================] - 0s 183ms/step - gen_loss: 52.3040 - disc_loss: 0.3941 - rmse: 0.6142 - val_loss: 0.5651\n",
      "Epoch 7/2000\n",
      "1/1 [==============================] - 0s 176ms/step - gen_loss: 41.3863 - disc_loss: 0.3749 - rmse: 0.5972 - val_loss: 0.5607\n",
      "Epoch 8/2000\n",
      "1/1 [==============================] - 0s 189ms/step - gen_loss: 40.7867 - disc_loss: 0.3718 - rmse: 0.5688 - val_loss: 0.5440\n",
      "Epoch 9/2000\n",
      "1/1 [==============================] - 0s 190ms/step - gen_loss: 30.7540 - disc_loss: 0.3892 - rmse: 0.5469 - val_loss: 0.5544\n",
      "Epoch 10/2000\n",
      "1/1 [==============================] - 0s 183ms/step - gen_loss: 32.9671 - disc_loss: 0.3913 - rmse: 0.5509 - val_loss: 0.4994\n",
      "Epoch 11/2000\n",
      "1/1 [==============================] - 0s 176ms/step - gen_loss: 27.1554 - disc_loss: 0.3477 - rmse: 0.5079 - val_loss: 0.5092\n",
      "Epoch 12/2000\n",
      "1/1 [==============================] - 0s 174ms/step - gen_loss: 37.7126 - disc_loss: 0.3572 - rmse: 0.5662 - val_loss: 0.5140\n",
      "Epoch 13/2000\n",
      "1/1 [==============================] - 0s 169ms/step - gen_loss: 25.0808 - disc_loss: 0.3578 - rmse: 0.4872 - val_loss: 0.4776\n",
      "Epoch 14/2000\n",
      "1/1 [==============================] - 0s 171ms/step - gen_loss: 19.8526 - disc_loss: 0.3681 - rmse: 0.4989 - val_loss: 0.4682\n",
      "Epoch 15/2000\n",
      "1/1 [==============================] - 0s 170ms/step - gen_loss: 25.8306 - disc_loss: 0.3519 - rmse: 0.4994 - val_loss: 0.4683\n",
      "Epoch 16/2000\n",
      "1/1 [==============================] - 0s 173ms/step - gen_loss: 19.9321 - disc_loss: 0.3610 - rmse: 0.4447 - val_loss: 0.4722\n",
      "Epoch 17/2000\n",
      "1/1 [==============================] - 0s 360ms/step - gen_loss: 20.0748 - disc_loss: 0.3620 - rmse: 0.4785 - val_loss: 0.4656\n",
      "Epoch 18/2000\n",
      "1/1 [==============================] - 0s 168ms/step - gen_loss: 22.2720 - disc_loss: 0.3945 - rmse: 0.4311 - val_loss: 0.5058\n",
      "Epoch 19/2000\n",
      "1/1 [==============================] - 0s 175ms/step - gen_loss: 18.6619 - disc_loss: 0.3702 - rmse: 0.4396 - val_loss: 0.5424\n",
      "Epoch 20/2000\n",
      "1/1 [==============================] - 0s 175ms/step - gen_loss: 12.9583 - disc_loss: 0.3648 - rmse: 0.4192 - val_loss: 0.5140\n",
      "Epoch 21/2000\n",
      "1/1 [==============================] - 0s 172ms/step - gen_loss: 17.2655 - disc_loss: 0.3741 - rmse: 0.4463 - val_loss: 0.6755\n",
      "Epoch 22/2000\n",
      "1/1 [==============================] - 0s 171ms/step - gen_loss: 20.2218 - disc_loss: 0.3664 - rmse: 0.4393 - val_loss: 0.4376\n",
      "Epoch 23/2000\n",
      "1/1 [==============================] - 0s 172ms/step - gen_loss: 17.3092 - disc_loss: 0.3519 - rmse: 0.4408 - val_loss: 0.6000\n",
      "Epoch 24/2000\n",
      "1/1 [==============================] - 0s 178ms/step - gen_loss: 12.7875 - disc_loss: 0.3665 - rmse: 0.4349 - val_loss: 0.6729\n",
      "Epoch 25/2000\n",
      "1/1 [==============================] - 0s 181ms/step - gen_loss: 13.2927 - disc_loss: 0.3546 - rmse: 0.4113 - val_loss: 0.6092\n",
      "Epoch 26/2000\n"
     ]
    }
   ],
   "source": [
    "history = compile_and_fit(gain, wide_window, patience=MAX_EPOCHS//5)\n",
    "\n",
    "\n",
    "val_performance['Gain'] = gain.evaluate(wide_window.val)\n",
    "performance['Gain'] = gain.evaluate(wide_window.test, verbose=0)\n",
    "\n",
    "gain.save(save_dir='save')"
   ]
  },
  {
   "cell_type": "markdown",
   "metadata": {},
   "source": [
    "**학습 loss history 출력**"
   ]
  },
  {
   "cell_type": "code",
   "execution_count": null,
   "metadata": {},
   "outputs": [],
   "source": [
    "fig = plt.figure()\n",
    "ax = fig.add_subplot(111)\n",
    "ax2 = ax.twinx()\n",
    "ax.plot(history.history['gen_loss'], label='gen_loss')\n",
    "ax.plot(history.history['disc_loss'], label='disc_loss')\n",
    "ax2.plot(history.history['rmse'], label='rmse', color='green')\n",
    "ax2.plot(history.history['val_loss'], label='val_loss', color='red')\n",
    "#plt.legend(history.history.keys(), loc='upper right')\n",
    "#ax.legend(loc='upper center')\n",
    "ax.legend(loc='upper center')\n",
    "ax2.legend(loc='upper right')\n",
    "ax.set_xlabel(\"epochs\")\n",
    "ax.set_ylabel(\"loss\")\n",
    "ax2.set_ylabel(\"rmse\")\n",
    "plt.show()"
   ]
  },
  {
   "cell_type": "markdown",
   "metadata": {},
   "source": [
    "성능 측정"
   ]
  },
  {
   "cell_type": "code",
   "execution_count": null,
   "metadata": {},
   "outputs": [],
   "source": [
    "gain.evaluate(wide_window.test.repeat(), steps=100)"
   ]
  },
  {
   "cell_type": "markdown",
   "metadata": {},
   "source": [
    "샘플 prediction 출력"
   ]
  },
  {
   "cell_type": "code",
   "execution_count": null,
   "metadata": {},
   "outputs": [],
   "source": [
    "wide_window.plot(gain, plot_col='총유기탄소')"
   ]
  },
  {
   "cell_type": "code",
   "execution_count": null,
   "metadata": {},
   "outputs": [],
   "source": [
    "norm_df = pd.concat(df,axis=0)"
   ]
  },
  {
   "cell_type": "code",
   "execution_count": null,
   "metadata": {},
   "outputs": [],
   "source": [
    "data = norm_df.to_numpy()\n",
    "\n",
    "total_n = wide_window.dg.data.shape[0]\n",
    "print(total_n)\n",
    "unit_shape = wide_window.dg.shape[1:]\n",
    "print(unit_shape)\n",
    "#dim = np.prod(wide_window.dg.shape[1:]).astype(int)\n",
    "dim = wide_window.dg.shape[1]\n",
    "print(dim)\n",
    "n = (total_n//dim)*dim\n",
    "\n",
    "x = data[0:n].copy()\n",
    "y_true = data[0:n].copy()\n",
    "\n",
    "#x = interpolate(x, max_gap=3)\n",
    "\n",
    "print('x.shape =', x.shape)\n",
    "x_reshape = x.reshape((-1,)+unit_shape)\n",
    "print('x_reshape.shape =', x_reshape.shape)\n",
    "isnan = np.isnan(x_reshape)\n",
    "print(isnan.sum())\n",
    "print('y_true.shape=', y_true.shape)\n",
    "isnan = np.isnan(y_true)\n",
    "print(isnan.sum())\n",
    "\n",
    "x_remain = data[-wide_window.dg.shape[1]:].copy()\n",
    "x_remain_reshape = x_remain.reshape((-1,)+unit_shape)\n",
    "x_remain_reshape.shape"
   ]
  },
  {
   "cell_type": "code",
   "execution_count": null,
   "metadata": {},
   "outputs": [],
   "source": [
    "# zero loss is normal because there is no ground truth in the real dataset\n",
    "gain.evaluate(x_reshape, y_true.reshape((-1,)+unit_shape))"
   ]
  },
  {
   "cell_type": "code",
   "execution_count": null,
   "metadata": {},
   "outputs": [],
   "source": [
    "y_pred = gain.predict(x_reshape)\n",
    "y_remain_pred = gain.predict(x_remain_reshape)"
   ]
  },
  {
   "cell_type": "code",
   "execution_count": null,
   "metadata": {},
   "outputs": [],
   "source": [
    "print(total_n)\n",
    "print(n)\n",
    "print(total_n-n)"
   ]
  },
  {
   "cell_type": "code",
   "execution_count": null,
   "metadata": {},
   "outputs": [],
   "source": [
    "y_pred = y_pred.reshape(y_true.shape)\n",
    "y_remain_pred = y_remain_pred.reshape(x_remain.shape)\n",
    "print(y_pred.shape, y_remain_pred.shape)\n",
    "y_pred = np.append(y_pred, y_remain_pred[-(total_n-n):], axis=0)\n",
    "print(y_pred.shape)"
   ]
  },
  {
   "cell_type": "code",
   "execution_count": null,
   "metadata": {},
   "outputs": [],
   "source": [
    "y_pred[~np.isnan(data)] = np.nan"
   ]
  },
  {
   "cell_type": "code",
   "execution_count": null,
   "metadata": {},
   "outputs": [],
   "source": [
    "n = 8\n",
    "plt.figure(figsize=(9,20))\n",
    "for i in range(n):\n",
    "    #plt.subplot('%d1%d'%(n,i))\n",
    "    plt.subplot(811+i)\n",
    "    plt.plot(x[:, i])\n",
    "    plt.plot(y_pred[:, i])\n",
    "plt.show()"
   ]
  },
  {
   "cell_type": "code",
   "execution_count": null,
   "metadata": {},
   "outputs": [],
   "source": [
    "total_n = wide_window.dg.data.shape[0]\n",
    "print(total_n)\n",
    "unit_shape = wide_window.dg.shape[1:]\n",
    "print('unit_shape=', unit_shape)\n",
    "time_seq = unit_shape[0]\n",
    "print(time_seq)\n",
    "n = (total_n//time_seq)*time_seq\n",
    "print('n=', n)\n",
    "\n",
    "gans = []\n",
    "oris = []\n",
    "for i in range(len(df)):\n",
    "    x = df[i].to_numpy()\n",
    "    total_n = x.shape[0]\n",
    "    n = (total_n//time_seq)*time_seq\n",
    "    x = x[0:n]\n",
    "    x_block = x.reshape((-1,)+unit_shape)\n",
    "    y = gain.predict(x_block)\n",
    "    y_gan = y.reshape(x.shape)\n",
    "    \n",
    "    # cut off sin, cos data\n",
    "    if (i > 0):\n",
    "        x = x[:, :-4]\n",
    "        y_gan = y_gan[:, :-4]\n",
    "    gans.append(y_gan)\n",
    "    oris.append(x)\n",
    "print(x.shape)\n",
    "print(y_gan.shape)"
   ]
  },
  {
   "cell_type": "markdown",
   "metadata": {},
   "source": [
    "## 예측 "
   ]
  },
  {
   "cell_type": "code",
   "execution_count": null,
   "metadata": {},
   "outputs": [],
   "source": [
    "total_no = oris[0].shape[0]\n",
    "train_no = int(total_no*0.7)\n",
    "\n",
    "train_slice = slice(0, train_no)\n",
    "val_slice = slice(train_no, None)\n",
    "test_slice = slice(0, None)\n",
    "\n",
    "train_df = pd.DataFrame(gans[0][train_slice])\n",
    "val_df = pd.DataFrame(gans[0][val_slice])\n",
    "test_df = pd.DataFrame(gans[0][test_slice])\n",
    "\n",
    "train_ori_df = pd.DataFrame(oris[0][train_slice])\n",
    "val_ori_df = pd.DataFrame(oris[0][val_slice])\n",
    "test_ori_df = pd.DataFrame(oris[0][test_slice])\n",
    "\n",
    "num_features = train_df.shape[1]\n",
    "out_num_features = num_features"
   ]
  },
  {
   "cell_type": "code",
   "execution_count": null,
   "metadata": {},
   "outputs": [],
   "source": [
    "ori = np.concatenate(oris, axis=1)\n",
    "gan = np.concatenate(gans, axis=1)\n",
    "print(oris[0].shape, gans[0].shape)\n",
    "print(oris[1].shape, gans[1].shape)\n",
    "print(ori.shape, gan.shape)\n",
    "\n",
    "total_no = ori.shape[0]\n",
    "train_no = int(total_no*0.7)\n",
    "\n",
    "train_slice = slice(0, train_no)\n",
    "val_slice = slice(train_no, None)\n",
    "test_slice = slice(0, None)\n",
    "\n",
    "train_df = pd.DataFrame(gan[train_slice])\n",
    "val_df = pd.DataFrame(gan[val_slice])\n",
    "test_df = pd.DataFrame(gan[test_slice])\n",
    "\n",
    "train_ori_df = pd.DataFrame(ori[train_slice])\n",
    "val_ori_df = pd.DataFrame(ori[val_slice])\n",
    "test_ori_df = pd.DataFrame(ori[test_slice])\n",
    "\n",
    "num_features = train_df.shape[1]\n",
    "#out_num_features = oris[0].shape[1]-4\n",
    "out_features = [6]\n",
    "out_num_features = len(out_features)\n",
    "out_num_features\n"
   ]
  },
  {
   "cell_type": "code",
   "execution_count": null,
   "metadata": {},
   "outputs": [],
   "source": [
    "class WaterDataGenerator(keras.utils.Sequence):\n",
    "    'Generates data for water'\n",
    "    def __init__(self,\n",
    "                 imputed_data,\n",
    "                 ori_data = None,\n",
    "                 batch_size=32,\n",
    "                 input_width=24*7,\n",
    "                 label_width=24*3,\n",
    "                 shift=24*3,\n",
    "                 skip_time = None,\n",
    "                 shuffle = True,\n",
    "                 out_features = None,\n",
    "                 out_num_features = None,\n",
    "                ):\n",
    "        'Initialization'\n",
    "        self.window_size = input_width+shift\n",
    "        self.total_no = imputed_data.shape[0]\n",
    "        self.data = imputed_data\n",
    "        self.input_width = input_width\n",
    "        self.label_width = label_width\n",
    "        self.batch_size = batch_size\n",
    "        self.input_shape = (batch_size, input_width, self.data.shape[1])\n",
    "        self.out_num_features = out_num_features\n",
    "        if out_features:\n",
    "            self.out_features = out_features\n",
    "        else:\n",
    "            self.out_features = [i for i in range(out_num_features)]\n",
    "        self.label_shape = (batch_size, label_width, self.out_num_features)\n",
    "        if (skip_time):\n",
    "            # TO-DO\n",
    "            self.no = self.total_no - self.window_size\n",
    "            self.data_idx = np.arange(0, self.no)\n",
    "        else:\n",
    "            self.no = self.total_no - self.window_size\n",
    "            self.data_idx = np.arange(0, self.no)\n",
    "            \n",
    "        if shuffle:\n",
    "            self.batch_idx = np.random.permutation(self.no)\n",
    "        else:\n",
    "            self.batch_idx = np.arange(0, self.no)\n",
    "        self.batch_id = 0\n",
    "        \n",
    "        \n",
    "    def __len__(self):\n",
    "        'Denotes the number of batches per epoch'\n",
    "        #return int(128/self.batch_size)\n",
    "        #return 2\n",
    "        return 1\n",
    "\n",
    "    def __getitem__(self, index):\n",
    "        'Generate one batch of data'\n",
    "        #print('index =', index)\n",
    "        #print('self.no =', self.no)\n",
    "        #print('self.total_no =', self.total_no)\n",
    "        #print('self.batch_id =', self.batch_id)\n",
    "        # Sample batch\n",
    "        label_width = self.label_width\n",
    "        batch_idx = self.batch_idx\n",
    "        \n",
    "        x = np.empty((0, self.input_width, self.data.shape[1]))\n",
    "        \n",
    "        #y = np.empty((0, self.input_width, self.data.shape[1]))\n",
    "        y = np.empty((0, self.label_width, self.out_num_features))\n",
    "       \n",
    "        #print(x.shape)\n",
    "        #print(y.shape)\n",
    "        \n",
    "        \n",
    "        for cnt in range(0, self.batch_size):\n",
    "            i = self.batch_id\n",
    "            self.batch_id += 1\n",
    "            idx1 = self.data_idx[batch_idx[i]]\n",
    "            idx2 = idx1 + self.input_width\n",
    "            \n",
    "            X = self.data[idx1:idx2].to_numpy()\n",
    "            \n",
    "            \n",
    "            idx1 = self.data_idx[batch_idx[i]] + self.window_size - label_width\n",
    "            idx2 = idx1 + label_width\n",
    "            \n",
    "            #Y = self.data[idx1:idx2,:,:out_num_features]\n",
    "            Y = self.data.iloc[idx1:idx2, self.out_features].to_numpy()\n",
    "            #Y = self.data[idx1:idx2]\n",
    "            #print('Y.shape = ', Y.shape)\n",
    "            #Y = Y.iloc[:,:out_num_features]\n",
    "            \n",
    "            self.batch_id %= self.no\n",
    "            #print(\"x.shape=\", x.shape)\n",
    "            #print('X.shape=', X.shape)\n",
    "            #print(type(x), type(X))\n",
    "            x = np.append(x, [X], axis = 0)\n",
    "            \n",
    "            y = np.append(y, [Y], axis = 0)\n",
    "            \n",
    "        return x, y\n",
    "    \n",
    "    def on_epoch_end(self):\n",
    "        'Updates indexes after each epoch'\n",
    "        return"
   ]
  },
  {
   "cell_type": "markdown",
   "metadata": {},
   "source": [
    "**WaterDataGenerator 테스트**"
   ]
  },
  {
   "cell_type": "code",
   "execution_count": null,
   "metadata": {},
   "outputs": [],
   "source": [
    "OUT_STEPS = 24*3\n",
    "wdg = WaterDataGenerator(train_df,\n",
    "                         batch_size=128,\n",
    "                         input_width = 24*7,\n",
    "                         label_width = OUT_STEPS,\n",
    "                         shift = OUT_STEPS,\n",
    "                         out_num_features = out_num_features\n",
    "                        )"
   ]
  },
  {
   "cell_type": "code",
   "execution_count": null,
   "metadata": {},
   "outputs": [],
   "source": [
    "train_df"
   ]
  },
  {
   "cell_type": "code",
   "execution_count": null,
   "metadata": {},
   "outputs": [],
   "source": [
    "it = iter(wdg)"
   ]
  },
  {
   "cell_type": "code",
   "execution_count": null,
   "metadata": {},
   "outputs": [],
   "source": [
    "x,y = next(it)\n",
    "x.shape, y.shape"
   ]
  },
  {
   "cell_type": "code",
   "execution_count": null,
   "metadata": {},
   "outputs": [],
   "source": [
    "def make_dataset_water(self, data):\n",
    "  dg = WaterDataGenerator(\n",
    "      data,\n",
    "      batch_size = 128,\n",
    "      input_width = self.input_width,\n",
    "      label_width = self.label_width,\n",
    "      shift = self.label_width,\n",
    "      out_features = out_features,\n",
    "      out_num_features = out_num_features,\n",
    "  )\n",
    "  #self.dg = dg\n",
    "  ds = tf.data.Dataset.from_generator(\n",
    "      lambda: dg,\n",
    "      output_types=(tf.float32, tf.float32),\n",
    "      output_shapes=(\n",
    "        dg.input_shape,\n",
    "        dg.label_shape\n",
    "        #[batch_size, train_generator.dim],\n",
    "        #[batch_size, train_generator.dim],\n",
    "      )\n",
    "  )\n",
    "  return ds\n",
    "\n",
    "WindowGenerator.make_dataset = make_dataset_water"
   ]
  },
  {
   "cell_type": "code",
   "execution_count": null,
   "metadata": {},
   "outputs": [],
   "source": [
    "def plot2(self, model=None, plot_col=0, max_subplots=3, plot_out_col=0):\n",
    "  inputs, labels = self.example\n",
    "  plt.figure(figsize=(10, 8))\n",
    "  plot_col_index = self.column_indices[plot_col]\n",
    "  plot_out_col_index = self.column_indices[plot_out_col]\n",
    "  max_n = min(max_subplots, len(inputs))\n",
    "  for n in range(max_n):\n",
    "    plt.subplot(3, 1, n+1)\n",
    "    plt.ylabel(f'{plot_col} [normed]', fontproperties=fprop)\n",
    "    plt.plot(self.input_indices, inputs[n, :, plot_col_index],\n",
    "             label='Inputs', marker='.', zorder=-10)\n",
    "\n",
    "    if self.label_columns:\n",
    "      label_col_index = self.label_columns_indices.get(plot_col, None)\n",
    "      label_out_col_index = self.label_columns_indices.get(plot_out_col, None)\n",
    "    else:\n",
    "      label_col_index = plot_col_index\n",
    "      label_out_col_index = plot_out_col_index\n",
    "\n",
    "    if label_col_index is None:\n",
    "      continue\n",
    "\n",
    "    plt.scatter(self.label_indices, labels[n, :, label_out_col_index],\n",
    "                label='Labels', c='#2ca02c')\n",
    "    if model is not None:\n",
    "      predictions = model(inputs)\n",
    "      plt.scatter(self.label_indices, predictions[n, :, label_out_col_index],\n",
    "                  marker=None, label='Predictions',\n",
    "                  c='#ff7f0e')\n",
    "\n",
    "    if n == 0:\n",
    "      plt.legend()\n",
    "\n",
    "  plt.xlabel('Time [h]')\n",
    "\n",
    "WindowGenerator.plot2 = plot2"
   ]
  },
  {
   "cell_type": "code",
   "execution_count": null,
   "metadata": {},
   "outputs": [],
   "source": [
    "\n",
    "def hour_to_day_mean(array):\n",
    "    time = 24\n",
    "    return tf.reduce_mean(tf.reshape(array, [array.shape[0]//time, time]), 1)\n",
    "\n",
    "def plot24(self, model=None, plot_col=0, max_subplots=3, plot_out_col=0):\n",
    "  inputs, labels = self.example\n",
    "  plt.figure(figsize=(10, 8))\n",
    "  plot_col_index = self.column_indices[plot_col]\n",
    "  plot_out_col_index = self.column_indices[plot_out_col]\n",
    "  max_n = min(max_subplots, len(inputs))\n",
    "\n",
    "  if self.label_columns:\n",
    "    label_col_index = self.label_columns_indices.get(plot_col, None)\n",
    "    label_out_col_index = self.label_columns_indices.get(plot_out_col, None)\n",
    "  else:\n",
    "    label_col_index = plot_col_index\n",
    "    label_out_col_index = plot_out_col_index\n",
    "    \n",
    "  for n in range(max_n):\n",
    "    plt.subplot(3, 1, n+1)\n",
    "    plt.ylabel(f'{df_all.columns[plot_col]} [normed]', fontproperties=fprop)\n",
    "    \n",
    "    input_temp = hour_to_day_mean(inputs[n, :, plot_col_index])\n",
    "    input_temp = input_temp * train_std[plot_col] + train_mean[plot_col]\n",
    "    \n",
    "    plt.plot(\n",
    "        hour_to_day_mean(self.input_indices),\n",
    "        input_temp,\n",
    "        label='Inputs', marker='.', zorder=-10)\n",
    "\n",
    "    if label_col_index is None:\n",
    "      continue\n",
    "    \n",
    "    label_temp = hour_to_day_mean(labels[n, :, label_out_col_index])\n",
    "    label_temp = label_temp * train_std[plot_col] + train_mean[plot_col]\n",
    "    \n",
    "    plt.plot(\n",
    "        hour_to_day_mean(self.label_indices),\n",
    "        label_temp,\n",
    "        label='Labels', marker='.', zorder=-10, c='#2ca02c')\n",
    "    \n",
    "    if model is not None:\n",
    "      predictions = model(inputs)\n",
    "    \n",
    "      #predictions = predictions * train_std[plot_col] * train_mean[plot_col]\n",
    "      predict_temp = hour_to_day_mean(predictions[n,:, label_out_col_index])\n",
    "      predict_temp = predict_temp * train_std[plot_col] + train_mean[plot_col]\n",
    "    \n",
    "      plt.plot(\n",
    "          hour_to_day_mean(self.label_indices),\n",
    "          predict_temp,\n",
    "          label='Predictions', marker='.', zorder=-10, c='#ff7f0e')\n",
    "\n",
    "    if n == 0:\n",
    "      plt.legend()\n",
    "\n",
    "  plt.xlabel('Time [day]')\n",
    "\n",
    "WindowGenerator.plot24 = plot24"
   ]
  },
  {
   "cell_type": "code",
   "execution_count": null,
   "metadata": {},
   "outputs": [],
   "source": [
    "\n",
    "cond = {\n",
    "    \"총인\":[\n",
    "        [-1000,0.02],\n",
    "        [0.02,0.04],\n",
    "        [0.04,0.10],\n",
    "        [0.10,0.20],\n",
    "        [0.20,0.30],\n",
    "        [0.30,0.50],\n",
    "        [0.50,1000],\n",
    "    ],\n",
    "    \"총질소\":[\n",
    "        [-1000,0.2],\n",
    "        [0.2,0.3],\n",
    "        [0.3,0.4],\n",
    "        [0.4,0.6],\n",
    "        [0.6,1.0],\n",
    "        [1.0,1.5],\n",
    "        [1.5,1000],\n",
    "    ],\n",
    "    \"수소이온농도\":[\n",
    "        [6.5 ,8.5],\n",
    "        [6.5,8.5],\n",
    "        [6.5,8.5],\n",
    "        [6.5,8.5],\n",
    "        [6.0,8.5],\n",
    "        [6.0,8.5],\n",
    "        [-1000,1000],\n",
    "    ],\n",
    "    \"총유기탄소\":[\n",
    "        [-1000 ,2],\n",
    "        [2,3],\n",
    "        [3,4],\n",
    "        [4,5],\n",
    "        [5,6],\n",
    "        [6,8],\n",
    "        [8,1000],\n",
    "    ],\n",
    "    \"용존산소\":[\n",
    "        [7.5 ,1000],\n",
    "        [5,7.5],\n",
    "        [5,7.5],\n",
    "        [5,7.5],\n",
    "        [2,5],\n",
    "        [2,5],\n",
    "        [-1000,2],\n",
    "    ],\n",
    "    \"클로로필-a\":[\n",
    "        [-1000 ,5],\n",
    "        [5,9],\n",
    "        [9,14],\n",
    "        [14,20],\n",
    "        [20,42],\n",
    "        [42,70],\n",
    "        [70,1000],\n",
    "    ],\n",
    "    \n",
    "}\n",
    "\n",
    "\n",
    "def compa(self, model=None, plot_col=0, max_subplots=3, plot_out_col=0):\n",
    "  inputs, labels = self.example\n",
    "  plot_out_col_index = self.column_indices[plot_out_col]\n",
    "\n",
    "  if self.label_columns:\n",
    "    label_out_col_index = self.label_columns_indices.get(plot_out_col, None)\n",
    "  else:\n",
    "    label_out_col_index = plot_out_col_index\n",
    "    \n",
    "    \n",
    "  if model is None:\n",
    "    return\n",
    "    \n",
    "  print(\"column : \" + df_all.columns[plot_col])\n",
    "    \n",
    "  count1 = 0\n",
    "  count2 = 0\n",
    "  for n in range(len(inputs)):\n",
    "    predictions = model(inputs)\n",
    "    pred_temp = hour_to_day_mean(predictions[n,:,label_out_col_index]) \n",
    "    pred_temp = pred_temp * train_std[plot_col] + train_mean[plot_col]\n",
    "    label_temp = hour_to_day_mean(labels[n,:,label_out_col_index])\n",
    "    label_temp = label_temp * train_std[plot_col] + train_mean[plot_col]\n",
    "    \n",
    "    level_label = 0 \n",
    "    level_pred = 0\n",
    "    \n",
    "    for i in range(0,7,1):\n",
    "      min, max = cond[df_all.columns[plot_col]][i]\n",
    "      if min <= label_temp[2] and label_temp[2] < max:\n",
    "        level_label = i\n",
    "            #print(i, label_temp[2])\n",
    "      if min <= pred_temp[2] and pred_temp[2] < max:\n",
    "        level_pred = i\n",
    "            \n",
    "    if level_pred != level_label:\n",
    "        count1 = count1 + 1\n",
    "    count2 = count2 + 1 \n",
    "        \n",
    "  print(100 - count1*100/count2)\n",
    "\n",
    "  return 100 - count1*100/count2\n",
    "    \n",
    "\n",
    "WindowGenerator.compa = compa"
   ]
  },
  {
   "cell_type": "code",
   "execution_count": null,
   "metadata": {},
   "outputs": [],
   "source": [
    "df_all.columns"
   ]
  },
  {
   "cell_type": "code",
   "execution_count": null,
   "metadata": {},
   "outputs": [],
   "source": [
    "out_features = [8]\n",
    "out_features"
   ]
  },
  {
   "cell_type": "code",
   "execution_count": null,
   "metadata": {},
   "outputs": [],
   "source": [
    "out_features = [8]\n",
    "#print(df_all.columns)\n",
    "\n",
    "#multi_window.plot24(last_baseline, plot_col=out_features[0])\n",
    "#multi_window.plot24(last_baseline, plot_col='총유기탄소')\n",
    "\n",
    "multi_window.compa(last_baseline, plot_col=out_features[0])\n",
    "\n"
   ]
  },
  {
   "cell_type": "code",
   "execution_count": null,
   "metadata": {},
   "outputs": [],
   "source": [
    "multi_window.plot24(last_baseline, plot_col=out_features[0])"
   ]
  },
  {
   "cell_type": "code",
   "execution_count": null,
   "metadata": {},
   "outputs": [],
   "source": [
    "multi_window = WindowGenerator(input_width=24*7,\n",
    "                               label_width=OUT_STEPS,\n",
    "                               shift=OUT_STEPS,\n",
    "                               train_df=train_df,\n",
    "                               val_df=val_df,\n",
    "                               test_df=test_df,\n",
    "                               )\n",
    "multi_window"
   ]
  },
  {
   "cell_type": "code",
   "execution_count": null,
   "metadata": {},
   "outputs": [],
   "source": [
    "MAX_EPOCHS = 400\n",
    "\n",
    "def compile_and_fit(model, window, patience=1000):\n",
    "  early_stopping = tf.keras.callbacks.EarlyStopping(monitor='val_loss',\n",
    "                                                    patience=patience,\n",
    "                                                    mode='min')\n",
    "\n",
    "  model.compile(loss=tf.losses.MeanSquaredError(),\n",
    "                optimizer=tf.optimizers.Adam(),\n",
    "                metrics=[tf.metrics.MeanAbsoluteError()])\n",
    "#   model.compile(loss=tf.losses.MeanSquaredError(),\n",
    "#                 optimizer=tf.optimizers.Adam(),\n",
    "#                 metrics=[tf.metrics.MeanSquaredError()])\n",
    "  #model.compile(loss=GAIN.RMSE_loss)\n",
    "\n",
    "  history = model.fit(window.train, epochs=MAX_EPOCHS,\n",
    "                      validation_data=window.val,\n",
    "                      callbacks=[early_stopping])\n",
    "  return history"
   ]
  },
  {
   "cell_type": "code",
   "execution_count": null,
   "metadata": {},
   "outputs": [],
   "source": [
    "def plot_history(history):\n",
    "    fig = plt.figure()\n",
    "    ax = fig.add_subplot(111)\n",
    "    ax.plot(history.history['loss'], label='loss')\n",
    "    ax.plot(history.history['mean_absolute_error'], label='mae')\n",
    "#     ax.plot(history.history['mean_squared_error'], label='mse')\n",
    "    ax.plot(history.history['val_loss'], label='val_loss')\n",
    "    ax.plot(history.history['val_mean_absolute_error'], label='val_mae')\n",
    "#     ax.plot(history.history['val_mean_squared_error'], label='val_mse')\n",
    "    #plt.legend(history.history.keys(), loc='upper right')\n",
    "    #ax.legend(loc='upper center')\n",
    "    ax.legend()\n",
    "    ax.set_xlabel(\"epochs\")\n",
    "    ax.set_ylabel(\"loss\")\n",
    "    plt.show()"
   ]
  },
  {
   "cell_type": "code",
   "execution_count": null,
   "metadata": {},
   "outputs": [],
   "source": []
  },
  {
   "cell_type": "markdown",
   "metadata": {},
   "source": [
    "**Baseline model**"
   ]
  },
  {
   "cell_type": "code",
   "execution_count": null,
   "metadata": {},
   "outputs": [],
   "source": [
    "class MultiStepLastBaseline(tf.keras.Model):\n",
    "  def call(self, inputs):\n",
    "    #print(inputs[:, -1:, 0:1])\n",
    "    #return tf.tile(inputs[:, -1:, :out_num_features], [1, OUT_STEPS, 1])\n",
    "    return tf.tile(inputs[:, -1:, (out_features[0]):(out_features[0]+1)], [1, OUT_STEPS, 1])\n",
    "    #return tf.tile(inputs[:, -1:, out_features[0]:(out_features[1]+1)], [1, OUT_STEPS, 1])\n",
    "\n",
    "last_baseline = MultiStepLastBaseline()\n",
    "last_baseline.compile(loss=tf.losses.MeanSquaredError(),\n",
    "                      metrics=[tf.metrics.MeanAbsoluteError()])\n",
    "\n",
    "multi_val_performance = {}\n",
    "multi_performance = {}\n",
    "\n",
    "multi_val_performance['BaseLine'] = last_baseline.evaluate(multi_window.val.repeat(-1), steps=100)\n",
    "multi_performance['BaseLine'] = last_baseline.evaluate(multi_window.test.repeat(-1), verbose=0, steps=100)\n",
    "print('val performance =', multi_val_performance['BaseLine'])\n",
    "print('test performance = ', multi_performance['BaseLine'])\n"
   ]
  },
  {
   "cell_type": "code",
   "execution_count": null,
   "metadata": {},
   "outputs": [],
   "source": [
    "_performance={}\n",
    "_performance['base'] = multi_window.compa(last_baseline, plot_col=out_features[0])"
   ]
  },
  {
   "cell_type": "code",
   "execution_count": null,
   "metadata": {},
   "outputs": [],
   "source": [
    "multi_window.plot24(last_baseline, plot_col=out_features[0])"
   ]
  },
  {
   "cell_type": "code",
   "execution_count": null,
   "metadata": {},
   "outputs": [],
   "source": []
  },
  {
   "cell_type": "markdown",
   "metadata": {},
   "source": [
    "**Linear**"
   ]
  },
  {
   "cell_type": "code",
   "execution_count": null,
   "metadata": {
    "scrolled": true
   },
   "outputs": [],
   "source": [
    "import IPython\n",
    "multi_linear_model = tf.keras.Sequential([\n",
    "    # Take the last time-step.\n",
    "    # Shape [batch, time, features] => [batch, 1, features]\n",
    "    tf.keras.layers.Lambda(lambda x: x[:, -1:, :]),\n",
    "    # Shape => [batch, 1, out_steps*features]\n",
    "    tf.keras.layers.Dense(OUT_STEPS*out_num_features,\n",
    "                          kernel_initializer=tf.initializers.zeros),\n",
    "    # Shape => [batch, out_steps, features]\n",
    "    tf.keras.layers.Reshape([OUT_STEPS, out_num_features])\n",
    "])\n",
    "\n",
    "history = compile_and_fit(multi_linear_model, multi_window)\n",
    "\n",
    "#IPython.display.clear_output()\n",
    "multi_val_performance['Linear'] = multi_linear_model.evaluate(multi_window.val.repeat(-1), steps=100)\n",
    "multi_performance['Linear'] = multi_linear_model.evaluate(multi_window.test.repeat(-1), verbose=0, steps=100)\n",
    "#multi_window.plot(multi_linear_model, plot_col=0)\n",
    "print('val performance =', multi_val_performance['Linear'])\n",
    "print('test performance = ', multi_performance['Linear'])"
   ]
  },
  {
   "cell_type": "code",
   "execution_count": null,
   "metadata": {},
   "outputs": [],
   "source": [
    "multi_performance['Linear'] = multi_linear_model.evaluate(multi_window.test.repeat(-1), verbose=0, steps=100)"
   ]
  },
  {
   "cell_type": "code",
   "execution_count": null,
   "metadata": {
    "scrolled": false
   },
   "outputs": [],
   "source": [
    "plot_history(history)"
   ]
  },
  {
   "cell_type": "code",
   "execution_count": null,
   "metadata": {},
   "outputs": [],
   "source": [
    "_performance['Multi'] = multi_window.compa(multi_linear_model, plot_col=out_features[0])"
   ]
  },
  {
   "cell_type": "code",
   "execution_count": null,
   "metadata": {},
   "outputs": [],
   "source": [
    "multi_window.plot24(multi_linear_model, plot_col=out_features[0])"
   ]
  },
  {
   "cell_type": "code",
   "execution_count": null,
   "metadata": {},
   "outputs": [],
   "source": []
  },
  {
   "cell_type": "markdown",
   "metadata": {},
   "source": [
    "**Elman_RNN**"
   ]
  },
  {
   "cell_type": "code",
   "execution_count": null,
   "metadata": {},
   "outputs": [],
   "source": [
    "elman_model = tf.keras.Sequential([\n",
    "    # Take the last time step.\n",
    "    # Shape [batch, time, features] => [batch, 1, features]\n",
    "    tf.keras.layers.SimpleRNN(128, return_sequences=False),\n",
    "\n",
    "    tf.keras.layers.Dense(OUT_STEPS*out_num_features,\n",
    "                          kernel_initializer=tf.initializers.zeros),\n",
    "\n",
    "    tf.keras.layers.Reshape([OUT_STEPS, out_num_features])\n",
    "])"
   ]
  },
  {
   "cell_type": "code",
   "execution_count": null,
   "metadata": {},
   "outputs": [],
   "source": [
    "elman_model = tf.keras.Sequential([\n",
    "    # Take the last time step.\n",
    "    # Shape [batch, time, features] => [batch, 1, features]\n",
    "    tf.keras.layers.SimpleRNN(128, return_sequences=True),\n",
    "    tf.keras.layers.SimpleRNN(128, return_sequences=True),\n",
    "    tf.keras.layers.SimpleRNN(128, return_sequences=True),\n",
    "    tf.keras.layers.SimpleRNN(128, return_sequences=False),\n",
    "\n",
    "    tf.keras.layers.Dense(OUT_STEPS*out_num_features,\n",
    "                          kernel_initializer=tf.initializers.zeros),\n",
    "\n",
    "    tf.keras.layers.Reshape([OUT_STEPS, out_num_features])\n",
    "])"
   ]
  },
  {
   "cell_type": "code",
   "execution_count": null,
   "metadata": {
    "scrolled": true
   },
   "outputs": [],
   "source": [
    "history = compile_and_fit(elman_model, multi_window)\n",
    "multi_val_performance['ELMAN_RNN'] = elman_model.evaluate(multi_window.val.repeat(-1), steps=100)\n",
    "multi_performance['ELMAN_RNN'] = elman_model.evaluate(multi_window.test.repeat(-1), verbose=1, steps=100)\n",
    "print('val performance =', multi_val_performance['ELMAN_RNN'])\n",
    "print('test performance = ', multi_performance['ELMAN_RNN'])"
   ]
  },
  {
   "cell_type": "code",
   "execution_count": null,
   "metadata": {},
   "outputs": [],
   "source": [
    "plot_history(history)"
   ]
  },
  {
   "cell_type": "code",
   "execution_count": null,
   "metadata": {},
   "outputs": [],
   "source": [
    "_performance['Elman'] = multi_window.compa(elman_model, plot_col=out_features[0])"
   ]
  },
  {
   "cell_type": "code",
   "execution_count": null,
   "metadata": {},
   "outputs": [],
   "source": [
    "multi_window.plot24(elman_model, plot_col=out_features[0])"
   ]
  },
  {
   "cell_type": "code",
   "execution_count": null,
   "metadata": {},
   "outputs": [],
   "source": []
  },
  {
   "cell_type": "markdown",
   "metadata": {},
   "source": [
    "**GRU**"
   ]
  },
  {
   "cell_type": "code",
   "execution_count": null,
   "metadata": {},
   "outputs": [],
   "source": [
    "gru_model = tf.keras.Sequential([\n",
    "    # Take the last time step.\n",
    "    # Shape [batch, time, features] => [batch, 1, features]\n",
    "#     tf.keras.layers.GRU(128, return_sequences=True),\n",
    "    tf.keras.layers.GRU(128, return_sequences=False),\n",
    "    tf.keras.layers.Dense(OUT_STEPS*out_num_features,\n",
    "                          kernel_initializer=tf.initializers.zeros),\n",
    "    # Shape => [batch, out_steps, features]\n",
    "    tf.keras.layers.Reshape([OUT_STEPS, out_num_features])\n",
    "])"
   ]
  },
  {
   "cell_type": "code",
   "execution_count": null,
   "metadata": {},
   "outputs": [],
   "source": [
    "MAX_EPOCHS = 100"
   ]
  },
  {
   "cell_type": "code",
   "execution_count": null,
   "metadata": {},
   "outputs": [],
   "source": [
    "history = compile_and_fit(gru_model, multi_window)\n",
    "multi_val_performance['GRU'] = gru_model.evaluate(multi_window.val.repeat(-1), steps=100)\n",
    "multi_performance['GRU'] = gru_model.evaluate(multi_window.test.repeat(-1), verbose=1, steps=100)\n",
    "print('val performance =', multi_val_performance['GRU'])\n",
    "print('test performance = ', multi_performance['GRU'])"
   ]
  },
  {
   "cell_type": "code",
   "execution_count": null,
   "metadata": {},
   "outputs": [],
   "source": [
    "plot_history(history)"
   ]
  },
  {
   "cell_type": "code",
   "execution_count": null,
   "metadata": {},
   "outputs": [],
   "source": [
    "_performance['GRU'] = multi_window.compa(gru_model, plot_col=out_features[0])"
   ]
  },
  {
   "cell_type": "code",
   "execution_count": null,
   "metadata": {},
   "outputs": [],
   "source": [
    "multi_window.plot24(gru_model, plot_col=out_features[0])"
   ]
  },
  {
   "cell_type": "code",
   "execution_count": null,
   "metadata": {},
   "outputs": [],
   "source": []
  },
  {
   "cell_type": "markdown",
   "metadata": {},
   "source": [
    "**LSTM**"
   ]
  },
  {
   "cell_type": "code",
   "execution_count": null,
   "metadata": {},
   "outputs": [],
   "source": [
    "multi_lstm_model = tf.keras.Sequential([\n",
    "    # Shape [batch, time, features] => [batch, lstm_units]\n",
    "    # Adding more `lstm_units` just overfits more quickly.\n",
    "    #tf.keras.layers.LSTM(32, return_sequences=False),\n",
    "    tf.keras.layers.LSTM(128, return_sequences=True),\n",
    "    tf.keras.layers.LSTM(128, return_sequences=False),\n",
    "    # Shape => [batch, out_steps*features]\n",
    "    tf.keras.layers.Dense(OUT_STEPS*out_num_features,\n",
    "                          kernel_initializer=tf.initializers.zeros),\n",
    "    # Shape => [batch, out_steps, features]\n",
    "    tf.keras.layers.Reshape([OUT_STEPS, out_num_features])\n",
    "])"
   ]
  },
  {
   "cell_type": "code",
   "execution_count": null,
   "metadata": {
    "scrolled": true
   },
   "outputs": [],
   "source": [
    "history = compile_and_fit(multi_lstm_model, multi_window)\n",
    "\n",
    "#IPython.display.clear_output()\n",
    "\n",
    "multi_val_performance['LSTM'] = multi_lstm_model.evaluate(multi_window.val)\n",
    "multi_performance['LSTM'] = multi_lstm_model.evaluate(multi_window.test, verbose=0)\n",
    "print('val performance =', multi_val_performance['LSTM'])\n",
    "print('test performance = ', multi_performance['LSTM'])"
   ]
  },
  {
   "cell_type": "code",
   "execution_count": null,
   "metadata": {},
   "outputs": [],
   "source": [
    "plot_history(history)"
   ]
  },
  {
   "cell_type": "code",
   "execution_count": null,
   "metadata": {},
   "outputs": [],
   "source": [
    "_performance['LSTM'] = multi_window.compa(multi_lstm_model, plot_col=out_features[0])"
   ]
  },
  {
   "cell_type": "code",
   "execution_count": null,
   "metadata": {},
   "outputs": [],
   "source": [
    "multi_window.plot24(multi_lstm_model, plot_col=out_features[0])"
   ]
  },
  {
   "cell_type": "code",
   "execution_count": null,
   "metadata": {},
   "outputs": [],
   "source": []
  },
  {
   "cell_type": "markdown",
   "metadata": {},
   "source": [
    "**CNN model**"
   ]
  },
  {
   "cell_type": "code",
   "execution_count": null,
   "metadata": {},
   "outputs": [],
   "source": [
    "CONV_WIDTH = 7\n",
    "CONV_LAYER_NO = 1\n",
    "multi_conv_model = tf.keras.Sequential([\n",
    "    # Shape [batch, time, features] => [batch, CONV_WIDTH, features]\n",
    "    tf.keras.layers.Lambda(lambda x: x[:, -(CONV_WIDTH*CONV_LAYER_NO-CONV_LAYER_NO+1):, :]),\n",
    "] + [\n",
    "    # Shape => [batch, 1, conv_units]\n",
    "    tf.keras.layers.Conv1D(1024, activation='relu', kernel_size=(CONV_WIDTH)) for i in range(CONV_LAYER_NO)\n",
    "] + [\n",
    "    # Shape => [batch, 1,  out_steps*features]\n",
    "    tf.keras.layers.Dense(OUT_STEPS*out_num_features,\n",
    "                          kernel_initializer=tf.initializers.zeros),\n",
    "    # Shape => [batch, out_steps, features]\n",
    "    tf.keras.layers.Reshape([OUT_STEPS, out_num_features])\n",
    "])"
   ]
  },
  {
   "cell_type": "code",
   "execution_count": null,
   "metadata": {
    "scrolled": true
   },
   "outputs": [],
   "source": [
    "MAX_EPOCHS = 400\n",
    "history = compile_and_fit(multi_conv_model, multi_window)\n",
    "\n",
    "#IPython.display.clear_output()\n",
    "\n",
    "multi_val_performance['Conv'] = multi_conv_model.evaluate(multi_window.val)\n",
    "multi_performance['Conv'] = multi_conv_model.evaluate(multi_window.test, verbose=0)\n",
    "print('val performance =', multi_val_performance['Conv'])\n",
    "print('test performance = ', multi_performance['Conv'])"
   ]
  },
  {
   "cell_type": "code",
   "execution_count": null,
   "metadata": {},
   "outputs": [],
   "source": [
    "multi_val_performance['Conv'] = multi_conv_model.evaluate(multi_window.val)\n",
    "multi_performance['Conv'] = multi_conv_model.evaluate(multi_window.test, verbose=0)\n",
    "print('val performance =', multi_val_performance['Conv'])\n",
    "print('test performance = ', multi_performance['Conv'])"
   ]
  },
  {
   "cell_type": "code",
   "execution_count": null,
   "metadata": {},
   "outputs": [],
   "source": [
    "plot_history(history)"
   ]
  },
  {
   "cell_type": "code",
   "execution_count": null,
   "metadata": {},
   "outputs": [],
   "source": [
    "out_features = [4]\n",
    "out_features[0]"
   ]
  },
  {
   "cell_type": "code",
   "execution_count": null,
   "metadata": {},
   "outputs": [],
   "source": [
    "multi_window.plot24(multi_conv_model, plot_col=out_features[0])"
   ]
  },
  {
   "cell_type": "code",
   "execution_count": null,
   "metadata": {
    "scrolled": true
   },
   "outputs": [],
   "source": [
    "multi_window.plot24(multi_conv_model, plot_col=out_features[0])"
   ]
  },
  {
   "cell_type": "code",
   "execution_count": null,
   "metadata": {},
   "outputs": [],
   "source": []
  },
  {
   "cell_type": "markdown",
   "metadata": {},
   "source": [
    "**performance**"
   ]
  },
  {
   "cell_type": "code",
   "execution_count": null,
   "metadata": {},
   "outputs": [],
   "source": [
    "x = np.arange(len(multi_performance))\n",
    "width = 0.3\n",
    "\n",
    "\n",
    "metric_name = 'mean_absolute_error'\n",
    "metric_index = multi_conv_model.metrics_names.index('mean_absolute_error')\n",
    "val_mae = [v[metric_index] for v in multi_val_performance.values()]\n",
    "test_mae = [v[metric_index] for v in multi_performance.values()]\n",
    "\n",
    "plt.figure()\n",
    "plt.bar(x - 0.17, val_mae, width, label='Validation')\n",
    "plt.bar(x + 0.17, test_mae, width, label='Test')\n",
    "plt.xticks(ticks=x, labels=multi_performance.keys(),\n",
    "           rotation=45)\n",
    "plt.ylabel(f'MAE (average over all times and outputs)')\n",
    "_ = plt.legend()\n",
    "plt.show()"
   ]
  },
  {
   "cell_type": "code",
   "execution_count": null,
   "metadata": {},
   "outputs": [],
   "source": [
    "print(_performance)"
   ]
  },
  {
   "cell_type": "code",
   "execution_count": null,
   "metadata": {},
   "outputs": [],
   "source": [
    "out_features = [1]\n",
    "\n",
    "_performance['base'] = multi_window.compa(last_baseline, plot_col=out_features[0])\n",
    "_performance['Multi'] = multi_window.compa(multi_linear_model, plot_col=out_features[0])\n",
    "_performance['LSTM'] = multi_window.compa(multi_lstm_model, plot_col=out_features[0])\n",
    "_performance['Elman'] = multi_window.compa(elman_model, plot_col=out_features[0])\n",
    "_performance['GRU'] = multi_window.compa(gru_model, plot_col=out_features[0])\n",
    "\n",
    "\n",
    "print(_performance)"
   ]
  },
  {
   "cell_type": "code",
   "execution_count": null,
   "metadata": {},
   "outputs": [],
   "source": [
    "x = np.arange(len(_performance))\n",
    "width = 0.3\n",
    "\n",
    "\n",
    "metric_name = 'mean_absolute_error'\n",
    "metric_index = multi_conv_model.metrics_names.index('mean_absolute_error')\n",
    "val_mae = [v[metric_index] for v in multi_val_performance.values()]\n",
    "test_mae = [v[metric_index] for v in _performance.values()]\n",
    "\n",
    "plt.figure()\n",
    "plt.bar(x - 0.17, val_mae, width, label='Validation')\n",
    "plt.bar(x + 0.17, test_mae, width, label='Test')\n",
    "plt.xticks(ticks=x, labels=_performance.keys(),\n",
    "           rotation=45)\n",
    "plt.ylabel(f'MAE (average over all times and outputs)')\n",
    "_ = plt.legend()\n",
    "plt.show()"
   ]
  },
  {
   "cell_type": "markdown",
   "metadata": {},
   "source": [
    "**Autoregressive model**"
   ]
  },
  {
   "cell_type": "code",
   "execution_count": null,
   "metadata": {},
   "outputs": [],
   "source": [
    "class FeedBack(tf.keras.Model):\n",
    "  def __init__(self, units, out_steps):\n",
    "    super().__init__()\n",
    "    self.out_steps = out_steps\n",
    "    self.units = units\n",
    "    self.lstm_cell = tf.keras.layers.LSTMCell(units)\n",
    "    # Also wrap the LSTMCell in an RNN to simplify the `warmup` method.\n",
    "    self.lstm_rnn = tf.keras.layers.RNN(self.lstm_cell, return_state=True)\n",
    "    self.dense = tf.keras.layers.Dense(num_features)\n",
    "    \n",
    "feedback_model = FeedBack(units=32, out_steps=OUT_STEPS)\n",
    "\n",
    "def warmup(self, inputs):\n",
    "  # inputs.shape => (batch, time, features)\n",
    "  # x.shape => (batch, lstm_units)\n",
    "  x, *state = self.lstm_rnn(inputs)\n",
    "  #print('x =', x)\n",
    "\n",
    "  # predictions.shape => (batch, features)\n",
    "  prediction = self.dense(x)\n",
    "  return prediction, state\n",
    "\n",
    "FeedBack.warmup = warmup\n",
    "\n",
    "prediction, state = feedback_model.warmup(multi_window.example[0])\n",
    "prediction.shape\n",
    "\n",
    "def call(self, inputs, training=None):\n",
    "  # Use a TensorArray to capture dynamically unrolled outputs.\n",
    "  predictions = []\n",
    "  # Initialize the lstm state\n",
    "  prediction, state = self.warmup(inputs)\n",
    "\n",
    "  # Insert the first prediction\n",
    "  predictions.append(prediction)\n",
    "\n",
    "  # Run the rest of the prediction steps\n",
    "  for n in range(1, self.out_steps):\n",
    "    # Use the last prediction as input.\n",
    "    x = prediction\n",
    "    # Execute one lstm step.\n",
    "    x, state = self.lstm_cell(x, states=state,\n",
    "                              training=training)\n",
    "    # Convert the lstm output to a prediction.\n",
    "    prediction = self.dense(x)\n",
    "    # Add the prediction to the output\n",
    "    predictions.append(prediction)\n",
    "\n",
    "  # predictions.shape => (time, batch, features)\n",
    "  predictions = tf.stack(predictions)\n",
    "  # predictions.shape => (batch, time, features)\n",
    "  predictions = tf.transpose(predictions, [1, 0, 2])\n",
    "  predictions = tf.keras.layers.Lambda(lambda x: x[:, :, out_features[0]:(out_features[0]+len(out_features))])(predictions)\n",
    "  return predictions\n",
    "\n",
    "FeedBack.call = call\n",
    "\n",
    "print('Output shape (batch, time, features): ', feedback_model(multi_window.example[0]).shape)"
   ]
  },
  {
   "cell_type": "code",
   "execution_count": null,
   "metadata": {
    "scrolled": true
   },
   "outputs": [],
   "source": [
    "history = compile_and_fit(feedback_model, multi_window)\n",
    "\n",
    "#IPython.display.clear_output()\n",
    "\n",
    "multi_val_performance['AR LSTM'] = feedback_model.evaluate(multi_window.val)\n",
    "multi_performance['AR LSTM'] = feedback_model.evaluate(multi_window.test, verbose=0)\n",
    "\n",
    "print('val performance =', multi_val_performance['AR LSTM'])\n",
    "print('test performance = ', multi_performance['AR LSTM'])"
   ]
  },
  {
   "cell_type": "code",
   "execution_count": null,
   "metadata": {},
   "outputs": [],
   "source": [
    "plot_history(history)"
   ]
  },
  {
   "cell_type": "code",
   "execution_count": null,
   "metadata": {},
   "outputs": [],
   "source": [
    "multi_window.plot24(feedback_model, plot_col=out_features[0])"
   ]
  },
  {
   "cell_type": "code",
   "execution_count": null,
   "metadata": {},
   "outputs": [],
   "source": []
  },
  {
   "cell_type": "markdown",
   "metadata": {},
   "source": [
    "**performance**"
   ]
  },
  {
   "cell_type": "code",
   "execution_count": null,
   "metadata": {},
   "outputs": [],
   "source": [
    "x = np.arange(len(multi_performance))\n",
    "width = 0.3\n",
    "\n",
    "\n",
    "metric_name = 'mean_absolute_error'\n",
    "metric_index = multi_conv_model.metrics_names.index('mean_absolute_error')\n",
    "val_mae = [v[metric_index] for v in multi_val_performance.values()]\n",
    "test_mae = [v[metric_index] for v in multi_performance.values()]\n",
    "\n",
    "plt.figure()\n",
    "plt.bar(x - 0.17, val_mae, width, label='Validation')\n",
    "plt.bar(x + 0.17, test_mae, width, label='Test')\n",
    "plt.xticks(ticks=x, labels=multi_performance.keys(),\n",
    "           rotation=45)\n",
    "plt.ylabel(f'MAE (average over all times and outputs)')\n",
    "_ = plt.legend()\n",
    "plt.show()"
   ]
  },
  {
   "cell_type": "code",
   "execution_count": null,
   "metadata": {},
   "outputs": [],
   "source": []
  }
 ],
 "metadata": {
  "kernelspec": {
   "display_name": "Python 3",
   "language": "python",
   "name": "python3"
  },
  "language_info": {
   "codemirror_mode": {
    "name": "ipython",
    "version": 3
   },
   "file_extension": ".py",
   "mimetype": "text/x-python",
   "name": "python",
   "nbconvert_exporter": "python",
   "pygments_lexer": "ipython3",
   "version": "3.7.9"
  }
 },
 "nbformat": 4,
 "nbformat_minor": 4
}
