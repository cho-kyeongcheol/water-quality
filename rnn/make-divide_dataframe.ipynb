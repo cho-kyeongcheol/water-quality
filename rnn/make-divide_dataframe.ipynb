{
 "cells": [
  {
   "cell_type": "code",
   "execution_count": null,
   "metadata": {},
   "outputs": [],
   "source": [
    "import pandas as pd\n",
    "import numpy as np\n",
    "import datetime \n",
    "import os"
   ]
  },
  {
   "cell_type": "code",
   "execution_count": null,
   "metadata": {},
   "outputs": [],
   "source": [
    "folder = ['./data/han/자동', './data/han/수질측정망', 'data/han/총량측정망', './data/han/유량',\n",
    "          './data/han/수위'] #, './data/han/AWS','./data/han/방사성']\n",
    "\n",
    "file_names =[\n",
    "    \n",
    "    [ #자동\n",
    "        ['가평_2016.xlsx', '가평_2017.xlsx','가평_2018.xlsx', '가평_2019.xlsx' ], \n",
    "        ['의암호_2016.xlsx', '의암호_2017.xlsx', '의암호_2018.xlsx', '의암호_2019.xlsx'],\n",
    "        ['서상_2016.xlsx', '서상_2017.xlsx', '서상_2018.xlsx', '서상_2019.xlsx']\n",
    "    ],\n",
    "    [ #수질\n",
    "        ['가평천3_2016.xlsx', '가평천3_2017.xlsx','가평천3_2018.xlsx', '가평천3_2019.xlsx'], \n",
    "        ['남이섬_2016.xlsx', '남이섬_2017.xlsx', '남이섬_2018.xlsx', '남이섬_2019.xlsx'],\n",
    "        ['대성리_2016.xlsx', '대성리_2017.xlsx', '대성리_2018.xlsx', '대성리_2019.xlsx']\n",
    "        \n",
    "    ],\n",
    "    [ #총량\n",
    "        ['가평천3_2016.xlsx', '가평천3_2017.xlsx','가평천3_2018.xlsx', '가평천3_2019.xlsx'],\n",
    "        ['조종천3_2016.xlsx', '조종천3_2017.xlsx','조종천3_2018.xlsx', '조종천3_2019.xlsx'], \n",
    "        ['청평_2016.xlsx', '청평_2017.xlsx','청평_2018.xlsx', '청평_2019.xlsx'],\n",
    "        ['춘성교_2016.xlsx', '춘성교_2017.xlsx','춘성교_2018.xlsx', '춘성교_2019.xlsx'],\n",
    "        ['춘천A_2016.xlsx', '춘천A_2017.xlsx','춘천A_2018.xlsx', '춘천A_2019.xlsx'],\n",
    "        ['화천_2016.xlsx', '화천_2017.xlsx','화천_2018.xlsx', '화천_2019.xlsx']\n",
    "        \n",
    "    ],\n",
    "    [ #유량\n",
    "        ['가평군(가평교)_2016.xlsx','가평군(가평교)_2017.xlsx','가평군(가평교)_2018.xlsx','가평군(가평교)_2019.xlsx'],\n",
    "        ['가평군(대성리)_2016.xlsx','가평군(대성리)_2017.xlsx','가평군(대성리)_2018.xlsx','가평군(대성리)_2019.xlsx'],\n",
    "        ['가평군(청평교)_2016.xlsx','가평군(청평교)_2017.xlsx','가평군(청평교)_2018.xlsx','가평군(청평교)_2019.xlsx'],\n",
    "        ['춘천시(강촌교)_2016.xlsx','춘천시(강촌교)_2017.xlsx','춘천시(강촌교)_2018.xlsx','춘천시(강촌교)_2019.xlsx']\n",
    "    ],\n",
    "    [ #수위\n",
    "        ['가평군(가평교)_2016.xlsx','가평군(가평교)_2017.xlsx','가평군(가평교)_2018.xlsx','가평군(가평교)_2019.xlsx'],\n",
    "        ['가평군(대성리)_2016.xlsx','가평군(대성리)_2017.xlsx','가평군(대성리)_2018.xlsx','가평군(대성리)_2019.xlsx'],\n",
    "        ['가평군(청평교)_2016.xlsx','가평군(청평교)_2017.xlsx','가평군(청평교)_2018.xlsx','가평군(청평교)_2019.xlsx'],\n",
    "        ['가평군(청평댐)_2016.xlsx','가평군(청평댐)_2017.xlsx','가평군(청평댐)_2018.xlsx','가평군(청평댐)_2019.xlsx'],\n",
    "        ['춘천시(강촌교)_2016.xlsx','춘천시(강촌교)_2017.xlsx','춘천시(강촌교)_2018.xlsx','춘천시(강촌교)_2019.xlsx'],\n",
    "        ['춘천시(소양2교)_2016.xlsx','춘천시(소양2교)_2017.xlsx','춘천시(소양2교)_2018.xlsx','춘천시(소양2교)_2019.xlsx'],\n",
    "        ['춘천시(춘천댐)_2016.xlsx','춘천시(춘천댐)_2017.xlsx','춘천시(춘천댐)_2018.xlsx','춘천시(춘천댐)_2019.xlsx'],\n",
    "        ['화천군(화천대교)_2016.xlsx','화천군(화천대교)_2017.xlsx','화천군(화천대교)_2018.xlsx','화천군(화천대교)_2019.xlsx']\n",
    "        \n",
    "    ]\n",
    "#     [ #AWS\n",
    "# #         ['남이섬_2016.xlsx', '남이섬_2016.xlsx', '남이섬_2016.xlsx', '남이섬_2016.xlsx',],\n",
    "# #         ['청평_2016.xlsx', '청평_2017.xlsx','청평_2018.xlsx', '청평_2019.xlsx'],\n",
    "#         ['춘천_2016.xlsx', '춘천_2017.xlsx','춘천_2018.xlsx', '춘천_2019.xlsx']        \n",
    "#     ],\n",
    "#     [ #방사성\n",
    "#        ['의암댐_2016.xlsx', '의암댐_2017.xlsx', '의암댐_2018.xlsx', '의암댐_2019.xlsx'] \n",
    "#     ]\n",
    "]\n",
    "             "
   ]
  },
  {
   "cell_type": "code",
   "execution_count": null,
   "metadata": {},
   "outputs": [],
   "source": []
  },
  {
   "cell_type": "code",
   "execution_count": null,
   "metadata": {},
   "outputs": [],
   "source": []
  },
  {
   "cell_type": "markdown",
   "metadata": {},
   "source": [
    "**parameters for make**"
   ]
  },
  {
   "cell_type": "code",
   "execution_count": null,
   "metadata": {},
   "outputs": [],
   "source": [
    "# 각각의 강 마다, 측정소 별로 column을 맞춰야함\n",
    "# 0:자동, 1:수질 , 2:총량, 3:유량, 4:수위,   방사성\n",
    "han = [':,26:35',':,[28,29,30,31,32,33,34,35,36,37,39,41,42,43,44]', \n",
    "       ':,28:45', ':,26',  ':,26'] #,':,28:30']\n",
    "nakdong = [':,0:', ':,2:12']\n",
    "gum = [':,29:30'] #, ':,28:45', ':,26:29']\n",
    "# gain_han = ['save/han/1', 'save/han/2', 'save/han/3']\n",
    "\n",
    "':,26'\n",
    "\n",
    "interpolation_option = [False, True, True, False, False]\n",
    "# gain_save_path = gain_han[2]\n",
    "\n",
    "iloc_val = han\n",
    "iloc_val[1]\n",
    "type(iloc_val[0])"
   ]
  },
  {
   "cell_type": "code",
   "execution_count": null,
   "metadata": {},
   "outputs": [],
   "source": []
  },
  {
   "cell_type": "markdown",
   "metadata": {},
   "source": [
    "**parameters for divide**"
   ]
  },
  {
   "cell_type": "code",
   "execution_count": null,
   "metadata": {},
   "outputs": [],
   "source": []
  },
  {
   "cell_type": "code",
   "execution_count": null,
   "metadata": {},
   "outputs": [],
   "source": [
    "def make_timeseries(df):\n",
    "#     print(interpolate)\n",
    "#     print(df.shape)\n",
    "    df = df.dropna(axis='rows', thresh=3)\n",
    "    date_col = df.columns[0]\n",
    "    df[date_col] = pd.to_datetime(df[date_col])\n",
    "    df = df[df[date_col].notna()]\n",
    "\n",
    "    year = pd.DatetimeIndex(df[date_col]).year.astype(np.int64)\n",
    "\n",
    "    start = str(year[0]) + \"-01-01 00:00\"\n",
    "#     start\n",
    "\n",
    "    end = str(year[0]) + \"-12-31 23:00\"\n",
    "#     end\n",
    "\n",
    "    time_series = pd.date_range(start = start, end = end, freq='H')\n",
    "    time_series\n",
    "    time_series = pd.DataFrame(time_series)\n",
    "    time_series.columns = [date_col]   \n",
    "    time_series\n",
    "\n",
    "    df = pd.concat([time_series, df], axis=0)\n",
    "    df = df.drop_duplicates([date_col], keep=\"last\")\n",
    "    df = df.sort_values([date_col], axis=0)\n",
    "    \n",
    "#     if interpolate :\n",
    "# #         print('interpolation')\n",
    "#         df = df.interpolate(method='spline', order=2, limit_direction='both')\n",
    "        \n",
    "# #     print(df.shape)\n",
    "    return df"
   ]
  },
  {
   "cell_type": "code",
   "execution_count": null,
   "metadata": {},
   "outputs": [],
   "source": [
    "def createDataFrame(folder, file_list, iloc_val= None, interpolate=False):\n",
    "#     print(folder)\n",
    "#     print(file_list)\n",
    "#     print(interpolate)\n",
    "    day = 24 * 60 * 60\n",
    "    week = day * 7\n",
    "    year = (365.2425) * day\n",
    "\n",
    "    da = db = [[] for i in range(len(file_list))]\n",
    "    for i in range(len(file_list)):\n",
    "        for filename in file_list[i]:\n",
    "            print(filename)\n",
    "            path = os.path.join(folder, filename)\n",
    "            df_tmp = pd.read_excel(path)\n",
    "            df_tmp = make_timeseries(df_tmp)\n",
    "            \n",
    "            df_iloc = eval(f\"df_tmp.iloc[{iloc_val}]\")\n",
    "            \n",
    "            df_time = pd.DataFrame(df_tmp.iloc[:,0])  \n",
    "            df_full_withtime = pd.concat([df_time, df_iloc], axis = 1)\n",
    "            da[i].append(df_full_withtime)\n",
    "            \n",
    "#             if i == 0:\n",
    "#                 df_time = pd.DataFrame(df_tmp.iloc[:,0])  \n",
    "#                 df_full_withtime = pd.concat([df_time, df_iloc], axis = 1)\n",
    "#                 da[i].append(df_full_withtime)\n",
    "#             else :\n",
    "#                 da[i].append(df_iloc)\n",
    "\n",
    "        db[i] = pd.concat(da[i])\n",
    "        db[i] = db[i].reset_index(drop=True)\n",
    "        \n",
    "        \n",
    "        if interpolate :\n",
    "            print('interpolation')\n",
    "            for j in range(1, db[i].shape[1], 1):\n",
    "                print('j')\n",
    "                print(j)\n",
    "                idx = db[i].iloc[:, j].dropna()\n",
    "                print(idx)\n",
    "\n",
    "                if idx.shape[0] != 0:\n",
    "                    db[i].iloc[0, j] = idx.iloc[0]\n",
    "                    db[i].iloc[-1, j] = idx.iloc[-1]\n",
    "                \n",
    "            db[i] = db[i].interpolate(method='polynomial', order=3, limit_direction='both')\n",
    "        \n",
    "#     print(df.shape)\n",
    "\n",
    "\n",
    "    for i in range(1 , len(db)):\n",
    "        db[i] = db[i].iloc[:,1:].rename(columns = lambda x: x + '_'+str(i))\n",
    "      \n",
    "    df = pd.concat(db, axis=1)\n",
    "\n",
    "    date_time = pd.to_datetime(df.iloc[:, 0], format='%Y.%m.%d %H:%M',utc=True)\n",
    "    timestamp_s = date_time.map(datetime.datetime.timestamp)\n",
    "    df['Day sin'] = np.sin(timestamp_s * (2 * np.pi / day))\n",
    "    df['Day cos'] = np.cos(timestamp_s * (2 * np.pi / day))\n",
    "    # df['Week sin'] = np.sin(timestamp_s * (2 * np.pi / week))\n",
    "    # df['Week cos'] = np.cos(timestamp_s * (2 * np.pi / week))\n",
    "    df['Year sin'] = np.sin(timestamp_s * (2 * np.pi / year))\n",
    "    df['Year cos'] = np.cos(timestamp_s * (2 * np.pi / year))\n",
    "    \n",
    "    return df"
   ]
  },
  {
   "cell_type": "code",
   "execution_count": null,
   "metadata": {},
   "outputs": [],
   "source": [
    "def divideDataFrame(df_ori, de_iloc_val= 0):\n",
    "    df = df_ori\n",
    "#     print(de_iloc_val)\n",
    "#     print(type(de_iloc_val))\n",
    "    df.set_index(df.columns[0], inplace=True)\n",
    "#     print(df)\n",
    "    \n",
    "    df_d = []\n",
    "    for i in range(4) :\n",
    "#         print((i*de_iloc_val))\n",
    "#         print((i*de_iloc_val)+de_iloc_val)\n",
    "#         print('aaaaaaa')\n",
    "        df_tmp = df.iloc[:, (i*de_iloc_val):(i*de_iloc_val)+de_iloc_val]\n",
    "#         df_tmp.reset_index(inplace=True)\n",
    "        df_d.append(df_tmp)\n",
    "        \n",
    "    return df_d\n",
    "    "
   ]
  },
  {
   "cell_type": "code",
   "execution_count": null,
   "metadata": {},
   "outputs": [],
   "source": []
  },
  {
   "cell_type": "markdown",
   "metadata": {},
   "source": [
    "**make**"
   ]
  },
  {
   "cell_type": "code",
   "execution_count": null,
   "metadata": {},
   "outputs": [],
   "source": [
    "df_ori = []\n",
    "for i in range(len(folder)):\n",
    "    df_tmp = createDataFrame(folder[i], file_names[i], iloc_val[i], interpolation_option[i])\n",
    "    if i == 0 :\n",
    "        df_ori.append(df_tmp.iloc[:,:-4])\n",
    "    else :\n",
    "        df_ori.append(df_tmp.iloc[:,1:-4])\n",
    "\n",
    "df = pd.concat(df_ori)\n",
    "df"
   ]
  },
  {
   "cell_type": "code",
   "execution_count": null,
   "metadata": {},
   "outputs": [],
   "source": []
  },
  {
   "cell_type": "markdown",
   "metadata": {},
   "source": [
    "**divide**"
   ]
  },
  {
   "cell_type": "code",
   "execution_count": null,
   "metadata": {},
   "outputs": [],
   "source": [
    "de_iloc_val = ['9']\n",
    "de_iloc_val[0]"
   ]
  },
  {
   "cell_type": "code",
   "execution_count": null,
   "metadata": {},
   "outputs": [],
   "source": [
    "aa = destroyDataFrame(df, int(de_iloc_val[0]))"
   ]
  },
  {
   "cell_type": "code",
   "execution_count": null,
   "metadata": {},
   "outputs": [],
   "source": []
  },
  {
   "cell_type": "code",
   "execution_count": null,
   "metadata": {},
   "outputs": [],
   "source": []
  },
  {
   "cell_type": "code",
   "execution_count": null,
   "metadata": {},
   "outputs": [],
   "source": []
  }
 ],
 "metadata": {
  "kernelspec": {
   "display_name": "Python 3",
   "language": "python",
   "name": "python3"
  },
  "language_info": {
   "codemirror_mode": {
    "name": "ipython",
    "version": 3
   },
   "file_extension": ".py",
   "mimetype": "text/x-python",
   "name": "python",
   "nbconvert_exporter": "python",
   "pygments_lexer": "ipython3",
   "version": "3.7.8"
  }
 },
 "nbformat": 4,
 "nbformat_minor": 4
}
