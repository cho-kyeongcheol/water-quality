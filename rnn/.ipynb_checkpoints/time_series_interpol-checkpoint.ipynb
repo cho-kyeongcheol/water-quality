{
 "cells": [
  {
   "cell_type": "code",
   "execution_count": 2,
   "metadata": {},
   "outputs": [],
   "source": [
    "import pandas as pd\n",
    "import numpy as np\n",
    "import os"
   ]
  },
  {
   "cell_type": "code",
   "execution_count": 12,
   "metadata": {},
   "outputs": [
    {
     "name": "stdout",
     "output_type": "stream",
     "text": [
      "4\n",
      "대성리_2016.xlsx\n",
      "대성리_2017.xlsx\n",
      "대성리_2018.xlsx\n",
      "대성리_2019.xlsx\n"
     ]
    }
   ],
   "source": [
    "in_folder = 'data_test/한강/퇴적물/'\n",
    "\n",
    "file_names = [\n",
    "    ['대성리_2016.xlsx','대성리_2017.xlsx','대성리_2018.xlsx', '대성리_2019.xlsx'],\n",
    "             ]\n",
    "\n",
    "for loc in range(len(file_names)):\n",
    "    df_loc = []\n",
    "    print(len(file_names[loc]))\n",
    "    for y in range(len(file_names[loc])):\n",
    "        path = os.path.join(in_folder, file_names[loc][y])\n",
    "        print(file_names[loc][y])\n",
    "        df_loc.append(pd.read_excel(path))\n",
    "        \n",
    "    df_loc = pd.concat(df_loc)\n",
    "    date_col = df_loc.columns[0]\n",
    "    df_loc[date_col] = pd.to_datetime(df_loc[date_col])\n",
    "    df_loc = df_loc[df_loc[date_col].notna()]\n",
    "\n",
    "    year = pd.DatetimeIndex(df_loc[date_col]).year.astype(np.int64)\n",
    "    start = str(year[0]) + \"-01-01 00:00\"\n",
    "    end = str(year[-1]) + \"-12-31 23:00\"\n",
    "    \n",
    "    time_series = pd.date_range(start = start, end = end, freq='H')\n",
    "    time_series = pd.DataFrame(time_series)\n",
    "    time_series.columns = [date_col]\n",
    "\n",
    "    df_loc = pd.concat([time_series, df_loc, axis=0)\n",
    "    df_loc = df_loc.drop_duplicates([date_col], keep=\"last\")\n",
    "    df_loc = df_loc.sort_values([date_col], axis=0)\n",
    "    \n",
    "    df_loc = df_loc.interpolate(metod='spline', order=2, limit_direction='both')\n",
    "                        \n",
    "    index = df_loc[df_loc['DT'].iloc[:].dt.year == time_series[i].year].index.tolist()\n",
    "    df = df_loc.iloc[index][:]    \n",
    "    path = folder_out + file_names[0][i]\n",
    "                        \n",
    "                        \n",
    "    #print(df_loc.shape)\n"
   ]
  },
  {
   "cell_type": "code",
   "execution_count": 2,
   "metadata": {},
   "outputs": [
    {
     "name": "stdout",
     "output_type": "stream",
     "text": [
      "4\n",
      "대성리_2016.xlsx\n",
      "대성리_2017.xlsx\n",
      "대성리_2018.xlsx\n",
      "대성리_2019.xlsx\n"
     ]
    }
   ],
   "source": [
    "folder = 'data_test/한강/퇴적물/'\n",
    "\n",
    "file_names = [\n",
    "    ['대성리_2016.xlsx','대성리_2017.xlsx','대성리_2018.xlsx', '대성리_2019.xlsx'],\n",
    "             ]\n",
    "\n",
    "\n",
    "output_file_name = folder + '대성리_2016_2019.xlsx'\n",
    "\n",
    "\n",
    "df_full = []\n",
    "\n",
    "stride = len(file_names)\n",
    "\n",
    "for loc in range(len(file_names)):\n",
    "    df_loc = []\n",
    "    print(len(file_names[loc]))\n",
    "    for y in range(len(file_names[loc])):\n",
    "        path = os.path.join(folder, file_names[loc][y])\n",
    "        print(file_names[loc][y])\n",
    "        df_loc.append(pd.read_excel(path))\n",
    "    df_full.append(pd.concat(df_loc))\n",
    "    #df.append(df_full[loc].iloc[:, 2:])\n",
    "    \n"
   ]
  },
  {
   "cell_type": "code",
   "execution_count": 3,
   "metadata": {},
   "outputs": [
    {
     "data": {
      "text/plain": [
       "(8, 41)"
      ]
     },
     "execution_count": 3,
     "metadata": {},
     "output_type": "execute_result"
    }
   ],
   "source": [
    "df_full[0].shape"
   ]
  },
  {
   "cell_type": "code",
   "execution_count": 4,
   "metadata": {},
   "outputs": [],
   "source": [
    "date_col = df_full[0].columns[0]\n",
    "df_full[0][date_col] = pd.to_datetime(df_full[0][date_col])\n",
    "df_full[0] = df_full[0][df_full[0][date_col].notna()]\n",
    "\n",
    "year = pd.DatetimeIndex(df_full[0][date_col]).year.astype(np.int64)"
   ]
  },
  {
   "cell_type": "code",
   "execution_count": 5,
   "metadata": {},
   "outputs": [
    {
     "name": "stdout",
     "output_type": "stream",
     "text": [
      "2016-01-01 00:00\n",
      "2019-12-31 23:00\n"
     ]
    }
   ],
   "source": [
    "start = str(year[0]) + \"-01-01 00:00\"\n",
    "end = str(year[-1]) + \"-12-31 23:00\"\n",
    "\n",
    "print(start)\n",
    "print(end)"
   ]
  },
  {
   "cell_type": "code",
   "execution_count": 6,
   "metadata": {},
   "outputs": [
    {
     "name": "stdout",
     "output_type": "stream",
     "text": [
      "(35064, 41)\n"
     ]
    }
   ],
   "source": [
    "time_series = pd.date_range(start = start, end = end, freq='H')\n",
    "time_series\n",
    "time_series = pd.DataFrame(time_series)\n",
    "time_series.columns = [date_col]\n",
    "time_series\n",
    "\n",
    "df_full[0] = pd.concat([time_series, df_full[0]], axis=0)\n",
    "df_full[0] = df_full[0].drop_duplicates([date_col], keep=\"last\")\n",
    "df_full[0] = df_full[0].sort_values([date_col], axis=0)\n",
    "print(df_full[0].shape)"
   ]
  },
  {
   "cell_type": "code",
   "execution_count": 7,
   "metadata": {},
   "outputs": [],
   "source": [
    "#df_full[0]"
   ]
  },
  {
   "cell_type": "code",
   "execution_count": 8,
   "metadata": {},
   "outputs": [],
   "source": [
    "df_full[0] = df_full[0].interpolate(metod='spline', order=2, limit_direction='both')"
   ]
  },
  {
   "cell_type": "code",
   "execution_count": 9,
   "metadata": {},
   "outputs": [],
   "source": [
    "#df_full[0]"
   ]
  },
  {
   "cell_type": "code",
   "execution_count": 10,
   "metadata": {},
   "outputs": [],
   "source": [
    "#df_full[0].to_excel(output_file_name, index = False)"
   ]
  },
  {
   "cell_type": "code",
   "execution_count": 11,
   "metadata": {},
   "outputs": [
    {
     "name": "stdout",
     "output_type": "stream",
     "text": [
      "set_time_series/대성리_2016.xlsx 2016 (8784, 41)\n",
      "set_time_series/대성리_2017.xlsx 2017 (8760, 41)\n",
      "set_time_series/대성리_2018.xlsx 2018 (8760, 41)\n",
      "set_time_series/대성리_2019.xlsx 2019 (8760, 41)\n"
     ]
    }
   ],
   "source": [
    "folder_out = 'set_time_series/'\n",
    "\n",
    "time_series = pd.date_range(start = start, end = end, freq='Y')\n",
    "\n",
    "for i in range(time_series.size):\n",
    "    index = df_full[0][df_full[0]['DT'].iloc[:].dt.year == time_series[i].year].index.tolist()\n",
    "    df = df_full[0].iloc[index][:]    \n",
    "    path = folder_out + file_names[0][i]\n",
    "    print(path, time_series[i].year, df.shape)\n",
    "    \n",
    "    df.to_excel(path, index = False)\n",
    "\n",
    "#index = df_full[0][df_full[0]['DT'].year < 2017].index.tolist()\n",
    "\n",
    "#reqd_Index = df[df['Sales']>=300].index.tolist()\n"
   ]
  },
  {
   "cell_type": "code",
   "execution_count": 12,
   "metadata": {
    "scrolled": true
   },
   "outputs": [
    {
     "name": "stdout",
     "output_type": "stream",
     "text": [
      "마지막 돌린 날짜 : \n",
      "2021-01-19 11:49:55\n",
      "folder_out : \n",
      "대성리_2016.xlsx  대성리_2017.xlsx  대성리_2018.xlsx  대성리_2019.xlsx\r\n"
     ]
    }
   ],
   "source": [
    "import datetime\n",
    "now = datetime.datetime.now()\n",
    "print(\"마지막 돌린 날짜 : \")\n",
    "print(now.strftime('%Y-%m-%d %H:%M:%S'))\n",
    "print(\"folder_out : \")\n",
    "!ls set_time_series"
   ]
  }
 ],
 "metadata": {
  "kernelspec": {
   "display_name": "Python 3",
   "language": "python",
   "name": "python3"
  }
 },
 "nbformat": 4,
 "nbformat_minor": 4
}
