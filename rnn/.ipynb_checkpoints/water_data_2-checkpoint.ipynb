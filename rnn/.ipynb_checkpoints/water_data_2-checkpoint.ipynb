{
 "cells": [
  {
   "cell_type": "code",
   "execution_count": 1,
   "metadata": {},
   "outputs": [],
   "source": [
    "%matplotlib widget"
   ]
  },
  {
   "cell_type": "code",
   "execution_count": 2,
   "metadata": {},
   "outputs": [],
   "source": [
    "import pandas as pd\n",
    "import numpy as np\n",
    "from glob import glob\n",
    "import os\n",
    "import datetime\n",
    "import matplotlib.pyplot as plt\n",
    "\n",
    "from tensorflow.keras.layers import Input, Concatenate, Dot, Add, ReLU, Activation\n",
    "from tensorflow.keras.layers import Dense, Flatten\n",
    "from tensorflow.keras.optimizers import Adam\n",
    "import tensorflow as tf\n",
    "from tensorflow import keras"
   ]
  },
  {
   "cell_type": "markdown",
   "metadata": {},
   "source": [
    "**한강 데이터 로딩**"
   ]
  },
  {
   "cell_type": "code",
   "execution_count": 3,
   "metadata": {},
   "outputs": [
    {
     "name": "stdout",
     "output_type": "stream",
     "text": [
      "가평_2016.xlsx\n",
      "가평_2017.xlsx\n",
      "가평_2018.xlsx\n",
      "가평_2019.xlsx\n"
     ]
    },
    {
     "name": "stderr",
     "output_type": "stream",
     "text": [
      "/home/cjinw/cjinw_work/env-tf-2/lib/python3.7/site-packages/ipykernel_launcher.py:24: SettingWithCopyWarning: \n",
      "A value is trying to be set on a copy of a slice from a DataFrame.\n",
      "Try using .loc[row_indexer,col_indexer] = value instead\n",
      "\n",
      "See the caveats in the documentation: https://pandas.pydata.org/pandas-docs/stable/user_guide/indexing.html#returning-a-view-versus-a-copy\n",
      "/home/cjinw/cjinw_work/env-tf-2/lib/python3.7/site-packages/ipykernel_launcher.py:25: SettingWithCopyWarning: \n",
      "A value is trying to be set on a copy of a slice from a DataFrame.\n",
      "Try using .loc[row_indexer,col_indexer] = value instead\n",
      "\n",
      "See the caveats in the documentation: https://pandas.pydata.org/pandas-docs/stable/user_guide/indexing.html#returning-a-view-versus-a-copy\n",
      "/home/cjinw/cjinw_work/env-tf-2/lib/python3.7/site-packages/ipykernel_launcher.py:26: SettingWithCopyWarning: \n",
      "A value is trying to be set on a copy of a slice from a DataFrame.\n",
      "Try using .loc[row_indexer,col_indexer] = value instead\n",
      "\n",
      "See the caveats in the documentation: https://pandas.pydata.org/pandas-docs/stable/user_guide/indexing.html#returning-a-view-versus-a-copy\n",
      "/home/cjinw/cjinw_work/env-tf-2/lib/python3.7/site-packages/ipykernel_launcher.py:27: SettingWithCopyWarning: \n",
      "A value is trying to be set on a copy of a slice from a DataFrame.\n",
      "Try using .loc[row_indexer,col_indexer] = value instead\n",
      "\n",
      "See the caveats in the documentation: https://pandas.pydata.org/pandas-docs/stable/user_guide/indexing.html#returning-a-view-versus-a-copy\n"
     ]
    },
    {
     "name": "stdout",
     "output_type": "stream",
     "text": [
      "의암호_2016.xlsx\n",
      "의암호_2017.xlsx\n",
      "의암호_2018.xlsx\n",
      "의암호_2019.xlsx\n"
     ]
    }
   ],
   "source": [
    "folder = 'data'\n",
    "file_names = [['가평_2016.xlsx','가평_2017.xlsx','가평_2018.xlsx', '가평_2019.xlsx'], \n",
    "              ['의암호_2016.xlsx','의암호_2017.xlsx','의암호_2018.xlsx', '의암호_2019.xlsx']]\n",
    "#file_names = [['해평_2016.xlsx','해평_2017.xlsx','해평_2018.xlsx', '해평_2019.xlsx'], ['도개_2016.xlsx','도개_2017.xlsx','도개_2018.xlsx', '도개_2019.xlsx']]\n",
    "#file_names = [['가평_2019.xlsx'], ['의암호_2019.xlsx']]\n",
    "\n",
    "day = 24*60*60\n",
    "year = (365.2425)*day\n",
    "\n",
    "df_full = []\n",
    "df = []\n",
    "\n",
    "for loc in range(len(file_names)):\n",
    "    \n",
    "    df_loc = []\n",
    "    for y in range(len(file_names[loc])):\n",
    "        path = os.path.join(folder, file_names[loc][y])\n",
    "        print(file_names[loc][y])\n",
    "        df_loc.append(pd.read_excel(path))\n",
    "    df_full.append(pd.concat(df_loc))\n",
    "    df.append(df_full[loc].iloc[:, [2,3,4,5,6,7,10]])\n",
    "    date_time = pd.to_datetime(df_full[loc].iloc[:, 0], format='%Y.%m.%d %H:%M', utc=True)\n",
    "    timestamp_s = date_time.map(datetime.datetime.timestamp)\n",
    "    df[loc]['Day sin'] = np.sin(timestamp_s * (2 * np.pi / day))\n",
    "    df[loc]['Day cos'] = np.cos(timestamp_s * (2 * np.pi / day))\n",
    "    df[loc]['Year sin'] = np.sin(timestamp_s * (2 * np.pi / year))\n",
    "    df[loc]['Year cos'] = np.cos(timestamp_s * (2 * np.pi / year))\n",
    "    df[loc] = df[loc].reset_index(drop=True)\n",
    "        "
   ]
  },
  {
   "cell_type": "markdown",
   "metadata": {},
   "source": [
    "**낙동강 해평-도개**"
   ]
  },
  {
   "cell_type": "code",
   "execution_count": 4,
   "metadata": {},
   "outputs": [
    {
     "data": {
      "text/plain": [
       "[                  측정날짜 측정소명   수온  수소이온농도  전기전도도  용존산소   탁도  총유기탄소    총질소  \\\n",
       " 0     2016.01.01 00:00   가평  4.5     7.5  126.0  10.8  0.6    1.4  2.398   \n",
       " 1     2016.01.01 01:00   가평  4.3     7.5  126.0  10.8  0.5    1.4  2.490   \n",
       " 2     2016.01.01 02:00   가평  4.4     7.5  126.0  10.8  0.5    1.4  2.545   \n",
       " 3     2016.01.01 03:00   가평  4.4     7.5  126.0  10.8  0.6    1.4  2.482   \n",
       " 4     2016.01.01 04:00   가평  4.4     7.5  126.0  10.8  0.6    1.4  2.453   \n",
       " ...                ...  ...  ...     ...    ...   ...  ...    ...    ...   \n",
       " 8755  2019.12.31 19:00   가평  3.6     7.1  115.0  12.6  1.1    1.8  1.718   \n",
       " 8756  2019.12.31 20:00   가평  3.5     7.1  115.0  12.6  1.1    1.7  1.726   \n",
       " 8757  2019.12.31 21:00   가평  3.4     7.1  115.0  12.6  1.1    1.7  1.738   \n",
       " 8758  2019.12.31 22:00   가평  3.4     7.1  115.0  12.6  1.1    1.7  1.723   \n",
       " 8759  2019.12.31 23:00   가평  3.3     7.1  115.0  12.6  1.0    1.7  1.705   \n",
       " \n",
       "          총인  클로로필-a  미생물_독성지수  \n",
       " 0     0.006     5.7       0.5  \n",
       " 1     0.003     5.4       0.4  \n",
       " 2     0.003     5.4       0.5  \n",
       " 3     0.002     5.4       4.7  \n",
       " 4     0.003     5.4      -2.5  \n",
       " ...     ...     ...       ...  \n",
       " 8755  0.002    22.7       0.1  \n",
       " 8756  0.001    21.9       0.5  \n",
       " 8757  0.002    21.3       0.9  \n",
       " 8758  0.002    21.5       0.7  \n",
       " 8759  0.002    20.9       0.8  \n",
       " \n",
       " [35064 rows x 12 columns],\n",
       "                   측정날짜 측정소명   수온  수소이온농도  전기전도도  용존산소   탁도  총유기탄소    총질소  \\\n",
       " 0     2016.01.01 00:00  의암호  3.1     7.3  116.0  11.1  NaN    1.6    NaN   \n",
       " 1     2016.01.01 01:00  의암호  3.1     7.3  116.0  11.1  NaN    1.6    NaN   \n",
       " 2     2016.01.01 02:00  의암호  3.1     7.3  116.0  11.0  NaN    1.6    NaN   \n",
       " 3     2016.01.01 03:00  의암호  3.0     7.3  116.0  11.0  NaN    1.6    NaN   \n",
       " 4     2016.01.01 04:00  의암호  3.0     7.3  116.0  11.1  NaN    1.6    NaN   \n",
       " ...                ...  ...  ...     ...    ...   ...  ...    ...    ...   \n",
       " 8755  2019.12.31 19:00  의암호  4.8     7.7   99.0  12.3  0.7    1.5  1.430   \n",
       " 8756  2019.12.31 20:00  의암호  4.8     7.7  100.0  12.4  0.7    1.5  1.421   \n",
       " 8757  2019.12.31 21:00  의암호  4.7     7.7  100.0  12.4  0.7    1.5  1.457   \n",
       " 8758  2019.12.31 22:00  의암호  4.7     7.7  101.0  12.4  0.7    1.5  1.447   \n",
       " 8759  2019.12.31 23:00  의암호  4.6     7.7  101.0  12.4  0.7    1.5  1.449   \n",
       " \n",
       "          총인  클로로필-a  \n",
       " 0       NaN     6.4  \n",
       " 1       NaN     7.3  \n",
       " 2       NaN     6.8  \n",
       " 3       NaN     5.4  \n",
       " 4       NaN     NaN  \n",
       " ...     ...     ...  \n",
       " 8755  0.003     NaN  \n",
       " 8756  0.003     NaN  \n",
       " 8757  0.002     NaN  \n",
       " 8758  0.003     NaN  \n",
       " 8759  0.002     NaN  \n",
       " \n",
       " [35064 rows x 11 columns]]"
      ]
     },
     "execution_count": 4,
     "metadata": {},
     "output_type": "execute_result"
    }
   ],
   "source": [
    "df_full"
   ]
  },
  {
   "cell_type": "code",
   "execution_count": 5,
   "metadata": {},
   "outputs": [
    {
     "data": {
      "text/html": [
       "<div>\n",
       "<style scoped>\n",
       "    .dataframe tbody tr th:only-of-type {\n",
       "        vertical-align: middle;\n",
       "    }\n",
       "\n",
       "    .dataframe tbody tr th {\n",
       "        vertical-align: top;\n",
       "    }\n",
       "\n",
       "    .dataframe thead th {\n",
       "        text-align: right;\n",
       "    }\n",
       "</style>\n",
       "<table border=\"1\" class=\"dataframe\">\n",
       "  <thead>\n",
       "    <tr style=\"text-align: right;\">\n",
       "      <th></th>\n",
       "      <th>수온</th>\n",
       "      <th>수소이온농도</th>\n",
       "      <th>전기전도도</th>\n",
       "      <th>용존산소</th>\n",
       "      <th>탁도</th>\n",
       "      <th>총유기탄소</th>\n",
       "      <th>클로로필-a</th>\n",
       "      <th>Day sin</th>\n",
       "      <th>Day cos</th>\n",
       "      <th>Year sin</th>\n",
       "      <th>Year cos</th>\n",
       "    </tr>\n",
       "  </thead>\n",
       "  <tbody>\n",
       "    <tr>\n",
       "      <th>0</th>\n",
       "      <td>3.1</td>\n",
       "      <td>7.3</td>\n",
       "      <td>116.0</td>\n",
       "      <td>11.1</td>\n",
       "      <td>NaN</td>\n",
       "      <td>1.6</td>\n",
       "      <td>6.4</td>\n",
       "      <td>-1.407890e-12</td>\n",
       "      <td>1.000000</td>\n",
       "      <td>-0.002666</td>\n",
       "      <td>0.999996</td>\n",
       "    </tr>\n",
       "    <tr>\n",
       "      <th>1</th>\n",
       "      <td>3.1</td>\n",
       "      <td>7.3</td>\n",
       "      <td>116.0</td>\n",
       "      <td>11.1</td>\n",
       "      <td>NaN</td>\n",
       "      <td>1.6</td>\n",
       "      <td>7.3</td>\n",
       "      <td>2.588190e-01</td>\n",
       "      <td>0.965926</td>\n",
       "      <td>-0.001950</td>\n",
       "      <td>0.999998</td>\n",
       "    </tr>\n",
       "    <tr>\n",
       "      <th>2</th>\n",
       "      <td>3.1</td>\n",
       "      <td>7.3</td>\n",
       "      <td>116.0</td>\n",
       "      <td>11.0</td>\n",
       "      <td>NaN</td>\n",
       "      <td>1.6</td>\n",
       "      <td>6.8</td>\n",
       "      <td>5.000000e-01</td>\n",
       "      <td>0.866025</td>\n",
       "      <td>-0.001233</td>\n",
       "      <td>0.999999</td>\n",
       "    </tr>\n",
       "    <tr>\n",
       "      <th>3</th>\n",
       "      <td>3.0</td>\n",
       "      <td>7.3</td>\n",
       "      <td>116.0</td>\n",
       "      <td>11.0</td>\n",
       "      <td>NaN</td>\n",
       "      <td>1.6</td>\n",
       "      <td>5.4</td>\n",
       "      <td>7.071068e-01</td>\n",
       "      <td>0.707107</td>\n",
       "      <td>-0.000516</td>\n",
       "      <td>1.000000</td>\n",
       "    </tr>\n",
       "    <tr>\n",
       "      <th>4</th>\n",
       "      <td>3.0</td>\n",
       "      <td>7.3</td>\n",
       "      <td>116.0</td>\n",
       "      <td>11.1</td>\n",
       "      <td>NaN</td>\n",
       "      <td>1.6</td>\n",
       "      <td>NaN</td>\n",
       "      <td>8.660254e-01</td>\n",
       "      <td>0.500000</td>\n",
       "      <td>0.000201</td>\n",
       "      <td>1.000000</td>\n",
       "    </tr>\n",
       "    <tr>\n",
       "      <th>...</th>\n",
       "      <td>...</td>\n",
       "      <td>...</td>\n",
       "      <td>...</td>\n",
       "      <td>...</td>\n",
       "      <td>...</td>\n",
       "      <td>...</td>\n",
       "      <td>...</td>\n",
       "      <td>...</td>\n",
       "      <td>...</td>\n",
       "      <td>...</td>\n",
       "      <td>...</td>\n",
       "    </tr>\n",
       "    <tr>\n",
       "      <th>35059</th>\n",
       "      <td>4.8</td>\n",
       "      <td>7.7</td>\n",
       "      <td>99.0</td>\n",
       "      <td>12.3</td>\n",
       "      <td>0.7</td>\n",
       "      <td>1.5</td>\n",
       "      <td>NaN</td>\n",
       "      <td>-9.659258e-01</td>\n",
       "      <td>0.258819</td>\n",
       "      <td>-0.005734</td>\n",
       "      <td>0.999984</td>\n",
       "    </tr>\n",
       "    <tr>\n",
       "      <th>35060</th>\n",
       "      <td>4.8</td>\n",
       "      <td>7.7</td>\n",
       "      <td>100.0</td>\n",
       "      <td>12.4</td>\n",
       "      <td>0.7</td>\n",
       "      <td>1.5</td>\n",
       "      <td>NaN</td>\n",
       "      <td>-8.660254e-01</td>\n",
       "      <td>0.500000</td>\n",
       "      <td>-0.005017</td>\n",
       "      <td>0.999987</td>\n",
       "    </tr>\n",
       "    <tr>\n",
       "      <th>35061</th>\n",
       "      <td>4.7</td>\n",
       "      <td>7.7</td>\n",
       "      <td>100.0</td>\n",
       "      <td>12.4</td>\n",
       "      <td>0.7</td>\n",
       "      <td>1.5</td>\n",
       "      <td>NaN</td>\n",
       "      <td>-7.071068e-01</td>\n",
       "      <td>0.707107</td>\n",
       "      <td>-0.004301</td>\n",
       "      <td>0.999991</td>\n",
       "    </tr>\n",
       "    <tr>\n",
       "      <th>35062</th>\n",
       "      <td>4.7</td>\n",
       "      <td>7.7</td>\n",
       "      <td>101.0</td>\n",
       "      <td>12.4</td>\n",
       "      <td>0.7</td>\n",
       "      <td>1.5</td>\n",
       "      <td>NaN</td>\n",
       "      <td>-5.000000e-01</td>\n",
       "      <td>0.866025</td>\n",
       "      <td>-0.003584</td>\n",
       "      <td>0.999994</td>\n",
       "    </tr>\n",
       "    <tr>\n",
       "      <th>35063</th>\n",
       "      <td>4.6</td>\n",
       "      <td>7.7</td>\n",
       "      <td>101.0</td>\n",
       "      <td>12.4</td>\n",
       "      <td>0.7</td>\n",
       "      <td>1.5</td>\n",
       "      <td>NaN</td>\n",
       "      <td>-2.588190e-01</td>\n",
       "      <td>0.965926</td>\n",
       "      <td>-0.002867</td>\n",
       "      <td>0.999996</td>\n",
       "    </tr>\n",
       "  </tbody>\n",
       "</table>\n",
       "<p>35064 rows × 11 columns</p>\n",
       "</div>"
      ],
      "text/plain": [
       "        수온  수소이온농도  전기전도도  용존산소   탁도  총유기탄소  클로로필-a       Day sin   Day cos  \\\n",
       "0      3.1     7.3  116.0  11.1  NaN    1.6     6.4 -1.407890e-12  1.000000   \n",
       "1      3.1     7.3  116.0  11.1  NaN    1.6     7.3  2.588190e-01  0.965926   \n",
       "2      3.1     7.3  116.0  11.0  NaN    1.6     6.8  5.000000e-01  0.866025   \n",
       "3      3.0     7.3  116.0  11.0  NaN    1.6     5.4  7.071068e-01  0.707107   \n",
       "4      3.0     7.3  116.0  11.1  NaN    1.6     NaN  8.660254e-01  0.500000   \n",
       "...    ...     ...    ...   ...  ...    ...     ...           ...       ...   \n",
       "35059  4.8     7.7   99.0  12.3  0.7    1.5     NaN -9.659258e-01  0.258819   \n",
       "35060  4.8     7.7  100.0  12.4  0.7    1.5     NaN -8.660254e-01  0.500000   \n",
       "35061  4.7     7.7  100.0  12.4  0.7    1.5     NaN -7.071068e-01  0.707107   \n",
       "35062  4.7     7.7  101.0  12.4  0.7    1.5     NaN -5.000000e-01  0.866025   \n",
       "35063  4.6     7.7  101.0  12.4  0.7    1.5     NaN -2.588190e-01  0.965926   \n",
       "\n",
       "       Year sin  Year cos  \n",
       "0     -0.002666  0.999996  \n",
       "1     -0.001950  0.999998  \n",
       "2     -0.001233  0.999999  \n",
       "3     -0.000516  1.000000  \n",
       "4      0.000201  1.000000  \n",
       "...         ...       ...  \n",
       "35059 -0.005734  0.999984  \n",
       "35060 -0.005017  0.999987  \n",
       "35061 -0.004301  0.999991  \n",
       "35062 -0.003584  0.999994  \n",
       "35063 -0.002867  0.999996  \n",
       "\n",
       "[35064 rows x 11 columns]"
      ]
     },
     "execution_count": 5,
     "metadata": {},
     "output_type": "execute_result"
    }
   ],
   "source": [
    "df[1]\n"
   ]
  },
  {
   "cell_type": "markdown",
   "metadata": {},
   "source": [
    "**Normalize**"
   ]
  },
  {
   "cell_type": "code",
   "execution_count": 6,
   "metadata": {},
   "outputs": [],
   "source": [
    "# normalize data\n",
    "\n",
    "df_all = pd.concat(df)\n",
    "df_all\n",
    "\n",
    "train_mean = df_all.mean()\n",
    "train_std = df_all.std()\n",
    "for i in range(len(file_names)):\n",
    "    df[i] = (df[i]-train_mean)/train_std"
   ]
  },
  {
   "cell_type": "code",
   "execution_count": 7,
   "metadata": {},
   "outputs": [
    {
     "name": "stdout",
     "output_type": "stream",
     "text": [
      "(70128, 11)\n"
     ]
    }
   ],
   "source": [
    "print(df_all.shape)"
   ]
  },
  {
   "cell_type": "code",
   "execution_count": 8,
   "metadata": {},
   "outputs": [
    {
     "data": {
      "text/plain": [
       "(수온          1.442927e+01\n",
       " 수소이온농도      7.338229e+00\n",
       " 전기전도도       1.067481e+02\n",
       " 용존산소        1.051423e+01\n",
       " 탁도          2.159194e+00\n",
       " 총유기탄소       1.680518e+00\n",
       " 클로로필-a      1.064802e+01\n",
       " Day sin     6.037104e-15\n",
       " Day cos     2.747637e-15\n",
       " Year sin   -5.681266e-08\n",
       " Year cos    2.053380e-05\n",
       " dtype: float64,\n",
       " 수온           7.397900\n",
       " 수소이온농도       0.485797\n",
       " 전기전도도       13.159411\n",
       " 용존산소         1.806036\n",
       " 탁도           5.437522\n",
       " 총유기탄소        0.368691\n",
       " 클로로필-a      10.570897\n",
       " Day sin      0.707112\n",
       " Day cos      0.707112\n",
       " Year sin     0.707105\n",
       " Year cos     0.707119\n",
       " dtype: float64)"
      ]
     },
     "execution_count": 8,
     "metadata": {},
     "output_type": "execute_result"
    }
   ],
   "source": [
    "train_mean, train_std"
   ]
  },
  {
   "cell_type": "code",
   "execution_count": 9,
   "metadata": {},
   "outputs": [
    {
     "data": {
      "text/html": [
       "<div>\n",
       "<style scoped>\n",
       "    .dataframe tbody tr th:only-of-type {\n",
       "        vertical-align: middle;\n",
       "    }\n",
       "\n",
       "    .dataframe tbody tr th {\n",
       "        vertical-align: top;\n",
       "    }\n",
       "\n",
       "    .dataframe thead th {\n",
       "        text-align: right;\n",
       "    }\n",
       "</style>\n",
       "<table border=\"1\" class=\"dataframe\">\n",
       "  <thead>\n",
       "    <tr style=\"text-align: right;\">\n",
       "      <th></th>\n",
       "      <th>수온</th>\n",
       "      <th>수소이온농도</th>\n",
       "      <th>전기전도도</th>\n",
       "      <th>용존산소</th>\n",
       "      <th>탁도</th>\n",
       "      <th>총유기탄소</th>\n",
       "      <th>클로로필-a</th>\n",
       "      <th>Day sin</th>\n",
       "      <th>Day cos</th>\n",
       "      <th>Year sin</th>\n",
       "      <th>Year cos</th>\n",
       "    </tr>\n",
       "  </thead>\n",
       "  <tbody>\n",
       "    <tr>\n",
       "      <th>0</th>\n",
       "      <td>-1.342174</td>\n",
       "      <td>0.333002</td>\n",
       "      <td>1.462974</td>\n",
       "      <td>0.158231</td>\n",
       "      <td>-0.286747</td>\n",
       "      <td>-0.760849</td>\n",
       "      <td>-0.468079</td>\n",
       "      <td>-1.999581e-12</td>\n",
       "      <td>1.414203</td>\n",
       "      <td>-0.003771</td>\n",
       "      <td>1.414155</td>\n",
       "    </tr>\n",
       "    <tr>\n",
       "      <th>1</th>\n",
       "      <td>-1.369209</td>\n",
       "      <td>0.333002</td>\n",
       "      <td>1.462974</td>\n",
       "      <td>0.158231</td>\n",
       "      <td>-0.305138</td>\n",
       "      <td>-0.760849</td>\n",
       "      <td>-0.496459</td>\n",
       "      <td>3.660228e-01</td>\n",
       "      <td>1.366016</td>\n",
       "      <td>-0.002757</td>\n",
       "      <td>1.414157</td>\n",
       "    </tr>\n",
       "    <tr>\n",
       "      <th>2</th>\n",
       "      <td>-1.355692</td>\n",
       "      <td>0.333002</td>\n",
       "      <td>1.462974</td>\n",
       "      <td>0.158231</td>\n",
       "      <td>-0.305138</td>\n",
       "      <td>-0.760849</td>\n",
       "      <td>-0.496459</td>\n",
       "      <td>7.071017e-01</td>\n",
       "      <td>1.224736</td>\n",
       "      <td>-0.001743</td>\n",
       "      <td>1.414159</td>\n",
       "    </tr>\n",
       "    <tr>\n",
       "      <th>3</th>\n",
       "      <td>-1.355692</td>\n",
       "      <td>0.333002</td>\n",
       "      <td>1.462974</td>\n",
       "      <td>0.158231</td>\n",
       "      <td>-0.286747</td>\n",
       "      <td>-0.760849</td>\n",
       "      <td>-0.496459</td>\n",
       "      <td>9.999929e-01</td>\n",
       "      <td>0.999993</td>\n",
       "      <td>-0.000730</td>\n",
       "      <td>1.414160</td>\n",
       "    </tr>\n",
       "    <tr>\n",
       "      <th>4</th>\n",
       "      <td>-1.355692</td>\n",
       "      <td>0.333002</td>\n",
       "      <td>1.462974</td>\n",
       "      <td>0.158231</td>\n",
       "      <td>-0.286747</td>\n",
       "      <td>-0.760849</td>\n",
       "      <td>-0.496459</td>\n",
       "      <td>1.224736e+00</td>\n",
       "      <td>0.707102</td>\n",
       "      <td>0.000284</td>\n",
       "      <td>1.414160</td>\n",
       "    </tr>\n",
       "    <tr>\n",
       "      <th>...</th>\n",
       "      <td>...</td>\n",
       "      <td>...</td>\n",
       "      <td>...</td>\n",
       "      <td>...</td>\n",
       "      <td>...</td>\n",
       "      <td>...</td>\n",
       "      <td>...</td>\n",
       "      <td>...</td>\n",
       "      <td>...</td>\n",
       "      <td>...</td>\n",
       "      <td>...</td>\n",
       "    </tr>\n",
       "    <tr>\n",
       "      <th>35059</th>\n",
       "      <td>-1.463830</td>\n",
       "      <td>-0.490387</td>\n",
       "      <td>0.627070</td>\n",
       "      <td>1.154889</td>\n",
       "      <td>-0.194794</td>\n",
       "      <td>0.324071</td>\n",
       "      <td>1.140110</td>\n",
       "      <td>-1.366016e+00</td>\n",
       "      <td>0.366023</td>\n",
       "      <td>-0.008109</td>\n",
       "      <td>1.414137</td>\n",
       "    </tr>\n",
       "    <tr>\n",
       "      <th>35060</th>\n",
       "      <td>-1.477348</td>\n",
       "      <td>-0.490387</td>\n",
       "      <td>0.627070</td>\n",
       "      <td>1.154889</td>\n",
       "      <td>-0.194794</td>\n",
       "      <td>0.052841</td>\n",
       "      <td>1.064430</td>\n",
       "      <td>-1.224736e+00</td>\n",
       "      <td>0.707102</td>\n",
       "      <td>-0.007096</td>\n",
       "      <td>1.414142</td>\n",
       "    </tr>\n",
       "    <tr>\n",
       "      <th>35061</th>\n",
       "      <td>-1.490865</td>\n",
       "      <td>-0.490387</td>\n",
       "      <td>0.627070</td>\n",
       "      <td>1.154889</td>\n",
       "      <td>-0.194794</td>\n",
       "      <td>0.052841</td>\n",
       "      <td>1.007671</td>\n",
       "      <td>-9.999929e-01</td>\n",
       "      <td>0.999993</td>\n",
       "      <td>-0.006082</td>\n",
       "      <td>1.414147</td>\n",
       "    </tr>\n",
       "    <tr>\n",
       "      <th>35062</th>\n",
       "      <td>-1.490865</td>\n",
       "      <td>-0.490387</td>\n",
       "      <td>0.627070</td>\n",
       "      <td>1.154889</td>\n",
       "      <td>-0.194794</td>\n",
       "      <td>0.052841</td>\n",
       "      <td>1.026590</td>\n",
       "      <td>-7.071017e-01</td>\n",
       "      <td>1.224736</td>\n",
       "      <td>-0.005068</td>\n",
       "      <td>1.414151</td>\n",
       "    </tr>\n",
       "    <tr>\n",
       "      <th>35063</th>\n",
       "      <td>-1.504382</td>\n",
       "      <td>-0.490387</td>\n",
       "      <td>0.627070</td>\n",
       "      <td>1.154889</td>\n",
       "      <td>-0.213184</td>\n",
       "      <td>0.052841</td>\n",
       "      <td>0.969831</td>\n",
       "      <td>-3.660228e-01</td>\n",
       "      <td>1.366016</td>\n",
       "      <td>-0.004055</td>\n",
       "      <td>1.414154</td>\n",
       "    </tr>\n",
       "  </tbody>\n",
       "</table>\n",
       "<p>35064 rows × 11 columns</p>\n",
       "</div>"
      ],
      "text/plain": [
       "             수온    수소이온농도     전기전도도      용존산소        탁도     총유기탄소    클로로필-a  \\\n",
       "0     -1.342174  0.333002  1.462974  0.158231 -0.286747 -0.760849 -0.468079   \n",
       "1     -1.369209  0.333002  1.462974  0.158231 -0.305138 -0.760849 -0.496459   \n",
       "2     -1.355692  0.333002  1.462974  0.158231 -0.305138 -0.760849 -0.496459   \n",
       "3     -1.355692  0.333002  1.462974  0.158231 -0.286747 -0.760849 -0.496459   \n",
       "4     -1.355692  0.333002  1.462974  0.158231 -0.286747 -0.760849 -0.496459   \n",
       "...         ...       ...       ...       ...       ...       ...       ...   \n",
       "35059 -1.463830 -0.490387  0.627070  1.154889 -0.194794  0.324071  1.140110   \n",
       "35060 -1.477348 -0.490387  0.627070  1.154889 -0.194794  0.052841  1.064430   \n",
       "35061 -1.490865 -0.490387  0.627070  1.154889 -0.194794  0.052841  1.007671   \n",
       "35062 -1.490865 -0.490387  0.627070  1.154889 -0.194794  0.052841  1.026590   \n",
       "35063 -1.504382 -0.490387  0.627070  1.154889 -0.213184  0.052841  0.969831   \n",
       "\n",
       "            Day sin   Day cos  Year sin  Year cos  \n",
       "0     -1.999581e-12  1.414203 -0.003771  1.414155  \n",
       "1      3.660228e-01  1.366016 -0.002757  1.414157  \n",
       "2      7.071017e-01  1.224736 -0.001743  1.414159  \n",
       "3      9.999929e-01  0.999993 -0.000730  1.414160  \n",
       "4      1.224736e+00  0.707102  0.000284  1.414160  \n",
       "...             ...       ...       ...       ...  \n",
       "35059 -1.366016e+00  0.366023 -0.008109  1.414137  \n",
       "35060 -1.224736e+00  0.707102 -0.007096  1.414142  \n",
       "35061 -9.999929e-01  0.999993 -0.006082  1.414147  \n",
       "35062 -7.071017e-01  1.224736 -0.005068  1.414151  \n",
       "35063 -3.660228e-01  1.366016 -0.004055  1.414154  \n",
       "\n",
       "[35064 rows x 11 columns]"
      ]
     },
     "execution_count": 9,
     "metadata": {},
     "output_type": "execute_result"
    }
   ],
   "source": [
    "df[0]"
   ]
  },
  {
   "cell_type": "code",
   "execution_count": 10,
   "metadata": {},
   "outputs": [],
   "source": [
    "train_df = df[0]\n",
    "val_df = df[0]\n",
    "test_df = df[0]"
   ]
  },
  {
   "cell_type": "code",
   "execution_count": 11,
   "metadata": {},
   "outputs": [],
   "source": [
    "class WindowGenerator():\n",
    "  def __init__(self, input_width, label_width, shift,\n",
    "               train_df=train_df, val_df=val_df, test_df=test_df,\n",
    "            #train_df=None, val_df=None, test_df=None,\n",
    "               label_columns=None):\n",
    "    # Store the raw data.\n",
    "    self.train_df = train_df\n",
    "    self.val_df = val_df\n",
    "    self.test_df = test_df\n",
    "\n",
    "    # Work out the label column indices.\n",
    "    self.label_columns = label_columns\n",
    "    if label_columns is not None:\n",
    "      self.label_columns_indices = {name: i for i, name in\n",
    "                                    enumerate(label_columns)}\n",
    "    self.column_indices = {name: i for i, name in\n",
    "                           enumerate(train_df.columns)}\n",
    "\n",
    "    # Work out the window parameters.\n",
    "    self.input_width = input_width\n",
    "    self.label_width = label_width\n",
    "    self.shift = shift\n",
    "\n",
    "    self.total_window_size = input_width + shift\n",
    "\n",
    "    self.input_slice = slice(0, input_width)\n",
    "    self.input_indices = np.arange(self.total_window_size)[self.input_slice]\n",
    "\n",
    "    self.label_start = self.total_window_size - self.label_width\n",
    "    self.labels_slice = slice(self.label_start, None)\n",
    "    self.label_indices = np.arange(self.total_window_size)[self.labels_slice]\n",
    "\n",
    "  def __repr__(self):\n",
    "    return '\\n'.join([\n",
    "        f'Total window size: {self.total_window_size}',\n",
    "        f'Input indices: {self.input_indices}',\n",
    "        f'Label indices: {self.label_indices}',\n",
    "        f'Label column name(s): {self.label_columns}'])"
   ]
  },
  {
   "cell_type": "code",
   "execution_count": 12,
   "metadata": {},
   "outputs": [],
   "source": [
    "def split_window(self, features):\n",
    "  inputs = features[:, self.input_slice, :]\n",
    "  labels = features[:, self.labels_slice, :]\n",
    "  if self.label_columns is not None:\n",
    "    labels = tf.stack(\n",
    "        [labels[:, :, self.column_indices[name]] for name in self.label_columns],\n",
    "        axis=-1)\n",
    "\n",
    "  # Slicing doesn't preserve static shape information, so set the shapes\n",
    "  # manually. This way the `tf.data.Datasets` are easier to inspect.\n",
    "  inputs.set_shape([None, self.input_width, None])\n",
    "  labels.set_shape([None, self.label_width, None])\n",
    "\n",
    "  return inputs, labels\n",
    "\n",
    "WindowGenerator.split_window = split_window"
   ]
  },
  {
   "cell_type": "code",
   "execution_count": 13,
   "metadata": {},
   "outputs": [],
   "source": [
    "import matplotlib\n",
    "import matplotlib.font_manager as fm\n",
    "fm.get_fontconfig_fonts()\n",
    "font_location = '/usr/share/fonts/truetype/nanum/NanumGothicCoding.ttf'\n",
    "#font_location = '/usr/share/fonts/opentype/noto/NotoSansCJK-Regular.ttc'\n",
    "# font_location = 'C:/Windows/Fonts/NanumGothic.ttf' # For Windows\n",
    "fprop = fm.FontProperties(fname=font_location)"
   ]
  },
  {
   "cell_type": "code",
   "execution_count": 14,
   "metadata": {},
   "outputs": [],
   "source": [
    "def plot(self, model=None, plot_col='T (degC)', max_subplots=3):\n",
    "  inputs, labels = self.example\n",
    "  plt.figure(figsize=(10, 8))\n",
    "  plot_col_index = self.column_indices[plot_col]\n",
    "  max_n = min(max_subplots, len(inputs))\n",
    "  for n in range(max_n):\n",
    "    plt.subplot(3, 1, n+1)\n",
    "    plt.ylabel(f'{plot_col} [normed]', fontproperties=fprop)\n",
    "    plt.plot(self.input_indices, inputs[n, :, plot_col_index],\n",
    "             label='Inputs', marker='.', zorder=-10)\n",
    "\n",
    "    if self.label_columns:\n",
    "      label_col_index = self.label_columns_indices.get(plot_col, None)\n",
    "    else:\n",
    "      label_col_index = plot_col_index\n",
    "\n",
    "    if label_col_index is None:\n",
    "      continue\n",
    "\n",
    "    plt.scatter(self.label_indices, labels[n, :, label_col_index],\n",
    "                edgecolors='k', label='Labels', c='#2ca02c', s=64)\n",
    "    if model is not None:\n",
    "      predictions = model(inputs)\n",
    "      plt.scatter(self.label_indices, predictions[n, :, label_col_index],\n",
    "                  marker='X', edgecolors='k', label='Predictions',\n",
    "                  c='#ff7f0e', s=64)\n",
    "\n",
    "    if n == 0:\n",
    "      plt.legend()\n",
    "\n",
    "  plt.xlabel('Time [h]')\n",
    "\n",
    "WindowGenerator.plot = plot"
   ]
  },
  {
   "cell_type": "code",
   "execution_count": 15,
   "metadata": {},
   "outputs": [],
   "source": [
    "# not used\n",
    "# original make_dataset code\n",
    "def make_dataset(self, data):\n",
    "  data = np.array(data, dtype=np.float32)\n",
    "  ds = tf.keras.preprocessing.timeseries_dataset_from_array(\n",
    "      data=data,\n",
    "      targets=None,\n",
    "      sequence_length=self.total_window_size,\n",
    "      sequence_stride=1,\n",
    "      shuffle=True,\n",
    "      batch_size=32,)\n",
    "\n",
    "  ds = ds.map(self.split_window)\n",
    "\n",
    "  return ds\n",
    "\n",
    "#WindowGenerator.make_dataset = make_dataset"
   ]
  },
  {
   "cell_type": "markdown",
   "metadata": {},
   "source": [
    "**WindowGenerator 테스트**"
   ]
  },
  {
   "cell_type": "code",
   "execution_count": 16,
   "metadata": {},
   "outputs": [
    {
     "data": {
      "text/plain": [
       "Total window size: 7\n",
       "Input indices: [0 1 2 3 4 5]\n",
       "Label indices: [6]\n",
       "Label column name(s): None"
      ]
     },
     "execution_count": 16,
     "metadata": {},
     "output_type": "execute_result"
    }
   ],
   "source": [
    "w2 = WindowGenerator(input_width=6, label_width=1, shift=1,\n",
    "                     label_columns=None)\n",
    "w2"
   ]
  },
  {
   "cell_type": "code",
   "execution_count": 17,
   "metadata": {},
   "outputs": [
    {
     "data": {
      "text/plain": [
       "Total window size: 25\n",
       "Input indices: [ 0  1  2  3  4  5  6  7  8  9 10 11 12 13 14 15 16 17 18 19 20 21 22 23]\n",
       "Label indices: [24]\n",
       "Label column name(s): 수온"
      ]
     },
     "execution_count": 17,
     "metadata": {},
     "output_type": "execute_result"
    }
   ],
   "source": [
    "w1 = WindowGenerator(input_width=24, label_width=1, shift=1,\n",
    "                     label_columns='수온')\n",
    "w1"
   ]
  },
  {
   "cell_type": "code",
   "execution_count": 18,
   "metadata": {},
   "outputs": [
    {
     "name": "stdout",
     "output_type": "stream",
     "text": [
      "All shapes are: (batch, time, features)\n",
      "Window shape: (3, 7, 11)\n",
      "Inputs shape: (3, 6, 11)\n",
      "labels shape: (3, 1, 11)\n"
     ]
    }
   ],
   "source": [
    "# Stack three slices, the length of the total window:\n",
    "example_window = tf.stack([np.array(train_df[:w2.total_window_size]),\n",
    "                           np.array(train_df[100:100+w2.total_window_size]),\n",
    "                           np.array(train_df[200:200+w2.total_window_size])])\n",
    "\n",
    "\n",
    "example_inputs, example_labels = w2.split_window(example_window)\n",
    "\n",
    "print('All shapes are: (batch, time, features)')\n",
    "print(f'Window shape: {example_window.shape}')\n",
    "print(f'Inputs shape: {example_inputs.shape}')\n",
    "print(f'labels shape: {example_labels.shape}')"
   ]
  },
  {
   "cell_type": "code",
   "execution_count": 19,
   "metadata": {},
   "outputs": [],
   "source": [
    "w2.example = example_inputs, example_labels"
   ]
  },
  {
   "cell_type": "code",
   "execution_count": 20,
   "metadata": {
    "scrolled": false
   },
   "outputs": [
    {
     "data": {
      "application/vnd.jupyter.widget-view+json": {
       "model_id": "2cb34a38a7b740fa868e842e7aee0608",
       "version_major": 2,
       "version_minor": 0
      },
      "text/plain": [
       "Canvas(toolbar=Toolbar(toolitems=[('Home', 'Reset original view', 'home', 'home'), ('Back', 'Back to previous …"
      ]
     },
     "metadata": {},
     "output_type": "display_data"
    }
   ],
   "source": [
    "w2.plot(plot_col='수온')"
   ]
  },
  {
   "cell_type": "markdown",
   "metadata": {},
   "source": [
    "**Window Generator trainset 정의**"
   ]
  },
  {
   "cell_type": "code",
   "execution_count": 21,
   "metadata": {},
   "outputs": [],
   "source": [
    "@property\n",
    "def train(self):\n",
    "  return self.make_dataset(self.train_df)\n",
    "\n",
    "@property\n",
    "def val(self):\n",
    "  return self.make_dataset(self.val_df)\n",
    "\n",
    "@property\n",
    "def test(self):\n",
    "  return self.make_dataset(self.test_df)\n",
    "\n",
    "@property\n",
    "def example(self):\n",
    "  \"\"\"Get and cache an example batch of `inputs, labels` for plotting.\"\"\"\n",
    "  result = getattr(self, '_example', None)\n",
    "  if result is None:\n",
    "    # No example batch was found, so get one from the `.train` dataset\n",
    "    result = next(iter(self.train))\n",
    "    # And cache it for next time\n",
    "    self._example = result\n",
    "  return result\n",
    "\n",
    "WindowGenerator.train = train\n",
    "WindowGenerator.val = val\n",
    "WindowGenerator.test = test\n",
    "WindowGenerator.example = example"
   ]
  },
  {
   "cell_type": "code",
   "execution_count": 22,
   "metadata": {},
   "outputs": [],
   "source": [
    "def sample_batch_index(total, batch_size):\n",
    "    '''Sample index of the mini-batch.\n",
    "\n",
    "    Args:\n",
    "        - total: total number of samples\n",
    "        - batch_size: batch size\n",
    "\n",
    "    Returns:\n",
    "        - batch_idx: batch index\n",
    "    '''\n",
    "    total_idx = np.random.permutation(total)\n",
    "    batch_idx = total_idx[:batch_size]\n",
    "    return batch_idx"
   ]
  },
  {
   "cell_type": "code",
   "execution_count": 23,
   "metadata": {},
   "outputs": [],
   "source": [
    "def binary_sampler(p, shape):\n",
    "  '''Sample binary random variables.\n",
    "  \n",
    "  Args:\n",
    "    - p: probability of 1\n",
    "    - shape: matrix shape\n",
    "    \n",
    "  Returns:\n",
    "    - binary_random_matrix: generated binary random matrix.\n",
    "  '''\n",
    "  unif_random_matrix = np.random.uniform(0., 1., size = shape)\n",
    "  binary_random_matrix = 1*(unif_random_matrix < p)\n",
    "  return binary_random_matrix"
   ]
  },
  {
   "cell_type": "code",
   "execution_count": 24,
   "metadata": {},
   "outputs": [],
   "source": [
    "def uniform_sampler(low, high, shape):\n",
    "  '''Sample uniform random variables.\n",
    "  \n",
    "  Args:\n",
    "    - low: low limit\n",
    "    - high: high limit\n",
    "    - rows: the number of rows\n",
    "    - cols: the number of columns\n",
    "    \n",
    "  Returns:\n",
    "    - uniform_random_matrix: generated uniform random matrix.\n",
    "  '''\n",
    "  return np.random.uniform(low, high, size = shape)"
   ]
  },
  {
   "cell_type": "code",
   "execution_count": 25,
   "metadata": {},
   "outputs": [],
   "source": [
    "def normalization (data, parameters=None):\n",
    "  '''Normalize data in [0, 1] range.\n",
    "  \n",
    "  Args:\n",
    "    - data: original data\n",
    "  \n",
    "  Returns:\n",
    "    - norm_data: normalized data\n",
    "    - norm_parameters: min_val, max_val for each feature for renormalization\n",
    "  '''\n",
    "\n",
    "  # Parameters\n",
    "  _, dim = data.shape\n",
    "  norm_data = data.copy()\n",
    "\n",
    "  if parameters is None:\n",
    "\n",
    "    # MixMax normalization\n",
    "    min_val = np.zeros(dim)\n",
    "    max_val = np.zeros(dim)\n",
    "   \n",
    "    # For each dimension\n",
    "    for i in range(dim):\n",
    "      min_val[i] = np.nanmin(norm_data[:,i])\n",
    "      norm_data[:,i] = norm_data[:,i] - np.nanmin(norm_data[:,i])\n",
    "      max_val[i] = np.nanmax(norm_data[:,i])\n",
    "      norm_data[:,i] = norm_data[:,i] / (np.nanmax(norm_data[:,i]) + 1e-6)\n",
    "\n",
    "    # Return norm_parameters for renormalization\n",
    "    norm_parameters = {'min_val': min_val,\n",
    "                       'max_val': max_val}\n",
    "  else:\n",
    "    min_val = parameters['min_val']\n",
    "    max_val = parameters['max_val']\n",
    "\n",
    "    # For each dimension\n",
    "    for i in range(dim):\n",
    "      norm_data[:,i] = norm_data[:,i] - min_val[i]\n",
    "      norm_data[:,i] = norm_data[:,i] / (max_val[i] + 1e-6)\n",
    "\n",
    "    norm_parameters = parameters\n",
    "\n",
    "  return norm_data, norm_parameters"
   ]
  },
  {
   "cell_type": "code",
   "execution_count": 26,
   "metadata": {},
   "outputs": [],
   "source": [
    "class MissData(object):\n",
    "    def __init__(self, load_dir=None):\n",
    "        if load_dir:\n",
    "            self.missarr = np.load(os.path.join(load_dir, 'miss.npy'))\n",
    "            self.idxarr = np.load(os.path.join(load_dir, 'idx.npy'))\n",
    "            \n",
    "    def make_missdata(self, data_x, missrate=0.2):\n",
    "        data = data_x.copy()\n",
    "        rows, cols = data_x.shape\n",
    "        total_no = rows*cols\n",
    "        total_miss_no = np.round(total_no*missrate).astype(int)\n",
    "        total_idx = self.idxarr.shape[0]\n",
    "        idxarr = self.idxarr\n",
    "        missarr = self.missarr\n",
    "        #print(total_miss_no)\n",
    "        miss_no = 0\n",
    "        cum_no = self.idxarr[:,3:4]\n",
    "        cum_no = cum_no.reshape((total_idx))\n",
    "        cum_sum = np.max(cum_no)\n",
    "        #print(cum_no)\n",
    "        #print(total_idx)\n",
    "        while True:\n",
    "            loc_count = np.around(np.random.random()*cum_sum)\n",
    "            #print('loc_count =', loc_count)\n",
    "            idx = len(cum_no[cum_no <= loc_count])-1\n",
    "            #print(cum_no[cum_no <= loc_count])\n",
    "            #print('idx =', idx)\n",
    "            startnan = idxarr[idx][0]\n",
    "            nanlen = idxarr[idx][2]\n",
    "            loc = np.around(np.random.random()*(rows-nanlen)).astype(int)\n",
    "            #print('loc =', loc)\n",
    "            #print(loc_count, idx)\n",
    "            #print(idxarr[idx])\n",
    "            #data_copy = data[loc:loc+nanlen].copy()\n",
    "            data_copy = data[loc:loc+nanlen]\n",
    "            #print('startnan=', startnan)\n",
    "            #isnan = missarr[startnan:startnan+nanlen].copy()\n",
    "            isnan = missarr[startnan:startnan+nanlen]\n",
    "            #print('isnan =',isnan)\n",
    "            miss_no += idxarr[idx][1]\n",
    "            if (miss_no > total_miss_no):\n",
    "                break\n",
    "            data_copy[isnan==1] = np.nan\n",
    "            data[loc:loc+nanlen] = data_copy\n",
    "        #print('miss_data =', data)\n",
    "        return data\n",
    "    \n",
    "    def save(data, max_tseq, save_dir='save'):\n",
    "        no, dim = data.shape\n",
    "        #print((no, dim))\n",
    "        isnan = np.isnan(data).astype(int)\n",
    "        isany = np.any(isnan, axis=1).astype(int)\n",
    "        shifted = np.roll(isany, 1)\n",
    "        shifted[0] = 1\n",
    "        #print(isnan)\n",
    "        #print(isany.astype(int))\n",
    "        #print(shifted)\n",
    "        startnan = ((isany == 1) & (shifted ==0)).astype(int)\n",
    "        #print(startnan)\n",
    "        group = startnan.cumsum()\n",
    "        group = group*isany\n",
    "        #print(group)\n",
    "        n = np.max(group)\n",
    "        #print(n)\n",
    "        missarr = None\n",
    "        cum_no = 0\n",
    "        rowidx = 0\n",
    "        for i in range(1, n+1):\n",
    "            g = (group == i).astype(int)\n",
    "            i = np.argmax(g)\n",
    "            rows = g.sum()\n",
    "            #print(len)\n",
    "            #print(i)\n",
    "            #print(type(missarr))\n",
    "            if rows <= max_tseq:\n",
    "                nanseq = isnan[i:i+rows, :]\n",
    "                no = np.sum(nanseq)\n",
    "                #print(no)\n",
    "                if missarr is None:\n",
    "                    missarr = nanseq\n",
    "                    idxarr = np.array([[rowidx, no, rows, cum_no]])\n",
    "                else:\n",
    "                    missarr = np.concatenate((missarr, nanseq))\n",
    "                    idxarr = np.concatenate((idxarr, [[rowidx, no, rows, cum_no]]), axis=0)\n",
    "                cum_no += no\n",
    "                rowidx += rows\n",
    "\n",
    "        #print(idxarr)\n",
    "        miss_npy_file = os.path.join(save_dir, 'miss.npy')\n",
    "        idx_npy_file = os.path.join(save_dir, 'idx.npy')\n",
    "        if not os.path.exists(save_dir):\n",
    "            os.makedirs(save_dir)\n",
    "        np.save(miss_npy_file, missarr)\n",
    "        np.save(idx_npy_file, idxarr)\n",
    "        print('miss_data file saved')"
   ]
  },
  {
   "cell_type": "markdown",
   "metadata": {},
   "source": [
    "**miss_data 테스트**"
   ]
  },
  {
   "cell_type": "code",
   "execution_count": 27,
   "metadata": {},
   "outputs": [
    {
     "name": "stdout",
     "output_type": "stream",
     "text": [
      "miss_data file saved\n"
     ]
    },
    {
     "data": {
      "text/plain": [
       "array([[1, 1, 1, 1, 1, 1, 1, 0, 0, 0, 0],\n",
       "       [1, 1, 1, 1, 1, 1, 1, 0, 0, 0, 0],\n",
       "       [1, 1, 1, 1, 1, 1, 1, 0, 0, 0, 0],\n",
       "       [1, 1, 1, 1, 1, 1, 1, 0, 0, 0, 0],\n",
       "       [1, 1, 1, 1, 1, 1, 1, 0, 0, 0, 0],\n",
       "       [1, 1, 1, 1, 1, 1, 1, 0, 0, 0, 0],\n",
       "       [1, 1, 1, 1, 1, 1, 1, 0, 0, 0, 0],\n",
       "       [1, 1, 1, 1, 1, 1, 1, 0, 0, 0, 0],\n",
       "       [1, 1, 1, 1, 1, 1, 1, 0, 0, 0, 0],\n",
       "       [1, 1, 1, 1, 1, 1, 1, 0, 0, 0, 0],\n",
       "       [1, 1, 1, 1, 1, 1, 1, 0, 0, 0, 0],\n",
       "       [1, 1, 1, 1, 1, 1, 1, 0, 0, 0, 0],\n",
       "       [1, 1, 1, 1, 1, 1, 1, 0, 0, 0, 0],\n",
       "       [1, 1, 1, 1, 1, 1, 1, 0, 0, 0, 0],\n",
       "       [1, 1, 1, 1, 1, 1, 1, 0, 0, 0, 0],\n",
       "       [1, 1, 1, 1, 1, 1, 1, 0, 0, 0, 0],\n",
       "       [1, 1, 1, 1, 1, 1, 1, 0, 0, 0, 0],\n",
       "       [1, 1, 1, 1, 1, 1, 1, 0, 0, 0, 0],\n",
       "       [1, 1, 1, 1, 1, 1, 1, 0, 0, 0, 0],\n",
       "       [1, 1, 1, 1, 1, 1, 1, 0, 0, 0, 0],\n",
       "       [1, 1, 1, 1, 1, 1, 1, 0, 0, 0, 0],\n",
       "       [1, 1, 1, 1, 1, 1, 1, 0, 0, 0, 0],\n",
       "       [1, 1, 1, 1, 1, 1, 1, 0, 0, 0, 0],\n",
       "       [1, 1, 1, 1, 1, 1, 1, 0, 0, 0, 0],\n",
       "       [1, 1, 1, 1, 1, 1, 1, 0, 0, 0, 0],\n",
       "       [1, 1, 1, 1, 1, 1, 1, 0, 0, 0, 0],\n",
       "       [1, 1, 1, 1, 1, 1, 1, 0, 0, 0, 0],\n",
       "       [1, 1, 1, 1, 1, 1, 1, 0, 0, 0, 0],\n",
       "       [1, 1, 1, 1, 1, 1, 1, 0, 0, 0, 0],\n",
       "       [1, 1, 1, 1, 1, 1, 1, 0, 0, 0, 0],\n",
       "       [1, 1, 1, 1, 1, 1, 1, 0, 0, 0, 0],\n",
       "       [1, 1, 1, 1, 1, 1, 1, 0, 0, 0, 0],\n",
       "       [1, 1, 1, 1, 1, 1, 1, 0, 0, 0, 0],\n",
       "       [1, 1, 1, 1, 1, 1, 1, 0, 0, 0, 0],\n",
       "       [1, 1, 1, 1, 1, 1, 1, 0, 0, 0, 0],\n",
       "       [1, 1, 1, 1, 1, 1, 1, 0, 0, 0, 0],\n",
       "       [1, 1, 1, 1, 1, 1, 1, 0, 0, 0, 0],\n",
       "       [1, 1, 1, 1, 1, 1, 1, 0, 0, 0, 0],\n",
       "       [1, 1, 1, 1, 1, 1, 1, 0, 0, 0, 0],\n",
       "       [1, 1, 1, 1, 1, 1, 1, 0, 0, 0, 0],\n",
       "       [1, 1, 1, 1, 1, 1, 1, 0, 0, 0, 0],\n",
       "       [1, 1, 1, 1, 1, 1, 1, 0, 0, 0, 0],\n",
       "       [1, 1, 1, 1, 1, 1, 1, 0, 0, 0, 0],\n",
       "       [1, 1, 1, 1, 1, 1, 1, 0, 0, 0, 0],\n",
       "       [1, 1, 1, 1, 1, 1, 1, 0, 0, 0, 0],\n",
       "       [1, 1, 1, 1, 1, 1, 1, 0, 0, 0, 0],\n",
       "       [1, 1, 1, 1, 1, 1, 1, 0, 0, 0, 0],\n",
       "       [1, 1, 1, 1, 1, 1, 1, 0, 0, 0, 0],\n",
       "       [1, 1, 1, 1, 1, 1, 1, 0, 0, 0, 0],\n",
       "       [1, 1, 1, 1, 1, 1, 1, 0, 0, 0, 0]])"
      ]
     },
     "execution_count": 27,
     "metadata": {},
     "output_type": "execute_result"
    }
   ],
   "source": [
    "norm_df = pd.concat(df,axis=0)\n",
    "n_data = norm_df.to_numpy()\n",
    "MissData.save(n_data, max_tseq=12)\n",
    "n_data\n",
    "#n_data = n_data[0:100]\n",
    "isnan = np.isnan(n_data).astype(int)\n",
    "isnan[50:100]\n",
    "miss = MissData(load_dir='save')\n",
    "tt = miss.make_missdata(n_data)\n",
    "tt = np.isnan(tt).astype(int)\n",
    "tt[3000:3050]"
   ]
  },
  {
   "cell_type": "markdown",
   "metadata": {},
   "source": [
    "**miss data 준비**"
   ]
  },
  {
   "cell_type": "code",
   "execution_count": 28,
   "metadata": {},
   "outputs": [
    {
     "name": "stdout",
     "output_type": "stream",
     "text": [
      "miss_data file saved\n"
     ]
    }
   ],
   "source": [
    "norm_df = pd.concat(df,axis=0)\n",
    "norm_data = norm_df.to_numpy()\n",
    "MissData.save(norm_data, max_tseq = 24)"
   ]
  },
  {
   "cell_type": "code",
   "execution_count": 29,
   "metadata": {},
   "outputs": [],
   "source": [
    "def interpolate(np_data, max_gap=3):\n",
    "    #n = np_data.shape[1]\n",
    "    data = pd.DataFrame(np_data)\n",
    "    #data[0][0] = np.nan\n",
    "    #data[0][1] = np.nan\n",
    "    #data[0][2] = np.nan\n",
    "    #data[data.columns[0]][0] = np.nan\n",
    "    #data[data.columns[0]][1] = np.nan\n",
    "    #data[data.columns[0]][2] = np.nan\n",
    "    \n",
    "    # create mask\n",
    "    mask = data.copy()\n",
    "    grp = ((mask.notnull() != mask.shift().notnull()).cumsum())\n",
    "    grp['ones'] = 1\n",
    "    for i in data.columns:\n",
    "        mask[i] = (grp.groupby(i)['ones'].transform('count') < max_gap) | data[i].notnull()\n",
    "    data = data.interpolate(method='polynomial', order=5, limit=max_gap, axis=0).bfill()[mask]\n",
    "    return data.to_numpy()\n",
    "    #return data\n",
    "    \n",
    "#filled_data = interpolate(norm_data, max_gap=3)\n",
    "#np.arange(0, 5, dtype=int)\n",
    "#['%d'%val for val in range(0,5)]"
   ]
  },
  {
   "cell_type": "code",
   "execution_count": 30,
   "metadata": {},
   "outputs": [],
   "source": [
    "class GainDataGenerator(keras.utils.Sequence):\n",
    "    'Generates data for GAIN'\n",
    "    def __init__(self,\n",
    "                 data_list,\n",
    "                 batch_size=32,\n",
    "                 input_width=24*3,\n",
    "                 label_width=24*3,\n",
    "                 shift=0,\n",
    "                 fill_no=4,\n",
    "                 miss_rate=0.2,\n",
    "                 hint_rate=0.9,\n",
    "                 normalize=True,\n",
    "                 miss_pattern=None,\n",
    "                 alpha=100.):\n",
    "        'Initialization'\n",
    "        window_size = input_width\n",
    "        \n",
    "        # interpollation\n",
    "        filled_data = []\n",
    "        for data in data_list:\n",
    "            data = interpolate(data, max_gap=fill_no)\n",
    "            filled_data.append(data)\n",
    "            \n",
    "        data_list = filled_data\n",
    "        \n",
    "        # whole data\n",
    "        self.data = np.concatenate(data_list)\n",
    "\n",
    "        # TO-DO\n",
    "        \n",
    "        # pre calculation for  sequence data\n",
    "        last_cum = 0\n",
    "        cums = []\n",
    "        for data in data_list:\n",
    "            isnan = np.isnan(data)\n",
    "            isany = np.any(isnan, axis=1)\n",
    "            #shift same as pd.shift(isany, fill_value=True)\n",
    "            shifted = np.roll(isany, 1)\n",
    "            shifted[0] = True # set to nan\n",
    "            \n",
    "            start_seq = ((isany == False) & (shifted == True)).astype(int)\n",
    "            cum = start_seq.cumsum()\n",
    "            cum += last_cum\n",
    "            last_cum = np.max(cum)\n",
    "            cum[isany] = 0\n",
    "            cums.append(cum)\n",
    "            \n",
    "        \n",
    "        # normlize for spam\n",
    "        if normalize:\n",
    "            self.data, norm_param = normalization(self.data)\n",
    "        #print(norm_param)\n",
    "        \n",
    "        # Define mask matrix\n",
    "        if miss_pattern is None:\n",
    "            self.data_m = binary_sampler(1-miss_rate, self.data.shape)\n",
    "        else:\n",
    "            #MissData.save(self.data, max_tseq = 12)\n",
    "            self.miss = MissData(load_dir='save')\n",
    "            self.miss_rate = miss_rate\n",
    "            miss_data = self.miss.make_missdata(self.data, self.miss_rate)\n",
    "            self.data_m = 1. - np.isnan(miss_data).astype(float)\n",
    "            \n",
    "            self.data_m_rand = binary_sampler(1-(miss_rate/10.), self.data.shape)\n",
    "            self.data_m[self.data_m_rand==0.] = 0.\n",
    "        self.miss_pattern = miss_pattern\n",
    "        \n",
    "        # sequence data\n",
    "        self.ids = np.concatenate(cums)\n",
    "        data_idx = np.empty((0), dtype=int)\n",
    "        for i in range(1, last_cum+1):\n",
    "            seq_len = (self.ids == i).sum()\n",
    "            start_id = np.argmax(self.ids == i)\n",
    "            # possible data number in seqeunce\n",
    "            time_len = seq_len - window_size + 1\n",
    "            start_ids = np.arange(start_id, start_id+time_len)\n",
    "            data_idx = np.append(data_idx, start_ids)\n",
    "            \n",
    "        # start index set for sequence data\n",
    "        self.data_idx = data_idx\n",
    "        self.input_width = input_width\n",
    "        self.no = len(data_idx)\n",
    "        \n",
    "        #print('self.no = ', self.no)\n",
    "        \n",
    "        self.batch_size = batch_size\n",
    "        \n",
    "        # random shuffling  index\n",
    "        self.batch_idx = sample_batch_index(self.no, self.no)\n",
    "        self.batch_id = 0\n",
    "        self.shape = (batch_size,self.input_width)+self.data.shape[1:]\n",
    "        #self.hint_rate = hint_rate\n",
    "            \n",
    "    def __len__(self):\n",
    "        'Denotes the number of batches per epoch'\n",
    "        #return int(128/self.batch_size)\n",
    "        #return 2\n",
    "        return 1\n",
    "\n",
    "    def __getitem__(self, index):\n",
    "        'Generate one batch of data'\n",
    "        #print('index =', index)\n",
    "        # Sample batch\n",
    "        x = np.empty((0, self.input_width, self.data.shape[1]))\n",
    "        #m = np.empty((0, self.input_width, self.data.shape[1]))\n",
    "        #h = np.empty((0, self.input_width, self.data.shape[1]))\n",
    "        y = np.empty((0, self.input_width, self.data.shape[1]))\n",
    "        #print(x.shape)\n",
    "        #print(self.data.shape)\n",
    "        #print(self.input_width)\n",
    "        #self.batch_idx = sample_batch_index(self.no, self.batch_size)\n",
    "        for cnt in range(0, self.batch_size):\n",
    "            i = self.batch_idx[self.batch_id]\n",
    "            self.batch_id += 1\n",
    "            #self.batch_id %= self.batch_size\n",
    "            self.batch_id %= self.no\n",
    "            if self.miss_pattern and (self.batch_id == 0):\n",
    "                self.batch_idx = sample_batch_index(self.no, self.no)\n",
    "                miss_data = self.miss.make_missdata(self.data, self.miss_rate)\n",
    "                self.data_m = 1. - np.isnan(miss_data).astype(float)\n",
    "                self.data_m_rand = binary_sampler(1-self.miss_rate/10., self.data.shape)\n",
    "                self.data_m[self.data_m_rand==0.] = 0.\n",
    "            idx1 = self.data_idx[i]\n",
    "            idx2 = self.data_idx[i]+self.input_width\n",
    "            #print(idx1, idx2)\n",
    "        \n",
    "            Y_mb = self.data[idx1:idx2].copy()\n",
    "            X_mb = Y_mb.copy()\n",
    "            M_mb = self.data_m[idx1:idx2]\n",
    "            Z_mb = uniform_sampler(0, 0.01, shape=X_mb.shape)\n",
    "            X_mb = M_mb*X_mb + (1-M_mb)*Z_mb\n",
    "            #H_mb_temp = binary_sampler(self.hint_rate, shape=X_mb.shape)\n",
    "            #H_mb = M_mb * H_mb_temp\n",
    "            X_mb[M_mb == 0] = np.nan\n",
    "            Y_mb[M_mb == 1] = np.nan\n",
    "            x = np.append(x, [X_mb], axis=0)\n",
    "            #m = np.append(m, [M_mb], axis=0)\n",
    "            #h = np.append(h, [H_mb], axis=0)\n",
    "            y = np.append(y, [Y_mb], axis=0)\n",
    "            \n",
    "        #return [x, m, h], y\n",
    "        return x, y\n",
    "    \n",
    "    def on_epoch_end(self):\n",
    "        'Updates indexes after each epoch'\n",
    "        return\n",
    "\n",
    "dgen = GainDataGenerator(df)"
   ]
  },
  {
   "cell_type": "code",
   "execution_count": 31,
   "metadata": {},
   "outputs": [],
   "source": [
    "class GAIN(keras.Model):\n",
    "    def __init__(self, shape, alpha=100., load=False, hint_rate=0.9, gen_sigmoid=True, **kwargs):\n",
    "        super(GAIN, self).__init__(**kwargs)\n",
    "        self.shape = shape\n",
    "        self.dim = np.prod(shape).astype(int)\n",
    "        self.h_dim = self.dim\n",
    "        self.gen_sigmoid = gen_sigmoid\n",
    "        self.build_generator()\n",
    "        self.build_discriminator()\n",
    "        self.hint_rate = hint_rate\n",
    "        self.alpha = alpha\n",
    "        self.generator_optimizer = Adam()\n",
    "        self.discriminator_optimizer = Adam()\n",
    "\n",
    "    ## GAIN models\n",
    "    def build_generator(self):\n",
    "        last_activation = 'sigmoid' if self.gen_sigmoid else None\n",
    "        xavier_initializer = tf.keras.initializers.GlorotNormal()\n",
    "\n",
    "        shape = self.shape\n",
    "        #x = Input(shape=(self.dim,), name='generator_input_x')\n",
    "        #m = Input(shape=(self.dim,), name='generator_input_m')\n",
    "        x = Input(shape=shape, name='generator_input_x')\n",
    "        m = Input(shape=shape, name='generator_input_m')\n",
    "        \n",
    "        x_f = Flatten()(x)\n",
    "        m_f = Flatten()(m)\n",
    "\n",
    "        a = Concatenate()([x_f, m_f])\n",
    "\n",
    "        a = Dense(self.h_dim, activation='relu', kernel_initializer=xavier_initializer)(a)\n",
    "        #a = keras.layers.BatchNormalization()(a)\n",
    "        a = Dense(self.h_dim, activation='relu', kernel_initializer=xavier_initializer)(a)\n",
    "        #a = keras.layers.BatchNormalization()(a)\n",
    "        a = Dense(self.dim, activation=last_activation, kernel_initializer=xavier_initializer)(a)\n",
    "        G_prob = keras.layers.Reshape(shape)(a)\n",
    "        self.generator = keras.models.Model([x, m], G_prob, name='generator')\n",
    "\n",
    "    def build_discriminator(self):\n",
    "        xavier_initializer = tf.keras.initializers.GlorotNormal()\n",
    "        shape = self.shape\n",
    "\n",
    "        #x = Input(shape=(self.dim,), name='discriminator_input_x')\n",
    "        #h = Input(shape=(self.dim,), name='discriminator_input_h')\n",
    "        x = Input(shape=shape, name='discriminator_input_x')\n",
    "        h = Input(shape=shape, name='discriminator_input_h')\n",
    "        \n",
    "        x_f = Flatten()(x)\n",
    "        h_f = Flatten()(h)\n",
    "\n",
    "        a = Concatenate()([x_f, h_f])\n",
    "\n",
    "        a = Dense(self.h_dim, activation='relu', kernel_initializer=xavier_initializer)(a)\n",
    "        a = Dense(self.h_dim, activation='relu', kernel_initializer=xavier_initializer)(a)\n",
    "        a = Dense(self.dim, activation='sigmoid', kernel_initializer=xavier_initializer)(a)\n",
    "        D_prob = keras.layers.Reshape(shape)(a)\n",
    "        self.discriminator = keras.models.Model([x, h], D_prob, name='discriminator')\n",
    "        \n",
    "    def call(self, inputs):\n",
    "        if isinstance(inputs, tuple):\n",
    "            inputs = inputs[0]\n",
    "        shape = inputs.shape\n",
    "        dims = np.prod(shape[1:])\n",
    "        input_width = shape[1]\n",
    "        #print('inputs.shape=',inputs.shape)\n",
    "        x = inputs\n",
    "        #x = x.reshape((n, -1))\n",
    "        #print('dims=',dims)\n",
    "        #x = keras.layers.Reshape((dims,))(x)\n",
    "        #x = keras.layers.Reshape(tf.TensorShape((self.dim,)))(x)\n",
    "        #print('x =', x)\n",
    "        #print('x.shape = ', x.shape)\n",
    "        #x = keras.layers.Reshape(tf.TensorShape([57]))(x)\n",
    "        \n",
    "        isnan = tf.math.is_nan(x)\n",
    "        #m = 1.- keras.backend.cast(isnan, dtype=tf.float32)\n",
    "        m = tf.where(isnan, 0., 1.)\n",
    "        z = keras.backend.random_uniform(shape=tf.shape(x), minval=0.0, maxval=0.01)\n",
    "        x = tf.where(isnan, z, x)\n",
    "        #z = uniform_sampler(0, 0.01, shape=x.shape)\n",
    "        #z = tf.keras.backend.random_uniform(shape=x.shape, minval=0.0, maxval=0.01)\n",
    "        imputed_data = self.generator([x, m], training=False)\n",
    "        #imputed_data = m*x + (1-m)*imputed_data\n",
    "        #imputed_data = tf.where(isnan, imputed_data, np.nan)\n",
    "        imputed_data = tf.where(isnan, imputed_data, x)\n",
    "        #imputed_data = keras.layers.Reshape(shape[1:])(imputed_data)\n",
    "        #print('imputed_data.shape = ', imputed_data.shape)\n",
    "        \n",
    "        return imputed_data\n",
    "    \n",
    "    def D_loss(M, D_prob):\n",
    "        ## GAIN loss\n",
    "        return -tf.reduce_mean(M * tf.keras.backend.log(D_prob + 1e-8) \\\n",
    "                         + (1-M) * tf.keras.backend.log(1. - D_prob + 1e-8))\n",
    "    \n",
    "    def G_loss(self, M, D_prob, X, G_sample):\n",
    "        G_loss_temp = -tf.reduce_mean((1-M) * tf.keras.backend.log(D_prob + 1e-8))\n",
    "        MSE_loss = tf.reduce_mean((M * X - M * G_sample)**2) / (tf.reduce_mean(M) + 1e-8)\n",
    "        #G_loss_temp = GAIN.G_loss_bincross(M, D_prob)\n",
    "        #MSE_loss = GAIN.MSE_loss(M, X, G_sample)\n",
    "        G_loss = G_loss_temp + self.alpha * MSE_loss\n",
    "        return G_loss\n",
    "        \n",
    "    def RMSE_loss(y_true, y_pred):\n",
    "        isnan = tf.math.is_nan(y_true)\n",
    "        M = tf.where(isnan, 1., 0.)\n",
    "        return tf.sqrt(tf.reduce_sum(tf.where(isnan, 0., y_pred-y_true)**2)/tf.reduce_sum(1-M))\n",
    "    \n",
    "    def train_step(self, data):\n",
    "        #[x, m, h], y = data\n",
    "        x, y = data\n",
    "        #X = keras.layers.Reshape((self.dim,), input_shape=self.shape)(x)\n",
    "        #Y = keras.layers.Reshape((self.dim,), input_shape=self.shape)(y)\n",
    "        #X = keras.layers.Flatten()(x)\n",
    "        #Y = keras.layers.Flatten()(y)\n",
    "        X = x\n",
    "        Y = y\n",
    "        #X = tf.reshape(x, shape=(x.shape[0], -1))\n",
    "        #Y = tf.reshape(y, shape=(x.shape[0], -1))\n",
    "        isnan = tf.math.is_nan(X)\n",
    "        #M = 1 - keras.backend.cast(isnan, dtype=tf.float32)\n",
    "        M = tf.where(isnan, 0., 1.)\n",
    "        Z = keras.backend.random_uniform(shape=tf.shape(X), minval=0.0, maxval=0.01)\n",
    "        #H_temp = binary_sampler(self.hint_rate, shape=X.shape)\n",
    "        H_rand = keras.backend.random_uniform(shape=tf.shape(X), minval=0.0, maxval=1.)\n",
    "        #H_temp = 1*keras.backend.cast((H_rand < self.hint_rate), dtype=tf.float32)\n",
    "        H_temp = tf.where(H_rand < self.hint_rate, 1., 0.)\n",
    "        \n",
    "        H = M * H_temp + 0.5*(1-H_temp)\n",
    "        #X = M * X + (1-M) * Z\n",
    "        X = tf.where(isnan, Z, X)\n",
    "        with tf.GradientTape() as gen_tape, tf.GradientTape() as disc_tape:\n",
    "            G_sample = self.generator([X, M], training=True)\n",
    "\n",
    "            # Combine with observed data\n",
    "            #Hat_X = tf.where(isnan, G_sample, X)\n",
    "            Hat_X = X * M + G_sample * (1-M)\n",
    "            D_prob = self.discriminator([Hat_X, H], training=True)\n",
    "            gen_loss = self.G_loss(M, D_prob, X, G_sample)\n",
    "            disc_loss = tf.keras.backend.mean(tf.keras.losses.binary_crossentropy(M, D_prob))\n",
    "            #disc_loss = GAIN.D_loss(M, D_prob)\n",
    "            #disc_loss = GAIN.D_loss(M, D_prob)\n",
    "\n",
    "        gradients_of_generator = gen_tape.gradient(gen_loss, self.generator.trainable_variables)\n",
    "        gradients_of_discriminator = disc_tape.gradient(disc_loss, self.discriminator.trainable_variables)\n",
    "\n",
    "        self.generator_optimizer.apply_gradients(zip(gradients_of_generator, self.generator.trainable_variables))\n",
    "        self.discriminator_optimizer.apply_gradients(zip(gradients_of_discriminator, self.discriminator.trainable_variables))\n",
    "        \n",
    "        rmse = tf.sqrt(tf.reduce_sum(tf.where(isnan, G_sample - Y, 0.)**2)/tf.reduce_sum(1-M))\n",
    "        return {\n",
    "                 'gen_loss':     gen_loss,\n",
    "                 'disc_loss':    disc_loss,\n",
    "                 'rmse':         rmse,\n",
    "               }\n",
    "    \n",
    "    def save(self, save_dir='save'):\n",
    "        if not os.path.exists(save_dir):\n",
    "          os.makedirs(save_dir)\n",
    "        disc_savefile = os.path.join(save_dir, 'discriminator.h5')\n",
    "        gen_savefile = os.path.join(save_dir, 'generator.h5')\n",
    "        self.discriminator.save_weights(disc_savefile)\n",
    "        self.generator.save_weights(gen_savefile)\n",
    "\n",
    "    def load(self, save_dir='save'):\n",
    "        disc_savefile = os.path.join(save_dir, 'discriminator.h5')\n",
    "        gen_savefile = os.path.join(save_dir, 'generator.h5')\n",
    "        try:\n",
    "          self.discriminator.load_weights(disc_savefile)\n",
    "          self.generator.load_weights(gen_savefile)\n",
    "          print('model weights loaded')\n",
    "        except:\n",
    "          print('model loadinng error')"
   ]
  },
  {
   "cell_type": "code",
   "execution_count": 32,
   "metadata": {},
   "outputs": [],
   "source": [
    "from tensorflow.keras.layers import Conv1D\n",
    "\n",
    "class GAIN_cnn(keras.Model):\n",
    "    def __init__(self, shape, alpha=100., load=False, hint_rate=0.9, gen_sigmoid=True, **kwargs):\n",
    "        super(GAIN_cnn, self).__init__(**kwargs)\n",
    "        self.shape = shape\n",
    "        self.dim = np.prod(shape).astype(int)\n",
    "        self.h_dim = self.dim\n",
    "        self.gen_sigmoid = gen_sigmoid\n",
    "        self.build_generator()\n",
    "        self.build_discriminator()\n",
    "        self.hint_rate = hint_rate\n",
    "        self.alpha = alpha\n",
    "        self.generator_optimizer = Adam()\n",
    "        self.discriminator_optimizer = Adam()\n",
    "\n",
    "    ## GAIN models\n",
    "    def build_generator(self):\n",
    "        shape = self.shape\n",
    "        last_activation = 'sigmoid' if self.gen_sigmoid else None\n",
    "        xavier_initializer = tf.keras.initializers.GlorotNormal()\n",
    "\n",
    "        x = Input(shape=shape, name='generator_input_x')\n",
    "        m = Input(shape=shape, name='generator_input_m')\n",
    "\n",
    "        a = Concatenate()([x, m])\n",
    "\n",
    "        a = Conv1D(filters=shape[1]*2, kernel_size=(7,), padding='same', activation='relu')(a)\n",
    "        a = Conv1D(filters=shape[1]*2, kernel_size=(7,), padding='same', activation='relu')(a)\n",
    "        a = Conv1D(filters=shape[1]*2, kernel_size=(7,), padding='same', activation='relu')(a)\n",
    "        a = Conv1D(filters=shape[1]*2, kernel_size=(7,), padding='same', activation='relu')(a)\n",
    "        a = Conv1D(filters=shape[1]*2, kernel_size=(7,), padding='same', activation='relu')(a)\n",
    "        a = Conv1D(filters=shape[1]*2, kernel_size=(7,), padding='same', activation='relu')(a)\n",
    "        a = Conv1D(filters=shape[1]*2, kernel_size=(7,), padding='same', activation='relu')(a)\n",
    "        a = Conv1D(filters=shape[1]*2, kernel_size=(7,), padding='same', activation='relu')(a)\n",
    "        #a = Dense(self.h_dim, activation='relu', kernel_initializer=xavier_initializer)(a)\n",
    "        #a = keras.layers.BatchNormalization()(a)\n",
    "        #a = Dense(self.h_dim, activation='relu', kernel_initializer=xavier_initializer)(a)\n",
    "        #a = keras.layers.BatchNormalization()(a)\n",
    "        #G_prob = Conv1D(filters=shape[1], kernel_size=(7,), padding='same', activation=last_activation, kernel_initializer=xavier_initializer)(a)\n",
    "        a = Dense(shape[-1]*2, activation='relu', kernel_initializer=xavier_initializer)(a)\n",
    "        G_prob = Dense(shape[-1], activation=last_activation, kernel_initializer=xavier_initializer)(a)\n",
    "        self.generator = keras.models.Model([x, m], G_prob, name='generator')\n",
    "\n",
    "    def build_discriminator(self):\n",
    "        xavier_initializer = tf.keras.initializers.GlorotNormal()\n",
    "        shape = self.shape\n",
    "\n",
    "        x = Input(shape=shape, name='discriminator_input_x')\n",
    "        h = Input(shape=shape, name='discriminator_input_h')\n",
    "\n",
    "        a = Concatenate()([x, h])\n",
    "        \n",
    "        a = Conv1D(filters=shape[1]*2, kernel_size=(7,), padding='same', activation='relu')(a)\n",
    "        a = Conv1D(filters=shape[1]*2, kernel_size=(7,), padding='same', activation='relu')(a)\n",
    "        a = Conv1D(filters=shape[1]*2, kernel_size=(7,), padding='same', activation='relu')(a)\n",
    "        a = Conv1D(filters=shape[1]*2, kernel_size=(7,), padding='same', activation='relu')(a)\n",
    "        a = Conv1D(filters=shape[1]*2, kernel_size=(7,), padding='same', activation='relu')(a)\n",
    "        a = Conv1D(filters=shape[1]*2, kernel_size=(7,), padding='same', activation='relu')(a)\n",
    "        a = Conv1D(filters=shape[1]*2, kernel_size=(7,), padding='same', activation='relu')(a)\n",
    "        a = Conv1D(filters=shape[1]*2, kernel_size=(7,), padding='same', activation='relu')(a)\n",
    "\n",
    "        #a = Dense(self.h_dim, activation='relu', kernel_initializer=xavier_initializer)(a)\n",
    "        #a = Dense(self.h_dim, activation='relu', kernel_initializer=xavier_initializer)(a)\n",
    "        #D_prob = Dense(self.dim, activation='sigmoid', kernel_initializer=xavier_initializer)(a)\n",
    "        #D_prob = Conv1D(filters=shape[1], kernel_size=(7,), padding='same', activation='sigmoid', kernel_initializer=xavier_initializer)(a)\n",
    "        a = Dense(shape[-1]*2, activation='relu', kernel_initializer=xavier_initializer)(a)\n",
    "        D_prob = Dense(shape[-1], activation='sigmoid', kernel_initializer=xavier_initializer)(a)\n",
    "        self.discriminator = keras.models.Model([x, h], D_prob, name='discriminator')\n",
    "        \n",
    "    def call(self, inputs):\n",
    "        if isinstance(inputs, tuple):\n",
    "            inputs = inputs[0]\n",
    "        shape = inputs.shape\n",
    "        #dims = np.prod(shape[1:])\n",
    "        #input_width = shape[1]\n",
    "        # print('inputs.shape=',inputs.shape)\n",
    "        x = inputs\n",
    "        #x = x.reshape((n, -1))\n",
    "        #print('dims=',dims)\n",
    "        #x = keras.layers.Reshape((dims,))(x)\n",
    "        #x = keras.layers.Reshape(tf.TensorShape((self.dim,)))(x)\n",
    "        #print('x =', x)\n",
    "        #print('x.shape = ', x.shape)\n",
    "        #x = keras.layers.Reshape(tf.TensorShape([57]))(x)\n",
    "        \n",
    "        isnan = tf.math.is_nan(x)\n",
    "        #m = 1.- keras.backend.cast(isnan, dtype=tf.float32)\n",
    "        m = tf.where(isnan, 0., 1.)\n",
    "        z = keras.backend.random_uniform(shape=tf.shape(x), minval=0.0, maxval=0.01)\n",
    "        x = tf.where(isnan, z, x)\n",
    "        #z = uniform_sampler(0, 0.01, shape=x.shape)\n",
    "        #z = tf.keras.backend.random_uniform(shape=x.shape, minval=0.0, maxval=0.01)\n",
    "        imputed_data = self.generator([x, m], training=False)\n",
    "        #imputed_data = m*x + (1-m)*imputed_data\n",
    "        #imputed_data = tf.where(isnan, imputed_data, np.nan)\n",
    "        imputed_data = tf.where(isnan, imputed_data, x)\n",
    "        #imputed_data = keras.layers.Reshape(shape[1:])(imputed_data)\n",
    "        #print('imputed_data.shape = ', imputed_data.shape)\n",
    "        \n",
    "        return imputed_data\n",
    "    \n",
    "    def D_loss(M, D_prob):\n",
    "        ## GAIN loss\n",
    "        return -tf.reduce_mean(M * tf.keras.backend.log(D_prob + 1e-8) \\\n",
    "                         + (1-M) * tf.keras.backend.log(1. - D_prob + 1e-8))\n",
    "    \n",
    "    def G_loss(self, M, D_prob, X, G_sample):\n",
    "        G_loss_temp = -tf.reduce_mean((1-M) * tf.keras.backend.log(D_prob + 1e-8))\n",
    "        MSE_loss = tf.reduce_mean((M * X - M * G_sample)**2) / (tf.reduce_mean(M) + 1e-8)\n",
    "        #G_loss_temp = GAIN.G_loss_bincross(M, D_prob)\n",
    "        #MSE_loss = GAIN.MSE_loss(M, X, G_sample)\n",
    "        G_loss = G_loss_temp + self.alpha * MSE_loss\n",
    "        return G_loss\n",
    "        \n",
    "    def RMSE_loss(y_true, y_pred):\n",
    "        isnan = tf.math.is_nan(y_pred)\n",
    "        M = tf.where(isnan, 1., 0.)\n",
    "        return tf.sqrt(tf.reduce_sum(tf.where(isnan, 0., y_pred-y_true)**2)/tf.reduce_sum(1-M))\n",
    "    \n",
    "    def train_step(self, data):\n",
    "        #[x, m, h], y = data\n",
    "        x, y = data\n",
    "        #X = keras.layers.Reshape((self.dim,), input_shape=self.shape)(x)\n",
    "        #Y = keras.layers.Reshape((self.dim,), input_shape=self.shape)(y)\n",
    "        #X = keras.layers.Flatten()(x)\n",
    "        #Y = keras.layers.Flatten()(y)\n",
    "        X = x\n",
    "        Y = y\n",
    "        #X = tf.reshape(x, shape=(x.shape[0], -1))\n",
    "        #Y = tf.reshape(y, shape=(x.shape[0], -1))\n",
    "        isnan = tf.math.is_nan(X)\n",
    "        #M = 1 - keras.backend.cast(isnan, dtype=tf.float32)\n",
    "        M = tf.where(isnan, 0., 1.)\n",
    "        Z = keras.backend.random_uniform(shape=tf.shape(X), minval=0.0, maxval=0.01)\n",
    "        #H_temp = binary_sampler(self.hint_rate, shape=X.shape)\n",
    "        H_rand = keras.backend.random_uniform(shape=tf.shape(X), minval=0.0, maxval=1.)\n",
    "        #H_temp = 1*keras.backend.cast((H_rand < self.hint_rate), dtype=tf.float32)\n",
    "        H_temp = tf.where(H_rand < self.hint_rate, 1., 0.)\n",
    "        \n",
    "        H = M * H_temp\n",
    "        #X = M * X + (1-M) * Z\n",
    "        X = tf.where(isnan, Z, X)\n",
    "        with tf.GradientTape() as gen_tape, tf.GradientTape() as disc_tape:\n",
    "            G_sample = self.generator([X, M], training=True)\n",
    "\n",
    "            # Combine with observed data\n",
    "            #Hat_X = tf.where(isnan, G_sample, X)\n",
    "            Hat_X = X * M + G_sample * (1-M)\n",
    "            D_prob = self.discriminator([Hat_X, H], training=True)\n",
    "            gen_loss = self.G_loss(M, D_prob, X, G_sample)\n",
    "            disc_loss = tf.keras.backend.mean(tf.keras.losses.binary_crossentropy(M, D_prob))\n",
    "            #disc_loss = GAIN.D_loss(M, D_prob)\n",
    "            #disc_loss = GAIN.D_loss(M, D_prob)\n",
    "\n",
    "        gradients_of_generator = gen_tape.gradient(gen_loss, self.generator.trainable_variables)\n",
    "        gradients_of_discriminator = disc_tape.gradient(disc_loss, self.discriminator.trainable_variables)\n",
    "\n",
    "        self.generator_optimizer.apply_gradients(zip(gradients_of_generator, self.generator.trainable_variables))\n",
    "        self.discriminator_optimizer.apply_gradients(zip(gradients_of_discriminator, self.discriminator.trainable_variables))\n",
    "        \n",
    "        rmse = tf.sqrt(tf.reduce_sum(tf.where(isnan, G_sample - Y, 0.)**2)/tf.reduce_sum(1-M))\n",
    "        return {\n",
    "                 'gen_loss':     gen_loss,\n",
    "                 'disc_loss':    disc_loss,\n",
    "                 'rmse':         rmse,\n",
    "               }\n",
    "    \n",
    "    def save(self, save_dir='save'):\n",
    "        if not os.path.exists(save_dir):\n",
    "          os.makedirs(save_dir)\n",
    "        disc_savefile = os.path.join(save_dir, 'discriminator.h5')\n",
    "        gen_savefile = os.path.join(save_dir, 'generator.h5')\n",
    "        self.discriminator.save_weights(disc_savefile)\n",
    "        self.generator.save_weights(gen_savefile)\n",
    "\n",
    "    def load(self, save_dir='save'):\n",
    "        disc_savefile = os.path.join(save_dir, 'discriminator.h5')\n",
    "        gen_savefile = os.path.join(save_dir, 'generator.h5')\n",
    "        try:\n",
    "          self.discriminator.load_weights(disc_savefile)\n",
    "          self.generator.load_weights(gen_savefile)\n",
    "          print('model weights loaded')\n",
    "        except:\n",
    "          print('model loadinng error')"
   ]
  },
  {
   "cell_type": "markdown",
   "metadata": {},
   "source": [
    "**GAIN 모델 test**"
   ]
  },
  {
   "cell_type": "code",
   "execution_count": 33,
   "metadata": {},
   "outputs": [],
   "source": [
    "gain = GAIN(shape=(2,7))\n",
    "gain.compile(loss=GAIN.RMSE_loss)\n",
    "#gain_cnn = GAIN_cnn(shape=(2,7))\n",
    "#gain_cnn.compile(loss=GAIN.RMSE_loss)"
   ]
  },
  {
   "cell_type": "code",
   "execution_count": 34,
   "metadata": {},
   "outputs": [
    {
     "name": "stdout",
     "output_type": "stream",
     "text": [
      "(1, 2, 7)\n",
      "(1, 2, 7)\n"
     ]
    }
   ],
   "source": [
    "x = np.random.random((1,2,7))\n",
    "x[0][0][2] = np.nan\n",
    "m = np.random.random((1,2,7))\n",
    "#y = gain_cnn.generator([x, m])\n",
    "y = gain.generator.predict([x, m])\n",
    "print(y.shape)\n",
    "y = gain.discriminator.predict([x,m])\n",
    "y.shape\n",
    "print(x.shape)\n",
    "y = gain.predict(x)"
   ]
  },
  {
   "cell_type": "code",
   "execution_count": 35,
   "metadata": {},
   "outputs": [
    {
     "name": "stdout",
     "output_type": "stream",
     "text": [
      "1/1 [==============================] - 0s 494ms/step - gen_loss: 9.7982 - disc_loss: 0.6914 - rmse: 3.6478e-05\n"
     ]
    },
    {
     "data": {
      "text/plain": [
       "<tensorflow.python.keras.callbacks.History at 0x7f0de1d6f110>"
      ]
     },
     "execution_count": 35,
     "metadata": {},
     "output_type": "execute_result"
    }
   ],
   "source": [
    "gain.fit(x,y)\n",
    "#gain_cnn.fit(x,y)"
   ]
  },
  {
   "cell_type": "code",
   "execution_count": null,
   "metadata": {},
   "outputs": [],
   "source": [
    "history = model.fit(ds, steps_per_epoch=10, epochs=1000)"
   ]
  },
  {
   "cell_type": "markdown",
   "metadata": {},
   "source": [
    "**학습성능 측정(rsme)**"
   ]
  },
  {
   "cell_type": "code",
   "execution_count": null,
   "metadata": {},
   "outputs": [],
   "source": [
    "model.evaluate(ds, steps=50)"
   ]
  },
  {
   "cell_type": "markdown",
   "metadata": {},
   "source": [
    "**학습 그래프**"
   ]
  },
  {
   "cell_type": "code",
   "execution_count": null,
   "metadata": {},
   "outputs": [],
   "source": [
    "fig = plt.figure()\n",
    "ax = fig.add_subplot(111)\n",
    "ax2 = ax.twinx()\n",
    "ax.plot(history.history['gen_loss'], label='gen_loss')\n",
    "ax.plot(history.history['disc_loss'], label='disc_loss')\n",
    "ax2.plot(history.history['rmse'], label='rmse', color='green')\n",
    "#ax2.plot(history.history['val_loss'], label='val_loss', color='red')\n",
    "#plt.legend(history.history.keys(), loc='upper right')\n",
    "#ax.legend(loc='upper center')\n",
    "ax.legend(loc='upper center')\n",
    "ax2.legend(loc='upper right')\n",
    "ax.set_xlabel(\"epochs\")\n",
    "ax.set_ylabel(\"loss\")\n",
    "ax2.set_ylabel(\"rmse\")\n",
    "plt.show()"
   ]
  },
  {
   "cell_type": "markdown",
   "metadata": {},
   "source": [
    "# 수질 GAIN 데이터"
   ]
  },
  {
   "cell_type": "markdown",
   "metadata": {},
   "source": [
    "**데이터 준비**"
   ]
  },
  {
   "cell_type": "code",
   "execution_count": null,
   "metadata": {},
   "outputs": [],
   "source": [
    "def make_dataset_gain(self, data):\n",
    "  dg = GainDataGenerator(\n",
    "      df,\n",
    "      input_width = self.input_width,\n",
    "      label_width = self.label_width,\n",
    "      batch_size = 128,\n",
    "      normalize = False,\n",
    "      miss_pattern = True,\n",
    "      miss_rate = 0.15,\n",
    "      fill_no = 3,\n",
    "  )\n",
    "  self.dg = dg\n",
    "  ds = tf.data.Dataset.from_generator(\n",
    "      lambda: dg,\n",
    "      output_types=(tf.float32, tf.float32),\n",
    "      output_shapes=(\n",
    "        dg.shape,\n",
    "        dg.shape\n",
    "        #[batch_size, train_generator.dim],\n",
    "        #[batch_size, train_generator.dim],\n",
    "      )\n",
    "  )\n",
    "  return ds\n",
    "\n",
    "WindowGenerator.make_dataset = make_dataset_gain"
   ]
  },
  {
   "cell_type": "code",
   "execution_count": null,
   "metadata": {},
   "outputs": [],
   "source": [
    "train_df = df_all\n",
    "val_df = df_all\n",
    "test_df = df_all"
   ]
  },
  {
   "cell_type": "code",
   "execution_count": null,
   "metadata": {
    "scrolled": true
   },
   "outputs": [],
   "source": [
    "wide_window = WindowGenerator(\n",
    "    input_width=24*5, label_width=24*5, shift=0,\n",
    "    #label_columns=['T (degC)']\n",
    ")\n",
    "\n",
    "_ = wide_window.train\n",
    "\n",
    "wide_window"
   ]
  },
  {
   "cell_type": "markdown",
   "metadata": {},
   "source": [
    "**학습용 데이터 plotting**"
   ]
  },
  {
   "cell_type": "code",
   "execution_count": null,
   "metadata": {},
   "outputs": [],
   "source": [
    "df[0]"
   ]
  },
  {
   "cell_type": "code",
   "execution_count": null,
   "metadata": {},
   "outputs": [],
   "source": [
    "df[1]"
   ]
  },
  {
   "cell_type": "code",
   "execution_count": null,
   "metadata": {
    "scrolled": false
   },
   "outputs": [],
   "source": [
    "wide_window.plot(plot_col='클로로필-a')\n",
    "print('make_dataset_gain: dg.no = ', wide_window.dg.no)"
   ]
  },
  {
   "cell_type": "code",
   "execution_count": null,
   "metadata": {},
   "outputs": [],
   "source": [
    "plt.figure(figsize=(9,10))\n",
    "isnan = np.isnan(norm_data).astype(int)\n",
    "data = isnan\n",
    "n = data.shape[0]\n",
    "seq_len = n//8\n",
    "for i in range(8):\n",
    "    plt.subplot(181+i)\n",
    "    plt.imshow(data[i*seq_len:(i+1)*seq_len, 0:7], aspect='auto')\n",
    "    plt.yticks([])\n",
    "plt.show()"
   ]
  },
  {
   "cell_type": "code",
   "execution_count": null,
   "metadata": {
    "scrolled": false
   },
   "outputs": [],
   "source": [
    "plt.figure(figsize=(9,10))\n",
    "n = wide_window.dg.data_m.shape[0]\n",
    "train = n//8\n",
    "for i in range(8):\n",
    "    plt.subplot(181+i)\n",
    "    plt.imshow(wide_window.dg.data_m[i*train:(i+1)*train, 0:7], aspect='auto')\n",
    "    plt.yticks([])\n",
    "#plt.imshow(wide_window.dg.data[0:100])\n",
    "#plt.imshow(wide_window.dg.data_m[800:900], aspect='auto')\n",
    "#print(wide_window.dg.data[0:50])\n",
    "plt.show()"
   ]
  },
  {
   "cell_type": "markdown",
   "metadata": {},
   "source": [
    "## 컴파일 및 학습"
   ]
  },
  {
   "cell_type": "code",
   "execution_count": null,
   "metadata": {},
   "outputs": [],
   "source": [
    "val_performance = {}\n",
    "performance = {}"
   ]
  },
  {
   "cell_type": "code",
   "execution_count": null,
   "metadata": {},
   "outputs": [],
   "source": [
    "gain = GAIN(shape=wide_window.dg.shape[1:], gen_sigmoid=False)\n",
    "gain.compile(loss=GAIN.RMSE_loss)"
   ]
  },
  {
   "cell_type": "code",
   "execution_count": null,
   "metadata": {},
   "outputs": [],
   "source": [
    "#gain = GAIN_cnn(shape=wide_window.dg.shape[1:], gen_sigmoid=False, alpha=200.)\n",
    "#gain.compile(loss=GAIN.RMSE_loss)"
   ]
  },
  {
   "cell_type": "code",
   "execution_count": null,
   "metadata": {},
   "outputs": [],
   "source": [
    "MAX_EPOCHS = 2000\n",
    "\n",
    "def compile_and_fit(model, window, patience=10):\n",
    "  early_stopping = tf.keras.callbacks.EarlyStopping(monitor='val_loss',\n",
    "                                                    patience=patience,\n",
    "                                                    mode='min')\n",
    "\n",
    "  #model.compile(loss=tf.losses.MeanSquaredError(),\n",
    "                #optimizer=tf.optimizers.Adam(),\n",
    "                #metrics=[tf.metrics.MeanAbsoluteError()])\n",
    "  model.compile(loss=GAIN.RMSE_loss)\n",
    "\n",
    "  history = model.fit(window.train, epochs=MAX_EPOCHS,\n",
    "                      validation_data=window.val,\n",
    "                      callbacks=[early_stopping])\n",
    "  return history"
   ]
  },
  {
   "cell_type": "markdown",
   "metadata": {},
   "source": [
    "**모델 불러오기(사전 학습데이터)**"
   ]
  },
  {
   "cell_type": "code",
   "execution_count": null,
   "metadata": {},
   "outputs": [],
   "source": [
    "#model.fit를 사용하지 않을 때에는 학습 데이터 로딩\n",
    "#gain.load(save_dir='save')\n",
    "gain.load(save_dir='save_nagdong')"
   ]
  },
  {
   "cell_type": "markdown",
   "metadata": {},
   "source": [
    "**모델 학습**"
   ]
  },
  {
   "cell_type": "code",
   "execution_count": null,
   "metadata": {
    "scrolled": true
   },
   "outputs": [],
   "source": [
    "history = compile_and_fit(gain, wide_window, patience=MAX_EPOCHS//5)\n",
    "\n",
    "\n",
    "val_performance['Gain'] = gain.evaluate(wide_window.val)\n",
    "performance['Gain'] = gain.evaluate(wide_window.test, verbose=0)\n",
    "\n",
    "\n",
    "#early_stopping = tf.keras.callbacks.EarlyStopping(monitor='val_loss',\n",
    "#                                                    patience=2,\n",
    "#                                                    mode='min')\n",
    "#gain.compile()\n"
   ]
  },
  {
   "cell_type": "code",
   "execution_count": null,
   "metadata": {},
   "outputs": [],
   "source": [
    "#gain.save(save_dir='save')\n",
    "#gain.save(save_dir='save_paldang')\n",
    "gain.save(save_dir='save_nagdong')"
   ]
  },
  {
   "cell_type": "markdown",
   "metadata": {},
   "source": [
    "**학습 loss history 출력**"
   ]
  },
  {
   "cell_type": "code",
   "execution_count": null,
   "metadata": {},
   "outputs": [],
   "source": [
    "fig = plt.figure()\n",
    "ax = fig.add_subplot(111)\n",
    "ax2 = ax.twinx()\n",
    "ax.plot(history.history['gen_loss'], label='gen_loss')\n",
    "ax.plot(history.history['disc_loss'], label='disc_loss')\n",
    "ax2.plot(history.history['rmse'], label='rmse', color='green')\n",
    "ax2.plot(history.history['val_loss'], label='val_loss', color='red')\n",
    "#plt.legend(history.history.keys(), loc='upper right')\n",
    "#ax.legend(loc='upper center')\n",
    "ax.legend(loc='upper center')\n",
    "ax2.legend(loc='upper right')\n",
    "ax.set_xlabel(\"epochs\")\n",
    "ax.set_ylabel(\"loss\")\n",
    "ax2.set_ylabel(\"rmse\")\n",
    "plt.show()"
   ]
  },
  {
   "cell_type": "markdown",
   "metadata": {},
   "source": [
    "성능 측정"
   ]
  },
  {
   "cell_type": "code",
   "execution_count": null,
   "metadata": {},
   "outputs": [],
   "source": [
    "gain.evaluate(wide_window.test.repeat(), steps=100)"
   ]
  },
  {
   "cell_type": "markdown",
   "metadata": {},
   "source": [
    "샘플 prediction 출력"
   ]
  },
  {
   "cell_type": "code",
   "execution_count": null,
   "metadata": {
    "scrolled": false
   },
   "outputs": [],
   "source": [
    "wide_window.plot(gain, plot_col='클로로필-a')"
   ]
  },
  {
   "cell_type": "markdown",
   "metadata": {},
   "source": [
    "## 학습데이터 테스트"
   ]
  },
  {
   "cell_type": "code",
   "execution_count": null,
   "metadata": {},
   "outputs": [],
   "source": [
    "total_n = wide_window.dg.data.shape[0]\n",
    "print(total_n)\n",
    "unit_shape = wide_window.dg.shape[1:]\n",
    "print(unit_shape)\n",
    "dim = np.prod(wide_window.dg.shape[1:]).astype(int)\n",
    "print(dim)\n",
    "n = (total_n//dim)*dim\n",
    "print(n)\n",
    "x = wide_window.dg.data[0:n].copy()\n",
    "y = wide_window.dg.data[0:n].copy()\n",
    "m = wide_window.dg.data_m[0:n]\n",
    "x[m == 0] = np.nan\n",
    "y[m == 1] = np.nan\n",
    "print('x.shape =', x.shape)\n",
    "x = x.reshape((-1,)+unit_shape)\n",
    "y_true = y.reshape((-1,)+unit_shape)\n",
    "print('x.shape =', x.shape)"
   ]
  },
  {
   "cell_type": "code",
   "execution_count": null,
   "metadata": {},
   "outputs": [],
   "source": [
    "y_pred = gain.predict(x)"
   ]
  },
  {
   "cell_type": "code",
   "execution_count": null,
   "metadata": {},
   "outputs": [],
   "source": [
    "y_pred = y_pred.reshape((n, 13))\n",
    "x = x.reshape((n, 13))"
   ]
  },
  {
   "cell_type": "code",
   "execution_count": null,
   "metadata": {},
   "outputs": [],
   "source": [
    "x.shape"
   ]
  },
  {
   "cell_type": "code",
   "execution_count": null,
   "metadata": {},
   "outputs": [],
   "source": [
    "y_pred[~np.isnan(x)] = np.nan\n",
    "plt.figure()\n",
    "plt.plot(x[:, 8])\n",
    "plt.plot(y_pred[:, 8])\n",
    "plt.show()"
   ]
  },
  {
   "cell_type": "markdown",
   "metadata": {},
   "source": [
    "## 원본 데이터 테스트"
   ]
  },
  {
   "cell_type": "markdown",
   "metadata": {},
   "source": [
    "**원본데이터 shape**\n",
    "```py\n",
    "print(norm_df.shape)\n",
    "(70068,13)\n",
    "(rows, columns)\n",
    "```\n",
    "데이터 generator의 shape\n",
    "```py\n",
    "print(wide_window.dg.shape)\n",
    "(128, 120, 13)\n",
    "(batch_size, input_width, column)\n",
    "```\n",
    "```py\n",
    "total_no = 70068\n",
    "dim = 120*13\n",
    "n = total_no//dim*dim\n",
    "x.shape\n",
    "(68640, 13)\n",
    "x.reshape( (-1, 120, 13) )\n",
    "```"
   ]
  },
  {
   "cell_type": "code",
   "execution_count": null,
   "metadata": {},
   "outputs": [],
   "source": [
    "norm_df = pd.concat(df,axis=0)"
   ]
  },
  {
   "cell_type": "code",
   "execution_count": null,
   "metadata": {},
   "outputs": [],
   "source": [
    "data = norm_df.to_numpy()\n",
    "\n",
    "total_n = wide_window.dg.data.shape[0]\n",
    "print(total_n)\n",
    "unit_shape = wide_window.dg.shape[1:]\n",
    "print(unit_shape)\n",
    "#dim = np.prod(wide_window.dg.shape[1:]).astype(int)\n",
    "dim = wide_window.dg.shape[1]\n",
    "print(dim)\n",
    "n = (total_n//dim)*dim\n",
    "\n",
    "x = data[0:n].copy()\n",
    "y_true = data[0:n].copy()\n",
    "\n",
    "#x = interpolate(x, max_gap=3)\n",
    "\n",
    "print('x.shape =', x.shape)\n",
    "x_reshape = x.reshape((-1,)+unit_shape)\n",
    "print('x_reshape.shape =', x_reshape.shape)\n",
    "isnan = np.isnan(x_reshape)\n",
    "print(isnan.sum())\n",
    "print('y_true.shape=', y_true.shape)\n",
    "isnan = np.isnan(y_true)\n",
    "print(isnan.sum())\n",
    "\n",
    "x_remain = data[-wide_window.dg.shape[1]:].copy()\n",
    "x_remain_reshape = x_remain.reshape((-1,)+unit_shape)\n",
    "x_remain_reshape.shape"
   ]
  },
  {
   "cell_type": "code",
   "execution_count": null,
   "metadata": {},
   "outputs": [],
   "source": [
    "# zero loss is normal because there is no ground truth in the real dataset\n",
    "gain.evaluate(x_reshape, y_true.reshape((-1,)+unit_shape))"
   ]
  },
  {
   "cell_type": "code",
   "execution_count": null,
   "metadata": {},
   "outputs": [],
   "source": [
    "y_pred = gain.predict(x_reshape)\n",
    "y_remain_pred = gain.predict(x_remain_reshape)"
   ]
  },
  {
   "cell_type": "code",
   "execution_count": null,
   "metadata": {},
   "outputs": [],
   "source": [
    "print(total_n)\n",
    "print(n)\n",
    "print(total_n-n)"
   ]
  },
  {
   "cell_type": "code",
   "execution_count": null,
   "metadata": {},
   "outputs": [],
   "source": [
    "y_pred = y_pred.reshape(y_true.shape)\n",
    "y_remain_pred = y_remain_pred.reshape(x_remain.shape)\n",
    "print(y_pred.shape, y_remain_pred.shape)\n",
    "y_pred = np.append(y_pred, y_remain_pred[-(total_n-n):], axis=0)\n",
    "print(y_pred.shape)"
   ]
  },
  {
   "cell_type": "markdown",
   "metadata": {},
   "source": [
    "그림용으로 nan 채우기"
   ]
  },
  {
   "cell_type": "code",
   "execution_count": null,
   "metadata": {},
   "outputs": [],
   "source": [
    "y_pred[~np.isnan(data)] = np.nan"
   ]
  },
  {
   "cell_type": "code",
   "execution_count": null,
   "metadata": {},
   "outputs": [],
   "source": [
    "n = 8\n",
    "plt.figure(figsize=(9,20))\n",
    "for i in range(n):\n",
    "    #plt.subplot('%d1%d'%(n,i))\n",
    "    plt.subplot(811+i)\n",
    "    plt.plot(x[:, i])\n",
    "    plt.plot(y_pred[:, i])\n",
    "plt.show()"
   ]
  },
  {
   "cell_type": "code",
   "execution_count": null,
   "metadata": {},
   "outputs": [],
   "source": [
    "total_n = wide_window.dg.data.shape[0]\n",
    "print(total_n)\n",
    "unit_shape = wide_window.dg.shape[1:]\n",
    "print('unit_shape=', unit_shape)\n",
    "time_seq = unit_shape[0]\n",
    "print(time_seq)\n",
    "n = (total_n//time_seq)*time_seq\n",
    "print('n=', n)\n",
    "\n",
    "gans = []\n",
    "oris = []\n",
    "for i in range(len(df)):\n",
    "    x = df[i].to_numpy()\n",
    "    total_n = x.shape[0]\n",
    "    n = (total_n//time_seq)*time_seq\n",
    "    x = x[0:n]\n",
    "    x_block = x.reshape((-1,)+unit_shape)\n",
    "    y = gain.predict(x_block)\n",
    "    y_gan = y.reshape(x.shape)\n",
    "    \n",
    "    # cut off sin, cos data\n",
    "    if (i > 0):\n",
    "        x = x[:, :-4]\n",
    "        y_gan = y_gan[:, :-4]\n",
    "    gans.append(y_gan)\n",
    "    oris.append(x)\n",
    "print(x.shape)\n",
    "print(y_gan.shape)"
   ]
  },
  {
   "cell_type": "code",
   "execution_count": null,
   "metadata": {
    "scrolled": false
   },
   "outputs": [],
   "source": [
    "# idx번째 데이터 출력\n",
    "idx = 0\n",
    "y_plt = gans[idx].copy()\n",
    "y_plt[~np.isnan(oris[idx])] = np.nan\n",
    "n = 8\n",
    "plt.figure(figsize=(9,20))\n",
    "for i in range(n):\n",
    "    #plt.subplot('%d1%d'%(n,i))\n",
    "    plt.subplot(811+i)\n",
    "    plt.plot(oris[idx][:, i])\n",
    "    plt.plot(y_plt[:, i])\n",
    "plt.show()"
   ]
  },
  {
   "cell_type": "markdown",
   "metadata": {},
   "source": [
    "**self data 생성(가평)**"
   ]
  },
  {
   "cell_type": "code",
   "execution_count": null,
   "metadata": {},
   "outputs": [],
   "source": [
    "total_no = oris[0].shape[0]\n",
    "train_no = int(total_no*0.7)\n",
    "\n",
    "train_slice = slice(0, train_no)\n",
    "val_slice = slice(train_no, None)\n",
    "test_slice = slice(0, None)\n",
    "\n",
    "train_df = pd.DataFrame(gans[0][train_slice])\n",
    "val_df = pd.DataFrame(gans[0][val_slice])\n",
    "test_df = pd.DataFrame(gans[0][test_slice])\n",
    "\n",
    "train_ori_df = pd.DataFrame(oris[0][train_slice])\n",
    "val_ori_df = pd.DataFrame(oris[0][val_slice])\n",
    "test_ori_df = pd.DataFrame(oris[0][test_slice])\n",
    "\n",
    "num_features = train_df.shape[1]\n",
    "out_num_features = num_features"
   ]
  },
  {
   "cell_type": "markdown",
   "metadata": {},
   "source": [
    "**source-target data creation (target-가평, source-의암호)**"
   ]
  },
  {
   "cell_type": "code",
   "execution_count": null,
   "metadata": {},
   "outputs": [],
   "source": [
    "ori = np.concatenate(oris, axis=1)\n",
    "gan = np.concatenate(gans, axis=1)\n",
    "print(oris[0].shape, gans[0].shape)\n",
    "print(oris[1].shape, gans[1].shape)\n",
    "print(ori.shape, gan.shape)\n",
    "\n",
    "total_no = ori.shape[0]\n",
    "train_no = int(total_no*0.7)\n",
    "\n",
    "train_slice = slice(0, train_no)\n",
    "val_slice = slice(train_no, None)\n",
    "test_slice = slice(0, None)\n",
    "\n",
    "train_df = pd.DataFrame(gan[train_slice])\n",
    "val_df = pd.DataFrame(gan[val_slice])\n",
    "test_df = pd.DataFrame(gan[test_slice])\n",
    "\n",
    "train_ori_df = pd.DataFrame(ori[train_slice])\n",
    "val_ori_df = pd.DataFrame(ori[val_slice])\n",
    "test_ori_df = pd.DataFrame(ori[test_slice])\n",
    "\n",
    "num_features = train_df.shape[1]\n",
    "#out_num_features = oris[0].shape[1]-4\n",
    "out_features = [6]\n",
    "out_num_features = len(out_features)\n",
    "out_num_features\n"
   ]
  },
  {
   "cell_type": "code",
   "execution_count": null,
   "metadata": {},
   "outputs": [],
   "source": [
    "class WaterDataGenerator(keras.utils.Sequence):\n",
    "    'Generates data for water'\n",
    "    def __init__(self,\n",
    "                 imputed_data,\n",
    "                 ori_data = None,\n",
    "                 batch_size=32,\n",
    "                 input_width=24*7,\n",
    "                 label_width=24*3,\n",
    "                 shift=24*3,\n",
    "                 skip_time = None,\n",
    "                 shuffle = True,\n",
    "                 out_features = None,\n",
    "                 out_num_features = None,\n",
    "                ):\n",
    "        'Initialization'\n",
    "        self.window_size = input_width+shift\n",
    "        self.total_no = imputed_data.shape[0]\n",
    "        self.data = imputed_data\n",
    "        self.input_width = input_width\n",
    "        self.label_width = label_width\n",
    "        self.batch_size = batch_size\n",
    "        self.input_shape = (batch_size, input_width, self.data.shape[1])\n",
    "        self.out_num_features = out_num_features\n",
    "        if out_features:\n",
    "            self.out_features = out_features\n",
    "        else:\n",
    "            self.out_features = [i for i in range(out_num_features)]\n",
    "        self.label_shape = (batch_size, label_width, self.out_num_features)\n",
    "        if (skip_time):\n",
    "            # TO-DO\n",
    "            self.no = self.total_no - self.window_size\n",
    "            self.data_idx = np.arange(0, self.no)\n",
    "        else:\n",
    "            self.no = self.total_no - self.window_size\n",
    "            self.data_idx = np.arange(0, self.no)\n",
    "            \n",
    "        if shuffle:\n",
    "            self.batch_idx = np.random.permutation(self.no)\n",
    "        else:\n",
    "            self.batch_idx = np.arange(0, self.no)\n",
    "        self.batch_id = 0\n",
    "        \n",
    "        \n",
    "    def __len__(self):\n",
    "        'Denotes the number of batches per epoch'\n",
    "        #return int(128/self.batch_size)\n",
    "        #return 2\n",
    "        return 1\n",
    "\n",
    "    def __getitem__(self, index):\n",
    "        'Generate one batch of data'\n",
    "        #print('index =', index)\n",
    "        #print('self.no =', self.no)\n",
    "        #print('self.total_no =', self.total_no)\n",
    "        #print('self.batch_id =', self.batch_id)\n",
    "        # Sample batch\n",
    "        label_width = self.label_width\n",
    "        batch_idx = self.batch_idx\n",
    "        \n",
    "        x = np.empty((0, self.input_width, self.data.shape[1]))\n",
    "        y = np.empty((0, self.label_width, self.out_num_features))\n",
    "        for cnt in range(0, self.batch_size):\n",
    "            i = self.batch_id\n",
    "            self.batch_id += 1\n",
    "            idx1 = self.data_idx[batch_idx[i]]\n",
    "            idx2 = idx1 + self.input_width\n",
    "            \n",
    "            X = self.data[idx1:idx2]\n",
    "            \n",
    "            idx1 = self.data_idx[batch_idx[i]] + self.window_size - label_width\n",
    "            idx2 = idx1 + label_width\n",
    "            \n",
    "            #Y = self.data[idx1:idx2,:,:out_num_features]\n",
    "            Y = self.data.iloc[idx1:idx2, self.out_features]\n",
    "            #print('Y.shape = ', Y.shape)\n",
    "            #Y = Y.iloc[:,:out_num_features]\n",
    "            \n",
    "            self.batch_id %= self.no\n",
    "            \n",
    "            x = np.append(x, [X], axis = 0)\n",
    "            y = np.append(y, [Y], axis = 0)\n",
    "            \n",
    "        return x, y\n",
    "    \n",
    "    def on_epoch_end(self):\n",
    "        'Updates indexes after each epoch'\n",
    "        return"
   ]
  },
  {
   "cell_type": "code",
   "execution_count": null,
   "metadata": {},
   "outputs": [],
   "source": [
    "def make_dataset_water(self, data):\n",
    "  dg = WaterDataGenerator(\n",
    "      data,\n",
    "      batch_size = 128,\n",
    "      input_width = self.input_width,\n",
    "      label_width = self.label_width,\n",
    "      shift = self.label_width,\n",
    "      out_features = out_features,\n",
    "      out_num_features = out_num_features,\n",
    "  )\n",
    "  #self.dg = dg\n",
    "  ds = tf.data.Dataset.from_generator(\n",
    "      lambda: dg,\n",
    "      output_types=(tf.float32, tf.float32),\n",
    "      output_shapes=(\n",
    "        dg.input_shape,\n",
    "        dg.label_shape\n",
    "        #[batch_size, train_generator.dim],\n",
    "        #[batch_size, train_generator.dim],\n",
    "      )\n",
    "  )\n",
    "  return ds\n",
    "\n",
    "WindowGenerator.make_dataset = make_dataset_water"
   ]
  },
  {
   "cell_type": "markdown",
   "metadata": {},
   "source": [
    "**WaterDataGenerator 테스트**"
   ]
  },
  {
   "cell_type": "code",
   "execution_count": null,
   "metadata": {},
   "outputs": [],
   "source": [
    "OUT_STEPS = 24*5\n",
    "wdg = WaterDataGenerator(train_df,\n",
    "                         batch_size=128,\n",
    "                         input_width = 24*7,\n",
    "                         label_width = OUT_STEPS,\n",
    "                         shift = OUT_STEPS,\n",
    "                         out_num_features = out_num_features\n",
    "                        )"
   ]
  },
  {
   "cell_type": "code",
   "execution_count": null,
   "metadata": {},
   "outputs": [],
   "source": [
    "it = iter(wdg)"
   ]
  },
  {
   "cell_type": "code",
   "execution_count": null,
   "metadata": {},
   "outputs": [],
   "source": [
    "x,y = next(it)\n",
    "x.shape, y.shape"
   ]
  },
  {
   "cell_type": "markdown",
   "metadata": {},
   "source": [
    "**Water Dataset**"
   ]
  },
  {
   "cell_type": "code",
   "execution_count": null,
   "metadata": {},
   "outputs": [],
   "source": [
    "def plot2(self, model=None, plot_col=0, max_subplots=3, plot_out_col=0):\n",
    "  inputs, labels = self.example\n",
    "  plt.figure(figsize=(10, 8))\n",
    "  plot_col_index = self.column_indices[plot_col]\n",
    "  plot_out_col_index = self.column_indices[plot_out_col]\n",
    "  max_n = min(max_subplots, len(inputs))\n",
    "  for n in range(max_n):\n",
    "    plt.subplot(3, 1, n+1)\n",
    "    plt.ylabel(f'{plot_col} [normed]', fontproperties=fprop)\n",
    "    plt.plot(self.input_indices, inputs[n, :, plot_col_index],\n",
    "             label='Inputs', marker='.', zorder=-10)\n",
    "\n",
    "    if self.label_columns:\n",
    "      label_col_index = self.label_columns_indices.get(plot_col, None)\n",
    "      label_out_col_index = self.label_columns_indices.get(plot_out_col, None)\n",
    "    else:\n",
    "      label_col_index = plot_col_index\n",
    "      label_out_col_index = plot_out_col_index\n",
    "\n",
    "    if label_col_index is None:\n",
    "      continue\n",
    "\n",
    "    plt.plot(self.label_indices, labels[n, :, label_out_col_index],\n",
    "                label='Labels', c='#2ca02c')\n",
    "    if model is not None:\n",
    "      predictions = model(inputs)\n",
    "      plt.plot(self.label_indices, predictions[n, :, label_out_col_index],\n",
    "                  marker=None, label='Predictions',\n",
    "                  c='#ff7f0e')\n",
    "\n",
    "    if n == 0:\n",
    "      plt.legend()\n",
    "\n",
    "  plt.xlabel('Time [h]')\n",
    "\n",
    "WindowGenerator.plot2 = plot2"
   ]
  },
  {
   "cell_type": "code",
   "execution_count": null,
   "metadata": {},
   "outputs": [],
   "source": [
    "OUT_STEPS = 24*5\n",
    "multi_window = WindowGenerator(input_width=24*7,\n",
    "                               label_width=OUT_STEPS,\n",
    "                               shift=OUT_STEPS,\n",
    "                               train_df=train_df,\n",
    "                               val_df=val_df,\n",
    "                               test_df=test_df,\n",
    "                               )\n",
    "\n",
    "multi_window.plot2(plot_col=out_features[0])\n",
    "multi_window"
   ]
  },
  {
   "cell_type": "code",
   "execution_count": null,
   "metadata": {},
   "outputs": [],
   "source": [
    "multi_window.plot2(plot_col=out_features[0])"
   ]
  },
  {
   "cell_type": "code",
   "execution_count": null,
   "metadata": {},
   "outputs": [],
   "source": [
    "it = iter(multi_window.train)\n",
    "x, y = next(it)\n",
    "print(x.shape, y.shape)\n",
    "#x, y = next(it#)"
   ]
  },
  {
   "cell_type": "markdown",
   "metadata": {},
   "source": [
    "**Baseline model**"
   ]
  },
  {
   "cell_type": "code",
   "execution_count": null,
   "metadata": {},
   "outputs": [],
   "source": [
    "multi_val_performance = {}\n",
    "multi_performance = {}"
   ]
  },
  {
   "cell_type": "code",
   "execution_count": null,
   "metadata": {},
   "outputs": [],
   "source": [
    "class MultiStepLastBaseline(tf.keras.Model):\n",
    "  def call(self, inputs):\n",
    "    #print(inputs[:, -1:, 0:1])\n",
    "    #return tf.tile(inputs[:, -1:, :out_num_features], [1, OUT_STEPS, 1])\n",
    "    return tf.tile(inputs[:, -1:, (out_features[0]):(out_features[0]+1)], [1, OUT_STEPS, 1])\n",
    "    #return tf.tile(inputs[:, -1:, out_features[0]:(out_features[1]+1)], [1, OUT_STEPS, 1])\n",
    "\n",
    "last_baseline = MultiStepLastBaseline()\n",
    "last_baseline.compile(loss=tf.losses.MeanSquaredError(),\n",
    "                      metrics=[tf.metrics.MeanAbsoluteError()])\n",
    "\n",
    "#multi_val_performance = {}\n",
    "#multi_performance = {}\n",
    "\n",
    "multi_val_performance['Last'] = last_baseline.evaluate(multi_window.val.repeat(-1), steps=100)\n",
    "multi_performance['Last'] = last_baseline.evaluate(multi_window.test.repeat(-1), verbose=0, steps=100)\n",
    "print('val performance =', multi_val_performance['Last'])\n",
    "print('test performance = ', multi_performance['Last'])\n",
    "multi_window.plot2(last_baseline, plot_col=out_features[0], plot_out_col=0)"
   ]
  },
  {
   "cell_type": "markdown",
   "metadata": {},
   "source": [
    "**Water Data Generator test**"
   ]
  },
  {
   "cell_type": "code",
   "execution_count": null,
   "metadata": {},
   "outputs": [],
   "source": [
    "wdg = WaterDataGenerator(\n",
    "    train_df,\n",
    "    batch_size = 32,\n",
    "    input_width = 7,\n",
    "    label_width = 3,\n",
    "    shift = 3,\n",
    ")"
   ]
  },
  {
   "cell_type": "code",
   "execution_count": null,
   "metadata": {},
   "outputs": [],
   "source": [
    "it = iter(wdg)\n",
    "x, y = next(it)\n",
    "x.shape, y.shape"
   ]
  },
  {
   "cell_type": "code",
   "execution_count": null,
   "metadata": {},
   "outputs": [],
   "source": [
    "last_baseline.evaluate(wdg)"
   ]
  },
  {
   "cell_type": "markdown",
   "metadata": {},
   "source": [
    "# 모델 학습"
   ]
  },
  {
   "cell_type": "code",
   "execution_count": null,
   "metadata": {},
   "outputs": [],
   "source": [
    "MAX_EPOCHS = 400\n",
    "\n",
    "def compile_and_fit(model, window, patience=1000):\n",
    "  early_stopping = tf.keras.callbacks.EarlyStopping(monitor='val_loss',\n",
    "                                                    patience=patience,\n",
    "                                                    mode='min')\n",
    "\n",
    "  model.compile(loss=tf.losses.MeanSquaredError(),\n",
    "                optimizer=tf.optimizers.Adam(),\n",
    "                metrics=[tf.metrics.MeanAbsoluteError()])\n",
    "  #model.compile(loss=GAIN.RMSE_loss)\n",
    "\n",
    "  history = model.fit(window.train, epochs=MAX_EPOCHS,\n",
    "                      validation_data=window.val,\n",
    "                      callbacks=[early_stopping])\n",
    "  return history"
   ]
  },
  {
   "cell_type": "code",
   "execution_count": null,
   "metadata": {},
   "outputs": [],
   "source": [
    "import IPython\n",
    "multi_linear_model = tf.keras.Sequential([\n",
    "    # Take the last time-step.\n",
    "    # Shape [batch, time, features] => [batch, 1, features]\n",
    "    tf.keras.layers.Lambda(lambda x: x[:, -1:, :]),\n",
    "    # Shape => [batch, 1, out_steps*features]\n",
    "    tf.keras.layers.Dense(OUT_STEPS*out_num_features,\n",
    "                          kernel_initializer=tf.initializers.zeros),\n",
    "    # Shape => [batch, out_steps, features]\n",
    "    tf.keras.layers.Reshape([OUT_STEPS, out_num_features])\n",
    "])\n",
    "\n",
    "history = compile_and_fit(multi_linear_model, multi_window)\n",
    "\n",
    "#IPython.display.clear_output()\n",
    "multi_val_performance['Linear'] = multi_linear_model.evaluate(multi_window.val.repeat(-1), steps=100)\n",
    "multi_performance['Linear'] = multi_linear_model.evaluate(multi_window.test.repeat(-1), verbose=0, steps=100)\n",
    "#multi_window.plot(multi_linear_model, plot_col=0)\n",
    "print('val performance =', multi_val_performance['Linear'])\n",
    "print('test performance = ', multi_performance['Linear'])"
   ]
  },
  {
   "cell_type": "code",
   "execution_count": null,
   "metadata": {},
   "outputs": [],
   "source": [
    "def plot_history(history):\n",
    "    fig = plt.figure()\n",
    "    ax = fig.add_subplot(111)\n",
    "    ax.plot(history.history['loss'], label='loss')\n",
    "    ax.plot(history.history['mean_absolute_error'], label='mae')\n",
    "    ax.plot(history.history['val_loss'], label='val_loss')\n",
    "    ax.plot(history.history['val_mean_absolute_error'], label='val_mae')\n",
    "    #plt.legend(history.history.keys(), loc='upper right')\n",
    "    #ax.legend(loc='upper center')\n",
    "    ax.legend()\n",
    "    ax.set_xlabel(\"epochs\")\n",
    "    ax.set_ylabel(\"loss\")\n",
    "    plt.show()"
   ]
  },
  {
   "cell_type": "code",
   "execution_count": null,
   "metadata": {},
   "outputs": [],
   "source": [
    "plot_history(history)"
   ]
  },
  {
   "cell_type": "code",
   "execution_count": null,
   "metadata": {},
   "outputs": [],
   "source": [
    "multi_window.plot2(multi_linear_model, plot_col=out_features[0])"
   ]
  },
  {
   "cell_type": "markdown",
   "metadata": {},
   "source": [
    "**muti_step dense**"
   ]
  },
  {
   "cell_type": "code",
   "execution_count": null,
   "metadata": {},
   "outputs": [],
   "source": [
    "multi_dense_model = tf.keras.Sequential([\n",
    "    # Take the last time step.\n",
    "    # Shape [batch, time, features] => [batch, 1, features]\n",
    "    tf.keras.layers.Lambda(lambda x: x[:, -1:, :]),\n",
    "    # Shape => [batch, 1, dense_units]\n",
    "    #tf.keras.layers.Dense(512, activation='relu'),\n",
    "    tf.keras.layers.Dense(1024, activation='relu'),\n",
    "    # Shape => [batch, out_steps*features]\n",
    "    tf.keras.layers.Dense(OUT_STEPS*out_num_features,\n",
    "                          kernel_initializer=tf.initializers.zeros),\n",
    "    # Shape => [batch, out_steps, features]\n",
    "    tf.keras.layers.Reshape([OUT_STEPS, out_num_features])\n",
    "])"
   ]
  },
  {
   "cell_type": "code",
   "execution_count": null,
   "metadata": {},
   "outputs": [],
   "source": [
    "multi_dense_model = tf.keras.Sequential([\n",
    "    # Take the last time step.\n",
    "    # Shape [batch, time, features] => [batch, 1, features]\n",
    "    tf.keras.layers.Flatten(),\n",
    "    # Shape => [batch, 1, dense_units]\n",
    "    #tf.keras.layers.Dense(512, activation='relu'),\n",
    "    tf.keras.layers.Dense(2048, activation='relu'),\n",
    "    tf.keras.layers.Dense(2048, activation='relu'),\n",
    "    tf.keras.layers.Dropout(0.5),\n",
    "    # Shape => [batch, out_steps*features]\n",
    "    tf.keras.layers.Dense(OUT_STEPS*out_num_features,\n",
    "                          kernel_initializer=tf.initializers.zeros),\n",
    "    # Shape => [batch, out_steps, features]\n",
    "    tf.keras.layers.Reshape([OUT_STEPS, out_num_features])\n",
    "])"
   ]
  },
  {
   "cell_type": "code",
   "execution_count": null,
   "metadata": {},
   "outputs": [],
   "source": [
    "history = compile_and_fit(multi_dense_model, multi_window)\n",
    "multi_val_performance['Dense'] = multi_dense_model.evaluate(multi_window.val.repeat(-1), steps=100)\n",
    "multi_performance['Dense'] = multi_dense_model.evaluate(multi_window.test.repeat(-1), verbose=1, steps=100)\n",
    "print('val performance =', multi_val_performance['Dense'])\n",
    "print('test performance = ', multi_performance['Dense'])"
   ]
  },
  {
   "cell_type": "code",
   "execution_count": null,
   "metadata": {},
   "outputs": [],
   "source": [
    "plot_history(history)"
   ]
  },
  {
   "cell_type": "code",
   "execution_count": null,
   "metadata": {},
   "outputs": [],
   "source": [
    "multi_window.plot2(multi_dense_model, plot_col=out_features[0])"
   ]
  },
  {
   "cell_type": "markdown",
   "metadata": {},
   "source": [
    "**Conv model**"
   ]
  },
  {
   "cell_type": "code",
   "execution_count": null,
   "metadata": {},
   "outputs": [],
   "source": [
    "CONV_WIDTH = 7\n",
    "CONV_LAYER_NO = 1\n",
    "multi_conv_model = tf.keras.Sequential([\n",
    "    # Shape [batch, time, features] => [batch, CONV_WIDTH, features]\n",
    "    tf.keras.layers.Lambda(lambda x: x[:, -(CONV_WIDTH*CONV_LAYER_NO-CONV_LAYER_NO+1):, :]),\n",
    "] + [\n",
    "    # Shape => [batch, 1, conv_units]\n",
    "    tf.keras.layers.Conv1D(1024, activation='relu', kernel_size=(CONV_WIDTH)) for i in range(CONV_LAYER_NO)\n",
    "] + [\n",
    "    # Shape => [batch, 1,  out_steps*features]\n",
    "    tf.keras.layers.Dense(OUT_STEPS*out_num_features,\n",
    "                          kernel_initializer=tf.initializers.zeros),\n",
    "    # Shape => [batch, out_steps, features]\n",
    "    tf.keras.layers.Reshape([OUT_STEPS, out_num_features])\n",
    "])"
   ]
  },
  {
   "cell_type": "code",
   "execution_count": null,
   "metadata": {},
   "outputs": [],
   "source": [
    "CONV_WIDTH = 3\n",
    "CONV_LAYER_NO = 6\n",
    "multi_conv_model = tf.keras.Sequential([\n",
    "    # Shape [batch, time, features] => [batch, CONV_WIDTH, features]\n",
    "    tf.keras.layers.Lambda(lambda x: x[:, -(CONV_WIDTH*CONV_LAYER_NO-CONV_LAYER_NO+1):, :]),\n",
    "] + [\n",
    "    # Shape => [batch, 1, conv_units]\n",
    "    tf.keras.layers.Conv1D(1024, activation='relu', kernel_size=(CONV_WIDTH)) for i in range(CONV_LAYER_NO)\n",
    "] + [\n",
    "    # Shape => [batch, 1,  out_steps*features]\n",
    "    tf.keras.layers.Dense(OUT_STEPS*num_features,\n",
    "                          kernel_initializer=tf.initializers.zeros),\n",
    "    # Shape => [batch, out_steps, features]\n",
    "    tf.keras.layers.Reshape([OUT_STEPS, num_features])\n",
    "])"
   ]
  },
  {
   "cell_type": "code",
   "execution_count": null,
   "metadata": {},
   "outputs": [],
   "source": [
    "CONV_WIDTH = 11\n",
    "CONV_LAYER_NO = 3\n",
    "multi_conv_model = tf.keras.Sequential([\n",
    "    # Shape [batch, time, features] => [batch, CONV_WIDTH, features]\n",
    "    tf.keras.layers.Lambda(lambda x: x[:, -(CONV_WIDTH*CONV_LAYER_NO-CONV_LAYER_NO+1):, :]),\n",
    "] + [\n",
    "    # Shape => [batch, 1, conv_units]\n",
    "    tf.keras.layers.Conv1D(1024, activation='relu', kernel_size=(CONV_WIDTH)) for i in range(CONV_LAYER_NO)\n",
    "] + [\n",
    "    # Shape => [batch, 1,  out_steps*features]\n",
    "    tf.keras.layers.Dense(OUT_STEPS*num_features,\n",
    "                          kernel_initializer=tf.initializers.zeros),\n",
    "    # Shape => [batch, out_steps, features]\n",
    "    tf.keras.layers.Reshape([OUT_STEPS, num_features])\n",
    "])"
   ]
  },
  {
   "cell_type": "code",
   "execution_count": null,
   "metadata": {},
   "outputs": [],
   "source": []
  },
  {
   "cell_type": "code",
   "execution_count": null,
   "metadata": {},
   "outputs": [],
   "source": [
    "CONV_WIDTH = 11\n",
    "#CONV_LAYER_NO = 3\n",
    "multi_conv_model = tf.keras.Sequential([\n",
    "    keras.layers.Conv1D(256, activation='relu', kernel_size=(CONV_WIDTH)),\n",
    "    keras.layers.Conv1D(256, activation='relu', kernel_size=(CONV_WIDTH)),\n",
    "    keras.layers.MaxPooling1D(pool_size=2),\n",
    "    keras.layers.Conv1D(256, activation='relu', kernel_size=(CONV_WIDTH)),\n",
    "    keras.layers.MaxPooling1D(pool_size=2),\n",
    "    keras.layers.Conv1D(512, activation='relu', kernel_size=(CONV_WIDTH)),\n",
    "    keras.layers.MaxPooling1D(pool_size=2),\n",
    "    keras.layers.Conv1D(1024, activation='relu', kernel_size=(CONV_WIDTH)),\n",
    "    #keras.layers.MaxPooling1D(pool_size=2),\n",
    "    #keras.layers.Conv1D(1024, activation='relu', kernel_size=(CONV_WIDTH)),\n",
    "    #keras.layers.MaxPooling1D(pool_size=2),\n",
    "    #keras.layers.Conv1D(1024, activation='relu', kernel_size=(CONV_WIDTH)),\n",
    "    #keras.layers.MaxPooling1D(pool_size=2),\n",
    "    #keras.layers.Conv1D(1024, activation='relu', kernel_size=(CONV_WIDTH)),\n",
    "    keras.layers.GlobalAveragePooling1D(),\n",
    "    #keras.layers.Dropout(0.5),\n",
    "    \n",
    "    # Shape => [batch, 1,  out_steps*features]\n",
    "    tf.keras.layers.Dense(OUT_STEPS*num_features,\n",
    "                          kernel_initializer=tf.initializers.zeros),\n",
    "    # Shape => [batch, out_steps, features]\n",
    "    tf.keras.layers.Reshape([OUT_STEPS, num_features])\n",
    "])"
   ]
  },
  {
   "cell_type": "code",
   "execution_count": null,
   "metadata": {},
   "outputs": [],
   "source": [
    "CONV_WIDTH = 11\n",
    "#CONV_LAYER_NO = 3\n",
    "multi_conv_model = tf.keras.Sequential([\n",
    "    keras.layers.Conv1D(256, activation='relu', kernel_size=(CONV_WIDTH)),\n",
    "    keras.layers.Conv1D(256, strides=2, activation='relu', kernel_size=(CONV_WIDTH)),\n",
    "    keras.layers.Conv1D(256, strides=2, activation='relu', kernel_size=(CONV_WIDTH)),\n",
    "    keras.layers.Conv1D(512, strides=2, activation='relu', kernel_size=(CONV_WIDTH)),\n",
    "    keras.layers.Conv1D(1024, strides=2, activation='relu', kernel_size=(CONV_WIDTH)),\n",
    "    #keras.layers.MaxPooling1D(pool_size=2),\n",
    "    #keras.layers.Conv1D(1024, activation='relu', kernel_size=(CONV_WIDTH)),\n",
    "    #keras.layers.MaxPooling1D(pool_size=2),\n",
    "    #keras.layers.Conv1D(1024, activation='relu', kernel_size=(CONV_WIDTH)),\n",
    "    #keras.layers.MaxPooling1D(pool_size=2),\n",
    "    #keras.layers.Conv1D(1024, activation='relu', kernel_size=(CONV_WIDTH)),\n",
    "    keras.layers.GlobalAveragePooling1D(),\n",
    "    #keras.layers.Dropout(0.5),\n",
    "    \n",
    "    # Shape => [batch, 1,  out_steps*features]\n",
    "    tf.keras.layers.Dense(OUT_STEPS*num_features,\n",
    "                          kernel_initializer=tf.initializers.zeros),\n",
    "    # Shape => [batch, out_steps, features]\n",
    "    tf.keras.layers.Reshape([OUT_STEPS, num_features])\n",
    "])"
   ]
  },
  {
   "cell_type": "code",
   "execution_count": null,
   "metadata": {},
   "outputs": [],
   "source": [
    "MAX_EPOCHS = 400\n",
    "history = compile_and_fit(multi_conv_model, multi_window)\n",
    "\n",
    "#IPython.display.clear_output()\n",
    "\n",
    "multi_val_performance['Conv'] = multi_conv_model.evaluate(multi_window.val.repeat(-1), steps=100)\n",
    "multi_performance['Conv'] = multi_conv_model.evaluate(multi_window.test.repeat(-1), steps=100, verbose=1)\n",
    "print('val performance =', multi_val_performance['Conv'])\n",
    "print('test performance = ', multi_performance['Conv'])"
   ]
  },
  {
   "cell_type": "code",
   "execution_count": null,
   "metadata": {},
   "outputs": [],
   "source": [
    "plot_history(history)"
   ]
  },
  {
   "cell_type": "code",
   "execution_count": null,
   "metadata": {},
   "outputs": [],
   "source": [
    "multi_window.plot2(multi_conv_model, plot_col=out_features[0])"
   ]
  },
  {
   "cell_type": "markdown",
   "metadata": {},
   "source": [
    "**RNN(Elman)**"
   ]
  },
  {
   "cell_type": "code",
   "execution_count": null,
   "metadata": {
    "scrolled": true
   },
   "outputs": [],
   "source": [
    "multi_elman_model = tf.keras.Sequential([\n",
    "    # Shape [batch, time, features] => [batch, lstm_units]\n",
    "    # Adding more `lstm_units` just overfits more quickly.\n",
    "    #tf.keras.layers.LSTM(32, return_sequences=False),\n",
    "    tf.keras.layers.SimpleRNN(128, return_sequences=False),\n",
    "    # Shape => [batch, out_steps*features]\n",
    "    tf.keras.layers.Dense(OUT_STEPS*out_num_features,\n",
    "                          kernel_initializer=tf.initializers.zeros),\n",
    "    # Shape => [batch, out_steps, features]\n",
    "    tf.keras.layers.Reshape([OUT_STEPS, out_num_features])\n",
    "])\n",
    "\n",
    "history = compile_and_fit(multi_elman_model, multi_window)\n",
    "\n",
    "#IPython.display.clear_output()\n",
    "\n",
    "multi_val_performance['Elman'] = multi_elman_model.evaluate(multi_window.val.repeat(-1), steps=100)\n",
    "multi_performance['Elman'] = multi_elman_model.evaluate(multi_window.test.repeat(-1), steps=100, verbose=1)\n",
    "print('val performance =', multi_val_performance['Elman'])\n",
    "print('test performance = ', multi_performance['Elman'])"
   ]
  },
  {
   "cell_type": "code",
   "execution_count": null,
   "metadata": {},
   "outputs": [],
   "source": [
    "plot_history(history)"
   ]
  },
  {
   "cell_type": "code",
   "execution_count": null,
   "metadata": {},
   "outputs": [],
   "source": [
    "multi_window.plot2(multi_elman_model, plot_col=out_features[0])"
   ]
  },
  {
   "cell_type": "markdown",
   "metadata": {},
   "source": [
    "**RNN(GRU)**"
   ]
  },
  {
   "cell_type": "code",
   "execution_count": null,
   "metadata": {
    "scrolled": true
   },
   "outputs": [],
   "source": [
    "MAX_EPOCHS = 150\n",
    "multi_gru_model = tf.keras.Sequential([\n",
    "    # Shape [batch, time, features] => [batch, lstm_units]\n",
    "    # Adding more `lstm_units` just overfits more quickly.\n",
    "    #tf.keras.layers.LSTM(32, return_sequences=False),\n",
    "    tf.keras.layers.GRU(128, return_sequences=False),\n",
    "    # Shape => [batch, out_steps*features]\n",
    "    tf.keras.layers.Dense(OUT_STEPS*out_num_features,\n",
    "                          kernel_initializer=tf.initializers.zeros),\n",
    "    # Shape => [batch, out_steps, features]\n",
    "    tf.keras.layers.Reshape([OUT_STEPS, out_num_features])\n",
    "])\n",
    "\n",
    "history = compile_and_fit(multi_gru_model, multi_window)\n",
    "\n",
    "#IPython.display.clear_output()\n",
    "\n",
    "multi_val_performance['GRU'] = multi_gru_model.evaluate(multi_window.val.repeat(-1), steps=100)\n",
    "multi_performance['GRU'] = multi_gru_model.evaluate(multi_window.test.repeat(-1), steps=100, verbose=1)\n",
    "print('val performance =', multi_val_performance['GRU'])\n",
    "print('test performance = ', multi_performance['GRU'])"
   ]
  },
  {
   "cell_type": "code",
   "execution_count": null,
   "metadata": {},
   "outputs": [],
   "source": [
    "plot_history(history)"
   ]
  },
  {
   "cell_type": "code",
   "execution_count": null,
   "metadata": {},
   "outputs": [],
   "source": [
    "multi_window.plot2(multi_gru_model, plot_col=out_features[0])"
   ]
  },
  {
   "cell_type": "markdown",
   "metadata": {},
   "source": [
    "**RNN(lstm)**"
   ]
  },
  {
   "cell_type": "code",
   "execution_count": null,
   "metadata": {
    "scrolled": true
   },
   "outputs": [],
   "source": [
    "multi_lstm_model = tf.keras.Sequential([\n",
    "    # Shape [batch, time, features] => [batch, lstm_units]\n",
    "    # Adding more `lstm_units` just overfits more quickly.\n",
    "    #tf.keras.layers.LSTM(32, return_sequences=False),\n",
    "    tf.keras.layers.LSTM(256, return_sequences=False),\n",
    "    # Shape => [batch, out_steps*features]\n",
    "    tf.keras.layers.Dense(OUT_STEPS*out_num_features,\n",
    "                          kernel_initializer=tf.initializers.zeros),\n",
    "    # Shape => [batch, out_steps, features]\n",
    "    tf.keras.layers.Reshape([OUT_STEPS, out_num_features])\n",
    "])\n",
    "\n",
    "history = compile_and_fit(multi_lstm_model, multi_window)\n",
    "\n",
    "#IPython.display.clear_output()\n",
    "\n",
    "multi_val_performance['LSTM'] = multi_lstm_model.evaluate(multi_window.val.repeat(-1), steps=100)\n",
    "multi_performance['LSTM'] = multi_lstm_model.evaluate(multi_window.test.repeat(-1), steps=100, verbose=1)\n",
    "print('val performance =', multi_val_performance['LSTM'])\n",
    "print('test performance = ', multi_performance['LSTM'])"
   ]
  },
  {
   "cell_type": "code",
   "execution_count": null,
   "metadata": {},
   "outputs": [],
   "source": [
    "plot_history(history)"
   ]
  },
  {
   "cell_type": "code",
   "execution_count": null,
   "metadata": {},
   "outputs": [],
   "source": [
    "multi_window.plot2(multi_lstm_model, plot_col=out_features[0])"
   ]
  },
  {
   "cell_type": "markdown",
   "metadata": {},
   "source": [
    "**Autoregressive model**"
   ]
  },
  {
   "cell_type": "code",
   "execution_count": null,
   "metadata": {},
   "outputs": [],
   "source": [
    "class FeedBack(tf.keras.Model):\n",
    "  def __init__(self, units, out_steps):\n",
    "    super().__init__()\n",
    "    self.out_steps = out_steps\n",
    "    self.units = units\n",
    "    self.lstm_cell = tf.keras.layers.LSTMCell(units)\n",
    "    # Also wrap the LSTMCell in an RNN to simplify the `warmup` method.\n",
    "    self.lstm_rnn = tf.keras.layers.RNN(self.lstm_cell, return_state=True)\n",
    "    self.dense = tf.keras.layers.Dense(num_features)\n",
    "    \n",
    "feedback_model = FeedBack(units=32, out_steps=OUT_STEPS)\n",
    "\n",
    "def warmup(self, inputs):\n",
    "  # inputs.shape => (batch, time, features)\n",
    "  # x.shape => (batch, lstm_units)\n",
    "  x, *state = self.lstm_rnn(inputs)\n",
    "  #print('x =', x)\n",
    "\n",
    "  # predictions.shape => (batch, features)\n",
    "  prediction = self.dense(x)\n",
    "  return prediction, state\n",
    "\n",
    "FeedBack.warmup = warmup\n",
    "\n",
    "prediction, state = feedback_model.warmup(multi_window.example[0])\n",
    "prediction.shape\n",
    "\n",
    "def call(self, inputs, training=None):\n",
    "  # Use a TensorArray to capture dynamically unrolled outputs.\n",
    "  predictions = []\n",
    "  # Initialize the lstm state\n",
    "  prediction, state = self.warmup(inputs)\n",
    "\n",
    "  # Insert the first prediction\n",
    "  predictions.append(prediction)\n",
    "\n",
    "  # Run the rest of the prediction steps\n",
    "  for n in range(1, self.out_steps):\n",
    "    # Use the last prediction as input.\n",
    "    x = prediction\n",
    "    # Execute one lstm step.\n",
    "    x, state = self.lstm_cell(x, states=state,\n",
    "                              training=training)\n",
    "    # Convert the lstm output to a prediction.\n",
    "    prediction = self.dense(x)\n",
    "    # Add the prediction to the output\n",
    "    predictions.append(prediction)\n",
    "\n",
    "  # predictions.shape => (time, batch, features)\n",
    "  predictions = tf.stack(predictions)\n",
    "  # predictions.shape => (batch, time, features)\n",
    "  predictions = tf.transpose(predictions, [1, 0, 2])\n",
    "  predictions = tf.keras.layers.Lambda(lambda x: x[:, :, out_features[0]:(out_features[0]+len(out_features))])(predictions)\n",
    "  return predictions\n",
    "\n",
    "FeedBack.call = call\n",
    "\n",
    "print('Output shape (batch, time, features): ', feedback_model(multi_window.example[0]).shape)"
   ]
  },
  {
   "cell_type": "code",
   "execution_count": null,
   "metadata": {},
   "outputs": [],
   "source": [
    "it = iter(multi_window.train)\n",
    "x,y = next(it)\n",
    "print(x.shape, y.shape)\n",
    "pred = feedback_model.predict(x)\n",
    "pred.shape"
   ]
  },
  {
   "cell_type": "code",
   "execution_count": null,
   "metadata": {},
   "outputs": [],
   "source": [
    "history = compile_and_fit(feedback_model, multi_window)\n",
    "\n",
    "#IPython.display.clear_output()\n",
    "\n",
    "multi_val_performance['AR LSTM'] = feedback_model.evaluate(multi_window.val.repeat(-1), steps=100)\n",
    "multi_performance['AR LSTM'] = feedback_model.evaluate(multi_window.test.repeat(-1), steps=100, verbose=1)\n",
    "\n",
    "print('val performance =', multi_val_performance['AR LSTM'])\n",
    "print('test performance = ', multi_performance['AR LSTM'])"
   ]
  },
  {
   "cell_type": "code",
   "execution_count": null,
   "metadata": {},
   "outputs": [],
   "source": [
    "plot_history(history)"
   ]
  },
  {
   "cell_type": "code",
   "execution_count": null,
   "metadata": {},
   "outputs": [],
   "source": [
    "multi_window.plot2(feedback_model, plot_col=out_features[0])"
   ]
  },
  {
   "cell_type": "markdown",
   "metadata": {},
   "source": [
    "**performance**"
   ]
  },
  {
   "cell_type": "code",
   "execution_count": null,
   "metadata": {},
   "outputs": [],
   "source": [
    "x = np.arange(len(multi_performance))\n",
    "width = 0.3\n",
    "\n",
    "\n",
    "metric_name = 'mean_absolute_error'\n",
    "metric_index = multi_conv_model.metrics_names.index('mean_absolute_error')\n",
    "val_mae = [v[metric_index] for v in multi_val_performance.values()]\n",
    "test_mae = [v[metric_index] for v in multi_performance.values()]\n",
    "\n",
    "plt.figure()\n",
    "plt.bar(x - 0.17, val_mae, width, label='Validation')\n",
    "plt.bar(x + 0.17, test_mae, width, label='Test')\n",
    "plt.xticks(ticks=x, labels=multi_performance.keys(),\n",
    "           rotation=45)\n",
    "plt.ylabel(f'MAE (average over all times and outputs)')\n",
    "_ = plt.legend()\n",
    "plt.show()"
   ]
  },
  {
   "cell_type": "code",
   "execution_count": null,
   "metadata": {},
   "outputs": [],
   "source": [
    "test_df"
   ]
  },
  {
   "cell_type": "code",
   "execution_count": null,
   "metadata": {},
   "outputs": [],
   "source": [
    "test_df.shape"
   ]
  },
  {
   "cell_type": "code",
   "execution_count": null,
   "metadata": {},
   "outputs": [],
   "source": [
    "from tqdm import tqdm\n",
    "\n",
    "class DaysPrediction(object):\n",
    "    def __init__(self,\n",
    "                 df=test_df,\n",
    "                 in_steps=24*5,\n",
    "                 out_steps=OUT_STEPS,\n",
    "                ):\n",
    "        self.df = df\n",
    "        self.in_steps = in_steps\n",
    "        self.out_steps = out_steps\n",
    "        len = df.shape[0]//in_steps*in_steps\n",
    "        self.n_days = (len - in_steps)//24\n",
    "        self.pred_days = out_steps//24\n",
    "        self.in_days = in_steps//24\n",
    "        self.gt = np.full((self.n_days), np.nan)\n",
    "        for i in range(self.n_days):\n",
    "            x = test_df[i*24:(i*24+24)].to_numpy()\n",
    "            self.gt[i] = np.average(x[0:24, out_features[0]])\n",
    "        \n",
    "    def predict(self, model):\n",
    "        preds = np.full((self.pred_days, self.n_days), np.nan)\n",
    "        for i in tqdm(range(self.n_days-self.in_days)):\n",
    "            x = test_df[i*24:(i*24+self.in_steps)].to_numpy()\n",
    "            x = x.reshape((-1, self.in_steps, self.df.shape[1]))\n",
    "            y = model.predict(x)\n",
    "            for j in range(self.pred_days):\n",
    "                if i+self.in_days+j >= self.n_days:\n",
    "                    break\n",
    "                preds[j][i+self.in_days+j] = np.average(y[:, j*24:j*24+24, :])\n",
    "        return preds"
   ]
  },
  {
   "cell_type": "code",
   "execution_count": null,
   "metadata": {},
   "outputs": [],
   "source": [
    "preds_dict = {}\n",
    "days_prediction = DaysPrediction()\n",
    "preds_dict['GRU'] = days_prediction.predict(multi_gru_model)"
   ]
  },
  {
   "cell_type": "code",
   "execution_count": null,
   "metadata": {},
   "outputs": [],
   "source": [
    "def denormalize(data):\n",
    "    return data*train_std[out_features[0]]+train_mean[out_features[0]]"
   ]
  },
  {
   "cell_type": "code",
   "execution_count": null,
   "metadata": {},
   "outputs": [],
   "source": [
    "gt = denormalize(days_prediction.gt)\n",
    "denorm_preds = {}\n",
    "denorm_preds['GRU'] = denormalize(preds_dict['GRU'])"
   ]
  },
  {
   "cell_type": "code",
   "execution_count": null,
   "metadata": {},
   "outputs": [],
   "source": [
    "plt.figure(figsize=(8, 3))\n",
    "plt.plot(gt)\n",
    "plt.plot(denorm_preds['GRU'][4])\n",
    "plt.show()"
   ]
  },
  {
   "cell_type": "code",
   "execution_count": null,
   "metadata": {},
   "outputs": [],
   "source": [
    "pred_day = 0\n",
    "pred_slice = slice(days_prediction.in_days+pred_day, None)\n",
    "\n",
    "mae = np.mean(np.absolute(gt[pred_slice] - (denorm_preds['GRU'][pred_day])[pred_slice]))\n",
    "print(mae)\n",
    "mape = np.mean(np.absolute((gt[pred_slice] - denorm_preds['GRU'][pred_day][pred_slice])/gt[pred_slice]))\n",
    "print(mape)"
   ]
  },
  {
   "cell_type": "code",
   "execution_count": null,
   "metadata": {},
   "outputs": [],
   "source": []
  },
  {
   "cell_type": "code",
   "execution_count": null,
   "metadata": {},
   "outputs": [],
   "source": [
    "quality_standard = [\n",
    "    [], #0\n",
    "    [],\n",
    "    [],\n",
    "    [],\n",
    "    [],\n",
    "    {'dir':'lte', 'level': [2,3,4,5,6,8]}, #Cl\n",
    "    {'dir':'lte', 'level': [5,9,14,20,35,70]}, #Cl\n",
    "]\n",
    "\n"
   ]
  },
  {
   "cell_type": "code",
   "execution_count": null,
   "metadata": {},
   "outputs": [],
   "source": [
    "def calc_level(feature_id, data):\n",
    "    standard = quality_standard[feature_id]\n",
    "    levels = np.empty((0,))\n",
    "    n_level = len(standard['level'])\n",
    "    if (standard['dir']=='lte'):\n",
    "        for i in range(len(data)):\n",
    "            level = n_level\n",
    "            for j in range(n_level):\n",
    "                if data[i] <= standard['level'][j]:\n",
    "                    level = j\n",
    "                    break\n",
    "            levels = np.append(levels, level)\n",
    "    return levels"
   ]
  },
  {
   "cell_type": "code",
   "execution_count": null,
   "metadata": {},
   "outputs": [],
   "source": [
    "gt_level = calc_level(out_features[0], gt[pred_slice])\n",
    "pred_level = calc_level(out_features[0], denorm_preds['GRU'][4][pred_slice])\n",
    "print('precision =', np.mean((gt_level == pred_level).astype(float))*100)"
   ]
  },
  {
   "cell_type": "code",
   "execution_count": null,
   "metadata": {},
   "outputs": [],
   "source": [
    "gt_level[0:100]"
   ]
  },
  {
   "cell_type": "code",
   "execution_count": null,
   "metadata": {},
   "outputs": [],
   "source": [
    "test_df.shape\n",
    "\n",
    "INPUT_STEPS = 24*5\n",
    "len = test_df.shape[0]//INPUT_STEPS*INPUT_STEPS\n",
    "n_days = (len - INPUT_STEPS)//24\n",
    "pred_days = OUT_STEPS//24\n",
    "input_days = INPUT_STEPS//24\n",
    "print('n_days=', n_days, 'pred_days = ', pred_days)\n",
    "\n",
    "preds = np.zeros((pred_days, n_days))\n",
    "gt = np.zeros((n_days))\n",
    "\n",
    "for i in range(n_days-input_days-pred_days):#for i in range(100):\n",
    "    x = test_df[i*24:(i*24+INPUT_STEPS)].to_numpy()\n",
    "    gt[i] = np.average(x[0:24, out_features[0]])\n",
    "    x = x.reshape((-1, INPUT_STEPS, test_df.shape[1]))\n",
    "    y = multi_lstm_model(x)\n",
    "    for j in range(pred_days):\n",
    "        preds[j][i+input_days+j] = np.average(y[:, j*24:j*24+24, :])"
   ]
  },
  {
   "cell_type": "code",
   "execution_count": null,
   "metadata": {},
   "outputs": [],
   "source": [
    "\n",
    "plt.figure()\n",
    "plt.plot(gt)\n",
    "plt.plot(preds[4])\n",
    "plt.show()"
   ]
  },
  {
   "cell_type": "code",
   "execution_count": null,
   "metadata": {},
   "outputs": [],
   "source": [
    "OUT_STEPS = 24*5\n",
    "seq_window = WindowGenerator(input_width=24*5,\n",
    "                               label_width=OUT_STEPS,\n",
    "                               shift=OUT_STEPS,\n",
    "                               train_df=train_df,\n",
    "                               val_df=val_df,\n",
    "                               test_df=test_df,\n",
    "                               )\n",
    "\n",
    "seq_window.plot2(plot_col=out_features[0])\n",
    "seq_window"
   ]
  },
  {
   "cell_type": "markdown",
   "metadata": {},
   "source": [
    "## 연습 섹션"
   ]
  },
  {
   "cell_type": "code",
   "execution_count": null,
   "metadata": {},
   "outputs": [],
   "source": []
  },
  {
   "cell_type": "code",
   "execution_count": null,
   "metadata": {},
   "outputs": [],
   "source": [
    "it = iter(wide_window.val)\n",
    "x,y = next(it)"
   ]
  },
  {
   "cell_type": "code",
   "execution_count": null,
   "metadata": {},
   "outputs": [],
   "source": [
    "x.shape, y.shape"
   ]
  },
  {
   "cell_type": "code",
   "execution_count": null,
   "metadata": {},
   "outputs": [],
   "source": [
    "history = gain.fit(wide_window.train, epochs=20,\n",
    "                      validation_data=wide_window.val,\n",
    "                      callbacks=[])"
   ]
  },
  {
   "cell_type": "code",
   "execution_count": null,
   "metadata": {},
   "outputs": [],
   "source": [
    "it = iter(wide_window.val)\n",
    "x,y = next(it)\n",
    "x.shape, y.shape"
   ]
  },
  {
   "cell_type": "code",
   "execution_count": null,
   "metadata": {},
   "outputs": [],
   "source": [
    "gain.predict(x)"
   ]
  },
  {
   "cell_type": "code",
   "execution_count": null,
   "metadata": {},
   "outputs": [],
   "source": [
    "df[0].isna().astype(int).sum()"
   ]
  },
  {
   "cell_type": "code",
   "execution_count": null,
   "metadata": {},
   "outputs": [],
   "source": [
    "date_time1 = pd.to_datetime(df_full[0].iloc[:, 0], format='%Y.%m.%d %H:%M')\n",
    "date_time2 = pd.to_datetime(df_full[0].iloc[:, 0], format='%Y.%m.%d %H:%M')"
   ]
  },
  {
   "cell_type": "code",
   "execution_count": null,
   "metadata": {},
   "outputs": [],
   "source": [
    "timestamp_s1 = date_time1.map(datetime.datetime.timestamp)\n",
    "timestamp_s2 = date_time2.map(datetime.datetime.timestamp)"
   ]
  },
  {
   "cell_type": "code",
   "execution_count": null,
   "metadata": {},
   "outputs": [],
   "source": [
    "day = 24*60*60\n",
    "year = (365.2425)*day\n",
    "\n",
    "df[0]['Day sin'] = np.sin(timestamp_s1 * (2 * np.pi / day))\n",
    "df[0]['Day cos'] = np.cos(timestamp_s1 * (2 * np.pi / day))\n",
    "df[0]['Year sin'] = np.sin(timestamp_s1 * (2 * np.pi / year))\n",
    "df[0]['Year cos'] = np.cos(timestamp_s1 * (2 * np.pi / year))\n",
    "\n",
    "df[1]['Day sin'] = np.sin(timestamp_s2 * (2 * np.pi / day))\n",
    "df[1]['Day cos'] = np.cos(timestamp_s2 * (2 * np.pi / day))\n",
    "df[1]['Year sin'] = np.sin(timestamp_s2 * (2 * np.pi / year))\n",
    "df[1]['Year cos'] = np.cos(timestamp_s2 * (2 * np.pi / year))"
   ]
  },
  {
   "cell_type": "code",
   "execution_count": null,
   "metadata": {},
   "outputs": [],
   "source": [
    "class CustomModel(keras.Model):\n",
    "    def train_step(self, data):\n",
    "        print(data[0].shape)\n",
    "        # Unpack the data. Its structure depends on your model and\n",
    "        # on what you pass to `fit()`.\n",
    "        x, y = data\n",
    "\n",
    "        with tf.GradientTape() as tape:\n",
    "            y_pred = self(x, training=True)  # Forward pass\n",
    "            # Compute the loss value\n",
    "            # (the loss function is configured in `compile()`)\n",
    "            loss = self.compiled_loss(y, y_pred, regularization_losses=self.losses)\n",
    "\n",
    "        # Compute gradients\n",
    "        trainable_vars = self.trainable_variables\n",
    "        gradients = tape.gradient(loss, trainable_vars)\n",
    "        # Update weights\n",
    "        self.optimizer.apply_gradients(zip(gradients, trainable_vars))\n",
    "        # Update metrics (includes the metric that tracks the loss)\n",
    "        self.compiled_metrics.update_state(y, y_pred)\n",
    "        # Return a dict mapping metric names to current value\n",
    "        return {m.name: m.result() for m in self.metrics}"
   ]
  },
  {
   "cell_type": "code",
   "execution_count": null,
   "metadata": {},
   "outputs": [],
   "source": [
    "import numpy as np\n",
    "\n",
    "# Construct and compile an instance of CustomModel\n",
    "inputs = keras.Input(shape=(32,))\n",
    "outputs = keras.layers.Dense(1)(inputs)\n",
    "model = CustomModel(inputs, outputs)\n",
    "model.compile(optimizer=\"adam\", loss=\"mse\", metrics=[\"mae\"])\n",
    "\n",
    "# Just use `fit` as usual\n",
    "x = np.random.random((1000, 32))\n",
    "y = np.random.random((1000, 1))\n",
    "model.fit(x, y, epochs=3)"
   ]
  },
  {
   "cell_type": "code",
   "execution_count": null,
   "metadata": {},
   "outputs": [],
   "source": [
    "ds = tf.data.Dataset.from_tensor_slices((x,y))"
   ]
  },
  {
   "cell_type": "code",
   "execution_count": null,
   "metadata": {},
   "outputs": [],
   "source": [
    "ds.element_spec\n"
   ]
  },
  {
   "cell_type": "code",
   "execution_count": null,
   "metadata": {},
   "outputs": [],
   "source": [
    "ds = ds.batch(5)\n",
    "ds.element_spec"
   ]
  },
  {
   "cell_type": "code",
   "execution_count": null,
   "metadata": {},
   "outputs": [],
   "source": [
    "df2"
   ]
  },
  {
   "cell_type": "code",
   "execution_count": null,
   "metadata": {},
   "outputs": [],
   "source": [
    "model.fit(ds)"
   ]
  },
  {
   "cell_type": "markdown",
   "metadata": {},
   "source": [
    "# MNIST with data generator\n",
    "\n",
    "https://towardsdatascience.com/keras-custom-data-generators-example-with-mnist-dataset-2a7a2d2b0360\n"
   ]
  },
  {
   "cell_type": "code",
   "execution_count": null,
   "metadata": {},
   "outputs": [],
   "source": [
    "import tensorflow as tf\n",
    "import os\n",
    "import tensorflow.keras as keras\n",
    "from tensorflow.keras.models import Sequential\n",
    "from tensorflow.keras.layers import Dense, Dropout, Flatten\n",
    "from tensorflow.keras.layers import Conv2D, MaxPooling2D\n",
    "import numpy as np\n",
    "import math"
   ]
  },
  {
   "cell_type": "code",
   "execution_count": null,
   "metadata": {},
   "outputs": [],
   "source": [
    "mnist = tf.keras.datasets.mnist\n",
    "(x_train, y_train), (x_test, y_test) = mnist.load_data()"
   ]
  },
  {
   "cell_type": "code",
   "execution_count": null,
   "metadata": {},
   "outputs": [],
   "source": [
    "class DataGenerator(tf.compat.v2.keras.utils.Sequence):\n",
    " \n",
    "    def __init__(self, X_data , y_data, batch_size, dim, n_classes,\n",
    "                 to_fit, shuffle = True):\n",
    "        self.batch_size = batch_size\n",
    "        self.X_data = X_data\n",
    "        self.labels = y_data\n",
    "        self.y_data = y_data\n",
    "        self.to_fit = to_fit\n",
    "        self.n_classes = n_classes\n",
    "        self.dim = dim\n",
    "        self.shuffle = shuffle\n",
    "        self.n = 0\n",
    "        self.list_IDs = np.arange(len(self.X_data))\n",
    "        self.on_epoch_end()\n",
    "    def __next__(self):\n",
    "        # Get one batch of data\n",
    "        data = self.__getitem__(self.n)\n",
    "        # Batch index\n",
    "        self.n += 1\n",
    "        \n",
    "        # If we have processed the entire dataset then\n",
    "        if self.n >= self.__len__():\n",
    "            self.on_epoch_end\n",
    "            self.n = 0\n",
    "        \n",
    "        return data\n",
    "    def __len__(self):\n",
    "        # Return the number of batches of the dataset\n",
    "        return math.ceil(len(self.indexes)/self.batch_size)\n",
    "    def __getitem__(self, index):\n",
    "        # Generate indexes of the batch\n",
    "        indexes = self.indexes[index*self.batch_size:\n",
    "            (index+1)*self.batch_size]\n",
    "        # Find list of IDs\n",
    "        list_IDs_temp = [self.list_IDs[k] for k in indexes]\n",
    "        \n",
    "        X = self._generate_x(list_IDs_temp)\n",
    "        \n",
    "        if self.to_fit:\n",
    "            y = self._generate_y(list_IDs_temp)\n",
    "            return X, y\n",
    "        else:\n",
    "            return X\n",
    "    def on_epoch_end(self):\n",
    "        \n",
    "        self.indexes = np.arange(len(self.X_data))\n",
    "        \n",
    "        if self.shuffle: \n",
    "            np.random.shuffle(self.indexes)\n",
    "    def _generate_x(self, list_IDs_temp):\n",
    "               \n",
    "        X = np.empty((self.batch_size, *self.dim))\n",
    "        \n",
    "        for i, ID in enumerate(list_IDs_temp):\n",
    "            \n",
    "            X[i,] = self.X_data[ID]\n",
    "            \n",
    "            # Normalize data\n",
    "            X = (X/255).astype('float32')\n",
    "            \n",
    "        return X[:,:,:, np.newaxis]\n",
    "    def _generate_y(self, list_IDs_temp):\n",
    "        \n",
    "        y = np.empty(self.batch_size)\n",
    "        \n",
    "        for i, ID in enumerate(list_IDs_temp):\n",
    "            \n",
    "            y[i] = self.y_data[ID]\n",
    "            \n",
    "        return keras.utils.to_categorical(\n",
    "                y,num_classes=self.n_classes)"
   ]
  },
  {
   "cell_type": "code",
   "execution_count": null,
   "metadata": {},
   "outputs": [],
   "source": [
    "n_classes = 10\n",
    "input_shape = (28, 28)\n",
    "model = Sequential()\n",
    "model.add(Conv2D(32, kernel_size=(3, 3),\n",
    "                 activation='relu',\n",
    "                 input_shape=(28, 28 , 1)))\n",
    "model.add(Conv2D(64, (3, 3), activation='relu'))\n",
    "model.add(MaxPooling2D(pool_size=(2, 2)))\n",
    "model.add(Dropout(0.25))\n",
    "model.add(Flatten())\n",
    "model.add(Dense(128, activation='relu'))\n",
    "model.add(Dropout(0.5))\n",
    "model.add(Dense(n_classes, activation='softmax'))\n",
    "model.compile(loss=keras.losses.categorical_crossentropy,\n",
    "              optimizer=keras.optimizers.Adadelta(),\n",
    "              metrics=['accuracy'])"
   ]
  },
  {
   "cell_type": "code",
   "execution_count": null,
   "metadata": {},
   "outputs": [],
   "source": [
    "train_generator = DataGenerator(x_train, y_train, batch_size = 64,\n",
    "                                dim = input_shape,\n",
    "                                n_classes=10, \n",
    "                                to_fit=True, shuffle=True)\n",
    "val_generator =  DataGenerator(x_test, y_test, batch_size=64, \n",
    "                               dim = input_shape, \n",
    "                               n_classes= n_classes, \n",
    "                               to_fit=True, shuffle=True)"
   ]
  },
  {
   "cell_type": "code",
   "execution_count": null,
   "metadata": {},
   "outputs": [],
   "source": [
    "steps_per_epoch = len(train_generator)\n",
    "validation_steps = len(val_generator)"
   ]
  },
  {
   "cell_type": "code",
   "execution_count": null,
   "metadata": {},
   "outputs": [],
   "source": [
    "model.fit(\n",
    "        train_generator,\n",
    "        steps_per_epoch=steps_per_epoch,\n",
    "        epochs=1,\n",
    "        validation_data=val_generator,\n",
    "        validation_steps=validation_steps)"
   ]
  },
  {
   "cell_type": "code",
   "execution_count": null,
   "metadata": {},
   "outputs": [],
   "source": [
    "it = iter(train_generator)"
   ]
  },
  {
   "cell_type": "code",
   "execution_count": null,
   "metadata": {},
   "outputs": [],
   "source": [
    "x,y = next(it)"
   ]
  },
  {
   "cell_type": "code",
   "execution_count": null,
   "metadata": {},
   "outputs": [],
   "source": [
    "x.shape"
   ]
  },
  {
   "cell_type": "code",
   "execution_count": null,
   "metadata": {},
   "outputs": [],
   "source": [
    "y.shape"
   ]
  },
  {
   "cell_type": "markdown",
   "metadata": {},
   "source": [
    "## MNIST with custom model"
   ]
  },
  {
   "cell_type": "code",
   "execution_count": null,
   "metadata": {},
   "outputs": [],
   "source": [
    "n_classes = 10\n",
    "input_shape = (28, 28, 1)\n",
    "input_data = keras.layers.Input(shape=input_shape)\n",
    "x = Conv2D(32, kernel_size=(3, 3),\n",
    "                 activation='relu')(input_data)\n",
    "x = Conv2D(64, (3, 3), activation='relu')(x)\n",
    "x = MaxPooling2D(pool_size=(2, 2))(x)\n",
    "x = Dropout(0.25)(x)\n",
    "x = Flatten()(x)\n",
    "x = Dense(128, activation='relu')(x)\n",
    "x = Dropout(0.5)(x)\n",
    "output_data = Dense(n_classes, activation='softmax')(x)\n",
    "model = CustomModel(input_data, output_data)\n",
    "model.compile(loss=keras.losses.categorical_crossentropy,\n",
    "              optimizer=keras.optimizers.Adadelta(),\n",
    "              metrics=['accuracy'])"
   ]
  },
  {
   "cell_type": "code",
   "execution_count": null,
   "metadata": {},
   "outputs": [],
   "source": [
    "model.fit(\n",
    "        train_generator,\n",
    "        steps_per_epoch=steps_per_epoch,\n",
    "        epochs=1,\n",
    "        validation_data=val_generator,\n",
    "        validation_steps=validation_steps)"
   ]
  },
  {
   "cell_type": "markdown",
   "metadata": {},
   "source": [
    "결론: DataGenerator 만으로는 train_step에 input data의 shape에 None으로 들어간다.\n",
    "\n",
    "```py\n",
    "        X = keras.layers.Reshape((tf.reduce_sum(x.shape[1:]),))(x)\n",
    "        Y = keras.layers.Reshape((tf.reduce_sum(x.shape[1:]),))(y)\n",
    "        X = tf.reshape(x, shape=(x.shape[0], -1))\n",
    "        Y = tf.reshape(y, shape=(x.shape[0], -1)\n",
    "```\n",
    "\n",
    "이런 함수들을 train_step 내에 사용할 수 없다"
   ]
  },
  {
   "cell_type": "markdown",
   "metadata": {},
   "source": [
    "# 한글 폰트"
   ]
  },
  {
   "cell_type": "code",
   "execution_count": null,
   "metadata": {},
   "outputs": [],
   "source": [
    "\n",
    "\n",
    "import matplotlib\n",
    "import matplotlib.font_manager\n",
    "\n",
    "[f.fname for f in matplotlib.font_manager.fontManager.ttflist]\n",
    "\n"
   ]
  },
  {
   "cell_type": "code",
   "execution_count": null,
   "metadata": {},
   "outputs": [],
   "source": [
    "! fc-list :lang=ko"
   ]
  },
  {
   "cell_type": "code",
   "execution_count": null,
   "metadata": {},
   "outputs": [],
   "source": [
    "import matplotlib\n",
    "import matplotlib.font_manager as fm\n",
    "fm.get_fontconfig_fonts()\n",
    "font_location = '/usr/share/fonts/truetype/nanum/NanumGothicCoding.ttf'\n",
    "#font_location = '/usr/share/fonts/opentype/noto/NotoSansCJK-Regular.ttc'\n",
    "# font_location = 'C:/Windows/Fonts/NanumGothic.ttf' # For Windows\n",
    "fprop = fm.FontProperties(fname=font_location)"
   ]
  },
  {
   "cell_type": "code",
   "execution_count": null,
   "metadata": {},
   "outputs": [],
   "source": [
    "fig = plt.figure()  \n",
    "plt.plot((1,1), label='가-가가')  \n",
    "plt.title('가가가',fontproperties=fprop)  \n",
    "plt.legend(prop=fprop)  \n",
    "plt.show()"
   ]
  },
  {
   "cell_type": "code",
   "execution_count": null,
   "metadata": {},
   "outputs": [],
   "source": []
  }
 ],
 "metadata": {
  "kernelspec": {
   "display_name": "Python 3",
   "language": "python",
   "name": "python3"
  },
  "language_info": {
   "codemirror_mode": {
    "name": "ipython",
    "version": 3
   },
   "file_extension": ".py",
   "mimetype": "text/x-python",
   "name": "python",
   "nbconvert_exporter": "python",
   "pygments_lexer": "ipython3",
   "version": "3.7.9"
  }
 },
 "nbformat": 4,
 "nbformat_minor": 4
}
