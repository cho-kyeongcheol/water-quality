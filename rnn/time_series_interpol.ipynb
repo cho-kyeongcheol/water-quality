{
 "cells": [
  {
   "cell_type": "code",
   "execution_count": 2,
   "metadata": {},
   "outputs": [],
   "source": [
    "import pandas as pd\n",
    "import numpy as np\n",
    "import os"
   ]
  },
  {
   "cell_type": "code",
   "execution_count": 3,
   "metadata": {},
   "outputs": [],
   "source": [
    "%matplotlib widget\n",
    "import matplotlib.pyplot as plt\n"
   ]
  },
  {
   "cell_type": "code",
   "execution_count": null,
   "metadata": {},
   "outputs": [],
   "source": [
    "#0  2016-04-15 12:00  상반기      대성리   1015R40  37.6781  127.3821     NaN    2534\n",
    "#1  2016-10-25 12:00  하반기      대성리   1015R40  37.6781  127.3821     NaN    7166\n",
    "#0  2017-04-18 12:00  상반기      대성리   1015R40  37.6781  127.3821     NaN   11366\n",
    "#1  2017-09-06 12:00  하반기      대성리   1015R40  37.6781  127.3821     NaN   14750\n",
    "#0  2018-04-11 12:00  상반기      대성리   1015R40  37.6781  127.3821     NaN   19958\n",
    "#1  2018-10-17 12:00  하반기      대성리   1015R40  37.6781  127.3821     NaN   24494\n",
    "#0  2019-03-26 12:00  상반기      대성리   1015R40  37.6781  127.3821     NaN   28334\n",
    "#1  2019-10-31 12:00  하반기      대성리   1015R40  37.6781  127.3821     NaN   33590\n"
   ]
  },
  {
   "cell_type": "code",
   "execution_count": 4,
   "metadata": {},
   "outputs": [
    {
     "name": "stdout",
     "output_type": "stream",
     "text": [
      "4\n",
      "대성리_2016.xlsx\n",
      "대성리_2017.xlsx\n",
      "대성리_2018.xlsx\n",
      "대성리_2019.xlsx\n"
     ]
    },
    {
     "data": {
      "application/vnd.jupyter.widget-view+json": {
       "model_id": "89653c0028704131a358c2a4485eb27c",
       "version_major": 2,
       "version_minor": 0
      },
      "text/plain": [
       "Canvas(toolbar=Toolbar(toolitems=[('Home', 'Reset original view', 'home', 'home'), ('Back', 'Back to previous …"
      ]
     },
     "metadata": {},
     "output_type": "display_data"
    },
    {
     "data": {
      "application/vnd.jupyter.widget-view+json": {
       "model_id": "69bf7de9ee024523affeae6504605691",
       "version_major": 2,
       "version_minor": 0
      },
      "text/plain": [
       "Canvas(toolbar=Toolbar(toolitems=[('Home', 'Reset original view', 'home', 'home'), ('Back', 'Back to previous …"
      ]
     },
     "metadata": {},
     "output_type": "display_data"
    },
    {
     "data": {
      "application/vnd.jupyter.widget-view+json": {
       "model_id": "46003fa709b24db5a618c4e5c120e5f0",
       "version_major": 2,
       "version_minor": 0
      },
      "text/plain": [
       "Canvas(toolbar=Toolbar(toolitems=[('Home', 'Reset original view', 'home', 'home'), ('Back', 'Back to previous …"
      ]
     },
     "metadata": {},
     "output_type": "display_data"
    },
    {
     "data": {
      "application/vnd.jupyter.widget-view+json": {
       "model_id": "54f9ca6219744e6fa404678710373fe9",
       "version_major": 2,
       "version_minor": 0
      },
      "text/plain": [
       "Canvas(toolbar=Toolbar(toolitems=[('Home', 'Reset original view', 'home', 'home'), ('Back', 'Back to previous …"
      ]
     },
     "metadata": {},
     "output_type": "display_data"
    },
    {
     "data": {
      "application/vnd.jupyter.widget-view+json": {
       "model_id": "c82e93ec045347bca2fb59a42f9eb640",
       "version_major": 2,
       "version_minor": 0
      },
      "text/plain": [
       "Canvas(toolbar=Toolbar(toolitems=[('Home', 'Reset original view', 'home', 'home'), ('Back', 'Back to previous …"
      ]
     },
     "metadata": {},
     "output_type": "display_data"
    },
    {
     "data": {
      "application/vnd.jupyter.widget-view+json": {
       "model_id": "c00bd5a5f0a74813bc05af928820175f",
       "version_major": 2,
       "version_minor": 0
      },
      "text/plain": [
       "Canvas(toolbar=Toolbar(toolitems=[('Home', 'Reset original view', 'home', 'home'), ('Back', 'Back to previous …"
      ]
     },
     "metadata": {},
     "output_type": "display_data"
    },
    {
     "data": {
      "application/vnd.jupyter.widget-view+json": {
       "model_id": "edf36d604ad44ac8b306621a45754c90",
       "version_major": 2,
       "version_minor": 0
      },
      "text/plain": [
       "Canvas(toolbar=Toolbar(toolitems=[('Home', 'Reset original view', 'home', 'home'), ('Back', 'Back to previous …"
      ]
     },
     "metadata": {},
     "output_type": "display_data"
    },
    {
     "data": {
      "application/vnd.jupyter.widget-view+json": {
       "model_id": "4f45d00d93e143efbff24d43a81652c9",
       "version_major": 2,
       "version_minor": 0
      },
      "text/plain": [
       "Canvas(toolbar=Toolbar(toolitems=[('Home', 'Reset original view', 'home', 'home'), ('Back', 'Back to previous …"
      ]
     },
     "metadata": {},
     "output_type": "display_data"
    },
    {
     "data": {
      "application/vnd.jupyter.widget-view+json": {
       "model_id": "13154d19ad74405ba529f1db44a79abd",
       "version_major": 2,
       "version_minor": 0
      },
      "text/plain": [
       "Canvas(toolbar=Toolbar(toolitems=[('Home', 'Reset original view', 'home', 'home'), ('Back', 'Back to previous …"
      ]
     },
     "metadata": {},
     "output_type": "display_data"
    },
    {
     "data": {
      "application/vnd.jupyter.widget-view+json": {
       "model_id": "0c10ed459c4149ba8ada9903213eb4c5",
       "version_major": 2,
       "version_minor": 0
      },
      "text/plain": [
       "Canvas(toolbar=Toolbar(toolitems=[('Home', 'Reset original view', 'home', 'home'), ('Back', 'Back to previous …"
      ]
     },
     "metadata": {},
     "output_type": "display_data"
    },
    {
     "data": {
      "application/vnd.jupyter.widget-view+json": {
       "model_id": "e95f7e35c30a4295b286077006c96971",
       "version_major": 2,
       "version_minor": 0
      },
      "text/plain": [
       "Canvas(toolbar=Toolbar(toolitems=[('Home', 'Reset original view', 'home', 'home'), ('Back', 'Back to previous …"
      ]
     },
     "metadata": {},
     "output_type": "display_data"
    },
    {
     "data": {
      "application/vnd.jupyter.widget-view+json": {
       "model_id": "04b510ac48a34388b1b3494506e0fb8e",
       "version_major": 2,
       "version_minor": 0
      },
      "text/plain": [
       "Canvas(toolbar=Toolbar(toolitems=[('Home', 'Reset original view', 'home', 'home'), ('Back', 'Back to previous …"
      ]
     },
     "metadata": {},
     "output_type": "display_data"
    },
    {
     "data": {
      "application/vnd.jupyter.widget-view+json": {
       "model_id": "490fb87ddafc485685fafaa6897ee13a",
       "version_major": 2,
       "version_minor": 0
      },
      "text/plain": [
       "Canvas(toolbar=Toolbar(toolitems=[('Home', 'Reset original view', 'home', 'home'), ('Back', 'Back to previous …"
      ]
     },
     "metadata": {},
     "output_type": "display_data"
    },
    {
     "data": {
      "application/vnd.jupyter.widget-view+json": {
       "model_id": "85b91af4b56d45019d7307e3aaa79769",
       "version_major": 2,
       "version_minor": 0
      },
      "text/plain": [
       "Canvas(toolbar=Toolbar(toolitems=[('Home', 'Reset original view', 'home', 'home'), ('Back', 'Back to previous …"
      ]
     },
     "metadata": {},
     "output_type": "display_data"
    },
    {
     "data": {
      "application/vnd.jupyter.widget-view+json": {
       "model_id": "462f7a1176ca4a6f83b469d553d600a8",
       "version_major": 2,
       "version_minor": 0
      },
      "text/plain": [
       "Canvas(toolbar=Toolbar(toolitems=[('Home', 'Reset original view', 'home', 'home'), ('Back', 'Back to previous …"
      ]
     },
     "metadata": {},
     "output_type": "display_data"
    },
    {
     "data": {
      "application/vnd.jupyter.widget-view+json": {
       "model_id": "bb456cadaa8749e29d4e30d0d087f315",
       "version_major": 2,
       "version_minor": 0
      },
      "text/plain": [
       "Canvas(toolbar=Toolbar(toolitems=[('Home', 'Reset original view', 'home', 'home'), ('Back', 'Back to previous …"
      ]
     },
     "metadata": {},
     "output_type": "display_data"
    },
    {
     "data": {
      "application/vnd.jupyter.widget-view+json": {
       "model_id": "ac0dead073df4cc1bd1578e20b11638e",
       "version_major": 2,
       "version_minor": 0
      },
      "text/plain": [
       "Canvas(toolbar=Toolbar(toolitems=[('Home', 'Reset original view', 'home', 'home'), ('Back', 'Back to previous …"
      ]
     },
     "metadata": {},
     "output_type": "display_data"
    },
    {
     "data": {
      "application/vnd.jupyter.widget-view+json": {
       "model_id": "f69a4a7a9841497485b9bc4d0cfe811a",
       "version_major": 2,
       "version_minor": 0
      },
      "text/plain": [
       "Canvas(toolbar=Toolbar(toolitems=[('Home', 'Reset original view', 'home', 'home'), ('Back', 'Back to previous …"
      ]
     },
     "metadata": {},
     "output_type": "display_data"
    },
    {
     "data": {
      "application/vnd.jupyter.widget-view+json": {
       "model_id": "179402d65cc2420cac5a2220f01e4f1a",
       "version_major": 2,
       "version_minor": 0
      },
      "text/plain": [
       "Canvas(toolbar=Toolbar(toolitems=[('Home', 'Reset original view', 'home', 'home'), ('Back', 'Back to previous …"
      ]
     },
     "metadata": {},
     "output_type": "display_data"
    },
    {
     "data": {
      "application/vnd.jupyter.widget-view+json": {
       "model_id": "b4df143bd52c4ab58eab49d92fdfff09",
       "version_major": 2,
       "version_minor": 0
      },
      "text/plain": [
       "Canvas(toolbar=Toolbar(toolitems=[('Home', 'Reset original view', 'home', 'home'), ('Back', 'Back to previous …"
      ]
     },
     "metadata": {},
     "output_type": "display_data"
    },
    {
     "name": "stderr",
     "output_type": "stream",
     "text": [
      "/home/jaewon/venv379/lib/python3.7/site-packages/ipykernel_launcher.py:56: RuntimeWarning: More than 20 figures have been opened. Figures created through the pyplot interface (`matplotlib.pyplot.figure`) are retained until explicitly closed and may consume too much memory. (To control this warning, see the rcParam `figure.max_open_warning`).\n"
     ]
    },
    {
     "data": {
      "application/vnd.jupyter.widget-view+json": {
       "model_id": "c94be78e40a54037adcb90ebc8e4565e",
       "version_major": 2,
       "version_minor": 0
      },
      "text/plain": [
       "Canvas(toolbar=Toolbar(toolitems=[('Home', 'Reset original view', 'home', 'home'), ('Back', 'Back to previous …"
      ]
     },
     "metadata": {},
     "output_type": "display_data"
    },
    {
     "data": {
      "application/vnd.jupyter.widget-view+json": {
       "model_id": "8b28e1d9fb9b4edaaf222ee7746e3ca8",
       "version_major": 2,
       "version_minor": 0
      },
      "text/plain": [
       "Canvas(toolbar=Toolbar(toolitems=[('Home', 'Reset original view', 'home', 'home'), ('Back', 'Back to previous …"
      ]
     },
     "metadata": {},
     "output_type": "display_data"
    },
    {
     "data": {
      "application/vnd.jupyter.widget-view+json": {
       "model_id": "e6f1ab7d2394473ea2ade6e78b1fedab",
       "version_major": 2,
       "version_minor": 0
      },
      "text/plain": [
       "Canvas(toolbar=Toolbar(toolitems=[('Home', 'Reset original view', 'home', 'home'), ('Back', 'Back to previous …"
      ]
     },
     "metadata": {},
     "output_type": "display_data"
    },
    {
     "data": {
      "application/vnd.jupyter.widget-view+json": {
       "model_id": "067755863faa4853b12695ebfb908139",
       "version_major": 2,
       "version_minor": 0
      },
      "text/plain": [
       "Canvas(toolbar=Toolbar(toolitems=[('Home', 'Reset original view', 'home', 'home'), ('Back', 'Back to previous …"
      ]
     },
     "metadata": {},
     "output_type": "display_data"
    },
    {
     "data": {
      "application/vnd.jupyter.widget-view+json": {
       "model_id": "208b86b91bcd4f3b9ec69b30c55bbe24",
       "version_major": 2,
       "version_minor": 0
      },
      "text/plain": [
       "Canvas(toolbar=Toolbar(toolitems=[('Home', 'Reset original view', 'home', 'home'), ('Back', 'Back to previous …"
      ]
     },
     "metadata": {},
     "output_type": "display_data"
    },
    {
     "data": {
      "application/vnd.jupyter.widget-view+json": {
       "model_id": "195c7ff9113d414387639d9b57d255d1",
       "version_major": 2,
       "version_minor": 0
      },
      "text/plain": [
       "Canvas(toolbar=Toolbar(toolitems=[('Home', 'Reset original view', 'home', 'home'), ('Back', 'Back to previous …"
      ]
     },
     "metadata": {},
     "output_type": "display_data"
    },
    {
     "data": {
      "application/vnd.jupyter.widget-view+json": {
       "model_id": "4b24710c86174250bde4bbf583500b81",
       "version_major": 2,
       "version_minor": 0
      },
      "text/plain": [
       "Canvas(toolbar=Toolbar(toolitems=[('Home', 'Reset original view', 'home', 'home'), ('Back', 'Back to previous …"
      ]
     },
     "metadata": {},
     "output_type": "display_data"
    },
    {
     "data": {
      "application/vnd.jupyter.widget-view+json": {
       "model_id": "60b0fd594e6e4d6eafbfa0c3f18b6380",
       "version_major": 2,
       "version_minor": 0
      },
      "text/plain": [
       "Canvas(toolbar=Toolbar(toolitems=[('Home', 'Reset original view', 'home', 'home'), ('Back', 'Back to previous …"
      ]
     },
     "metadata": {},
     "output_type": "display_data"
    },
    {
     "data": {
      "application/vnd.jupyter.widget-view+json": {
       "model_id": "e6db4af810644d24846789568682b4e1",
       "version_major": 2,
       "version_minor": 0
      },
      "text/plain": [
       "Canvas(toolbar=Toolbar(toolitems=[('Home', 'Reset original view', 'home', 'home'), ('Back', 'Back to previous …"
      ]
     },
     "metadata": {},
     "output_type": "display_data"
    },
    {
     "data": {
      "application/vnd.jupyter.widget-view+json": {
       "model_id": "d717fcdcfde84f4faf6e58699eb97db9",
       "version_major": 2,
       "version_minor": 0
      },
      "text/plain": [
       "Canvas(toolbar=Toolbar(toolitems=[('Home', 'Reset original view', 'home', 'home'), ('Back', 'Back to previous …"
      ]
     },
     "metadata": {},
     "output_type": "display_data"
    },
    {
     "data": {
      "application/vnd.jupyter.widget-view+json": {
       "model_id": "ed5060195b6d4025a1d4a0cc3f92a643",
       "version_major": 2,
       "version_minor": 0
      },
      "text/plain": [
       "Canvas(toolbar=Toolbar(toolitems=[('Home', 'Reset original view', 'home', 'home'), ('Back', 'Back to previous …"
      ]
     },
     "metadata": {},
     "output_type": "display_data"
    },
    {
     "data": {
      "application/vnd.jupyter.widget-view+json": {
       "model_id": "9e4a33ad0c104768b65229ed9cb74b70",
       "version_major": 2,
       "version_minor": 0
      },
      "text/plain": [
       "Canvas(toolbar=Toolbar(toolitems=[('Home', 'Reset original view', 'home', 'home'), ('Back', 'Back to previous …"
      ]
     },
     "metadata": {},
     "output_type": "display_data"
    },
    {
     "data": {
      "application/vnd.jupyter.widget-view+json": {
       "model_id": "f5fb67302eaf495695fffa83a12f15c8",
       "version_major": 2,
       "version_minor": 0
      },
      "text/plain": [
       "Canvas(toolbar=Toolbar(toolitems=[('Home', 'Reset original view', 'home', 'home'), ('Back', 'Back to previous …"
      ]
     },
     "metadata": {},
     "output_type": "display_data"
    },
    {
     "data": {
      "application/vnd.jupyter.widget-view+json": {
       "model_id": "31bd6376432f4eeda6b4da293ef34dbe",
       "version_major": 2,
       "version_minor": 0
      },
      "text/plain": [
       "Canvas(toolbar=Toolbar(toolitems=[('Home', 'Reset original view', 'home', 'home'), ('Back', 'Back to previous …"
      ]
     },
     "metadata": {},
     "output_type": "display_data"
    },
    {
     "data": {
      "application/vnd.jupyter.widget-view+json": {
       "model_id": "c216e2b148d74bba9fffa71f31b16106",
       "version_major": 2,
       "version_minor": 0
      },
      "text/plain": [
       "Canvas(toolbar=Toolbar(toolitems=[('Home', 'Reset original view', 'home', 'home'), ('Back', 'Back to previous …"
      ]
     },
     "metadata": {},
     "output_type": "display_data"
    },
    {
     "data": {
      "application/vnd.jupyter.widget-view+json": {
       "model_id": "949b7ff083214307919de31eaf3cb115",
       "version_major": 2,
       "version_minor": 0
      },
      "text/plain": [
       "Canvas(toolbar=Toolbar(toolitems=[('Home', 'Reset original view', 'home', 'home'), ('Back', 'Back to previous …"
      ]
     },
     "metadata": {},
     "output_type": "display_data"
    },
    {
     "data": {
      "application/vnd.jupyter.widget-view+json": {
       "model_id": "e8ea807e3c764e1598cc0240a5cb9a39",
       "version_major": 2,
       "version_minor": 0
      },
      "text/plain": [
       "Canvas(toolbar=Toolbar(toolitems=[('Home', 'Reset original view', 'home', 'home'), ('Back', 'Back to previous …"
      ]
     },
     "metadata": {},
     "output_type": "display_data"
    }
   ],
   "source": [
    "in_folder = 'data_test/한강/퇴적물/'\n",
    "out_folder = 'data_test/한강1/퇴적물/'\n",
    "\n",
    "file_names = [\n",
    "    ['대성리_2016.xlsx','대성리_2017.xlsx','대성리_2018.xlsx', '대성리_2019.xlsx'],\n",
    "             ]\n",
    "\n",
    "\n",
    "\n",
    "for loc in range(len(file_names)):\n",
    "    df_loc = []\n",
    "    print(len(file_names[loc]))\n",
    "    for y in range(len(file_names[loc])):\n",
    "        path = os.path.join(in_folder, file_names[loc][y])\n",
    "        print(file_names[loc][y])\n",
    "        df_loc.append(pd.read_excel(path))\n",
    "        \n",
    "    df_loc = pd.concat(df_loc)\n",
    "\n",
    "    df_loc2 = df_loc.drop([0])\n",
    "    \n",
    "    date_col = df_loc.columns[0]\n",
    "    df_loc[date_col] = pd.to_datetime(df_loc[date_col])\n",
    "    df_loc = df_loc[df_loc[date_col].notna()]\n",
    "\n",
    "    year = pd.DatetimeIndex(df_loc[date_col]).year.astype(np.int64)\n",
    "    start = str(year[0]) + \"-01-01 00:00\"\n",
    "    end = str(year[-1]) + \"-12-31 23:00\"\n",
    "    \n",
    "    time_series = pd.date_range(start = start, end = end, freq='H')\n",
    "    time_series = pd.DataFrame(time_series)\n",
    "    time_series.columns = [date_col]\n",
    "\n",
    "    df_loc = pd.concat([time_series, df_loc], axis=0)\n",
    "    df_loc = df_loc.drop_duplicates([date_col], keep=\"last\")\n",
    "    df_loc = df_loc.sort_values([date_col], axis=0)\n",
    "    \n",
    "    df_loc = df_loc.interpolate(metod='spline', order=2, limit_direction='both')\n",
    "    \n",
    "    df_loc2[date_col] = pd.to_datetime(df_loc2[date_col])\n",
    "    df_loc2 = df_loc2[df_loc2[date_col].notna()]\n",
    "    \n",
    "    df_loc2 = pd.concat([time_series, df_loc2], axis=0)\n",
    "    df_loc2 = df_loc2.drop_duplicates([date_col], keep=\"last\")\n",
    "    df_loc2 = df_loc2.sort_values([date_col], axis=0)\n",
    "    \n",
    "    df_loc2 = df_loc2.interpolate(metod='spline', order=2, limit_direction='both')\n",
    "    \n",
    "#    df_loc.to_excel(out_folder+'대성리_1619.xlsx', index = False)\n",
    "\n",
    "    #print(df_loc.columns)\n",
    "    n = 0\n",
    "    for colum in df_loc.columns:\n",
    "        \n",
    "        if df_loc[colum].dtype == np.float64:\n",
    "            plt.figure()\n",
    "            df = df_loc[colum]\n",
    "            plt.title(colum)\n",
    "            plt.plot(range(35064),df_loc[colum],label='1', marker='.', zorder=-10, c='#2ca02c')\n",
    "            plt.plot(range(35064),df_loc2[colum],label='2', marker='.', zorder=-10, c='#ff7f0e')\n",
    "            plt.show()\n",
    "        \n"
   ]
  },
  {
   "cell_type": "code",
   "execution_count": null,
   "metadata": {},
   "outputs": [],
   "source": [
    "    \n",
    "'''\n",
    "# 개별로 다시 분할\n",
    "    time_series = pd.date_range(start = start, end = end, freq='Y')\n",
    "    for i in range(time_series.size):\n",
    "        index = df_loc[df_loc['DT'].iloc[:].dt.year == time_series[i].year].index.tolist()\n",
    "        print(len(index))\n",
    "        df = df_loc.iloc[index][:]    \n",
    "        path = out_folder + file_names[loc][i]\n",
    "        print(path)\n",
    "        df.to_excel(path, index = False)\n",
    "'''"
   ]
  },
  {
   "cell_type": "code",
   "execution_count": 2,
   "metadata": {},
   "outputs": [
    {
     "name": "stdout",
     "output_type": "stream",
     "text": [
      "4\n",
      "대성리_2016.xlsx\n",
      "대성리_2017.xlsx\n",
      "대성리_2018.xlsx\n",
      "대성리_2019.xlsx\n"
     ]
    }
   ],
   "source": [
    "folder = 'data_test/한강/퇴적물/'\n",
    "\n",
    "file_names = [\n",
    "    ['대성리_2016.xlsx','대성리_2017.xlsx','대성리_2018.xlsx', '대성리_2019.xlsx'],\n",
    "             ]\n",
    "\n",
    "\n",
    "output_file_name = folder + '대성리_2016_2019.xlsx'\n",
    "\n",
    "\n",
    "df_full = []\n",
    "\n",
    "stride = len(file_names)\n",
    "\n",
    "for loc in range(len(file_names)):\n",
    "    df_loc = []\n",
    "    print(len(file_names[loc]))\n",
    "    for y in range(len(file_names[loc])):\n",
    "        path = os.path.join(folder, file_names[loc][y])\n",
    "        print(file_names[loc][y])\n",
    "        df_loc.append(pd.read_excel(path))\n",
    "    df_full.append(pd.concat(df_loc))\n",
    "    #df.append(df_full[loc].iloc[:, 2:])\n",
    "    \n"
   ]
  },
  {
   "cell_type": "code",
   "execution_count": 3,
   "metadata": {},
   "outputs": [
    {
     "data": {
      "text/plain": [
       "(8, 41)"
      ]
     },
     "execution_count": 3,
     "metadata": {},
     "output_type": "execute_result"
    }
   ],
   "source": [
    "df_full[0].shape"
   ]
  },
  {
   "cell_type": "code",
   "execution_count": 4,
   "metadata": {},
   "outputs": [],
   "source": [
    "date_col = df_full[0].columns[0]\n",
    "df_full[0][date_col] = pd.to_datetime(df_full[0][date_col])\n",
    "df_full[0] = df_full[0][df_full[0][date_col].notna()]\n",
    "\n",
    "year = pd.DatetimeIndex(df_full[0][date_col]).year.astype(np.int64)"
   ]
  },
  {
   "cell_type": "code",
   "execution_count": 5,
   "metadata": {},
   "outputs": [
    {
     "name": "stdout",
     "output_type": "stream",
     "text": [
      "2016-01-01 00:00\n",
      "2019-12-31 23:00\n"
     ]
    }
   ],
   "source": [
    "start = str(year[0]) + \"-01-01 00:00\"\n",
    "end = str(year[-1]) + \"-12-31 23:00\"\n",
    "\n",
    "print(start)\n",
    "print(end)"
   ]
  },
  {
   "cell_type": "code",
   "execution_count": 6,
   "metadata": {},
   "outputs": [
    {
     "name": "stdout",
     "output_type": "stream",
     "text": [
      "(35064, 41)\n"
     ]
    }
   ],
   "source": [
    "time_series = pd.date_range(start = start, end = end, freq='H')\n",
    "time_series\n",
    "time_series = pd.DataFrame(time_series)\n",
    "time_series.columns = [date_col]\n",
    "time_series\n",
    "\n",
    "df_full[0] = pd.concat([time_series, df_full[0]], axis=0)\n",
    "df_full[0] = df_full[0].drop_duplicates([date_col], keep=\"last\")\n",
    "df_full[0] = df_full[0].sort_values([date_col], axis=0)\n",
    "print(df_full[0].shape)"
   ]
  },
  {
   "cell_type": "code",
   "execution_count": 7,
   "metadata": {},
   "outputs": [],
   "source": [
    "#df_full[0]"
   ]
  },
  {
   "cell_type": "code",
   "execution_count": 8,
   "metadata": {},
   "outputs": [],
   "source": [
    "df_full[0] = df_full[0].interpolate(metod='spline', order=2, limit_direction='both')"
   ]
  },
  {
   "cell_type": "code",
   "execution_count": 9,
   "metadata": {},
   "outputs": [],
   "source": [
    "#df_full[0]"
   ]
  },
  {
   "cell_type": "code",
   "execution_count": 10,
   "metadata": {},
   "outputs": [],
   "source": [
    "#df_full[0].to_excel(output_file_name, index = False)"
   ]
  },
  {
   "cell_type": "code",
   "execution_count": 11,
   "metadata": {},
   "outputs": [
    {
     "name": "stdout",
     "output_type": "stream",
     "text": [
      "set_time_series/대성리_2016.xlsx 2016 (8784, 41)\n",
      "set_time_series/대성리_2017.xlsx 2017 (8760, 41)\n",
      "set_time_series/대성리_2018.xlsx 2018 (8760, 41)\n",
      "set_time_series/대성리_2019.xlsx 2019 (8760, 41)\n"
     ]
    }
   ],
   "source": [
    "folder_out = 'set_time_series/'\n",
    "\n",
    "time_series = pd.date_range(start = start, end = end, freq='Y')\n",
    "\n",
    "for i in range(time_series.size):\n",
    "    index = df_full[0][df_full[0]['DT'].iloc[:].dt.year == time_series[i].year].index.tolist()\n",
    "    df = df_full[0].iloc[index][:]    \n",
    "    path = folder_out + file_names[0][i]\n",
    "    print(path, time_series[i].year, df.shape)\n",
    "    \n",
    "    df.to_excel(path, index = False)\n",
    "\n",
    "#index = df_full[0][df_full[0]['DT'].year < 2017].index.tolist()\n",
    "\n",
    "#reqd_Index = df[df['Sales']>=300].index.tolist()\n"
   ]
  },
  {
   "cell_type": "code",
   "execution_count": 12,
   "metadata": {
    "scrolled": true
   },
   "outputs": [
    {
     "name": "stdout",
     "output_type": "stream",
     "text": [
      "마지막 돌린 날짜 : \n",
      "2021-01-19 11:49:55\n",
      "folder_out : \n",
      "대성리_2016.xlsx  대성리_2017.xlsx  대성리_2018.xlsx  대성리_2019.xlsx\r\n"
     ]
    }
   ],
   "source": [
    "import datetime\n",
    "now = datetime.datetime.now()\n",
    "print(\"마지막 돌린 날짜 : \")\n",
    "print(now.strftime('%Y-%m-%d %H:%M:%S'))\n",
    "print(\"folder_out : \")\n",
    "!ls set_time_series"
   ]
  }
 ],
 "metadata": {
  "kernelspec": {
   "display_name": "Python 3",
   "language": "python",
   "name": "python3"
  },
  "language_info": {
   "codemirror_mode": {
    "name": "ipython",
    "version": 3
   },
   "file_extension": ".py",
   "mimetype": "text/x-python",
   "name": "python",
   "nbconvert_exporter": "python",
   "pygments_lexer": "ipython3",
   "version": "3.7.9"
  }
 },
 "nbformat": 4,
 "nbformat_minor": 4
}
