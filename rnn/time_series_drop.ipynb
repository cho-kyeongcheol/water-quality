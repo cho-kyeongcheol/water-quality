{
 "cells": [
  {
   "cell_type": "code",
   "execution_count": 25,
   "metadata": {},
   "outputs": [],
   "source": [
    "import pandas as pd\n",
    "import numpy as np\n",
    "import os"
   ]
  },
  {
   "cell_type": "code",
   "execution_count": 26,
   "metadata": {},
   "outputs": [
    {
     "name": "stdout",
     "output_type": "stream",
     "text": [
      "data_test/한강/AWS/남이섬_2016.xlsx\n"
     ]
    }
   ],
   "source": [
    "folder = 'data_test/한강/AWS/'\n",
    "\n",
    "file_names = [['남이섬_2016.xlsx','남이섬_2017.xlsx','남이섬_2018.xlsx', '남이섬_2019.xlsx'],\n",
    "             ]\n",
    "\n",
    "#input_path = folder + file_names[0][0]\n",
    "\n",
    "path = os.path.join(folder, file_names[0][0])\n",
    "print(path)\n",
    "\n",
    "\n",
    "#output_file_name = folder + '대성리_2016_2019.xlsx"
   ]
  },
  {
   "cell_type": "code",
   "execution_count": 27,
   "metadata": {},
   "outputs": [],
   "source": [
    "df = pd.read_excel(path)"
   ]
  },
  {
   "cell_type": "code",
   "execution_count": 28,
   "metadata": {},
   "outputs": [
    {
     "data": {
      "text/plain": [
       "(17568, 30)"
      ]
     },
     "execution_count": 28,
     "metadata": {},
     "output_type": "execute_result"
    }
   ],
   "source": [
    "df.shape"
   ]
  },
  {
   "cell_type": "code",
   "execution_count": 29,
   "metadata": {},
   "outputs": [
    {
     "name": "stdout",
     "output_type": "stream",
     "text": [
      "aws_dt\n"
     ]
    }
   ],
   "source": [
    "date_col = df.columns[0]\n",
    "#df[date_col] = pd.to_datetime(df[date_col])\n",
    "#df = df[df[date_col].notna()]\n",
    "\n",
    "#year = pd.DatetimeIndex(df[date_col]).year.astype(np.int64)\n"
   ]
  },
  {
   "cell_type": "code",
   "execution_count": 30,
   "metadata": {},
   "outputs": [],
   "source": [
    "#df = pd.concat([time_series, df], axis=0)\n",
    "df = df.drop_duplicates([date_col], keep=\"first\")\n",
    "df = df.sort_values([date_col], axis=0)"
   ]
  },
  {
   "cell_type": "code",
   "execution_count": 32,
   "metadata": {},
   "outputs": [
    {
     "data": {
      "text/plain": [
       "(8784, 30)"
      ]
     },
     "execution_count": 32,
     "metadata": {},
     "output_type": "execute_result"
    }
   ],
   "source": [
    "df.shape"
   ]
  },
  {
   "cell_type": "code",
   "execution_count": 35,
   "metadata": {},
   "outputs": [],
   "source": [
    "folder = 'set_time_series/'\n",
    "path =  folder + '남이섬_2016_기상.xlsx'\n",
    "df.to_excel(path, index = False)"
   ]
  },
  {
   "cell_type": "code",
   "execution_count": 34,
   "metadata": {},
   "outputs": [
    {
     "name": "stdout",
     "output_type": "stream",
     "text": [
      "마지막 돌린 날짜 : \n",
      "2021-01-19 13:09:58\n"
     ]
    }
   ],
   "source": [
    "import datetime\n",
    "print(\"마지막 돌린 날짜 : \")\n",
    "print(datetime.datetime.now().strftime('%Y-%m-%d %H:%M:%S'))"
   ]
  }
 ],
 "metadata": {
  "kernelspec": {
   "display_name": "Python 3",
   "language": "python",
   "name": "python3"
  },
  "language_info": {
   "codemirror_mode": {
    "name": "ipython",
    "version": 3
   },
   "file_extension": ".py",
   "mimetype": "text/x-python",
   "name": "python",
   "nbconvert_exporter": "python",
   "pygments_lexer": "ipython3",
   "version": "3.7.9"
  }
 },
 "nbformat": 4,
 "nbformat_minor": 4
}
